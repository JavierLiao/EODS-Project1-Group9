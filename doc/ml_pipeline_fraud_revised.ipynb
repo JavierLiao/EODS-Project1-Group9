{
 "cells": [
  {
   "cell_type": "markdown",
   "metadata": {},
   "source": [
    "# GR5293 - Proj1 - Group9\n",
    "## Classification on the late payment of credit cards\n",
    "#### Machine learning pipeline with random forest\n",
    "* Feature Engineering\n",
    "* Train validation test split\n",
    "* K-fold cross validation\n",
    "* Rank the feature importance to interpret the result and give the orientation of further dimension reduction to enhance the depoliability of our model, state its business value\n",
    "* Focus on AUC and recall!\n",
    "* Plot the ranked feature importance barplot(horizontal), the AUC curve with different predictor sets\n",
    "* Plot the training / testing error curve\n",
    "* Plot the cv scores in feature selection (/w number of components)"
   ]
  },
  {
   "cell_type": "markdown",
   "metadata": {},
   "source": [
    "### Setup"
   ]
  },
  {
   "cell_type": "code",
   "execution_count": 1,
   "metadata": {},
   "outputs": [
    {
     "name": "stdout",
     "output_type": "stream",
     "text": [
      "/Users/kangshuoli/Documents/VScode_workspace/GR5293/EODS-Project1-Group9/doc\n",
      "Exception reporting mode: Plain\n"
     ]
    }
   ],
   "source": [
    "import pandas as pd\n",
    "import numpy as np\n",
    "import sklearn\n",
    "from sklearn.model_selection import KFold\n",
    "from sklearn.model_selection import cross_val_score\n",
    "from sklearn.feature_selection import SelectFromModel\n",
    "from sklearn.decomposition import PCA\n",
    "from sklearn.feature_selection import RFECV\n",
    "from sklearn.model_selection import train_test_split\n",
    "from sklearn.metrics import accuracy_score, f1_score, precision_score, recall_score, roc_auc_score\n",
    "from sklearn.metrics import mean_squared_error, explained_variance_score\n",
    "from sklearn.model_selection import GridSearchCV, RandomizedSearchCV\n",
    "from imblearn.over_sampling import RandomOverSampler\n",
    "from imblearn.under_sampling import RandomUnderSampler, TomekLinks\n",
    "from imblearn.over_sampling import SMOTE\n",
    "import matplotlib\n",
    "from matplotlib import pyplot as plt\n",
    "import time\n",
    "import os\n",
    "import re\n",
    "import gc\n",
    "gc.enable()\n",
    "print(os.getcwd())\n",
    "mydir = os.getcwd() + \"/\"\n",
    "%xmode plain\n",
    "%matplotlib inline"
   ]
  },
  {
   "cell_type": "markdown",
   "metadata": {},
   "source": [
    "### Read in and post-process the data\n",
    "#### Split the features and label\n",
    "#### Post-process the data\n",
    "##### Make corrections on data type\n",
    "* Extract columns with \"FLAG\", \"TYPE\" in their names as categorical data\n",
    "* Some columns with all integers but have \"CNT\", \"DAYS\" in their names would not be converted\n",
    "* Unique value <= 10 can be interpreted as categorical\n",
    "  \n",
    "#### Delete some special columns by screening\n",
    "* Drop predictors with AVG MODE MEDI, only keep medians\n",
    "  \n",
    "#### Stadardize\n",
    "* Only standardize columns with non-categorical data"
   ]
  },
  {
   "cell_type": "code",
   "execution_count": 2,
   "metadata": {},
   "outputs": [
    {
     "name": "stdout",
     "output_type": "stream",
     "text": [
      "fraud_df shape: (71974, 154)\n"
     ]
    },
    {
     "name": "stderr",
     "output_type": "stream",
     "text": [
      "/var/folders/tz/1kfts8hs47xb2vd2_6cggx300000gn/T/ipykernel_63864/2336795513.py:15: SettingWithCopyWarning: \n",
      "A value is trying to be set on a copy of a slice from a DataFrame.\n",
      "Try using .loc[row_indexer,col_indexer] = value instead\n",
      "\n",
      "See the caveats in the documentation: https://pandas.pydata.org/pandas-docs/stable/user_guide/indexing.html#returning-a-view-versus-a-copy\n",
      "  feature_df[name] = feature_df[name].astype(int)\n",
      "/Users/kangshuoli/miniforge3/envs/eods-s22/lib/python3.9/site-packages/pandas/core/frame.py:4906: SettingWithCopyWarning: \n",
      "A value is trying to be set on a copy of a slice from a DataFrame\n",
      "\n",
      "See the caveats in the documentation: https://pandas.pydata.org/pandas-docs/stable/user_guide/indexing.html#returning-a-view-versus-a-copy\n",
      "  return super().drop(\n"
     ]
    }
   ],
   "source": [
    "fraud_df = pd.read_csv(\n",
    "    '../data/fraud_cleaned_ver3.csv', \n",
    "    header = 0\n",
    ")\n",
    "fraud_df = fraud_df.iloc[:,1:]\n",
    "print(f'fraud_df shape: {fraud_df.shape}')\n",
    "\n",
    "feature_df = fraud_df.iloc[:,1:]\n",
    "response_df = fraud_df.loc[:,\"TARGET\"].astype(int)\n",
    "\n",
    "categorical_col_list = []\n",
    "for name in feature_df.columns:\n",
    "    if len(feature_df[name].unique()) <= 10:\n",
    "        categorical_col_list.append(name)\n",
    "        feature_df[name] = feature_df[name].astype(int)\n",
    "\n",
    "pattern_avg_mode = re.compile('(.*_AVG$|.*_MODE$)')\n",
    "dup_col_list = []\n",
    "for name in feature_df.columns:\n",
    "    if re.search(pattern_avg_mode, name):\n",
    "        dup_col_list.append(name)\n",
    "\n",
    "feature_df.drop(\n",
    "    dup_col_list,\n",
    "    inplace = True, \n",
    "    axis = 1\n",
    ")\n",
    "\n",
    "from sklearn.preprocessing import MinMaxScaler\n",
    "# instantiate the scalar\n",
    "minmax_scalar = MinMaxScaler(\n",
    "    feature_range = (0, 1)\n",
    ")\n",
    "# split the feature_df into categorical and non-categorical subdf\n",
    "feature_df_non_categorical = feature_df[[name for name in feature_df.columns if name not in categorical_col_list]]\n",
    "feature_df_categorical = feature_df[[name for name in feature_df.columns if name in categorical_col_list]]\n",
    "\n",
    "# only transform non_categorical df\n",
    "feature_df_non_categorical_minmax = minmax_scalar.fit_transform(X = feature_df_non_categorical) # return np.ndarray\n",
    "# convert it into a dataframe\n",
    "feature_df_std_categorical_minmax = pd.DataFrame(\n",
    "    data = feature_df_non_categorical_minmax, \n",
    "    columns = feature_df_non_categorical.columns\n",
    ")\n",
    "# concatenate categorical df and non-categorical df\n",
    "feature_df_minmax = pd.concat([feature_df_std_categorical_minmax, feature_df_categorical], axis = 1)\n",
    "# dtype conversion\n",
    "for name in list(feature_df_minmax.columns):\n",
    "    if name in categorical_col_list:\n",
    "        feature_df_minmax[name] = feature_df_minmax[name].astype(int)\n"
   ]
  },
  {
   "cell_type": "markdown",
   "metadata": {},
   "source": [
    "#### Define train test split function"
   ]
  },
  {
   "cell_type": "code",
   "execution_count": 3,
   "metadata": {},
   "outputs": [],
   "source": [
    "def train_test_split_with_shuffle(feature_df_, response_df_ = response_df, test_size_ = 0.25):\n",
    "    '''\n",
    "    Implement train test split function and shuffle all the data\n",
    "    Default using test_ratio = 0.25 and standardized dataframe\n",
    "    Return global variables\n",
    "    '''\n",
    "    globals()['feature_train'], globals()['feature_test'], globals()['response_train'], globals()['response_test'] = train_test_split(\n",
    "        feature_df_, \n",
    "        response_df_, \n",
    "        test_size = test_size_, \n",
    "        shuffle = True, \n",
    "        random_state = 42, \n",
    "        stratify = response_df_\n",
    "    )\n",
    "    globals()['response_train'] = pd.DataFrame(globals()['response_train'])\n",
    "    globals()['response_test'] = pd.DataFrame(globals()['response_test'])\n",
    "    list_p1 = [\"feature\", \"response\"]\n",
    "    list_p2 = [\"train\", \"test\"]\n",
    "    for p1 in list_p1:\n",
    "        for p2 in list_p2:\n",
    "            temp_var = p1 + '_' + p2\n",
    "            print(f'The Size of {temp_var} is: {globals()[temp_var].shape}')\n",
    "\n",
    "    # reshape the index\n",
    "    # make them start from 0 and end at their shape[0] - 1\n",
    "    for p1 in list_p1:\n",
    "        for p2 in list_p2:\n",
    "            temp_var = p1 + '_' + p2\n",
    "            globals()[temp_var].index = np.arange(globals()[temp_var].shape[0], dtype = int)\n",
    "    pass"
   ]
  },
  {
   "cell_type": "markdown",
   "metadata": {},
   "source": [
    "#### Feature Engineering\n",
    "* Feature selection by RFECV / SelectFromModel / PCA \n",
    "* Extreme imbalanced data -> resampling\n",
    "* Only 6% of data is fraudulent this would cause the classifier onlt predict no fraudulent and get the result of 90%+ accuracy"
   ]
  },
  {
   "cell_type": "code",
   "execution_count": 4,
   "metadata": {},
   "outputs": [
    {
     "data": {
      "image/png": "[encoded data removed]",
      "text/plain": [
       "<Figure size 1620x810 with 1 Axes>"
      ]
     },
     "metadata": {},
     "output_type": "display_data"
    }
   ],
   "source": [
    "from matplotlib import cm\n",
    "plt.style.use('ggplot')\n",
    "plt.rcParams[\"font.weight\"] = \"bold\"\n",
    "my_colormap = cm.get_cmap(name = 'RdBu')\n",
    "color_value = np.linspace(start = 0.9, stop = 0.1, num = 2)\n",
    "fig, ax = plt.subplots(1, 1, figsize = (6,3), dpi = 270)\n",
    "for i in np.arange(2):\n",
    "    ax.barh(\n",
    "        y = i, \n",
    "        width = response_df[response_df == i].shape[0], \n",
    "        label = i, \n",
    "        color = my_colormap(color_value[i])\n",
    "    )\n",
    "ax.set_yticks(np.arange(2), [\"No late payment\", \"Late payment\"])\n",
    "ax.set_xscale('log')\n",
    "# ax.set_xlabel(\"Count\")\n",
    "plt.show()"
   ]
  },
  {
   "cell_type": "markdown",
   "metadata": {},
   "source": [
    "#### Resampling after train test split\n",
    "* Random Under-Sampling / Random Over-Sampling / Random under-sampling with imblearn / Random over-sampling with imblearn / Under-sampling: Tomek links / Synthetic Minority Oversampling Technique (SMOTE) / NearMiss / \n",
    "\n",
    "Use undersampling here since the amount of data is large. (Low F1 score)\n",
    ">Tomek links can extract the data from majority class \"0\" that are close to opposite classes. \n",
    "Try Synthetic Minority Oversampling Technique (SMOTE)"
   ]
  },
  {
   "cell_type": "code",
   "execution_count": 8,
   "metadata": {},
   "outputs": [],
   "source": [
    "def resampling(type_, feature_train_ = feature_train, response_train_ = response_train):\n",
    "    if type_ == \"RandomUnderSampler\":\n",
    "        sampler = RandomUnderSampler(\n",
    "            sampling_strategy = \"auto\", \n",
    "            random_state = 42\n",
    "        )\n",
    "    elif type_ == \"RandomOverSampler\":\n",
    "        sampler = RandomOverSampler(\n",
    "            sampling_strategy = \"auto\", \n",
    "            random_state = 42\n",
    "        )\n",
    "    elif type_ == \"SMOTE\":\n",
    "        sampler = SMOTE(\n",
    "            sampling_strategy = \"auto\", \n",
    "            random_state = 42, \n",
    "            n_jobs = -1, \n",
    "            k_neighbors = 5\n",
    "        ) \n",
    "    feature_res, response_res = sampler.fit_resample(X = feature_train_, y = response_train_)             \n",
    "    return feature_res, response_res"
   ]
  },
  {
   "cell_type": "markdown",
   "metadata": {},
   "source": [
    "#### Modeling\n",
    "Make pipelines here"
   ]
  },
  {
   "cell_type": "code",
   "execution_count": 6,
   "metadata": {},
   "outputs": [
    {
     "name": "stdout",
     "output_type": "stream",
     "text": [
      "The Size of feature_train is: (57579, 140)\n",
      "The Size of feature_test is: (14395, 140)\n",
      "The Size of response_train is: (57579, 1)\n",
      "The Size of response_test is: (14395, 1)\n"
     ]
    }
   ],
   "source": [
    "train_test_split_with_shuffle(feature_df_ = feature_df_minmax, response_df_ = response_df, test_size_ = 0.2)\n",
    "feature_res, response_res = resampling(\n",
    "    type_ = \"RandomUnderSampler\"\n",
    ")\n"
   ]
  },
  {
   "cell_type": "code",
   "execution_count": null,
   "metadata": {},
   "outputs": [],
   "source": []
  }
 ],
 "metadata": {
  "interpreter": {
   "hash": "27646e5cfdb25e10f4fd8ef0a3a49281af2a8af5fb226dbbb4749ab5404e27a8"
  },
  "kernelspec": {
   "display_name": "Python 3.9.10 ('eods-s22')",
   "language": "python",
   "name": "python3"
  },
  "language_info": {
   "codemirror_mode": {
    "name": "ipython",
    "version": 3
   },
   "file_extension": ".py",
   "mimetype": "text/x-python",
   "name": "python",
   "nbconvert_exporter": "python",
   "pygments_lexer": "ipython3",
   "version": "3.9.10"
  },
  "orig_nbformat": 4
 },
 "nbformat": 4,
 "nbformat_minor": 2
}
