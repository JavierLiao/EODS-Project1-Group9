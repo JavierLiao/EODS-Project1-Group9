{
 "cells": [
  {
   "cell_type": "markdown",
   "metadata": {},
   "source": [
    "# GR5293 - Proj1 - Group9\n",
    "## Prediction on the shares of news\n",
    "#### Machine learning pipeline with random forest\n",
    "* Train test split\n",
    "* K-fold cross validation\n",
    "* Rank the feature importance\n",
    "* Also make binned classifications?\n"
   ]
  },
  {
   "cell_type": "markdown",
   "metadata": {},
   "source": [
    "#### Setup"
   ]
  },
  {
   "cell_type": "code",
   "execution_count": 2,
   "metadata": {},
   "outputs": [
    {
     "name": "stdout",
     "output_type": "stream",
     "text": [
      "/Users/kangshuoli/Documents/VScode_workspace/GR5293/EODS-Project1-Group9/doc\n"
     ]
    }
   ],
   "source": [
    "import pandas as pd\n",
    "import numpy as np\n",
    "import sklearn\n",
    "from sklearn.ensemble import RandomForestRegressor\n",
    "from sklearn.ensemble import RandomForestClassifier\n",
    "import matplotlib\n",
    "from matplotlib import pyplot as plt\n",
    "import time\n",
    "import os\n",
    "import re\n",
    "import gc\n",
    "gc.enable()\n",
    "print(os.getcwd())\n",
    "mydir = os.getcwd() + \"/\""
   ]
  },
  {
   "cell_type": "markdown",
   "metadata": {},
   "source": [
    "#### Read in data"
   ]
  },
  {
   "cell_type": "code",
   "execution_count": 3,
   "metadata": {},
   "outputs": [
    {
     "data": {
      "text/plain": [
       "(35103, 45)"
      ]
     },
     "execution_count": 3,
     "metadata": {},
     "output_type": "execute_result"
    }
   ],
   "source": [
    "news_df = pd.read_csv(\n",
    "    '../data/news_cleaned_ver2.csv', \n",
    "    header = 0\n",
    ")\n",
    "news_df = news_df.iloc[:,1:]\n",
    "news_df.shape"
   ]
  },
  {
   "cell_type": "markdown",
   "metadata": {},
   "source": [
    "#### Split the feature and response variable"
   ]
  },
  {
   "cell_type": "code",
   "execution_count": 4,
   "metadata": {},
   "outputs": [
    {
     "data": {
      "text/plain": [
       "(35103, 44)"
      ]
     },
     "execution_count": 4,
     "metadata": {},
     "output_type": "execute_result"
    }
   ],
   "source": [
    "feature_df = news_df.iloc[:,np.arange(news_df.shape[1] - 1)]\n",
    "response_df = news_df.iloc[:,-1]\n",
    "feature_df.shape"
   ]
  },
  {
   "cell_type": "markdown",
   "metadata": {},
   "source": [
    "#### Show the predictors"
   ]
  },
  {
   "cell_type": "code",
   "execution_count": 5,
   "metadata": {},
   "outputs": [
    {
     "data": {
      "text/plain": [
       "Index(['n_tokens_title', 'n_tokens_content', 'n_unique_tokens',\n",
       "       'n_non_stop_words', 'n_non_stop_unique_tokens', 'num_hrefs',\n",
       "       'num_self_hrefs', 'num_imgs', 'num_videos', 'average_token_length',\n",
       "       'num_keywords', 'data_channel_is_lifestyle',\n",
       "       'data_channel_is_entertainment', 'data_channel_is_bus',\n",
       "       'data_channel_is_socmed', 'data_channel_is_tech',\n",
       "       'data_channel_is_world', 'self_reference_min_shares',\n",
       "       'self_reference_max_shares', 'self_reference_avg_sharess',\n",
       "       'weekday_is_monday', 'weekday_is_tuesday', 'weekday_is_wednesday',\n",
       "       'weekday_is_thursday', 'weekday_is_friday', 'weekday_is_saturday',\n",
       "       'weekday_is_sunday', 'is_weekend', 'global_subjectivity',\n",
       "       'global_sentiment_polarity', 'global_rate_positive_words',\n",
       "       'global_rate_negative_words', 'rate_positive_words',\n",
       "       'rate_negative_words', 'avg_positive_polarity', 'min_positive_polarity',\n",
       "       'max_positive_polarity', 'avg_negative_polarity',\n",
       "       'min_negative_polarity', 'max_negative_polarity', 'title_subjectivity',\n",
       "       'title_sentiment_polarity', 'abs_title_subjectivity',\n",
       "       'abs_title_sentiment_polarity'],\n",
       "      dtype='object')"
      ]
     },
     "execution_count": 5,
     "metadata": {},
     "output_type": "execute_result"
    }
   ],
   "source": [
    "feature_df.columns"
   ]
  },
  {
   "cell_type": "markdown",
   "metadata": {},
   "source": [
    "#### Modeling"
   ]
  },
  {
   "cell_type": "code",
   "execution_count": 6,
   "metadata": {},
   "outputs": [],
   "source": [
    "from sklearn.model_selection import KFold\n",
    "from sklearn.model_selection import cross_val_score\n",
    "from sklearn.model_selection import train_test_split\n",
    "from sklearn.metrics import accuracy_score, f1_score, precision_score, recall_score\n",
    "from sklearn.metrics import mean_squared_error, explained_variance_score\n",
    "from sklearn.model_selection import GridSearchCV"
   ]
  },
  {
   "cell_type": "markdown",
   "metadata": {},
   "source": [
    "##### train test split"
   ]
  },
  {
   "cell_type": "code",
   "execution_count": 7,
   "metadata": {},
   "outputs": [
    {
     "name": "stdout",
     "output_type": "stream",
     "text": [
      "The Size of feature_train is: (26327, 44)\n",
      "The Size of feature_test is: (8776, 44)\n",
      "The Size of response_train is: (26327, 1)\n",
      "The Size of response_test is: (8776, 1)\n"
     ]
    }
   ],
   "source": [
    "feature_train, feature_test, response_train, response_test = train_test_split(\n",
    "    feature_df, \n",
    "    response_df, \n",
    "    test_size = 0.25, \n",
    "    shuffle = True, \n",
    "    random_state = 42\n",
    ")\n",
    "response_train = pd.DataFrame(response_train)\n",
    "response_test = pd.DataFrame(response_test)\n",
    "list_p1 = [\"feature\", \"response\"]\n",
    "list_p2 = [\"train\", \"test\"]\n",
    "for p1 in list_p1:\n",
    "    for p2 in list_p2:\n",
    "        temp_var = p1 + '_' + p2\n",
    "        print(f'The Size of {temp_var} is: {globals()[temp_var].shape}')\n",
    "\n",
    "# reshape the index\n",
    "# make them start from 0 and end at their shape[0] - 1\n",
    "for p1 in list_p1:\n",
    "    for p2 in list_p2:\n",
    "        temp_var = p1 + '_' + p2\n",
    "        globals()[temp_var].index = np.arange(globals()[temp_var].shape[0], dtype = int)"
   ]
  },
  {
   "cell_type": "markdown",
   "metadata": {},
   "source": [
    "##### feed data into the model"
   ]
  },
  {
   "cell_type": "code",
   "execution_count": 23,
   "metadata": {},
   "outputs": [
    {
     "name": "stdout",
     "output_type": "stream",
     "text": [
      "Exception reporting mode: Plain\n",
      "Fitting 10 folds for each of 32 candidates, totalling 320 fits\n"
     ]
    },
    {
     "name": "stderr",
     "output_type": "stream",
     "text": [
      "[Parallel(n_jobs=-1)]: Using backend ThreadingBackend with 10 concurrent workers.\n",
      "[Parallel(n_jobs=-1)]: Using backend ThreadingBackend with 10 concurrent workers.\n",
      "[Parallel(n_jobs=-1)]: Using backend ThreadingBackend with 10 concurrent workers.\n",
      "[Parallel(n_jobs=-1)]: Using backend ThreadingBackend with 10 concurrent workers.\n",
      "[Parallel(n_jobs=-1)]: Using backend ThreadingBackend with 10 concurrent workers.\n",
      "[Parallel(n_jobs=-1)]: Using backend ThreadingBackend with 10 concurrent workers.\n",
      "[Parallel(n_jobs=-1)]: Using backend ThreadingBackend with 10 concurrent workers.\n",
      "[Parallel(n_jobs=-1)]: Using backend ThreadingBackend with 10 concurrent workers.\n",
      "[Parallel(n_jobs=-1)]: Using backend ThreadingBackend with 10 concurrent workers.\n",
      "[Parallel(n_jobs=-1)]: Using backend ThreadingBackend with 10 concurrent workers.\n",
      "[Parallel(n_jobs=-1)]: Done  30 tasks      | elapsed:   11.0s\n",
      "[Parallel(n_jobs=-1)]: Done  30 tasks      | elapsed:   11.1s\n",
      "[Parallel(n_jobs=-1)]: Done  30 tasks      | elapsed:   11.6s\n",
      "[Parallel(n_jobs=-1)]: Done  30 tasks      | elapsed:   11.7s\n",
      "[Parallel(n_jobs=-1)]: Done  30 tasks      | elapsed:   11.4s\n",
      "[Parallel(n_jobs=-1)]: Done  30 tasks      | elapsed:   11.5s\n",
      "[Parallel(n_jobs=-1)]: Done  30 tasks      | elapsed:   11.7s\n",
      "[Parallel(n_jobs=-1)]: Done  30 tasks      | elapsed:   11.6s\n",
      "[Parallel(n_jobs=-1)]: Done  30 tasks      | elapsed:   11.8s\n",
      "[Parallel(n_jobs=-1)]: Done  30 tasks      | elapsed:   12.0s\n",
      "[Parallel(n_jobs=-1)]: Done 180 tasks      | elapsed:  1.1min\n",
      "[Parallel(n_jobs=-1)]: Done 180 tasks      | elapsed:  1.1min\n",
      "[Parallel(n_jobs=-1)]: Done 180 tasks      | elapsed:  1.1min\n",
      "[Parallel(n_jobs=-1)]: Done 180 tasks      | elapsed:  1.1min\n",
      "[Parallel(n_jobs=-1)]: Done 180 tasks      | elapsed:  1.1min\n",
      "[Parallel(n_jobs=-1)]: Done 180 tasks      | elapsed:  1.1min\n",
      "[Parallel(n_jobs=-1)]: Done 180 tasks      | elapsed:  1.1min\n",
      "[Parallel(n_jobs=-1)]: Done 180 tasks      | elapsed:  1.2min\n",
      "[Parallel(n_jobs=-1)]: Done 180 tasks      | elapsed:  1.1min\n",
      "[Parallel(n_jobs=-1)]: Done 180 tasks      | elapsed:  1.2min\n",
      "[Parallel(n_jobs=-1)]: Done 200 out of 200 | elapsed:  1.2min finished\n",
      "[Parallel(n_jobs=-1)]: Done 200 out of 200 | elapsed:  1.3min finished\n",
      "[Parallel(n_jobs=-1)]: Done 200 out of 200 | elapsed:  1.3min finished\n",
      "[Parallel(n_jobs=-1)]: Done 200 out of 200 | elapsed:  1.3min finished\n",
      "[Parallel(n_jobs=-1)]: Done 200 out of 200 | elapsed:  1.3min finished\n",
      "[Parallel(n_jobs=-1)]: Done 200 out of 200 | elapsed:  1.3min finished\n",
      "[Parallel(n_jobs=-1)]: Done 200 out of 200 | elapsed:  1.3min finished\n",
      "[Parallel(n_jobs=-1)]: Done 200 out of 200 | elapsed:  1.3min finished\n",
      "[Parallel(n_jobs=-1)]: Done 200 out of 200 | elapsed:  1.3min finished\n",
      "[Parallel(n_jobs=-1)]: Done 200 out of 200 | elapsed:  1.3min finished\n",
      "[Parallel(n_jobs=10)]: Using backend ThreadingBackend with 10 concurrent workers.\n",
      "[Parallel(n_jobs=10)]: Using backend ThreadingBackend with 10 concurrent workers.\n",
      "[Parallel(n_jobs=10)]: Using backend ThreadingBackend with 10 concurrent workers.\n",
      "[Parallel(n_jobs=10)]: Using backend ThreadingBackend with 10 concurrent workers.\n",
      "[Parallel(n_jobs=10)]: Using backend ThreadingBackend with 10 concurrent workers.\n",
      "[Parallel(n_jobs=10)]: Done  30 tasks      | elapsed:    0.0s\n",
      "[Parallel(n_jobs=10)]: Done  30 tasks      | elapsed:    0.0s\n",
      "[Parallel(n_jobs=10)]: Done  30 tasks      | elapsed:    0.0s\n",
      "[Parallel(n_jobs=10)]: Done  30 tasks      | elapsed:    0.1s\n",
      "[Parallel(n_jobs=10)]: Done  30 tasks      | elapsed:    0.1s\n",
      "[Parallel(n_jobs=10)]: Using backend ThreadingBackend with 10 concurrent workers.\n",
      "[Parallel(n_jobs=10)]: Using backend ThreadingBackend with 10 concurrent workers.\n",
      "[Parallel(n_jobs=10)]: Done 180 tasks      | elapsed:    0.1s\n",
      "[Parallel(n_jobs=10)]: Done 200 out of 200 | elapsed:    0.1s finished\n",
      "[Parallel(n_jobs=10)]: Done 180 tasks      | elapsed:    0.1s\n",
      "[Parallel(n_jobs=10)]: Done 200 out of 200 | elapsed:    0.1s finished\n",
      "[Parallel(n_jobs=10)]: Using backend ThreadingBackend with 10 concurrent workers.\n",
      "[Parallel(n_jobs=10)]: Done 180 tasks      | elapsed:    0.1s\n",
      "[Parallel(n_jobs=10)]: Done 180 tasks      | elapsed:    0.1s\n",
      "[Parallel(n_jobs=10)]: Done 200 out of 200 | elapsed:    0.1s finished\n",
      "[Parallel(n_jobs=10)]: Using backend ThreadingBackend with 10 concurrent workers.\n",
      "[Parallel(n_jobs=10)]: Using backend ThreadingBackend with 10 concurrent workers.\n",
      "[Parallel(n_jobs=10)]: Done 200 out of 200 | elapsed:    0.1s finished\n",
      "[Parallel(n_jobs=10)]: Done  30 tasks      | elapsed:    0.1s\n",
      "[Parallel(n_jobs=10)]: Done 180 tasks      | elapsed:    0.1s\n",
      "[Parallel(n_jobs=10)]: Done 200 out of 200 | elapsed:    0.1s finished\n",
      "[Parallel(n_jobs=10)]: Done  30 tasks      | elapsed:    0.1s\n"
     ]
    },
    {
     "name": "stdout",
     "output_type": "stream",
     "text": [
      "[CV] END bootstrap=True, max_depth=None, max_features=auto, max_leaf_nodes=None, max_samples=None, n_estimators=200, n_jobs=-1, oob_score=True, random_state=42, verbose=1; total time= 1.3min\n",
      "[CV] END bootstrap=True, max_depth=None, max_features=auto, max_leaf_nodes=None, max_samples=None, n_estimators=200, n_jobs=-1, oob_score=True, random_state=42, verbose=1; total time= 1.3min\n",
      "[CV] END bootstrap=True, max_depth=None, max_features=auto, max_leaf_nodes=None, max_samples=None, n_estimators=200, n_jobs=-1, oob_score=True, random_state=42, verbose=1; total time= 1.3min\n",
      "[CV] END bootstrap=True, max_depth=None, max_features=auto, max_leaf_nodes=None, max_samples=None, n_estimators=200, n_jobs=-1, oob_score=True, random_state=42, verbose=1; total time= 1.3min\n",
      "[CV] END bootstrap=True, max_depth=None, max_features=auto, max_leaf_nodes=None, max_samples=None, n_estimators=200, n_jobs=-1, oob_score=True, random_state=42, verbose=1; total time= 1.3min\n",
      "[CV] END bootstrap=True, max_depth=None, max_features=auto, max_leaf_nodes=None, max_samples=None, n_estimators=200, n_jobs=-1, oob_score=True, random_state=42, verbose=1; total time= 1.3min\n",
      "[CV] END bootstrap=True, max_depth=None, max_features=auto, max_leaf_nodes=None, max_samples=None, n_estimators=200, n_jobs=-1, oob_score=True, random_state=42, verbose=1; total time= 1.3min\n",
      "[CV] END bootstrap=True, max_depth=None, max_features=auto, max_leaf_nodes=None, max_samples=None, n_estimators=200, n_jobs=-1, oob_score=True, random_state=42, verbose=1; total time= 1.3min\n",
      "[CV] END bootstrap=True, max_depth=None, max_features=auto, max_leaf_nodes=None, max_samples=None, n_estimators=200, n_jobs=-1, oob_score=True, random_state=42, verbose=1; total time= 1.3min\n"
     ]
    },
    {
     "name": "stderr",
     "output_type": "stream",
     "text": [
      "[Parallel(n_jobs=10)]: Done 180 tasks      | elapsed:    0.1s\n",
      "[Parallel(n_jobs=10)]: Done 200 out of 200 | elapsed:    0.1s finished\n",
      "[Parallel(n_jobs=10)]: Done 180 tasks      | elapsed:    0.1s\n",
      "[Parallel(n_jobs=10)]: Done  30 tasks      | elapsed:    0.1s\n",
      "[Parallel(n_jobs=10)]: Done  30 tasks      | elapsed:    0.1s\n",
      "[Parallel(n_jobs=10)]: Done 200 out of 200 | elapsed:    0.1s finished\n",
      "[Parallel(n_jobs=10)]: Done 180 tasks      | elapsed:    0.1s\n",
      "[Parallel(n_jobs=10)]: Done 180 tasks      | elapsed:    0.2s\n",
      "[Parallel(n_jobs=10)]: Done 200 out of 200 | elapsed:    0.2s finished\n",
      "[Parallel(n_jobs=10)]: Done 200 out of 200 | elapsed:    0.1s finished\n",
      "[Parallel(n_jobs=-1)]: Using backend ThreadingBackend with 10 concurrent workers.\n",
      "[Parallel(n_jobs=10)]: Done  30 tasks      | elapsed:    0.2s\n",
      "[Parallel(n_jobs=-1)]: Using backend ThreadingBackend with 10 concurrent workers.\n",
      "[Parallel(n_jobs=-1)]: Using backend ThreadingBackend with 10 concurrent workers.\n",
      "[Parallel(n_jobs=10)]: Done 180 tasks      | elapsed:    0.2s\n",
      "[Parallel(n_jobs=10)]: Done 200 out of 200 | elapsed:    0.2s finished\n"
     ]
    },
    {
     "name": "stdout",
     "output_type": "stream",
     "text": [
      "[CV] END bootstrap=True, max_depth=None, max_features=auto, max_leaf_nodes=None, max_samples=None, n_estimators=200, n_jobs=-1, oob_score=True, random_state=42, verbose=1; total time= 1.3min\n"
     ]
    },
    {
     "name": "stderr",
     "output_type": "stream",
     "text": [
      "[Parallel(n_jobs=-1)]: Using backend ThreadingBackend with 10 concurrent workers.\n",
      "[Parallel(n_jobs=-1)]: Using backend ThreadingBackend with 10 concurrent workers.\n",
      "[Parallel(n_jobs=-1)]: Using backend ThreadingBackend with 10 concurrent workers.\n",
      "[Parallel(n_jobs=-1)]: Using backend ThreadingBackend with 10 concurrent workers.\n",
      "[Parallel(n_jobs=-1)]: Using backend ThreadingBackend with 10 concurrent workers.\n",
      "[Parallel(n_jobs=-1)]: Using backend ThreadingBackend with 10 concurrent workers.\n",
      "[Parallel(n_jobs=-1)]: Using backend ThreadingBackend with 10 concurrent workers.\n",
      "[Parallel(n_jobs=-1)]: Done  30 tasks      | elapsed:   10.5s\n",
      "[Parallel(n_jobs=-1)]: Done  30 tasks      | elapsed:   10.8s\n",
      "[Parallel(n_jobs=-1)]: Done  30 tasks      | elapsed:   11.1s\n",
      "[Parallel(n_jobs=-1)]: Done  30 tasks      | elapsed:   11.1s\n",
      "[Parallel(n_jobs=-1)]: Done  30 tasks      | elapsed:   11.3s\n",
      "[Parallel(n_jobs=-1)]: Done  30 tasks      | elapsed:   11.2s\n",
      "[Parallel(n_jobs=-1)]: Done  30 tasks      | elapsed:   11.3s\n",
      "[Parallel(n_jobs=-1)]: Done  30 tasks      | elapsed:   11.4s\n",
      "[Parallel(n_jobs=-1)]: Done  30 tasks      | elapsed:   11.1s\n",
      "[Parallel(n_jobs=-1)]: Done  30 tasks      | elapsed:   11.1s\n",
      "[Parallel(n_jobs=-1)]: Done 180 tasks      | elapsed:  1.1min\n",
      "[Parallel(n_jobs=-1)]: Done 180 tasks      | elapsed:  1.1min\n",
      "[Parallel(n_jobs=-1)]: Done 180 tasks      | elapsed:  1.1min\n",
      "[Parallel(n_jobs=-1)]: Done 180 tasks      | elapsed:  1.1min\n",
      "[Parallel(n_jobs=-1)]: Done 180 tasks      | elapsed:  1.1min\n",
      "[Parallel(n_jobs=-1)]: Done 180 tasks      | elapsed:  1.1min\n",
      "[Parallel(n_jobs=-1)]: Done 180 tasks      | elapsed:  1.1min\n",
      "[Parallel(n_jobs=-1)]: Done 180 tasks      | elapsed:  1.1min\n",
      "[Parallel(n_jobs=-1)]: Done 180 tasks      | elapsed:  1.1min\n",
      "[Parallel(n_jobs=-1)]: Done 180 tasks      | elapsed:  1.2min\n",
      "[Parallel(n_jobs=-1)]: Done 430 tasks      | elapsed:  2.7min\n",
      "[Parallel(n_jobs=-1)]: Done 430 tasks      | elapsed:  2.7min\n",
      "[Parallel(n_jobs=-1)]: Done 430 tasks      | elapsed:  2.7min\n",
      "[Parallel(n_jobs=-1)]: Done 430 tasks      | elapsed:  2.7min\n",
      "[Parallel(n_jobs=-1)]: Done 430 tasks      | elapsed:  2.7min\n",
      "[Parallel(n_jobs=-1)]: Done 430 tasks      | elapsed:  2.7min\n",
      "[Parallel(n_jobs=-1)]: Done 430 tasks      | elapsed:  2.8min\n",
      "[Parallel(n_jobs=-1)]: Done 430 tasks      | elapsed:  2.8min\n",
      "[Parallel(n_jobs=-1)]: Done 430 tasks      | elapsed:  2.8min\n",
      "[Parallel(n_jobs=-1)]: Done 430 tasks      | elapsed:  2.8min\n",
      "[Parallel(n_jobs=-1)]: Done 500 out of 500 | elapsed:  3.1min finished\n",
      "[Parallel(n_jobs=-1)]: Done 500 out of 500 | elapsed:  3.2min finished\n",
      "[Parallel(n_jobs=-1)]: Done 500 out of 500 | elapsed:  3.2min finished\n",
      "[Parallel(n_jobs=-1)]: Done 500 out of 500 | elapsed:  3.2min finished\n",
      "[Parallel(n_jobs=-1)]: Done 500 out of 500 | elapsed:  3.2min finished\n",
      "[Parallel(n_jobs=-1)]: Done 500 out of 500 | elapsed:  3.2min finished\n",
      "[Parallel(n_jobs=-1)]: Done 500 out of 500 | elapsed:  3.2min finished\n",
      "[Parallel(n_jobs=-1)]: Done 500 out of 500 | elapsed:  3.2min finished\n",
      "[Parallel(n_jobs=-1)]: Done 500 out of 500 | elapsed:  3.2min finished\n",
      "[Parallel(n_jobs=-1)]: Done 500 out of 500 | elapsed:  3.2min finished\n",
      "[Parallel(n_jobs=10)]: Using backend ThreadingBackend with 10 concurrent workers.\n",
      "[Parallel(n_jobs=10)]: Done  30 tasks      | elapsed:    0.0s\n",
      "[Parallel(n_jobs=10)]: Using backend ThreadingBackend with 10 concurrent workers.\n",
      "[Parallel(n_jobs=10)]: Done  30 tasks      | elapsed:    0.0s\n",
      "[Parallel(n_jobs=10)]: Using backend ThreadingBackend with 10 concurrent workers.\n",
      "[Parallel(n_jobs=10)]: Done 180 tasks      | elapsed:    0.1s\n",
      "[Parallel(n_jobs=10)]: Using backend ThreadingBackend with 10 concurrent workers.\n",
      "[Parallel(n_jobs=10)]: Using backend ThreadingBackend with 10 concurrent workers.\n",
      "[Parallel(n_jobs=10)]: Done 180 tasks      | elapsed:    0.1s\n",
      "[Parallel(n_jobs=10)]: Done  30 tasks      | elapsed:    0.1s\n",
      "[Parallel(n_jobs=10)]: Using backend ThreadingBackend with 10 concurrent workers.\n",
      "[Parallel(n_jobs=10)]: Done 180 tasks      | elapsed:    0.1s\n",
      "[Parallel(n_jobs=10)]: Using backend ThreadingBackend with 10 concurrent workers.\n",
      "[Parallel(n_jobs=10)]: Done 430 tasks      | elapsed:    0.2s\n",
      "[Parallel(n_jobs=10)]: Done  30 tasks      | elapsed:    0.1s\n",
      "[Parallel(n_jobs=10)]: Done 180 tasks      | elapsed:    0.2s\n",
      "[Parallel(n_jobs=10)]: Done 430 tasks      | elapsed:    0.3s\n",
      "[Parallel(n_jobs=10)]: Using backend ThreadingBackend with 10 concurrent workers.\n",
      "[Parallel(n_jobs=10)]: Done 430 tasks      | elapsed:    0.2s\n",
      "[Parallel(n_jobs=10)]: Done 500 out of 500 | elapsed:    0.3s finished\n",
      "[Parallel(n_jobs=10)]: Using backend ThreadingBackend with 10 concurrent workers.\n",
      "[Parallel(n_jobs=10)]: Done 500 out of 500 | elapsed:    0.3s finished\n",
      "[Parallel(n_jobs=10)]: Done 500 out of 500 | elapsed:    0.2s finished\n",
      "[Parallel(n_jobs=10)]: Done 430 tasks      | elapsed:    0.2s\n",
      "[Parallel(n_jobs=10)]: Done  30 tasks      | elapsed:    0.2s\n",
      "[Parallel(n_jobs=10)]: Done  30 tasks      | elapsed:    0.2s\n",
      "[Parallel(n_jobs=10)]: Done  30 tasks      | elapsed:    0.1s\n",
      "[Parallel(n_jobs=10)]: Done 180 tasks      | elapsed:    0.3s\n",
      "[Parallel(n_jobs=10)]: Done 500 out of 500 | elapsed:    0.3s finished\n",
      "[Parallel(n_jobs=10)]: Using backend ThreadingBackend with 10 concurrent workers.\n",
      "[Parallel(n_jobs=10)]: Done 180 tasks      | elapsed:    0.2s\n"
     ]
    },
    {
     "name": "stdout",
     "output_type": "stream",
     "text": [
      "[CV] END bootstrap=True, max_depth=None, max_features=auto, max_leaf_nodes=None, max_samples=None, n_estimators=500, n_jobs=-1, oob_score=True, random_state=42, verbose=1; total time= 3.2min\n",
      "[CV] END bootstrap=True, max_depth=None, max_features=auto, max_leaf_nodes=None, max_samples=None, n_estimators=500, n_jobs=-1, oob_score=True, random_state=42, verbose=1; total time= 3.2min\n",
      "[CV] END bootstrap=True, max_depth=None, max_features=auto, max_leaf_nodes=None, max_samples=None, n_estimators=500, n_jobs=-1, oob_score=True, random_state=42, verbose=1; total time= 3.2min\n",
      "[CV] END bootstrap=True, max_depth=None, max_features=auto, max_leaf_nodes=None, max_samples=None, n_estimators=500, n_jobs=-1, oob_score=True, random_state=42, verbose=1; total time= 3.2min\n"
     ]
    },
    {
     "name": "stderr",
     "output_type": "stream",
     "text": [
      "[Parallel(n_jobs=10)]: Done 180 tasks      | elapsed:    0.2s\n",
      "[Parallel(n_jobs=10)]: Done 430 tasks      | elapsed:    0.3s\n",
      "[Parallel(n_jobs=10)]: Done 430 tasks      | elapsed:    0.3s\n",
      "[Parallel(n_jobs=10)]: Done 500 out of 500 | elapsed:    0.4s finished\n",
      "[Parallel(n_jobs=10)]: Done  30 tasks      | elapsed:    0.2s\n",
      "[Parallel(n_jobs=10)]: Done 430 tasks      | elapsed:    0.3s\n",
      "[Parallel(n_jobs=10)]: Done 500 out of 500 | elapsed:    0.4s finished\n",
      "[Parallel(n_jobs=10)]: Done 500 out of 500 | elapsed:    0.3s finished\n",
      "[Parallel(n_jobs=10)]: Done 180 tasks      | elapsed:    0.3s\n",
      "[Parallel(n_jobs=10)]: Done  30 tasks      | elapsed:    0.3s\n",
      "[Parallel(n_jobs=10)]: Done  30 tasks      | elapsed:    0.2s\n",
      "[Parallel(n_jobs=10)]: Done 180 tasks      | elapsed:    0.3s\n"
     ]
    },
    {
     "name": "stdout",
     "output_type": "stream",
     "text": [
      "[CV] END bootstrap=True, max_depth=None, max_features=auto, max_leaf_nodes=None, max_samples=None, n_estimators=500, n_jobs=-1, oob_score=True, random_state=42, verbose=1; total time= 3.2min\n",
      "[CV] END bootstrap=True, max_depth=None, max_features=auto, max_leaf_nodes=None, max_samples=None, n_estimators=500, n_jobs=-1, oob_score=True, random_state=42, verbose=1; total time= 3.2min\n",
      "[CV] END bootstrap=True, max_depth=None, max_features=auto, max_leaf_nodes=None, max_samples=None, n_estimators=500, n_jobs=-1, oob_score=True, random_state=42, verbose=1; total time= 3.2min\n"
     ]
    },
    {
     "name": "stderr",
     "output_type": "stream",
     "text": [
      "[Parallel(n_jobs=10)]: Done 180 tasks      | elapsed:    0.3s\n",
      "[Parallel(n_jobs=10)]: Done 430 tasks      | elapsed:    0.4s\n",
      "[Parallel(n_jobs=10)]: Done 430 tasks      | elapsed:    0.3s\n",
      "[Parallel(n_jobs=10)]: Done 430 tasks      | elapsed:    0.4s\n",
      "[Parallel(n_jobs=10)]: Done 500 out of 500 | elapsed:    0.5s finished\n",
      "[Parallel(n_jobs=10)]: Done 500 out of 500 | elapsed:    0.4s finished\n",
      "[Parallel(n_jobs=10)]: Done 500 out of 500 | elapsed:    0.5s finished\n",
      "[Parallel(n_jobs=-1)]: Using backend ThreadingBackend with 10 concurrent workers.\n",
      "[Parallel(n_jobs=-1)]: Using backend ThreadingBackend with 10 concurrent workers.\n",
      "[Parallel(n_jobs=-1)]: Using backend ThreadingBackend with 10 concurrent workers.\n",
      "[Parallel(n_jobs=-1)]: Using backend ThreadingBackend with 10 concurrent workers.\n"
     ]
    },
    {
     "name": "stdout",
     "output_type": "stream",
     "text": [
      "[CV] END bootstrap=True, max_depth=None, max_features=auto, max_leaf_nodes=None, max_samples=None, n_estimators=500, n_jobs=-1, oob_score=True, random_state=42, verbose=1; total time= 3.2min\n",
      "[CV] END bootstrap=True, max_depth=None, max_features=auto, max_leaf_nodes=None, max_samples=None, n_estimators=500, n_jobs=-1, oob_score=True, random_state=42, verbose=1; total time= 3.2min\n",
      "[CV] END bootstrap=True, max_depth=None, max_features=auto, max_leaf_nodes=None, max_samples=None, n_estimators=500, n_jobs=-1, oob_score=True, random_state=42, verbose=1; total time= 3.2min\n"
     ]
    },
    {
     "name": "stderr",
     "output_type": "stream",
     "text": [
      "[Parallel(n_jobs=-1)]: Using backend ThreadingBackend with 10 concurrent workers.\n",
      "[Parallel(n_jobs=-1)]: Using backend ThreadingBackend with 10 concurrent workers.\n",
      "[Parallel(n_jobs=-1)]: Using backend ThreadingBackend with 10 concurrent workers.\n",
      "[Parallel(n_jobs=-1)]: Using backend ThreadingBackend with 10 concurrent workers.\n",
      "[Parallel(n_jobs=-1)]: Using backend ThreadingBackend with 10 concurrent workers.\n",
      "[Parallel(n_jobs=-1)]: Using backend ThreadingBackend with 10 concurrent workers.\n",
      "[Parallel(n_jobs=-1)]: Done  30 tasks      | elapsed:    2.6s\n",
      "[Parallel(n_jobs=-1)]: Done  30 tasks      | elapsed:    2.6s\n",
      "[Parallel(n_jobs=-1)]: Done  30 tasks      | elapsed:    3.0s\n",
      "[Parallel(n_jobs=-1)]: Done  30 tasks      | elapsed:    3.2s\n",
      "[Parallel(n_jobs=-1)]: Done  30 tasks      | elapsed:    3.0s\n",
      "[Parallel(n_jobs=-1)]: Done  30 tasks      | elapsed:    3.3s\n",
      "[Parallel(n_jobs=-1)]: Done  30 tasks      | elapsed:    3.0s\n",
      "[Parallel(n_jobs=-1)]: Done  30 tasks      | elapsed:    3.3s\n",
      "[Parallel(n_jobs=-1)]: Done  30 tasks      | elapsed:    3.3s\n",
      "[Parallel(n_jobs=-1)]: Done  30 tasks      | elapsed:    3.2s\n",
      "[Parallel(n_jobs=-1)]: Done 180 tasks      | elapsed:   18.5s\n",
      "[Parallel(n_jobs=-1)]: Done 180 tasks      | elapsed:   18.5s\n",
      "[Parallel(n_jobs=-1)]: Done 180 tasks      | elapsed:   18.8s\n",
      "[Parallel(n_jobs=-1)]: Done 180 tasks      | elapsed:   19.2s\n",
      "[Parallel(n_jobs=-1)]: Done 180 tasks      | elapsed:   19.2s\n",
      "[Parallel(n_jobs=-1)]: Done 180 tasks      | elapsed:   19.3s\n",
      "[Parallel(n_jobs=-1)]: Done 180 tasks      | elapsed:   19.1s\n",
      "[Parallel(n_jobs=-1)]: Done 180 tasks      | elapsed:   19.5s\n",
      "[Parallel(n_jobs=-1)]: Done 180 tasks      | elapsed:   19.4s\n",
      "[Parallel(n_jobs=-1)]: Done 180 tasks      | elapsed:   19.0s\n",
      "[Parallel(n_jobs=-1)]: Done 200 out of 200 | elapsed:   20.5s finished\n",
      "[Parallel(n_jobs=-1)]: Done 200 out of 200 | elapsed:   20.5s finished\n",
      "[Parallel(n_jobs=-1)]: Done 200 out of 200 | elapsed:   20.9s finished\n",
      "[Parallel(n_jobs=-1)]: Done 200 out of 200 | elapsed:   21.0s finished\n",
      "[Parallel(n_jobs=-1)]: Done 200 out of 200 | elapsed:   20.8s finished\n",
      "[Parallel(n_jobs=-1)]: Done 200 out of 200 | elapsed:   20.9s finished\n",
      "[Parallel(n_jobs=-1)]: Done 200 out of 200 | elapsed:   20.8s finished\n",
      "[Parallel(n_jobs=-1)]: Done 200 out of 200 | elapsed:   20.6s finished\n",
      "[Parallel(n_jobs=-1)]: Done 200 out of 200 | elapsed:   20.7s finished\n",
      "[Parallel(n_jobs=-1)]: Done 200 out of 200 | elapsed:   20.2s finished\n",
      "[Parallel(n_jobs=10)]: Using backend ThreadingBackend with 10 concurrent workers.\n",
      "[Parallel(n_jobs=10)]: Using backend ThreadingBackend with 10 concurrent workers.\n",
      "[Parallel(n_jobs=10)]: Using backend ThreadingBackend with 10 concurrent workers.\n",
      "[Parallel(n_jobs=10)]: Done  30 tasks      | elapsed:    0.0s\n",
      "[Parallel(n_jobs=10)]: Done  30 tasks      | elapsed:    0.0s\n",
      "[Parallel(n_jobs=10)]: Done  30 tasks      | elapsed:    0.0s\n",
      "[Parallel(n_jobs=10)]: Done 180 tasks      | elapsed:    0.0s\n",
      "[Parallel(n_jobs=10)]: Done 200 out of 200 | elapsed:    0.1s finished\n",
      "[Parallel(n_jobs=10)]: Done 180 tasks      | elapsed:    0.0s\n",
      "[Parallel(n_jobs=10)]: Done 200 out of 200 | elapsed:    0.1s finished\n",
      "[Parallel(n_jobs=10)]: Done 180 tasks      | elapsed:    0.1s\n",
      "[Parallel(n_jobs=10)]: Done 200 out of 200 | elapsed:    0.1s finished\n",
      "[Parallel(n_jobs=10)]: Using backend ThreadingBackend with 10 concurrent workers.\n",
      "[Parallel(n_jobs=10)]: Done  30 tasks      | elapsed:    0.0s\n",
      "[Parallel(n_jobs=10)]: Using backend ThreadingBackend with 10 concurrent workers.\n",
      "[Parallel(n_jobs=10)]: Using backend ThreadingBackend with 10 concurrent workers.\n",
      "[Parallel(n_jobs=10)]: Using backend ThreadingBackend with 10 concurrent workers.\n",
      "[Parallel(n_jobs=10)]: Using backend ThreadingBackend with 10 concurrent workers.\n",
      "[Parallel(n_jobs=10)]: Done  30 tasks      | elapsed:    0.0s\n",
      "[Parallel(n_jobs=10)]: Done  30 tasks      | elapsed:    0.0s\n",
      "[Parallel(n_jobs=10)]: Done  30 tasks      | elapsed:    0.0s\n",
      "[Parallel(n_jobs=10)]: Done  30 tasks      | elapsed:    0.0s\n",
      "[Parallel(n_jobs=10)]: Done 180 tasks      | elapsed:    0.0s\n",
      "[Parallel(n_jobs=10)]: Done 200 out of 200 | elapsed:    0.0s finished\n",
      "[Parallel(n_jobs=10)]: Done 180 tasks      | elapsed:    0.0s\n",
      "[Parallel(n_jobs=10)]: Done 180 tasks      | elapsed:    0.0s\n",
      "[Parallel(n_jobs=10)]: Done 180 tasks      | elapsed:    0.0s\n",
      "[Parallel(n_jobs=10)]: Done 200 out of 200 | elapsed:    0.0s finished\n",
      "[Parallel(n_jobs=10)]: Done 200 out of 200 | elapsed:    0.0s finished\n",
      "[Parallel(n_jobs=10)]: Done 200 out of 200 | elapsed:    0.0s finished\n",
      "[Parallel(n_jobs=10)]: Done 180 tasks      | elapsed:    0.0s\n",
      "[Parallel(n_jobs=10)]: Done 200 out of 200 | elapsed:    0.0s finished\n",
      "[Parallel(n_jobs=10)]: Using backend ThreadingBackend with 10 concurrent workers.\n",
      "[Parallel(n_jobs=10)]: Done  30 tasks      | elapsed:    0.0s\n",
      "[Parallel(n_jobs=10)]: Done 180 tasks      | elapsed:    0.0s\n",
      "[Parallel(n_jobs=10)]: Done 200 out of 200 | elapsed:    0.0s finished\n",
      "[Parallel(n_jobs=-1)]: Using backend ThreadingBackend with 10 concurrent workers.\n",
      "[Parallel(n_jobs=-1)]: Using backend ThreadingBackend with 10 concurrent workers.\n",
      "[Parallel(n_jobs=-1)]: Using backend ThreadingBackend with 10 concurrent workers.\n"
     ]
    },
    {
     "name": "stdout",
     "output_type": "stream",
     "text": [
      "[CV] END bootstrap=True, max_depth=None, max_features=auto, max_leaf_nodes=10, max_samples=None, n_estimators=200, n_jobs=-1, oob_score=True, random_state=42, verbose=1; total time=  21.6s\n",
      "[CV] END bootstrap=True, max_depth=None, max_features=auto, max_leaf_nodes=10, max_samples=None, n_estimators=200, n_jobs=-1, oob_score=True, random_state=42, verbose=1; total time=  21.6s\n",
      "[CV] END bootstrap=True, max_depth=None, max_features=auto, max_leaf_nodes=10, max_samples=None, n_estimators=200, n_jobs=-1, oob_score=True, random_state=42, verbose=1; total time=  21.7s\n",
      "[CV] END bootstrap=True, max_depth=None, max_features=auto, max_leaf_nodes=10, max_samples=None, n_estimators=200, n_jobs=-1, oob_score=True, random_state=42, verbose=1; total time=  21.7s\n",
      "[CV] END bootstrap=True, max_depth=None, max_features=auto, max_leaf_nodes=10, max_samples=None, n_estimators=200, n_jobs=-1, oob_score=True, random_state=42, verbose=1; total time=  21.2s\n",
      "[CV] END bootstrap=True, max_depth=None, max_features=auto, max_leaf_nodes=10, max_samples=None, n_estimators=200, n_jobs=-1, oob_score=True, random_state=42, verbose=1; total time=  21.6s\n",
      "[CV] END bootstrap=True, max_depth=None, max_features=auto, max_leaf_nodes=10, max_samples=None, n_estimators=200, n_jobs=-1, oob_score=True, random_state=42, verbose=1; total time=  21.2s\n",
      "[CV] END bootstrap=True, max_depth=None, max_features=auto, max_leaf_nodes=10, max_samples=None, n_estimators=200, n_jobs=-1, oob_score=True, random_state=42, verbose=1; total time=  21.6s\n",
      "[CV] END bootstrap=True, max_depth=None, max_features=auto, max_leaf_nodes=10, max_samples=None, n_estimators=200, n_jobs=-1, oob_score=True, random_state=42, verbose=1; total time=  21.5s\n"
     ]
    },
    {
     "name": "stderr",
     "output_type": "stream",
     "text": [
      "[Parallel(n_jobs=-1)]: Using backend ThreadingBackend with 10 concurrent workers.\n",
      "[Parallel(n_jobs=-1)]: Using backend ThreadingBackend with 10 concurrent workers.\n",
      "[Parallel(n_jobs=10)]: Using backend ThreadingBackend with 10 concurrent workers.\n",
      "[Parallel(n_jobs=10)]: Done  30 tasks      | elapsed:    0.1s\n",
      "[Parallel(n_jobs=10)]: Done 180 tasks      | elapsed:    0.1s\n",
      "[Parallel(n_jobs=10)]: Done 200 out of 200 | elapsed:    0.1s finished\n",
      "[Parallel(n_jobs=-1)]: Using backend ThreadingBackend with 10 concurrent workers.\n",
      "[Parallel(n_jobs=-1)]: Using backend ThreadingBackend with 10 concurrent workers.\n",
      "[Parallel(n_jobs=-1)]: Using backend ThreadingBackend with 10 concurrent workers.\n"
     ]
    },
    {
     "name": "stdout",
     "output_type": "stream",
     "text": [
      "[CV] END bootstrap=True, max_depth=None, max_features=auto, max_leaf_nodes=10, max_samples=None, n_estimators=200, n_jobs=-1, oob_score=True, random_state=42, verbose=1; total time=  21.7s\n"
     ]
    },
    {
     "name": "stderr",
     "output_type": "stream",
     "text": [
      "[Parallel(n_jobs=-1)]: Using backend ThreadingBackend with 10 concurrent workers.\n",
      "[Parallel(n_jobs=-1)]: Using backend ThreadingBackend with 10 concurrent workers.\n",
      "[Parallel(n_jobs=-1)]: Done  30 tasks      | elapsed:    2.1s\n",
      "[Parallel(n_jobs=-1)]: Done  30 tasks      | elapsed:    2.1s\n",
      "[Parallel(n_jobs=-1)]: Done  30 tasks      | elapsed:    2.9s\n",
      "[Parallel(n_jobs=-1)]: Done  30 tasks      | elapsed:    2.9s\n",
      "[Parallel(n_jobs=-1)]: Done  30 tasks      | elapsed:    3.0s\n",
      "[Parallel(n_jobs=-1)]: Done  30 tasks      | elapsed:    3.0s\n",
      "[Parallel(n_jobs=-1)]: Done  30 tasks      | elapsed:    3.1s\n",
      "[Parallel(n_jobs=-1)]: Done  30 tasks      | elapsed:    3.3s\n",
      "[Parallel(n_jobs=-1)]: Done  30 tasks      | elapsed:    3.4s\n",
      "[Parallel(n_jobs=-1)]: Done  30 tasks      | elapsed:    3.2s\n",
      "[Parallel(n_jobs=-1)]: Done 180 tasks      | elapsed:   18.0s\n",
      "[Parallel(n_jobs=-1)]: Done 180 tasks      | elapsed:   18.1s\n",
      "[Parallel(n_jobs=-1)]: Done 180 tasks      | elapsed:   19.0s\n",
      "[Parallel(n_jobs=-1)]: Done 180 tasks      | elapsed:   18.9s\n",
      "[Parallel(n_jobs=-1)]: Done 180 tasks      | elapsed:   19.1s\n",
      "[Parallel(n_jobs=-1)]: Done 180 tasks      | elapsed:   19.0s\n",
      "[Parallel(n_jobs=-1)]: Done 180 tasks      | elapsed:   19.3s\n",
      "[Parallel(n_jobs=-1)]: Done 180 tasks      | elapsed:   19.3s\n",
      "[Parallel(n_jobs=-1)]: Done 180 tasks      | elapsed:   19.5s\n",
      "[Parallel(n_jobs=-1)]: Done 180 tasks      | elapsed:   19.0s\n",
      "[Parallel(n_jobs=-1)]: Done 430 tasks      | elapsed:   44.4s\n",
      "[Parallel(n_jobs=-1)]: Done 430 tasks      | elapsed:   44.6s\n",
      "[Parallel(n_jobs=-1)]: Done 430 tasks      | elapsed:   45.5s\n",
      "[Parallel(n_jobs=-1)]: Done 430 tasks      | elapsed:   45.3s\n",
      "[Parallel(n_jobs=-1)]: Done 430 tasks      | elapsed:   45.5s\n",
      "[Parallel(n_jobs=-1)]: Done 430 tasks      | elapsed:   45.3s\n",
      "[Parallel(n_jobs=-1)]: Done 430 tasks      | elapsed:   46.0s\n",
      "[Parallel(n_jobs=-1)]: Done 430 tasks      | elapsed:   46.1s\n",
      "[Parallel(n_jobs=-1)]: Done 430 tasks      | elapsed:   46.5s\n",
      "[Parallel(n_jobs=-1)]: Done 430 tasks      | elapsed:   45.8s\n",
      "[Parallel(n_jobs=-1)]: Done 500 out of 500 | elapsed:   51.9s finished\n",
      "[Parallel(n_jobs=-1)]: Done 500 out of 500 | elapsed:   52.2s finished\n",
      "[Parallel(n_jobs=-1)]: Done 500 out of 500 | elapsed:   52.2s finished\n",
      "[Parallel(n_jobs=-1)]: Done 500 out of 500 | elapsed:   52.7s finished\n",
      "[Parallel(n_jobs=-1)]: Done 500 out of 500 | elapsed:   52.4s finished\n",
      "[Parallel(n_jobs=-1)]: Done 500 out of 500 | elapsed:   52.2s finished\n",
      "[Parallel(n_jobs=-1)]: Done 500 out of 500 | elapsed:   52.3s finished\n",
      "[Parallel(n_jobs=-1)]: Done 500 out of 500 | elapsed:   52.4s finished\n",
      "[Parallel(n_jobs=-1)]: Done 500 out of 500 | elapsed:   51.6s finished\n",
      "[Parallel(n_jobs=-1)]: Done 500 out of 500 | elapsed:   52.5s finished\n",
      "[Parallel(n_jobs=10)]: Using backend ThreadingBackend with 10 concurrent workers.\n",
      "[Parallel(n_jobs=10)]: Done  30 tasks      | elapsed:    0.0s\n",
      "[Parallel(n_jobs=10)]: Done 180 tasks      | elapsed:    0.0s\n",
      "[Parallel(n_jobs=10)]: Done 430 tasks      | elapsed:    0.1s\n",
      "[Parallel(n_jobs=10)]: Done 500 out of 500 | elapsed:    0.1s finished\n",
      "[Parallel(n_jobs=10)]: Using backend ThreadingBackend with 10 concurrent workers.\n",
      "[Parallel(n_jobs=10)]: Using backend ThreadingBackend with 10 concurrent workers.\n",
      "[Parallel(n_jobs=10)]: Using backend ThreadingBackend with 10 concurrent workers.\n",
      "[Parallel(n_jobs=10)]: Done  30 tasks      | elapsed:    0.0s\n",
      "[Parallel(n_jobs=10)]: Done  30 tasks      | elapsed:    0.0s\n",
      "[Parallel(n_jobs=10)]: Done  30 tasks      | elapsed:    0.0s\n",
      "[Parallel(n_jobs=10)]: Done 180 tasks      | elapsed:    0.0s\n",
      "[Parallel(n_jobs=10)]: Done 180 tasks      | elapsed:    0.0s\n",
      "[Parallel(n_jobs=10)]: Done 180 tasks      | elapsed:    0.0s\n",
      "[Parallel(n_jobs=10)]: Using backend ThreadingBackend with 10 concurrent workers.\n",
      "[Parallel(n_jobs=10)]: Using backend ThreadingBackend with 10 concurrent workers.\n",
      "[Parallel(n_jobs=10)]: Done 430 tasks      | elapsed:    0.1s\n",
      "[Parallel(n_jobs=10)]: Done 430 tasks      | elapsed:    0.1s\n",
      "[Parallel(n_jobs=10)]: Done 430 tasks      | elapsed:    0.1s\n",
      "[Parallel(n_jobs=10)]: Done 500 out of 500 | elapsed:    0.1s finished\n",
      "[Parallel(n_jobs=10)]: Done 500 out of 500 | elapsed:    0.1s finished\n",
      "[Parallel(n_jobs=10)]: Done 500 out of 500 | elapsed:    0.1s finished\n",
      "[Parallel(n_jobs=-1)]: Using backend ThreadingBackend with 10 concurrent workers.\n",
      "[Parallel(n_jobs=10)]: Done  30 tasks      | elapsed:    0.0s\n",
      "[Parallel(n_jobs=10)]: Done  30 tasks      | elapsed:    0.0s\n"
     ]
    },
    {
     "name": "stdout",
     "output_type": "stream",
     "text": [
      "[CV] END bootstrap=True, max_depth=None, max_features=auto, max_leaf_nodes=10, max_samples=None, n_estimators=500, n_jobs=-1, oob_score=True, random_state=42, verbose=1; total time=  54.1s\n",
      "[CV] END bootstrap=True, max_depth=None, max_features=auto, max_leaf_nodes=10, max_samples=None, n_estimators=500, n_jobs=-1, oob_score=True, random_state=42, verbose=1; total time=  54.2s\n",
      "[CV] END bootstrap=True, max_depth=None, max_features=auto, max_leaf_nodes=10, max_samples=None, n_estimators=500, n_jobs=-1, oob_score=True, random_state=42, verbose=1; total time=  54.2s\n",
      "[CV] END bootstrap=True, max_depth=None, max_features=auto, max_leaf_nodes=10, max_samples=None, n_estimators=500, n_jobs=-1, oob_score=True, random_state=42, verbose=1; total time=  54.0s\n"
     ]
    },
    {
     "name": "stderr",
     "output_type": "stream",
     "text": [
      "[Parallel(n_jobs=10)]: Done 180 tasks      | elapsed:    0.1s\n",
      "[Parallel(n_jobs=10)]: Done 180 tasks      | elapsed:    0.1s\n",
      "[Parallel(n_jobs=10)]: Done 430 tasks      | elapsed:    0.1s\n",
      "[Parallel(n_jobs=10)]: Done 430 tasks      | elapsed:    0.1s\n",
      "[Parallel(n_jobs=10)]: Using backend ThreadingBackend with 10 concurrent workers.\n",
      "[Parallel(n_jobs=10)]: Done 500 out of 500 | elapsed:    0.2s finished\n",
      "[Parallel(n_jobs=10)]: Done 500 out of 500 | elapsed:    0.2s finished\n",
      "[Parallel(n_jobs=10)]: Done  30 tasks      | elapsed:    0.0s\n"
     ]
    },
    {
     "name": "stdout",
     "output_type": "stream",
     "text": [
      "[CV] END bootstrap=True, max_depth=None, max_features=auto, max_leaf_nodes=10, max_samples=None, n_estimators=500, n_jobs=-1, oob_score=True, random_state=42, verbose=1; total time=  54.3s\n",
      "[CV] END bootstrap=True, max_depth=None, max_features=auto, max_leaf_nodes=10, max_samples=None, n_estimators=500, n_jobs=-1, oob_score=True, random_state=42, verbose=1; total time=  54.2s\n"
     ]
    },
    {
     "name": "stderr",
     "output_type": "stream",
     "text": [
      "[Parallel(n_jobs=-1)]: Using backend ThreadingBackend with 10 concurrent workers.\n",
      "[Parallel(n_jobs=-1)]: Using backend ThreadingBackend with 10 concurrent workers.\n",
      "[Parallel(n_jobs=-1)]: Using backend ThreadingBackend with 10 concurrent workers.\n",
      "[Parallel(n_jobs=10)]: Done 180 tasks      | elapsed:    0.1s\n",
      "[Parallel(n_jobs=10)]: Done 430 tasks      | elapsed:    0.2s\n",
      "[Parallel(n_jobs=10)]: Done 500 out of 500 | elapsed:    0.2s finished\n"
     ]
    },
    {
     "name": "stdout",
     "output_type": "stream",
     "text": [
      "[CV] END bootstrap=True, max_depth=None, max_features=auto, max_leaf_nodes=10, max_samples=None, n_estimators=500, n_jobs=-1, oob_score=True, random_state=42, verbose=1; total time=  54.5s\n"
     ]
    },
    {
     "name": "stderr",
     "output_type": "stream",
     "text": [
      "[Parallel(n_jobs=-1)]: Using backend ThreadingBackend with 10 concurrent workers.\n",
      "[Parallel(n_jobs=-1)]: Using backend ThreadingBackend with 10 concurrent workers.\n",
      "[Parallel(n_jobs=10)]: Using backend ThreadingBackend with 10 concurrent workers.\n",
      "[Parallel(n_jobs=10)]: Using backend ThreadingBackend with 10 concurrent workers.\n",
      "[Parallel(n_jobs=-1)]: Using backend ThreadingBackend with 10 concurrent workers.\n",
      "[Parallel(n_jobs=10)]: Done  30 tasks      | elapsed:    0.1s\n",
      "[Parallel(n_jobs=10)]: Done  30 tasks      | elapsed:    0.1s\n",
      "[Parallel(n_jobs=10)]: Done 180 tasks      | elapsed:    0.1s\n",
      "[Parallel(n_jobs=10)]: Done 180 tasks      | elapsed:    0.1s\n",
      "[Parallel(n_jobs=10)]: Done 430 tasks      | elapsed:    0.2s\n",
      "[Parallel(n_jobs=10)]: Done 430 tasks      | elapsed:    0.2s\n",
      "[Parallel(n_jobs=10)]: Done 500 out of 500 | elapsed:    0.2s finished\n",
      "[Parallel(n_jobs=10)]: Done 500 out of 500 | elapsed:    0.2s finished\n"
     ]
    },
    {
     "name": "stdout",
     "output_type": "stream",
     "text": [
      "[CV] END bootstrap=True, max_depth=None, max_features=auto, max_leaf_nodes=10, max_samples=None, n_estimators=500, n_jobs=-1, oob_score=True, random_state=42, verbose=1; total time=  54.2s\n",
      "[CV] END bootstrap=True, max_depth=None, max_features=auto, max_leaf_nodes=10, max_samples=None, n_estimators=500, n_jobs=-1, oob_score=True, random_state=42, verbose=1; total time=  55.0s\n"
     ]
    },
    {
     "name": "stderr",
     "output_type": "stream",
     "text": [
      "[Parallel(n_jobs=-1)]: Using backend ThreadingBackend with 10 concurrent workers.\n",
      "[Parallel(n_jobs=10)]: Using backend ThreadingBackend with 10 concurrent workers.\n",
      "[Parallel(n_jobs=10)]: Done  30 tasks      | elapsed:    0.0s\n",
      "[Parallel(n_jobs=10)]: Done 180 tasks      | elapsed:    0.0s\n",
      "[Parallel(n_jobs=-1)]: Using backend ThreadingBackend with 10 concurrent workers.\n",
      "[Parallel(n_jobs=10)]: Done 430 tasks      | elapsed:    0.1s\n",
      "[Parallel(n_jobs=10)]: Done 500 out of 500 | elapsed:    0.2s finished\n"
     ]
    },
    {
     "name": "stdout",
     "output_type": "stream",
     "text": [
      "[CV] END bootstrap=True, max_depth=None, max_features=auto, max_leaf_nodes=10, max_samples=None, n_estimators=500, n_jobs=-1, oob_score=True, random_state=42, verbose=1; total time=  55.6s\n"
     ]
    },
    {
     "name": "stderr",
     "output_type": "stream",
     "text": [
      "[Parallel(n_jobs=-1)]: Using backend ThreadingBackend with 10 concurrent workers.\n",
      "[Parallel(n_jobs=-1)]: Done  30 tasks      | elapsed:    2.3s\n",
      "[Parallel(n_jobs=-1)]: Done  30 tasks      | elapsed:    3.3s\n",
      "[Parallel(n_jobs=-1)]: Done  30 tasks      | elapsed:    3.3s\n",
      "[Parallel(n_jobs=-1)]: Done  30 tasks      | elapsed:    3.5s\n",
      "[Parallel(n_jobs=-1)]: Done  30 tasks      | elapsed:    3.5s\n",
      "[Parallel(n_jobs=-1)]: Done  30 tasks      | elapsed:    3.8s\n",
      "[Parallel(n_jobs=-1)]: Done  30 tasks      | elapsed:    4.1s\n",
      "[Parallel(n_jobs=-1)]: Done  30 tasks      | elapsed:    4.0s\n",
      "[Parallel(n_jobs=-1)]: Done  30 tasks      | elapsed:    3.9s\n",
      "[Parallel(n_jobs=-1)]: Done  30 tasks      | elapsed:    4.0s\n",
      "[Parallel(n_jobs=-1)]: Done 180 tasks      | elapsed:   21.4s\n",
      "[Parallel(n_jobs=-1)]: Done 180 tasks      | elapsed:   22.7s\n",
      "[Parallel(n_jobs=-1)]: Done 180 tasks      | elapsed:   22.8s\n",
      "[Parallel(n_jobs=-1)]: Done 180 tasks      | elapsed:   22.9s\n",
      "[Parallel(n_jobs=-1)]: Done 180 tasks      | elapsed:   22.8s\n",
      "[Parallel(n_jobs=-1)]: Done 180 tasks      | elapsed:   23.3s\n",
      "[Parallel(n_jobs=-1)]: Done 180 tasks      | elapsed:   23.3s\n",
      "[Parallel(n_jobs=-1)]: Done 200 out of 200 | elapsed:   24.2s finished\n",
      "[Parallel(n_jobs=-1)]: Done 180 tasks      | elapsed:   23.4s\n",
      "[Parallel(n_jobs=-1)]: Done 180 tasks      | elapsed:   23.3s\n",
      "[Parallel(n_jobs=-1)]: Done 180 tasks      | elapsed:   23.2s\n",
      "[Parallel(n_jobs=-1)]: Done 200 out of 200 | elapsed:   25.2s finished\n",
      "[Parallel(n_jobs=-1)]: Done 200 out of 200 | elapsed:   25.2s finished\n",
      "[Parallel(n_jobs=-1)]: Done 200 out of 200 | elapsed:   25.3s finished\n",
      "[Parallel(n_jobs=-1)]: Done 200 out of 200 | elapsed:   25.2s finished\n",
      "[Parallel(n_jobs=-1)]: Done 200 out of 200 | elapsed:   25.4s finished\n",
      "[Parallel(n_jobs=-1)]: Done 200 out of 200 | elapsed:   25.2s finished\n",
      "[Parallel(n_jobs=-1)]: Done 200 out of 200 | elapsed:   24.9s finished\n",
      "[Parallel(n_jobs=-1)]: Done 200 out of 200 | elapsed:   24.7s finished\n",
      "[Parallel(n_jobs=10)]: Using backend ThreadingBackend with 10 concurrent workers.\n",
      "[Parallel(n_jobs=10)]: Done  30 tasks      | elapsed:    0.0s\n",
      "[Parallel(n_jobs=-1)]: Done 200 out of 200 | elapsed:   24.2s finished\n",
      "[Parallel(n_jobs=10)]: Done 180 tasks      | elapsed:    0.1s\n",
      "[Parallel(n_jobs=10)]: Done 200 out of 200 | elapsed:    0.1s finished\n"
     ]
    },
    {
     "name": "stdout",
     "output_type": "stream",
     "text": [
      "[CV] END bootstrap=True, max_depth=None, max_features=auto, max_leaf_nodes=20, max_samples=None, n_estimators=200, n_jobs=-1, oob_score=True, random_state=42, verbose=1; total time=  26.3s\n"
     ]
    },
    {
     "name": "stderr",
     "output_type": "stream",
     "text": [
      "[Parallel(n_jobs=10)]: Using backend ThreadingBackend with 10 concurrent workers.\n",
      "[Parallel(n_jobs=10)]: Using backend ThreadingBackend with 10 concurrent workers.\n",
      "[Parallel(n_jobs=-1)]: Using backend ThreadingBackend with 10 concurrent workers.\n",
      "[Parallel(n_jobs=10)]: Using backend ThreadingBackend with 10 concurrent workers.\n",
      "[Parallel(n_jobs=10)]: Using backend ThreadingBackend with 10 concurrent workers.\n",
      "[Parallel(n_jobs=10)]: Using backend ThreadingBackend with 10 concurrent workers.\n",
      "[Parallel(n_jobs=10)]: Done  30 tasks      | elapsed:    0.1s\n",
      "[Parallel(n_jobs=10)]: Done 180 tasks      | elapsed:    0.2s\n",
      "[Parallel(n_jobs=10)]: Done 200 out of 200 | elapsed:    0.2s finished\n",
      "[Parallel(n_jobs=10)]: Done  30 tasks      | elapsed:    0.1s\n",
      "[Parallel(n_jobs=10)]: Done  30 tasks      | elapsed:    0.1s\n",
      "[Parallel(n_jobs=10)]: Done  30 tasks      | elapsed:    0.2s\n"
     ]
    },
    {
     "name": "stdout",
     "output_type": "stream",
     "text": [
      "[CV] END bootstrap=True, max_depth=None, max_features=auto, max_leaf_nodes=20, max_samples=None, n_estimators=200, n_jobs=-1, oob_score=True, random_state=42, verbose=1; total time=  26.4s\n",
      "[CV] END bootstrap=True, max_depth=None, max_features=auto, max_leaf_nodes=20, max_samples=None, n_estimators=200, n_jobs=-1, oob_score=True, random_state=42, verbose=1; total time=  25.9s\n",
      "[CV] END bootstrap=True, max_depth=None, max_features=auto, max_leaf_nodes=20, max_samples=None, n_estimators=200, n_jobs=-1, oob_score=True, random_state=42, verbose=1; total time=  26.5s\n",
      "[CV] END bootstrap=True, max_depth=None, max_features=auto, max_leaf_nodes=20, max_samples=None, n_estimators=200, n_jobs=-1, oob_score=True, random_state=42, verbose=1; total time=  26.4s\n",
      "[CV] END bootstrap=True, max_depth=None, max_features=auto, max_leaf_nodes=20, max_samples=None, n_estimators=200, n_jobs=-1, oob_score=True, random_state=42, verbose=1; total time=  26.5s\n",
      "[CV] END bootstrap=True, max_depth=None, max_features=auto, max_leaf_nodes=20, max_samples=None, n_estimators=200, n_jobs=-1, oob_score=True, random_state=42, verbose=1; total time=  26.5s\n",
      "[CV] END bootstrap=True, max_depth=None, max_features=auto, max_leaf_nodes=20, max_samples=None, n_estimators=200, n_jobs=-1, oob_score=True, random_state=42, verbose=1; total time=  25.6s\n"
     ]
    },
    {
     "name": "stderr",
     "output_type": "stream",
     "text": [
      "[Parallel(n_jobs=10)]: Done 180 tasks      | elapsed:    0.2s\n",
      "[Parallel(n_jobs=10)]: Done 200 out of 200 | elapsed:    0.2s finished\n",
      "[Parallel(n_jobs=10)]: Using backend ThreadingBackend with 10 concurrent workers.\n",
      "[Parallel(n_jobs=10)]: Done 180 tasks      | elapsed:    0.2s\n",
      "[Parallel(n_jobs=10)]: Done 200 out of 200 | elapsed:    0.2s finished\n",
      "[Parallel(n_jobs=10)]: Done 180 tasks      | elapsed:    0.2s\n",
      "[Parallel(n_jobs=10)]: Done  30 tasks      | elapsed:    0.2s\n",
      "[Parallel(n_jobs=10)]: Done 200 out of 200 | elapsed:    0.2s finished\n",
      "[Parallel(n_jobs=10)]: Done  30 tasks      | elapsed:    0.0s\n",
      "[Parallel(n_jobs=10)]: Done 180 tasks      | elapsed:    0.2s\n",
      "[Parallel(n_jobs=10)]: Using backend ThreadingBackend with 10 concurrent workers.\n",
      "[Parallel(n_jobs=10)]: Done 200 out of 200 | elapsed:    0.2s finished\n",
      "[Parallel(n_jobs=10)]: Done 180 tasks      | elapsed:    0.1s\n",
      "[Parallel(n_jobs=10)]: Done 200 out of 200 | elapsed:    0.1s finished\n",
      "[Parallel(n_jobs=10)]: Done  30 tasks      | elapsed:    0.0s\n",
      "[Parallel(n_jobs=10)]: Done 180 tasks      | elapsed:    0.1s\n",
      "[Parallel(n_jobs=10)]: Done 200 out of 200 | elapsed:    0.1s finished\n",
      "[Parallel(n_jobs=10)]: Using backend ThreadingBackend with 10 concurrent workers.\n",
      "[Parallel(n_jobs=-1)]: Using backend ThreadingBackend with 10 concurrent workers.\n",
      "[Parallel(n_jobs=-1)]: Using backend ThreadingBackend with 10 concurrent workers.\n",
      "[Parallel(n_jobs=-1)]: Using backend ThreadingBackend with 10 concurrent workers.\n",
      "[Parallel(n_jobs=-1)]: Using backend ThreadingBackend with 10 concurrent workers.\n",
      "[Parallel(n_jobs=-1)]: Using backend ThreadingBackend with 10 concurrent workers.\n",
      "[Parallel(n_jobs=10)]: Done  30 tasks      | elapsed:    0.3s\n",
      "[Parallel(n_jobs=-1)]: Using backend ThreadingBackend with 10 concurrent workers.\n",
      "[Parallel(n_jobs=10)]: Done 180 tasks      | elapsed:    0.3s\n",
      "[Parallel(n_jobs=10)]: Done 200 out of 200 | elapsed:    0.4s finished\n"
     ]
    },
    {
     "name": "stdout",
     "output_type": "stream",
     "text": [
      "[CV] END bootstrap=True, max_depth=None, max_features=auto, max_leaf_nodes=20, max_samples=None, n_estimators=200, n_jobs=-1, oob_score=True, random_state=42, verbose=1; total time=  26.0s\n"
     ]
    },
    {
     "name": "stderr",
     "output_type": "stream",
     "text": [
      "[Parallel(n_jobs=10)]: Using backend ThreadingBackend with 10 concurrent workers.\n",
      "[Parallel(n_jobs=-1)]: Using backend ThreadingBackend with 10 concurrent workers.\n",
      "[Parallel(n_jobs=10)]: Done  30 tasks      | elapsed:    0.3s\n",
      "[Parallel(n_jobs=10)]: Done 180 tasks      | elapsed:    0.3s\n",
      "[Parallel(n_jobs=10)]: Done 200 out of 200 | elapsed:    0.3s finished\n"
     ]
    },
    {
     "name": "stdout",
     "output_type": "stream",
     "text": [
      "[CV] END bootstrap=True, max_depth=None, max_features=auto, max_leaf_nodes=20, max_samples=None, n_estimators=200, n_jobs=-1, oob_score=True, random_state=42, verbose=1; total time=  26.0s\n"
     ]
    },
    {
     "name": "stderr",
     "output_type": "stream",
     "text": [
      "[Parallel(n_jobs=-1)]: Using backend ThreadingBackend with 10 concurrent workers.\n",
      "[Parallel(n_jobs=-1)]: Using backend ThreadingBackend with 10 concurrent workers.\n",
      "[Parallel(n_jobs=-1)]: Done  30 tasks      | elapsed:    2.5s\n",
      "[Parallel(n_jobs=-1)]: Done  30 tasks      | elapsed:    3.3s\n",
      "[Parallel(n_jobs=-1)]: Done  30 tasks      | elapsed:    3.5s\n",
      "[Parallel(n_jobs=-1)]: Done  30 tasks      | elapsed:    3.7s\n",
      "[Parallel(n_jobs=-1)]: Done  30 tasks      | elapsed:    3.8s\n",
      "[Parallel(n_jobs=-1)]: Done  30 tasks      | elapsed:    3.9s\n",
      "[Parallel(n_jobs=-1)]: Done  30 tasks      | elapsed:    4.0s\n",
      "[Parallel(n_jobs=-1)]: Done  30 tasks      | elapsed:    3.7s\n",
      "[Parallel(n_jobs=-1)]: Done  30 tasks      | elapsed:    3.8s\n",
      "[Parallel(n_jobs=-1)]: Done  30 tasks      | elapsed:    4.0s\n",
      "[Parallel(n_jobs=-1)]: Done 180 tasks      | elapsed:   21.7s\n",
      "[Parallel(n_jobs=-1)]: Done 180 tasks      | elapsed:   22.6s\n",
      "[Parallel(n_jobs=-1)]: Done 180 tasks      | elapsed:   22.9s\n",
      "[Parallel(n_jobs=-1)]: Done 180 tasks      | elapsed:   23.0s\n",
      "[Parallel(n_jobs=-1)]: Done 180 tasks      | elapsed:   23.2s\n",
      "[Parallel(n_jobs=-1)]: Done 180 tasks      | elapsed:   23.2s\n",
      "[Parallel(n_jobs=-1)]: Done 180 tasks      | elapsed:   23.4s\n",
      "[Parallel(n_jobs=-1)]: Done 180 tasks      | elapsed:   22.8s\n",
      "[Parallel(n_jobs=-1)]: Done 180 tasks      | elapsed:   23.0s\n",
      "[Parallel(n_jobs=-1)]: Done 180 tasks      | elapsed:   23.0s\n",
      "[Parallel(n_jobs=-1)]: Done 430 tasks      | elapsed:   53.8s\n",
      "[Parallel(n_jobs=-1)]: Done 430 tasks      | elapsed:   54.7s\n",
      "[Parallel(n_jobs=-1)]: Done 430 tasks      | elapsed:   55.0s\n",
      "[Parallel(n_jobs=-1)]: Done 430 tasks      | elapsed:   55.1s\n",
      "[Parallel(n_jobs=-1)]: Done 430 tasks      | elapsed:   55.3s\n",
      "[Parallel(n_jobs=-1)]: Done 430 tasks      | elapsed:   55.2s\n",
      "[Parallel(n_jobs=-1)]: Done 430 tasks      | elapsed:   55.7s\n",
      "[Parallel(n_jobs=-1)]: Done 430 tasks      | elapsed:   55.4s\n",
      "[Parallel(n_jobs=-1)]: Done 430 tasks      | elapsed:   55.7s\n",
      "[Parallel(n_jobs=-1)]: Done 430 tasks      | elapsed:   55.5s\n",
      "[Parallel(n_jobs=-1)]: Done 500 out of 500 | elapsed:  1.0min finished\n",
      "[Parallel(n_jobs=-1)]: Done 500 out of 500 | elapsed:  1.1min finished\n",
      "[Parallel(n_jobs=-1)]: Done 500 out of 500 | elapsed:  1.1min finished\n",
      "[Parallel(n_jobs=-1)]: Done 500 out of 500 | elapsed:  1.1min finished\n",
      "[Parallel(n_jobs=-1)]: Done 500 out of 500 | elapsed:  1.1min finished\n",
      "[Parallel(n_jobs=-1)]: Done 500 out of 500 | elapsed:  1.1min finished\n",
      "[Parallel(n_jobs=-1)]: Done 500 out of 500 | elapsed:  1.1min finished\n",
      "[Parallel(n_jobs=-1)]: Done 500 out of 500 | elapsed:  1.1min finished\n",
      "[Parallel(n_jobs=-1)]: Done 500 out of 500 | elapsed:  1.0min finished\n",
      "[Parallel(n_jobs=-1)]: Done 500 out of 500 | elapsed:  1.0min finished\n",
      "[Parallel(n_jobs=10)]: Using backend ThreadingBackend with 10 concurrent workers.\n",
      "[Parallel(n_jobs=10)]: Done  30 tasks      | elapsed:    0.0s\n",
      "[Parallel(n_jobs=10)]: Using backend ThreadingBackend with 10 concurrent workers.\n",
      "[Parallel(n_jobs=10)]: Using backend ThreadingBackend with 10 concurrent workers.\n",
      "[Parallel(n_jobs=10)]: Done  30 tasks      | elapsed:    0.0s\n",
      "[Parallel(n_jobs=10)]: Using backend ThreadingBackend with 10 concurrent workers.\n",
      "[Parallel(n_jobs=10)]: Done 180 tasks      | elapsed:    0.0s\n",
      "[Parallel(n_jobs=10)]: Using backend ThreadingBackend with 10 concurrent workers.\n",
      "[Parallel(n_jobs=10)]: Using backend ThreadingBackend with 10 concurrent workers.\n",
      "[Parallel(n_jobs=10)]: Done  30 tasks      | elapsed:    0.0s\n",
      "[Parallel(n_jobs=10)]: Using backend ThreadingBackend with 10 concurrent workers.\n",
      "[Parallel(n_jobs=10)]: Done  30 tasks      | elapsed:    0.0s\n",
      "[Parallel(n_jobs=10)]: Done 180 tasks      | elapsed:    0.1s\n",
      "[Parallel(n_jobs=10)]: Done  30 tasks      | elapsed:    0.0s\n",
      "[Parallel(n_jobs=10)]: Done 180 tasks      | elapsed:    0.0s\n",
      "[Parallel(n_jobs=10)]: Done 430 tasks      | elapsed:    0.1s\n",
      "[Parallel(n_jobs=10)]: Done  30 tasks      | elapsed:    0.0s\n",
      "[Parallel(n_jobs=10)]: Done 180 tasks      | elapsed:    0.1s\n",
      "[Parallel(n_jobs=10)]: Done 500 out of 500 | elapsed:    0.1s finished\n",
      "[Parallel(n_jobs=10)]: Done 180 tasks      | elapsed:    0.1s\n",
      "[Parallel(n_jobs=10)]: Done 180 tasks      | elapsed:    0.1s\n",
      "[Parallel(n_jobs=10)]: Using backend ThreadingBackend with 10 concurrent workers.\n",
      "[Parallel(n_jobs=10)]: Done 430 tasks      | elapsed:    0.1s\n",
      "[Parallel(n_jobs=10)]: Done 430 tasks      | elapsed:    0.1s\n",
      "[Parallel(n_jobs=10)]: Done  30 tasks      | elapsed:    0.1s\n",
      "[Parallel(n_jobs=10)]: Done 430 tasks      | elapsed:    0.1s\n",
      "[Parallel(n_jobs=10)]: Done 500 out of 500 | elapsed:    0.1s finished\n",
      "[Parallel(n_jobs=10)]: Done 500 out of 500 | elapsed:    0.1s finished\n",
      "[Parallel(n_jobs=10)]: Done 500 out of 500 | elapsed:    0.1s finished\n",
      "[Parallel(n_jobs=10)]: Done 430 tasks      | elapsed:    0.1s\n",
      "[Parallel(n_jobs=10)]: Done 430 tasks      | elapsed:    0.1s\n",
      "[Parallel(n_jobs=10)]: Done 180 tasks      | elapsed:    0.1s\n",
      "[Parallel(n_jobs=10)]: Done 500 out of 500 | elapsed:    0.1s finished\n",
      "[Parallel(n_jobs=10)]: Done 500 out of 500 | elapsed:    0.1s finished\n",
      "[Parallel(n_jobs=10)]: Done  30 tasks      | elapsed:    0.1s\n",
      "[Parallel(n_jobs=10)]: Using backend ThreadingBackend with 10 concurrent workers.\n",
      "[Parallel(n_jobs=10)]: Done  30 tasks      | elapsed:    0.0s\n",
      "[Parallel(n_jobs=10)]: Done 430 tasks      | elapsed:    0.1s\n",
      "[Parallel(n_jobs=10)]: Done 500 out of 500 | elapsed:    0.1s finished\n",
      "[Parallel(n_jobs=10)]: Done 180 tasks      | elapsed:    0.1s\n",
      "[Parallel(n_jobs=-1)]: Using backend ThreadingBackend with 10 concurrent workers.\n"
     ]
    },
    {
     "name": "stdout",
     "output_type": "stream",
     "text": [
      "[CV] END bootstrap=True, max_depth=None, max_features=auto, max_leaf_nodes=20, max_samples=None, n_estimators=500, n_jobs=-1, oob_score=True, random_state=42, verbose=1; total time= 1.1min\n",
      "[CV] END bootstrap=True, max_depth=None, max_features=auto, max_leaf_nodes=20, max_samples=None, n_estimators=500, n_jobs=-1, oob_score=True, random_state=42, verbose=1; total time= 1.1min\n",
      "[CV] END bootstrap=True, max_depth=None, max_features=auto, max_leaf_nodes=20, max_samples=None, n_estimators=500, n_jobs=-1, oob_score=True, random_state=42, verbose=1; total time= 1.1min\n",
      "[CV] END bootstrap=True, max_depth=None, max_features=auto, max_leaf_nodes=20, max_samples=None, n_estimators=500, n_jobs=-1, oob_score=True, random_state=42, verbose=1; total time= 1.1min\n",
      "[CV] END bootstrap=True, max_depth=None, max_features=auto, max_leaf_nodes=20, max_samples=None, n_estimators=500, n_jobs=-1, oob_score=True, random_state=42, verbose=1; total time= 1.1min\n",
      "[CV] END bootstrap=True, max_depth=None, max_features=auto, max_leaf_nodes=20, max_samples=None, n_estimators=500, n_jobs=-1, oob_score=True, random_state=42, verbose=1; total time= 1.1min\n",
      "[CV] END bootstrap=True, max_depth=None, max_features=auto, max_leaf_nodes=20, max_samples=None, n_estimators=500, n_jobs=-1, oob_score=True, random_state=42, verbose=1; total time= 1.1min\n"
     ]
    },
    {
     "name": "stderr",
     "output_type": "stream",
     "text": [
      "[Parallel(n_jobs=10)]: Done 180 tasks      | elapsed:    0.0s\n",
      "[Parallel(n_jobs=-1)]: Using backend ThreadingBackend with 10 concurrent workers.\n",
      "[Parallel(n_jobs=-1)]: Using backend ThreadingBackend with 10 concurrent workers.\n",
      "[Parallel(n_jobs=-1)]: Using backend ThreadingBackend with 10 concurrent workers.\n",
      "[Parallel(n_jobs=-1)]: Using backend ThreadingBackend with 10 concurrent workers.\n",
      "[Parallel(n_jobs=-1)]: Using backend ThreadingBackend with 10 concurrent workers.\n",
      "[Parallel(n_jobs=10)]: Done 430 tasks      | elapsed:    0.2s\n",
      "[Parallel(n_jobs=10)]: Done 430 tasks      | elapsed:    0.2s\n",
      "[Parallel(n_jobs=10)]: Done 500 out of 500 | elapsed:    0.3s finished\n",
      "[Parallel(n_jobs=10)]: Done 500 out of 500 | elapsed:    0.3s finished\n"
     ]
    },
    {
     "name": "stdout",
     "output_type": "stream",
     "text": [
      "[CV] END bootstrap=True, max_depth=None, max_features=auto, max_leaf_nodes=20, max_samples=None, n_estimators=500, n_jobs=-1, oob_score=True, random_state=42, verbose=1; total time= 1.1min\n",
      "[CV] END bootstrap=True, max_depth=None, max_features=auto, max_leaf_nodes=20, max_samples=None, n_estimators=500, n_jobs=-1, oob_score=True, random_state=42, verbose=1; total time= 1.1min\n"
     ]
    },
    {
     "name": "stderr",
     "output_type": "stream",
     "text": [
      "[Parallel(n_jobs=-1)]: Using backend ThreadingBackend with 10 concurrent workers.\n",
      "[Parallel(n_jobs=-1)]: Using backend ThreadingBackend with 10 concurrent workers.\n",
      "[Parallel(n_jobs=-1)]: Using backend ThreadingBackend with 10 concurrent workers.\n",
      "[Parallel(n_jobs=10)]: Using backend ThreadingBackend with 10 concurrent workers.\n",
      "[Parallel(n_jobs=10)]: Done  30 tasks      | elapsed:    0.0s\n",
      "[Parallel(n_jobs=10)]: Done 180 tasks      | elapsed:    0.1s\n",
      "[Parallel(n_jobs=10)]: Done 430 tasks      | elapsed:    0.1s\n",
      "[Parallel(n_jobs=10)]: Done 500 out of 500 | elapsed:    0.1s finished\n"
     ]
    },
    {
     "name": "stdout",
     "output_type": "stream",
     "text": [
      "[CV] END bootstrap=True, max_depth=None, max_features=auto, max_leaf_nodes=20, max_samples=None, n_estimators=500, n_jobs=-1, oob_score=True, random_state=42, verbose=1; total time= 1.1min\n"
     ]
    },
    {
     "name": "stderr",
     "output_type": "stream",
     "text": [
      "[Parallel(n_jobs=-1)]: Using backend ThreadingBackend with 10 concurrent workers.\n",
      "[Parallel(n_jobs=-1)]: Done  30 tasks      | elapsed:    3.7s\n",
      "[Parallel(n_jobs=-1)]: Done  30 tasks      | elapsed:    4.3s\n",
      "[Parallel(n_jobs=-1)]: Done  30 tasks      | elapsed:    4.3s\n",
      "[Parallel(n_jobs=-1)]: Done  30 tasks      | elapsed:    4.4s\n",
      "[Parallel(n_jobs=-1)]: Done  30 tasks      | elapsed:    4.4s\n",
      "[Parallel(n_jobs=-1)]: Done  30 tasks      | elapsed:    4.6s\n",
      "[Parallel(n_jobs=-1)]: Done  30 tasks      | elapsed:    4.4s\n",
      "[Parallel(n_jobs=-1)]: Done  30 tasks      | elapsed:    4.3s\n",
      "[Parallel(n_jobs=-1)]: Done  30 tasks      | elapsed:    4.5s\n",
      "[Parallel(n_jobs=-1)]: Done  30 tasks      | elapsed:    4.5s\n",
      "[Parallel(n_jobs=-1)]: Done 180 tasks      | elapsed:   26.1s\n",
      "[Parallel(n_jobs=-1)]: Done 180 tasks      | elapsed:   26.9s\n",
      "[Parallel(n_jobs=-1)]: Done 180 tasks      | elapsed:   27.0s\n",
      "[Parallel(n_jobs=-1)]: Done 180 tasks      | elapsed:   27.1s\n",
      "[Parallel(n_jobs=-1)]: Done 180 tasks      | elapsed:   27.1s\n",
      "[Parallel(n_jobs=-1)]: Done 180 tasks      | elapsed:   27.3s\n",
      "[Parallel(n_jobs=-1)]: Done 180 tasks      | elapsed:   26.9s\n",
      "[Parallel(n_jobs=-1)]: Done 180 tasks      | elapsed:   26.9s\n",
      "[Parallel(n_jobs=-1)]: Done 180 tasks      | elapsed:   27.5s\n",
      "[Parallel(n_jobs=-1)]: Done 200 out of 200 | elapsed:   29.1s finished\n",
      "[Parallel(n_jobs=-1)]: Done 180 tasks      | elapsed:   27.0s\n",
      "[Parallel(n_jobs=-1)]: Done 200 out of 200 | elapsed:   29.5s finished\n",
      "[Parallel(n_jobs=-1)]: Done 200 out of 200 | elapsed:   29.6s finished\n",
      "[Parallel(n_jobs=-1)]: Done 200 out of 200 | elapsed:   29.6s finished\n",
      "[Parallel(n_jobs=-1)]: Done 200 out of 200 | elapsed:   29.7s finished\n",
      "[Parallel(n_jobs=-1)]: Done 200 out of 200 | elapsed:   29.7s finished\n",
      "[Parallel(n_jobs=-1)]: Done 200 out of 200 | elapsed:   29.1s finished\n",
      "[Parallel(n_jobs=-1)]: Done 200 out of 200 | elapsed:   29.0s finished\n",
      "[Parallel(n_jobs=-1)]: Done 200 out of 200 | elapsed:   29.4s finished\n",
      "[Parallel(n_jobs=-1)]: Done 200 out of 200 | elapsed:   27.9s finished\n",
      "[Parallel(n_jobs=10)]: Using backend ThreadingBackend with 10 concurrent workers.\n",
      "[Parallel(n_jobs=10)]: Done  30 tasks      | elapsed:    0.0s\n",
      "[Parallel(n_jobs=10)]: Using backend ThreadingBackend with 10 concurrent workers.\n",
      "[Parallel(n_jobs=10)]: Done  30 tasks      | elapsed:    0.0s\n",
      "[Parallel(n_jobs=10)]: Using backend ThreadingBackend with 10 concurrent workers.\n",
      "[Parallel(n_jobs=10)]: Done 180 tasks      | elapsed:    0.1s\n",
      "[Parallel(n_jobs=10)]: Done 200 out of 200 | elapsed:    0.1s finished\n",
      "[Parallel(n_jobs=10)]: Using backend ThreadingBackend with 10 concurrent workers.\n",
      "[Parallel(n_jobs=10)]: Done  30 tasks      | elapsed:    0.0s\n",
      "[Parallel(n_jobs=10)]: Done  30 tasks      | elapsed:    0.0s\n",
      "[Parallel(n_jobs=10)]: Done 180 tasks      | elapsed:    0.1s\n",
      "[Parallel(n_jobs=10)]: Done 200 out of 200 | elapsed:    0.1s finished\n",
      "[Parallel(n_jobs=10)]: Using backend ThreadingBackend with 10 concurrent workers.\n",
      "[Parallel(n_jobs=10)]: Using backend ThreadingBackend with 10 concurrent workers.\n",
      "[Parallel(n_jobs=10)]: Done 180 tasks      | elapsed:    0.1s\n",
      "[Parallel(n_jobs=10)]: Done 180 tasks      | elapsed:    0.1s\n",
      "[Parallel(n_jobs=10)]: Done 200 out of 200 | elapsed:    0.1s finished\n",
      "[Parallel(n_jobs=10)]: Done 200 out of 200 | elapsed:    0.1s finished\n",
      "[Parallel(n_jobs=10)]: Using backend ThreadingBackend with 10 concurrent workers.\n",
      "[Parallel(n_jobs=10)]: Using backend ThreadingBackend with 10 concurrent workers.\n",
      "[Parallel(n_jobs=10)]: Using backend ThreadingBackend with 10 concurrent workers.\n",
      "[Parallel(n_jobs=10)]: Done  30 tasks      | elapsed:    0.0s\n",
      "[Parallel(n_jobs=10)]: Done  30 tasks      | elapsed:    0.0s\n",
      "[Parallel(n_jobs=10)]: Done  30 tasks      | elapsed:    0.0s\n",
      "[Parallel(n_jobs=10)]: Done  30 tasks      | elapsed:    0.0s\n"
     ]
    },
    {
     "name": "stdout",
     "output_type": "stream",
     "text": [
      "[CV] END bootstrap=True, max_depth=None, max_features=auto, max_leaf_nodes=50, max_samples=None, n_estimators=200, n_jobs=-1, oob_score=True, random_state=42, verbose=1; total time=  30.3s\n",
      "[CV] END bootstrap=True, max_depth=None, max_features=auto, max_leaf_nodes=50, max_samples=None, n_estimators=200, n_jobs=-1, oob_score=True, random_state=42, verbose=1; total time=  30.3s\n",
      "[CV] END bootstrap=True, max_depth=None, max_features=auto, max_leaf_nodes=50, max_samples=None, n_estimators=200, n_jobs=-1, oob_score=True, random_state=42, verbose=1; total time=  29.7s\n",
      "[CV] END bootstrap=True, max_depth=None, max_features=auto, max_leaf_nodes=50, max_samples=None, n_estimators=200, n_jobs=-1, oob_score=True, random_state=42, verbose=1; total time=  30.4s\n",
      "[CV] END bootstrap=True, max_depth=None, max_features=auto, max_leaf_nodes=50, max_samples=None, n_estimators=200, n_jobs=-1, oob_score=True, random_state=42, verbose=1; total time=  30.4s\n",
      "[CV] END bootstrap=True, max_depth=None, max_features=auto, max_leaf_nodes=50, max_samples=None, n_estimators=200, n_jobs=-1, oob_score=True, random_state=42, verbose=1; total time=  30.4s\n",
      "[CV] END bootstrap=True, max_depth=None, max_features=auto, max_leaf_nodes=50, max_samples=None, n_estimators=200, n_jobs=-1, oob_score=True, random_state=42, verbose=1; total time=  30.4s\n",
      "[CV] END bootstrap=True, max_depth=None, max_features=auto, max_leaf_nodes=50, max_samples=None, n_estimators=200, n_jobs=-1, oob_score=True, random_state=42, verbose=1; total time=  30.3s\n",
      "[CV] END bootstrap=True, max_depth=None, max_features=auto, max_leaf_nodes=50, max_samples=None, n_estimators=200, n_jobs=-1, oob_score=True, random_state=42, verbose=1; total time=  29.9s\n"
     ]
    },
    {
     "name": "stderr",
     "output_type": "stream",
     "text": [
      "[Parallel(n_jobs=10)]: Done 180 tasks      | elapsed:    0.0s\n",
      "[Parallel(n_jobs=10)]: Done 180 tasks      | elapsed:    0.0s\n",
      "[Parallel(n_jobs=10)]: Done 180 tasks      | elapsed:    0.0s\n",
      "[Parallel(n_jobs=10)]: Done 180 tasks      | elapsed:    0.0s\n",
      "[Parallel(n_jobs=10)]: Done 200 out of 200 | elapsed:    0.1s finished\n",
      "[Parallel(n_jobs=10)]: Done 200 out of 200 | elapsed:    0.0s finished\n",
      "[Parallel(n_jobs=10)]: Done 200 out of 200 | elapsed:    0.0s finished\n",
      "[Parallel(n_jobs=10)]: Done  30 tasks      | elapsed:    0.0s\n",
      "[Parallel(n_jobs=10)]: Done 200 out of 200 | elapsed:    0.1s finished\n",
      "[Parallel(n_jobs=-1)]: Using backend ThreadingBackend with 10 concurrent workers.\n",
      "[Parallel(n_jobs=-1)]: Using backend ThreadingBackend with 10 concurrent workers.\n",
      "[Parallel(n_jobs=-1)]: Using backend ThreadingBackend with 10 concurrent workers.\n",
      "[Parallel(n_jobs=10)]: Done 180 tasks      | elapsed:    0.1s\n",
      "[Parallel(n_jobs=-1)]: Using backend ThreadingBackend with 10 concurrent workers.\n",
      "[Parallel(n_jobs=10)]: Done 200 out of 200 | elapsed:    0.1s finished\n",
      "[Parallel(n_jobs=-1)]: Using backend ThreadingBackend with 10 concurrent workers.\n",
      "[Parallel(n_jobs=-1)]: Using backend ThreadingBackend with 10 concurrent workers.\n",
      "[Parallel(n_jobs=10)]: Using backend ThreadingBackend with 10 concurrent workers.\n",
      "[Parallel(n_jobs=-1)]: Using backend ThreadingBackend with 10 concurrent workers.\n",
      "[Parallel(n_jobs=10)]: Done  30 tasks      | elapsed:    0.1s\n",
      "[Parallel(n_jobs=10)]: Done 180 tasks      | elapsed:    0.1s\n",
      "[Parallel(n_jobs=-1)]: Using backend ThreadingBackend with 10 concurrent workers.\n",
      "[Parallel(n_jobs=10)]: Done 200 out of 200 | elapsed:    0.2s finished\n",
      "[Parallel(n_jobs=-1)]: Using backend ThreadingBackend with 10 concurrent workers.\n"
     ]
    },
    {
     "name": "stdout",
     "output_type": "stream",
     "text": [
      "[CV] END bootstrap=True, max_depth=None, max_features=auto, max_leaf_nodes=50, max_samples=None, n_estimators=200, n_jobs=-1, oob_score=True, random_state=42, verbose=1; total time=  29.5s\n"
     ]
    },
    {
     "name": "stderr",
     "output_type": "stream",
     "text": [
      "[Parallel(n_jobs=-1)]: Using backend ThreadingBackend with 10 concurrent workers.\n",
      "[Parallel(n_jobs=-1)]: Done  30 tasks      | elapsed:    3.7s\n",
      "[Parallel(n_jobs=-1)]: Done  30 tasks      | elapsed:    3.7s\n",
      "[Parallel(n_jobs=-1)]: Done  30 tasks      | elapsed:    3.8s\n",
      "[Parallel(n_jobs=-1)]: Done  30 tasks      | elapsed:    3.9s\n",
      "[Parallel(n_jobs=-1)]: Done  30 tasks      | elapsed:    4.2s\n",
      "[Parallel(n_jobs=-1)]: Done  30 tasks      | elapsed:    4.3s\n",
      "[Parallel(n_jobs=-1)]: Done  30 tasks      | elapsed:    4.5s\n",
      "[Parallel(n_jobs=-1)]: Done  30 tasks      | elapsed:    4.6s\n",
      "[Parallel(n_jobs=-1)]: Done  30 tasks      | elapsed:    4.4s\n",
      "[Parallel(n_jobs=-1)]: Done  30 tasks      | elapsed:    4.5s\n",
      "[Parallel(n_jobs=-1)]: Done 180 tasks      | elapsed:   26.5s\n",
      "[Parallel(n_jobs=-1)]: Done 180 tasks      | elapsed:   26.6s\n",
      "[Parallel(n_jobs=-1)]: Done 180 tasks      | elapsed:   26.9s\n",
      "[Parallel(n_jobs=-1)]: Done 180 tasks      | elapsed:   27.1s\n",
      "[Parallel(n_jobs=-1)]: Done 180 tasks      | elapsed:   27.2s\n",
      "[Parallel(n_jobs=-1)]: Done 180 tasks      | elapsed:   27.2s\n",
      "[Parallel(n_jobs=-1)]: Done 180 tasks      | elapsed:   27.5s\n",
      "[Parallel(n_jobs=-1)]: Done 180 tasks      | elapsed:   27.7s\n",
      "[Parallel(n_jobs=-1)]: Done 180 tasks      | elapsed:   27.6s\n",
      "[Parallel(n_jobs=-1)]: Done 180 tasks      | elapsed:   27.5s\n",
      "[Parallel(n_jobs=-1)]: Done 430 tasks      | elapsed:  1.1min\n",
      "[Parallel(n_jobs=-1)]: Done 430 tasks      | elapsed:  1.1min\n",
      "[Parallel(n_jobs=-1)]: Done 430 tasks      | elapsed:  1.1min\n",
      "[Parallel(n_jobs=-1)]: Done 430 tasks      | elapsed:  1.1min\n",
      "[Parallel(n_jobs=-1)]: Done 430 tasks      | elapsed:  1.1min\n",
      "[Parallel(n_jobs=-1)]: Done 430 tasks      | elapsed:  1.1min\n",
      "[Parallel(n_jobs=-1)]: Done 430 tasks      | elapsed:  1.1min\n",
      "[Parallel(n_jobs=-1)]: Done 430 tasks      | elapsed:  1.1min\n",
      "[Parallel(n_jobs=-1)]: Done 430 tasks      | elapsed:  1.1min\n",
      "[Parallel(n_jobs=-1)]: Done 430 tasks      | elapsed:  1.1min\n",
      "[Parallel(n_jobs=-1)]: Done 500 out of 500 | elapsed:  1.2min finished\n",
      "[Parallel(n_jobs=-1)]: Done 500 out of 500 | elapsed:  1.2min finished\n",
      "[Parallel(n_jobs=-1)]: Done 500 out of 500 | elapsed:  1.2min finished\n",
      "[Parallel(n_jobs=-1)]: Done 500 out of 500 | elapsed:  1.2min finished\n",
      "[Parallel(n_jobs=-1)]: Done 500 out of 500 | elapsed:  1.2min finished\n",
      "[Parallel(n_jobs=-1)]: Done 500 out of 500 | elapsed:  1.2min finished\n",
      "[Parallel(n_jobs=-1)]: Done 500 out of 500 | elapsed:  1.2min finished\n",
      "[Parallel(n_jobs=-1)]: Done 500 out of 500 | elapsed:  1.2min finished\n",
      "[Parallel(n_jobs=-1)]: Done 500 out of 500 | elapsed:  1.2min finished\n",
      "[Parallel(n_jobs=-1)]: Done 500 out of 500 | elapsed:  1.2min finished\n",
      "[Parallel(n_jobs=10)]: Using backend ThreadingBackend with 10 concurrent workers.\n",
      "[Parallel(n_jobs=10)]: Done  30 tasks      | elapsed:    0.0s\n",
      "[Parallel(n_jobs=10)]: Done 180 tasks      | elapsed:    0.0s\n",
      "[Parallel(n_jobs=10)]: Using backend ThreadingBackend with 10 concurrent workers.\n",
      "[Parallel(n_jobs=10)]: Done  30 tasks      | elapsed:    0.0s\n",
      "[Parallel(n_jobs=10)]: Done 430 tasks      | elapsed:    0.1s\n",
      "[Parallel(n_jobs=10)]: Done 500 out of 500 | elapsed:    0.1s finished\n",
      "[Parallel(n_jobs=10)]: Done 180 tasks      | elapsed:    0.1s\n",
      "[Parallel(n_jobs=10)]: Using backend ThreadingBackend with 10 concurrent workers.\n",
      "[Parallel(n_jobs=10)]: Using backend ThreadingBackend with 10 concurrent workers.\n",
      "[Parallel(n_jobs=10)]: Done  30 tasks      | elapsed:    0.0s\n"
     ]
    },
    {
     "name": "stdout",
     "output_type": "stream",
     "text": [
      "[CV] END bootstrap=True, max_depth=None, max_features=auto, max_leaf_nodes=50, max_samples=None, n_estimators=500, n_jobs=-1, oob_score=True, random_state=42, verbose=1; total time= 1.3min\n",
      "[CV] END bootstrap=True, max_depth=None, max_features=auto, max_leaf_nodes=50, max_samples=None, n_estimators=500, n_jobs=-1, oob_score=True, random_state=42, verbose=1; total time= 1.3min\n"
     ]
    },
    {
     "name": "stderr",
     "output_type": "stream",
     "text": [
      "[Parallel(n_jobs=10)]: Done 430 tasks      | elapsed:    0.1s\n",
      "[Parallel(n_jobs=10)]: Done 180 tasks      | elapsed:    0.0s\n",
      "[Parallel(n_jobs=-1)]: Using backend ThreadingBackend with 10 concurrent workers.\n",
      "[Parallel(n_jobs=10)]: Done  30 tasks      | elapsed:    0.0s\n",
      "[Parallel(n_jobs=10)]: Done 500 out of 500 | elapsed:    0.1s finished\n",
      "[Parallel(n_jobs=10)]: Using backend ThreadingBackend with 10 concurrent workers.\n",
      "[Parallel(n_jobs=10)]: Done 180 tasks      | elapsed:    0.1s\n",
      "[Parallel(n_jobs=10)]: Done 430 tasks      | elapsed:    0.1s\n",
      "[Parallel(n_jobs=10)]: Done 430 tasks      | elapsed:    0.1s\n",
      "[Parallel(n_jobs=10)]: Done 500 out of 500 | elapsed:    0.2s finished\n",
      "[Parallel(n_jobs=10)]: Done 500 out of 500 | elapsed:    0.2s finished\n",
      "[Parallel(n_jobs=-1)]: Using backend ThreadingBackend with 10 concurrent workers.\n",
      "[Parallel(n_jobs=10)]: Done  30 tasks      | elapsed:    0.2s\n"
     ]
    },
    {
     "name": "stdout",
     "output_type": "stream",
     "text": [
      "[CV] END bootstrap=True, max_depth=None, max_features=auto, max_leaf_nodes=50, max_samples=None, n_estimators=500, n_jobs=-1, oob_score=True, random_state=42, verbose=1; total time= 1.3min\n",
      "[CV] END bootstrap=True, max_depth=None, max_features=auto, max_leaf_nodes=50, max_samples=None, n_estimators=500, n_jobs=-1, oob_score=True, random_state=42, verbose=1; total time= 1.3min\n",
      "[CV] END bootstrap=True, max_depth=None, max_features=auto, max_leaf_nodes=50, max_samples=None, n_estimators=500, n_jobs=-1, oob_score=True, random_state=42, verbose=1; total time= 1.3min\n"
     ]
    },
    {
     "name": "stderr",
     "output_type": "stream",
     "text": [
      "[Parallel(n_jobs=10)]: Using backend ThreadingBackend with 10 concurrent workers.\n",
      "[Parallel(n_jobs=10)]: Done 180 tasks      | elapsed:    0.2s\n",
      "[Parallel(n_jobs=10)]: Done 430 tasks      | elapsed:    0.3s\n",
      "[Parallel(n_jobs=10)]: Done 500 out of 500 | elapsed:    0.3s finished\n",
      "[Parallel(n_jobs=10)]: Using backend ThreadingBackend with 10 concurrent workers.\n",
      "[Parallel(n_jobs=10)]: Done  30 tasks      | elapsed:    0.2s\n",
      "[Parallel(n_jobs=10)]: Done  38 tasks      | elapsed:    0.1s\n",
      "[Parallel(n_jobs=-1)]: Using backend ThreadingBackend with 10 concurrent workers.\n",
      "[Parallel(n_jobs=-1)]: Using backend ThreadingBackend with 10 concurrent workers.\n",
      "[Parallel(n_jobs=10)]: Done 180 tasks      | elapsed:    0.2s\n",
      "[Parallel(n_jobs=10)]: Using backend ThreadingBackend with 10 concurrent workers.\n",
      "[Parallel(n_jobs=10)]: Done  30 tasks      | elapsed:    0.0s\n",
      "[Parallel(n_jobs=10)]: Done 183 tasks      | elapsed:    0.1s\n",
      "[Parallel(n_jobs=10)]: Using backend ThreadingBackend with 10 concurrent workers.\n",
      "[Parallel(n_jobs=10)]: Done 180 tasks      | elapsed:    0.1s\n",
      "[Parallel(n_jobs=10)]: Done 430 tasks      | elapsed:    0.3s\n",
      "[Parallel(n_jobs=10)]: Done 500 out of 500 | elapsed:    0.3s finished\n",
      "[Parallel(n_jobs=10)]: Done 433 tasks      | elapsed:    0.2s\n",
      "[Parallel(n_jobs=10)]: Done 430 tasks      | elapsed:    0.1s\n",
      "[Parallel(n_jobs=10)]: Done 500 out of 500 | elapsed:    0.2s finished\n",
      "[Parallel(n_jobs=10)]: Done 500 out of 500 | elapsed:    0.1s finished\n"
     ]
    },
    {
     "name": "stdout",
     "output_type": "stream",
     "text": [
      "[CV] END bootstrap=True, max_depth=None, max_features=auto, max_leaf_nodes=50, max_samples=None, n_estimators=500, n_jobs=-1, oob_score=True, random_state=42, verbose=1; total time= 1.3min\n",
      "[CV] END bootstrap=True, max_depth=None, max_features=auto, max_leaf_nodes=50, max_samples=None, n_estimators=500, n_jobs=-1, oob_score=True, random_state=42, verbose=1; total time= 1.3min\n",
      "[CV] END bootstrap=True, max_depth=None, max_features=auto, max_leaf_nodes=50, max_samples=None, n_estimators=500, n_jobs=-1, oob_score=True, random_state=42, verbose=1; total time= 1.3min\n"
     ]
    },
    {
     "name": "stderr",
     "output_type": "stream",
     "text": [
      "[Parallel(n_jobs=-1)]: Using backend ThreadingBackend with 10 concurrent workers.\n",
      "[Parallel(n_jobs=10)]: Done  30 tasks      | elapsed:    0.2s\n",
      "[Parallel(n_jobs=10)]: Done 180 tasks      | elapsed:    0.2s\n",
      "[Parallel(n_jobs=10)]: Done 430 tasks      | elapsed:    0.3s\n",
      "[Parallel(n_jobs=10)]: Done 500 out of 500 | elapsed:    0.3s finished\n",
      "[Parallel(n_jobs=-1)]: Using backend ThreadingBackend with 10 concurrent workers.\n"
     ]
    },
    {
     "name": "stdout",
     "output_type": "stream",
     "text": [
      "[CV] END bootstrap=True, max_depth=None, max_features=auto, max_leaf_nodes=50, max_samples=None, n_estimators=500, n_jobs=-1, oob_score=True, random_state=42, verbose=1; total time= 1.3min\n"
     ]
    },
    {
     "name": "stderr",
     "output_type": "stream",
     "text": [
      "[Parallel(n_jobs=-1)]: Using backend ThreadingBackend with 10 concurrent workers.\n",
      "[Parallel(n_jobs=-1)]: Using backend ThreadingBackend with 10 concurrent workers.\n",
      "[Parallel(n_jobs=-1)]: Using backend ThreadingBackend with 10 concurrent workers.\n",
      "[Parallel(n_jobs=10)]: Using backend ThreadingBackend with 10 concurrent workers.\n",
      "[Parallel(n_jobs=10)]: Done  30 tasks      | elapsed:    0.0s\n",
      "[Parallel(n_jobs=10)]: Done 180 tasks      | elapsed:    0.0s\n",
      "[Parallel(n_jobs=10)]: Done 430 tasks      | elapsed:    0.1s\n",
      "[Parallel(n_jobs=10)]: Done 500 out of 500 | elapsed:    0.1s finished\n"
     ]
    },
    {
     "name": "stdout",
     "output_type": "stream",
     "text": [
      "[CV] END bootstrap=True, max_depth=None, max_features=auto, max_leaf_nodes=50, max_samples=None, n_estimators=500, n_jobs=-1, oob_score=True, random_state=42, verbose=1; total time= 1.3min\n"
     ]
    },
    {
     "name": "stderr",
     "output_type": "stream",
     "text": [
      "[Parallel(n_jobs=-1)]: Using backend ThreadingBackend with 10 concurrent workers.\n",
      "[Parallel(n_jobs=-1)]: Done  30 tasks      | elapsed:    4.8s\n",
      "[Parallel(n_jobs=-1)]: Done  30 tasks      | elapsed:    5.3s\n",
      "[Parallel(n_jobs=-1)]: Done  30 tasks      | elapsed:    5.6s\n",
      "[Parallel(n_jobs=-1)]: Done  30 tasks      | elapsed:    5.9s\n",
      "[Parallel(n_jobs=-1)]: Done  30 tasks      | elapsed:    5.9s\n",
      "[Parallel(n_jobs=-1)]: Done  30 tasks      | elapsed:    5.9s\n",
      "[Parallel(n_jobs=-1)]: Done  30 tasks      | elapsed:    6.1s\n",
      "[Parallel(n_jobs=-1)]: Done  30 tasks      | elapsed:    6.1s\n",
      "[Parallel(n_jobs=-1)]: Done  30 tasks      | elapsed:    6.0s\n",
      "[Parallel(n_jobs=-1)]: Done  30 tasks      | elapsed:    6.1s\n",
      "[Parallel(n_jobs=-1)]: Done 180 tasks      | elapsed:   33.9s\n",
      "[Parallel(n_jobs=-1)]: Done 180 tasks      | elapsed:   34.5s\n",
      "[Parallel(n_jobs=-1)]: Done 180 tasks      | elapsed:   34.8s\n",
      "[Parallel(n_jobs=-1)]: Done 180 tasks      | elapsed:   35.3s\n",
      "[Parallel(n_jobs=-1)]: Done 180 tasks      | elapsed:   35.2s\n",
      "[Parallel(n_jobs=-1)]: Done 180 tasks      | elapsed:   35.0s\n",
      "[Parallel(n_jobs=-1)]: Done 180 tasks      | elapsed:   35.2s\n",
      "[Parallel(n_jobs=-1)]: Done 180 tasks      | elapsed:   35.4s\n",
      "[Parallel(n_jobs=-1)]: Done 180 tasks      | elapsed:   35.3s\n",
      "[Parallel(n_jobs=-1)]: Done 180 tasks      | elapsed:   35.3s\n",
      "[Parallel(n_jobs=-1)]: Done 200 out of 200 | elapsed:   37.8s finished\n",
      "[Parallel(n_jobs=-1)]: Done 200 out of 200 | elapsed:   38.2s finished\n",
      "[Parallel(n_jobs=-1)]: Done 200 out of 200 | elapsed:   38.2s finished\n",
      "[Parallel(n_jobs=-1)]: Done 200 out of 200 | elapsed:   38.5s finished\n",
      "[Parallel(n_jobs=-1)]: Done 200 out of 200 | elapsed:   38.4s finished\n",
      "[Parallel(n_jobs=-1)]: Done 200 out of 200 | elapsed:   38.2s finished\n",
      "[Parallel(n_jobs=-1)]: Done 200 out of 200 | elapsed:   38.3s finished\n",
      "[Parallel(n_jobs=-1)]: Done 200 out of 200 | elapsed:   38.2s finished\n",
      "[Parallel(n_jobs=-1)]: Done 200 out of 200 | elapsed:   38.0s finished\n",
      "[Parallel(n_jobs=-1)]: Done 200 out of 200 | elapsed:   37.4s finished\n",
      "[Parallel(n_jobs=10)]: Using backend ThreadingBackend with 10 concurrent workers.\n",
      "[Parallel(n_jobs=10)]: Done  30 tasks      | elapsed:    0.0s\n",
      "[Parallel(n_jobs=10)]: Using backend ThreadingBackend with 10 concurrent workers.\n",
      "[Parallel(n_jobs=10)]: Done 180 tasks      | elapsed:    0.1s\n",
      "[Parallel(n_jobs=10)]: Done 200 out of 200 | elapsed:    0.1s finished\n",
      "[Parallel(n_jobs=10)]: Done  30 tasks      | elapsed:    0.0s\n",
      "[Parallel(n_jobs=10)]: Using backend ThreadingBackend with 10 concurrent workers.\n",
      "[Parallel(n_jobs=10)]: Done  30 tasks      | elapsed:    0.0s\n",
      "[Parallel(n_jobs=10)]: Done 180 tasks      | elapsed:    0.1s\n",
      "[Parallel(n_jobs=10)]: Done 200 out of 200 | elapsed:    0.1s finished\n",
      "[Parallel(n_jobs=10)]: Using backend ThreadingBackend with 10 concurrent workers.\n"
     ]
    },
    {
     "name": "stdout",
     "output_type": "stream",
     "text": [
      "[CV] END bootstrap=True, max_depth=10, max_features=auto, max_leaf_nodes=None, max_samples=None, n_estimators=200, n_jobs=-1, oob_score=True, random_state=42, verbose=1; total time=  39.5s\n",
      "[CV] END bootstrap=True, max_depth=10, max_features=auto, max_leaf_nodes=None, max_samples=None, n_estimators=200, n_jobs=-1, oob_score=True, random_state=42, verbose=1; total time=  39.4s\n",
      "[CV] END bootstrap=True, max_depth=10, max_features=auto, max_leaf_nodes=None, max_samples=None, n_estimators=200, n_jobs=-1, oob_score=True, random_state=42, verbose=1; total time=  39.3s\n",
      "[CV] END bootstrap=True, max_depth=10, max_features=auto, max_leaf_nodes=None, max_samples=None, n_estimators=200, n_jobs=-1, oob_score=True, random_state=42, verbose=1; total time=  39.4s\n",
      "[CV] END bootstrap=True, max_depth=10, max_features=auto, max_leaf_nodes=None, max_samples=None, n_estimators=200, n_jobs=-1, oob_score=True, random_state=42, verbose=1; total time=  39.0s\n",
      "[CV] END bootstrap=True, max_depth=10, max_features=auto, max_leaf_nodes=None, max_samples=None, n_estimators=200, n_jobs=-1, oob_score=True, random_state=42, verbose=1; total time=  39.3s\n",
      "[CV] END bootstrap=True, max_depth=10, max_features=auto, max_leaf_nodes=None, max_samples=None, n_estimators=200, n_jobs=-1, oob_score=True, random_state=42, verbose=1; total time=  38.8s\n"
     ]
    },
    {
     "name": "stderr",
     "output_type": "stream",
     "text": [
      "[Parallel(n_jobs=10)]: Done  30 tasks      | elapsed:    0.0s\n",
      "[Parallel(n_jobs=10)]: Done 180 tasks      | elapsed:    0.1s\n",
      "[Parallel(n_jobs=10)]: Done 200 out of 200 | elapsed:    0.1s finished\n",
      "[Parallel(n_jobs=10)]: Using backend ThreadingBackend with 10 concurrent workers.\n",
      "[Parallel(n_jobs=10)]: Using backend ThreadingBackend with 10 concurrent workers.\n",
      "[Parallel(n_jobs=10)]: Using backend ThreadingBackend with 10 concurrent workers.\n",
      "[Parallel(n_jobs=10)]: Done 180 tasks      | elapsed:    0.1s\n",
      "[Parallel(n_jobs=10)]: Done  30 tasks      | elapsed:    0.0s\n",
      "[Parallel(n_jobs=10)]: Done 200 out of 200 | elapsed:    0.1s finished\n",
      "[Parallel(n_jobs=10)]: Done  30 tasks      | elapsed:    0.0s\n",
      "[Parallel(n_jobs=10)]: Done  30 tasks      | elapsed:    0.0s\n",
      "[Parallel(n_jobs=10)]: Done 180 tasks      | elapsed:    0.1s\n",
      "[Parallel(n_jobs=10)]: Done 200 out of 200 | elapsed:    0.1s finished\n",
      "[Parallel(n_jobs=10)]: Done 180 tasks      | elapsed:    0.1s\n",
      "[Parallel(n_jobs=10)]: Done 180 tasks      | elapsed:    0.0s\n",
      "[Parallel(n_jobs=10)]: Done 200 out of 200 | elapsed:    0.1s finished\n",
      "[Parallel(n_jobs=10)]: Done 200 out of 200 | elapsed:    0.1s finished\n",
      "[Parallel(n_jobs=-1)]: Using backend ThreadingBackend with 10 concurrent workers.\n",
      "[Parallel(n_jobs=-1)]: Using backend ThreadingBackend with 10 concurrent workers.\n",
      "[Parallel(n_jobs=10)]: Using backend ThreadingBackend with 10 concurrent workers.\n",
      "[Parallel(n_jobs=10)]: Using backend ThreadingBackend with 10 concurrent workers.\n",
      "[Parallel(n_jobs=10)]: Done  30 tasks      | elapsed:    0.0s\n",
      "[Parallel(n_jobs=10)]: Done 180 tasks      | elapsed:    0.1s\n",
      "[Parallel(n_jobs=10)]: Done 200 out of 200 | elapsed:    0.1s finished\n"
     ]
    },
    {
     "name": "stdout",
     "output_type": "stream",
     "text": [
      "[CV] END bootstrap=True, max_depth=10, max_features=auto, max_leaf_nodes=None, max_samples=None, n_estimators=200, n_jobs=-1, oob_score=True, random_state=42, verbose=1; total time=  39.1s\n",
      "[CV] END bootstrap=True, max_depth=10, max_features=auto, max_leaf_nodes=None, max_samples=None, n_estimators=200, n_jobs=-1, oob_score=True, random_state=42, verbose=1; total time=  39.3s\n"
     ]
    },
    {
     "name": "stderr",
     "output_type": "stream",
     "text": [
      "[Parallel(n_jobs=10)]: Done  30 tasks      | elapsed:    0.3s\n",
      "[Parallel(n_jobs=-1)]: Using backend ThreadingBackend with 10 concurrent workers.\n",
      "[Parallel(n_jobs=10)]: Done 180 tasks      | elapsed:    0.3s\n",
      "[Parallel(n_jobs=10)]: Done 200 out of 200 | elapsed:    0.3s finished\n",
      "[Parallel(n_jobs=-1)]: Using backend ThreadingBackend with 10 concurrent workers.\n",
      "[Parallel(n_jobs=-1)]: Using backend ThreadingBackend with 10 concurrent workers.\n",
      "[Parallel(n_jobs=-1)]: Using backend ThreadingBackend with 10 concurrent workers.\n",
      "[Parallel(n_jobs=-1)]: Using backend ThreadingBackend with 10 concurrent workers.\n",
      "[Parallel(n_jobs=-1)]: Using backend ThreadingBackend with 10 concurrent workers.\n",
      "[Parallel(n_jobs=-1)]: Using backend ThreadingBackend with 10 concurrent workers.\n",
      "[Parallel(n_jobs=10)]: Using backend ThreadingBackend with 10 concurrent workers.\n",
      "[Parallel(n_jobs=10)]: Done  30 tasks      | elapsed:    0.0s\n",
      "[Parallel(n_jobs=10)]: Done 180 tasks      | elapsed:    0.1s\n",
      "[Parallel(n_jobs=10)]: Done 200 out of 200 | elapsed:    0.1s finished\n"
     ]
    },
    {
     "name": "stdout",
     "output_type": "stream",
     "text": [
      "[CV] END bootstrap=True, max_depth=10, max_features=auto, max_leaf_nodes=None, max_samples=None, n_estimators=200, n_jobs=-1, oob_score=True, random_state=42, verbose=1; total time=  39.5s\n"
     ]
    },
    {
     "name": "stderr",
     "output_type": "stream",
     "text": [
      "[Parallel(n_jobs=-1)]: Using backend ThreadingBackend with 10 concurrent workers.\n",
      "[Parallel(n_jobs=-1)]: Done  30 tasks      | elapsed:    4.9s\n",
      "[Parallel(n_jobs=-1)]: Done  30 tasks      | elapsed:    5.0s\n",
      "[Parallel(n_jobs=-1)]: Done  30 tasks      | elapsed:    5.4s\n",
      "[Parallel(n_jobs=-1)]: Done  30 tasks      | elapsed:    5.5s\n",
      "[Parallel(n_jobs=-1)]: Done  30 tasks      | elapsed:    5.7s\n",
      "[Parallel(n_jobs=-1)]: Done  30 tasks      | elapsed:    5.9s\n",
      "[Parallel(n_jobs=-1)]: Done  30 tasks      | elapsed:    5.8s\n",
      "[Parallel(n_jobs=-1)]: Done  30 tasks      | elapsed:    5.7s\n",
      "[Parallel(n_jobs=-1)]: Done  30 tasks      | elapsed:    5.8s\n",
      "[Parallel(n_jobs=-1)]: Done  30 tasks      | elapsed:    5.8s\n",
      "[Parallel(n_jobs=-1)]: Done 180 tasks      | elapsed:   34.0s\n",
      "[Parallel(n_jobs=-1)]: Done 180 tasks      | elapsed:   34.1s\n",
      "[Parallel(n_jobs=-1)]: Done 180 tasks      | elapsed:   34.5s\n",
      "[Parallel(n_jobs=-1)]: Done 180 tasks      | elapsed:   34.6s\n",
      "[Parallel(n_jobs=-1)]: Done 180 tasks      | elapsed:   35.0s\n",
      "[Parallel(n_jobs=-1)]: Done 180 tasks      | elapsed:   35.0s\n",
      "[Parallel(n_jobs=-1)]: Done 180 tasks      | elapsed:   34.6s\n",
      "[Parallel(n_jobs=-1)]: Done 180 tasks      | elapsed:   35.5s\n",
      "[Parallel(n_jobs=-1)]: Done 180 tasks      | elapsed:   35.2s\n",
      "[Parallel(n_jobs=-1)]: Done 180 tasks      | elapsed:   34.6s\n",
      "[Parallel(n_jobs=-1)]: Done 430 tasks      | elapsed:  1.4min\n",
      "[Parallel(n_jobs=-1)]: Done 430 tasks      | elapsed:  1.4min\n",
      "[Parallel(n_jobs=-1)]: Done 430 tasks      | elapsed:  1.4min\n",
      "[Parallel(n_jobs=-1)]: Done 430 tasks      | elapsed:  1.4min\n",
      "[Parallel(n_jobs=-1)]: Done 430 tasks      | elapsed:  1.4min\n",
      "[Parallel(n_jobs=-1)]: Done 430 tasks      | elapsed:  1.4min\n",
      "[Parallel(n_jobs=-1)]: Done 430 tasks      | elapsed:  1.4min\n",
      "[Parallel(n_jobs=-1)]: Done 430 tasks      | elapsed:  1.4min\n",
      "[Parallel(n_jobs=-1)]: Done 430 tasks      | elapsed:  1.4min\n",
      "[Parallel(n_jobs=-1)]: Done 430 tasks      | elapsed:  1.4min\n",
      "[Parallel(n_jobs=-1)]: Done 500 out of 500 | elapsed:  1.6min finished\n",
      "[Parallel(n_jobs=-1)]: Done 500 out of 500 | elapsed:  1.6min finished\n",
      "[Parallel(n_jobs=-1)]: Done 500 out of 500 | elapsed:  1.6min finished\n",
      "[Parallel(n_jobs=-1)]: Done 500 out of 500 | elapsed:  1.6min finished\n",
      "[Parallel(n_jobs=-1)]: Done 500 out of 500 | elapsed:  1.6min finished\n",
      "[Parallel(n_jobs=-1)]: Done 500 out of 500 | elapsed:  1.6min finished\n",
      "[Parallel(n_jobs=-1)]: Done 500 out of 500 | elapsed:  1.6min finished\n",
      "[Parallel(n_jobs=-1)]: Done 500 out of 500 | elapsed:  1.6min finished\n",
      "[Parallel(n_jobs=-1)]: Done 500 out of 500 | elapsed:  1.6min finished\n",
      "[Parallel(n_jobs=-1)]: Done 500 out of 500 | elapsed:  1.6min finished\n",
      "[Parallel(n_jobs=10)]: Using backend ThreadingBackend with 10 concurrent workers.\n",
      "[Parallel(n_jobs=10)]: Done  30 tasks      | elapsed:    0.0s\n",
      "[Parallel(n_jobs=10)]: Done 180 tasks      | elapsed:    0.1s\n",
      "[Parallel(n_jobs=10)]: Using backend ThreadingBackend with 10 concurrent workers.\n",
      "[Parallel(n_jobs=10)]: Using backend ThreadingBackend with 10 concurrent workers.\n",
      "[Parallel(n_jobs=10)]: Using backend ThreadingBackend with 10 concurrent workers.\n",
      "[Parallel(n_jobs=10)]: Done  30 tasks      | elapsed:    0.0s\n",
      "[Parallel(n_jobs=10)]: Done  30 tasks      | elapsed:    0.0s\n",
      "[Parallel(n_jobs=10)]: Using backend ThreadingBackend with 10 concurrent workers.\n",
      "[Parallel(n_jobs=10)]: Done  30 tasks      | elapsed:    0.0s\n",
      "[Parallel(n_jobs=10)]: Done 180 tasks      | elapsed:    0.1s\n",
      "[Parallel(n_jobs=10)]: Done 430 tasks      | elapsed:    0.1s\n",
      "[Parallel(n_jobs=10)]: Done  30 tasks      | elapsed:    0.0s\n",
      "[Parallel(n_jobs=10)]: Done 180 tasks      | elapsed:    0.1s\n",
      "[Parallel(n_jobs=10)]: Done 180 tasks      | elapsed:    0.1s\n",
      "[Parallel(n_jobs=10)]: Done 500 out of 500 | elapsed:    0.2s finished\n",
      "[Parallel(n_jobs=10)]: Using backend ThreadingBackend with 10 concurrent workers.\n",
      "[Parallel(n_jobs=10)]: Done 180 tasks      | elapsed:    0.1s\n",
      "[Parallel(n_jobs=10)]: Done 430 tasks      | elapsed:    0.1s\n"
     ]
    },
    {
     "name": "stdout",
     "output_type": "stream",
     "text": [
      "[CV] END bootstrap=True, max_depth=10, max_features=auto, max_leaf_nodes=None, max_samples=None, n_estimators=500, n_jobs=-1, oob_score=True, random_state=42, verbose=1; total time= 1.6min\n",
      "[CV] END bootstrap=True, max_depth=10, max_features=auto, max_leaf_nodes=None, max_samples=None, n_estimators=500, n_jobs=-1, oob_score=True, random_state=42, verbose=1; total time= 1.6min\n",
      "[CV] END bootstrap=True, max_depth=10, max_features=auto, max_leaf_nodes=None, max_samples=None, n_estimators=500, n_jobs=-1, oob_score=True, random_state=42, verbose=1; total time= 1.6min\n",
      "[CV] END bootstrap=True, max_depth=10, max_features=auto, max_leaf_nodes=None, max_samples=None, n_estimators=500, n_jobs=-1, oob_score=True, random_state=42, verbose=1; total time= 1.6min\n",
      "[CV] END bootstrap=True, max_depth=10, max_features=auto, max_leaf_nodes=None, max_samples=None, n_estimators=500, n_jobs=-1, oob_score=True, random_state=42, verbose=1; total time= 1.6min\n"
     ]
    },
    {
     "name": "stderr",
     "output_type": "stream",
     "text": [
      "[Parallel(n_jobs=10)]: Done 430 tasks      | elapsed:    0.1s\n",
      "[Parallel(n_jobs=10)]: Done 430 tasks      | elapsed:    0.1s\n",
      "[Parallel(n_jobs=10)]: Done 500 out of 500 | elapsed:    0.1s finished\n",
      "[Parallel(n_jobs=10)]: Done 500 out of 500 | elapsed:    0.1s finished\n",
      "[Parallel(n_jobs=10)]: Done 500 out of 500 | elapsed:    0.1s finished\n",
      "[Parallel(n_jobs=10)]: Done 430 tasks      | elapsed:    0.1s\n",
      "[Parallel(n_jobs=10)]: Done  30 tasks      | elapsed:    0.1s\n",
      "[Parallel(n_jobs=10)]: Done 500 out of 500 | elapsed:    0.1s finished\n",
      "[Parallel(n_jobs=10)]: Using backend ThreadingBackend with 10 concurrent workers.\n",
      "[Parallel(n_jobs=10)]: Using backend ThreadingBackend with 10 concurrent workers.\n",
      "[Parallel(n_jobs=10)]: Done  30 tasks      | elapsed:    0.0s\n",
      "[Parallel(n_jobs=10)]: Done  30 tasks      | elapsed:    0.0s\n",
      "[Parallel(n_jobs=-1)]: Using backend ThreadingBackend with 10 concurrent workers.\n",
      "[Parallel(n_jobs=10)]: Done 180 tasks      | elapsed:    0.1s\n",
      "[Parallel(n_jobs=-1)]: Using backend ThreadingBackend with 10 concurrent workers.\n",
      "[Parallel(n_jobs=10)]: Done 180 tasks      | elapsed:    0.1s\n",
      "[Parallel(n_jobs=10)]: Done 180 tasks      | elapsed:    0.1s\n",
      "[Parallel(n_jobs=-1)]: Using backend ThreadingBackend with 10 concurrent workers.\n",
      "[Parallel(n_jobs=10)]: Done 430 tasks      | elapsed:    0.2s\n",
      "[Parallel(n_jobs=10)]: Done 500 out of 500 | elapsed:    0.2s finished\n",
      "[Parallel(n_jobs=10)]: Done 430 tasks      | elapsed:    0.1s\n",
      "[Parallel(n_jobs=10)]: Done 430 tasks      | elapsed:    0.1s\n"
     ]
    },
    {
     "name": "stdout",
     "output_type": "stream",
     "text": [
      "[CV] END bootstrap=True, max_depth=10, max_features=auto, max_leaf_nodes=None, max_samples=None, n_estimators=500, n_jobs=-1, oob_score=True, random_state=42, verbose=1; total time= 1.6min\n",
      "[CV] END bootstrap=True, max_depth=10, max_features=auto, max_leaf_nodes=None, max_samples=None, n_estimators=500, n_jobs=-1, oob_score=True, random_state=42, verbose=1; total time= 1.6min\n",
      "[CV] END bootstrap=True, max_depth=10, max_features=auto, max_leaf_nodes=None, max_samples=None, n_estimators=500, n_jobs=-1, oob_score=True, random_state=42, verbose=1; total time= 1.6min\n"
     ]
    },
    {
     "name": "stderr",
     "output_type": "stream",
     "text": [
      "[Parallel(n_jobs=10)]: Done 500 out of 500 | elapsed:    0.2s finished\n",
      "[Parallel(n_jobs=10)]: Done 500 out of 500 | elapsed:    0.2s finished\n",
      "[Parallel(n_jobs=-1)]: Using backend ThreadingBackend with 10 concurrent workers.\n",
      "[Parallel(n_jobs=-1)]: Using backend ThreadingBackend with 10 concurrent workers.\n",
      "[Parallel(n_jobs=-1)]: Using backend ThreadingBackend with 10 concurrent workers.\n",
      "[Parallel(n_jobs=-1)]: Using backend ThreadingBackend with 10 concurrent workers.\n",
      "[Parallel(n_jobs=-1)]: Using backend ThreadingBackend with 10 concurrent workers.\n",
      "[Parallel(n_jobs=10)]: Using backend ThreadingBackend with 10 concurrent workers.\n",
      "[Parallel(n_jobs=10)]: Done  30 tasks      | elapsed:    0.0s\n",
      "[Parallel(n_jobs=10)]: Done 180 tasks      | elapsed:    0.1s\n",
      "[Parallel(n_jobs=10)]: Done 430 tasks      | elapsed:    0.1s\n",
      "[Parallel(n_jobs=10)]: Done 500 out of 500 | elapsed:    0.1s finished\n"
     ]
    },
    {
     "name": "stdout",
     "output_type": "stream",
     "text": [
      "[CV] END bootstrap=True, max_depth=10, max_features=auto, max_leaf_nodes=None, max_samples=None, n_estimators=500, n_jobs=-1, oob_score=True, random_state=42, verbose=1; total time= 1.6min\n"
     ]
    },
    {
     "name": "stderr",
     "output_type": "stream",
     "text": [
      "[Parallel(n_jobs=-1)]: Using backend ThreadingBackend with 10 concurrent workers.\n",
      "[Parallel(n_jobs=10)]: Using backend ThreadingBackend with 10 concurrent workers.\n",
      "[Parallel(n_jobs=10)]: Done  30 tasks      | elapsed:    0.0s\n",
      "[Parallel(n_jobs=10)]: Done 180 tasks      | elapsed:    0.1s\n",
      "[Parallel(n_jobs=10)]: Done 430 tasks      | elapsed:    0.1s\n",
      "[Parallel(n_jobs=10)]: Done 500 out of 500 | elapsed:    0.1s finished\n",
      "[Parallel(n_jobs=-1)]: Done  30 tasks      | elapsed:    2.2s\n"
     ]
    },
    {
     "name": "stdout",
     "output_type": "stream",
     "text": [
      "[CV] END bootstrap=True, max_depth=10, max_features=auto, max_leaf_nodes=None, max_samples=None, n_estimators=500, n_jobs=-1, oob_score=True, random_state=42, verbose=1; total time= 1.6min\n"
     ]
    },
    {
     "name": "stderr",
     "output_type": "stream",
     "text": [
      "[Parallel(n_jobs=-1)]: Done  30 tasks      | elapsed:    2.7s\n",
      "[Parallel(n_jobs=-1)]: Done  30 tasks      | elapsed:    2.7s\n",
      "[Parallel(n_jobs=-1)]: Done  30 tasks      | elapsed:    2.6s\n",
      "[Parallel(n_jobs=-1)]: Using backend ThreadingBackend with 10 concurrent workers.\n",
      "[Parallel(n_jobs=-1)]: Done  30 tasks      | elapsed:    2.8s\n",
      "[Parallel(n_jobs=-1)]: Done  30 tasks      | elapsed:    2.8s\n",
      "[Parallel(n_jobs=-1)]: Done  30 tasks      | elapsed:    2.8s\n",
      "[Parallel(n_jobs=-1)]: Done  30 tasks      | elapsed:    3.0s\n",
      "[Parallel(n_jobs=-1)]: Done  30 tasks      | elapsed:    3.0s\n",
      "[Parallel(n_jobs=-1)]: Done  30 tasks      | elapsed:    3.1s\n",
      "[Parallel(n_jobs=-1)]: Done 180 tasks      | elapsed:   18.3s\n",
      "[Parallel(n_jobs=-1)]: Done 180 tasks      | elapsed:   18.4s\n",
      "[Parallel(n_jobs=-1)]: Done 180 tasks      | elapsed:   18.6s\n",
      "[Parallel(n_jobs=-1)]: Done 180 tasks      | elapsed:   18.8s\n",
      "[Parallel(n_jobs=-1)]: Done 180 tasks      | elapsed:   18.6s\n",
      "[Parallel(n_jobs=-1)]: Done 180 tasks      | elapsed:   19.1s\n",
      "[Parallel(n_jobs=-1)]: Done 180 tasks      | elapsed:   18.6s\n",
      "[Parallel(n_jobs=-1)]: Done 180 tasks      | elapsed:   19.0s\n",
      "[Parallel(n_jobs=-1)]: Done 200 out of 200 | elapsed:   20.3s finished\n",
      "[Parallel(n_jobs=-1)]: Done 200 out of 200 | elapsed:   20.6s finished\n",
      "[Parallel(n_jobs=-1)]: Done 200 out of 200 | elapsed:   20.6s finished\n",
      "[Parallel(n_jobs=-1)]: Done 180 tasks      | elapsed:   18.8s\n",
      "[Parallel(n_jobs=-1)]: Done 200 out of 200 | elapsed:   20.6s finished\n",
      "[Parallel(n_jobs=-1)]: Done 200 out of 200 | elapsed:   20.3s finished\n",
      "[Parallel(n_jobs=-1)]: Done 200 out of 200 | elapsed:   20.6s finished\n",
      "[Parallel(n_jobs=-1)]: Done 200 out of 200 | elapsed:   20.1s finished\n",
      "[Parallel(n_jobs=-1)]: Done 200 out of 200 | elapsed:   20.3s finished\n",
      "[Parallel(n_jobs=-1)]: Done 180 tasks      | elapsed:   18.1s\n",
      "[Parallel(n_jobs=-1)]: Done 200 out of 200 | elapsed:   19.6s finished\n",
      "[Parallel(n_jobs=10)]: Using backend ThreadingBackend with 10 concurrent workers.\n",
      "[Parallel(n_jobs=10)]: Done  30 tasks      | elapsed:    0.0s\n",
      "[Parallel(n_jobs=-1)]: Done 200 out of 200 | elapsed:   18.6s finished\n",
      "[Parallel(n_jobs=10)]: Done 180 tasks      | elapsed:    0.1s\n",
      "[Parallel(n_jobs=10)]: Using backend ThreadingBackend with 10 concurrent workers.\n",
      "[Parallel(n_jobs=10)]: Done 200 out of 200 | elapsed:    0.1s finished\n",
      "[Parallel(n_jobs=10)]: Using backend ThreadingBackend with 10 concurrent workers.\n",
      "[Parallel(n_jobs=10)]: Done  30 tasks      | elapsed:    0.0s\n",
      "[Parallel(n_jobs=10)]: Done  30 tasks      | elapsed:    0.0s\n",
      "[Parallel(n_jobs=10)]: Using backend ThreadingBackend with 10 concurrent workers.\n",
      "[Parallel(n_jobs=10)]: Using backend ThreadingBackend with 10 concurrent workers.\n",
      "[Parallel(n_jobs=10)]: Done 180 tasks      | elapsed:    0.0s\n",
      "[Parallel(n_jobs=10)]: Using backend ThreadingBackend with 10 concurrent workers.\n",
      "[Parallel(n_jobs=10)]: Done 200 out of 200 | elapsed:    0.1s finished\n",
      "[Parallel(n_jobs=10)]: Done  30 tasks      | elapsed:    0.0s\n",
      "[Parallel(n_jobs=10)]: Done  30 tasks      | elapsed:    0.0s\n",
      "[Parallel(n_jobs=10)]: Done 180 tasks      | elapsed:    0.1s\n",
      "[Parallel(n_jobs=10)]: Done 200 out of 200 | elapsed:    0.1s finished\n"
     ]
    },
    {
     "name": "stdout",
     "output_type": "stream",
     "text": [
      "[CV] END bootstrap=True, max_depth=10, max_features=auto, max_leaf_nodes=10, max_samples=None, n_estimators=200, n_jobs=-1, oob_score=True, random_state=42, verbose=1; total time=  21.6s\n",
      "[CV] END bootstrap=True, max_depth=10, max_features=auto, max_leaf_nodes=10, max_samples=None, n_estimators=200, n_jobs=-1, oob_score=True, random_state=42, verbose=1; total time=  21.6s\n",
      "[CV] END bootstrap=True, max_depth=10, max_features=auto, max_leaf_nodes=10, max_samples=None, n_estimators=200, n_jobs=-1, oob_score=True, random_state=42, verbose=1; total time=  21.6s\n",
      "[CV] END bootstrap=True, max_depth=10, max_features=auto, max_leaf_nodes=10, max_samples=None, n_estimators=200, n_jobs=-1, oob_score=True, random_state=42, verbose=1; total time=  21.5s\n",
      "[CV] END bootstrap=True, max_depth=10, max_features=auto, max_leaf_nodes=10, max_samples=None, n_estimators=200, n_jobs=-1, oob_score=True, random_state=42, verbose=1; total time=  21.3s\n",
      "[CV] END bootstrap=True, max_depth=10, max_features=auto, max_leaf_nodes=10, max_samples=None, n_estimators=200, n_jobs=-1, oob_score=True, random_state=42, verbose=1; total time=  21.5s\n",
      "[CV] END bootstrap=True, max_depth=10, max_features=auto, max_leaf_nodes=10, max_samples=None, n_estimators=200, n_jobs=-1, oob_score=True, random_state=42, verbose=1; total time=  21.2s\n"
     ]
    },
    {
     "name": "stderr",
     "output_type": "stream",
     "text": [
      "[Parallel(n_jobs=10)]: Done 180 tasks      | elapsed:    0.0s\n",
      "[Parallel(n_jobs=10)]: Done 200 out of 200 | elapsed:    0.0s finished\n",
      "[Parallel(n_jobs=10)]: Done  30 tasks      | elapsed:    0.0s\n",
      "[Parallel(n_jobs=10)]: Done 180 tasks      | elapsed:    0.0s\n",
      "[Parallel(n_jobs=10)]: Done 200 out of 200 | elapsed:    0.0s finished\n",
      "[Parallel(n_jobs=10)]: Done 180 tasks      | elapsed:    0.0s\n",
      "[Parallel(n_jobs=10)]: Done 200 out of 200 | elapsed:    0.0s finished\n",
      "[Parallel(n_jobs=10)]: Using backend ThreadingBackend with 10 concurrent workers.\n",
      "[Parallel(n_jobs=10)]: Done  30 tasks      | elapsed:    0.0s\n",
      "[Parallel(n_jobs=10)]: Done 180 tasks      | elapsed:    0.0s\n",
      "[Parallel(n_jobs=10)]: Done 200 out of 200 | elapsed:    0.0s finished\n",
      "[Parallel(n_jobs=-1)]: Using backend ThreadingBackend with 10 concurrent workers.\n",
      "[Parallel(n_jobs=10)]: Using backend ThreadingBackend with 10 concurrent workers.\n",
      "[Parallel(n_jobs=10)]: Done  30 tasks      | elapsed:    0.0s\n",
      "[Parallel(n_jobs=10)]: Done 180 tasks      | elapsed:    0.0s\n",
      "[Parallel(n_jobs=10)]: Done 200 out of 200 | elapsed:    0.2s finished\n",
      "[Parallel(n_jobs=-1)]: Using backend ThreadingBackend with 10 concurrent workers.\n",
      "[Parallel(n_jobs=-1)]: Using backend ThreadingBackend with 10 concurrent workers.\n",
      "[Parallel(n_jobs=-1)]: Using backend ThreadingBackend with 10 concurrent workers.\n",
      "[Parallel(n_jobs=-1)]: Using backend ThreadingBackend with 10 concurrent workers.\n",
      "[Parallel(n_jobs=-1)]: Using backend ThreadingBackend with 10 concurrent workers.\n"
     ]
    },
    {
     "name": "stdout",
     "output_type": "stream",
     "text": [
      "[CV] END bootstrap=True, max_depth=10, max_features=auto, max_leaf_nodes=10, max_samples=None, n_estimators=200, n_jobs=-1, oob_score=True, random_state=42, verbose=1; total time=  21.4s\n"
     ]
    },
    {
     "name": "stderr",
     "output_type": "stream",
     "text": [
      "[Parallel(n_jobs=-1)]: Using backend ThreadingBackend with 10 concurrent workers.\n",
      "[Parallel(n_jobs=10)]: Using backend ThreadingBackend with 10 concurrent workers.\n",
      "[Parallel(n_jobs=10)]: Done  30 tasks      | elapsed:    0.1s\n",
      "[Parallel(n_jobs=10)]: Done 180 tasks      | elapsed:    0.1s\n",
      "[Parallel(n_jobs=10)]: Done 200 out of 200 | elapsed:    0.1s finished\n",
      "[Parallel(n_jobs=-1)]: Using backend ThreadingBackend with 10 concurrent workers.\n"
     ]
    },
    {
     "name": "stdout",
     "output_type": "stream",
     "text": [
      "[CV] END bootstrap=True, max_depth=10, max_features=auto, max_leaf_nodes=10, max_samples=None, n_estimators=200, n_jobs=-1, oob_score=True, random_state=42, verbose=1; total time=  21.1s\n"
     ]
    },
    {
     "name": "stderr",
     "output_type": "stream",
     "text": [
      "[Parallel(n_jobs=-1)]: Done  30 tasks      | elapsed:    1.7s\n",
      "[Parallel(n_jobs=-1)]: Using backend ThreadingBackend with 10 concurrent workers.\n",
      "[Parallel(n_jobs=10)]: Using backend ThreadingBackend with 10 concurrent workers.\n",
      "[Parallel(n_jobs=10)]: Done  30 tasks      | elapsed:    0.0s\n",
      "[Parallel(n_jobs=10)]: Done 180 tasks      | elapsed:    0.1s\n",
      "[Parallel(n_jobs=10)]: Done 200 out of 200 | elapsed:    0.1s finished\n"
     ]
    },
    {
     "name": "stdout",
     "output_type": "stream",
     "text": [
      "[CV] END bootstrap=True, max_depth=10, max_features=auto, max_leaf_nodes=10, max_samples=None, n_estimators=200, n_jobs=-1, oob_score=True, random_state=42, verbose=1; total time=  21.3s\n"
     ]
    },
    {
     "name": "stderr",
     "output_type": "stream",
     "text": [
      "[Parallel(n_jobs=-1)]: Done  30 tasks      | elapsed:    2.6s\n",
      "[Parallel(n_jobs=-1)]: Done  30 tasks      | elapsed:    2.7s\n",
      "[Parallel(n_jobs=-1)]: Done  30 tasks      | elapsed:    2.7s\n",
      "[Parallel(n_jobs=-1)]: Using backend ThreadingBackend with 10 concurrent workers.\n",
      "[Parallel(n_jobs=-1)]: Done  30 tasks      | elapsed:    3.1s\n",
      "[Parallel(n_jobs=-1)]: Done  30 tasks      | elapsed:    3.0s\n",
      "[Parallel(n_jobs=-1)]: Done  30 tasks      | elapsed:    2.9s\n",
      "[Parallel(n_jobs=-1)]: Done  30 tasks      | elapsed:    2.8s\n",
      "[Parallel(n_jobs=-1)]: Done  30 tasks      | elapsed:    3.0s\n",
      "[Parallel(n_jobs=-1)]: Done  30 tasks      | elapsed:    3.2s\n",
      "[Parallel(n_jobs=-1)]: Done 180 tasks      | elapsed:   17.7s\n",
      "[Parallel(n_jobs=-1)]: Done 180 tasks      | elapsed:   18.8s\n",
      "[Parallel(n_jobs=-1)]: Done 180 tasks      | elapsed:   19.0s\n",
      "[Parallel(n_jobs=-1)]: Done 180 tasks      | elapsed:   19.0s\n",
      "[Parallel(n_jobs=-1)]: Done 180 tasks      | elapsed:   19.2s\n",
      "[Parallel(n_jobs=-1)]: Done 180 tasks      | elapsed:   19.3s\n",
      "[Parallel(n_jobs=-1)]: Done 180 tasks      | elapsed:   18.9s\n",
      "[Parallel(n_jobs=-1)]: Done 180 tasks      | elapsed:   19.5s\n",
      "[Parallel(n_jobs=-1)]: Done 180 tasks      | elapsed:   19.3s\n",
      "[Parallel(n_jobs=-1)]: Done 180 tasks      | elapsed:   19.6s\n",
      "[Parallel(n_jobs=-1)]: Done 430 tasks      | elapsed:   43.7s\n",
      "[Parallel(n_jobs=-1)]: Done 430 tasks      | elapsed:   45.1s\n",
      "[Parallel(n_jobs=-1)]: Done 430 tasks      | elapsed:   45.1s\n",
      "[Parallel(n_jobs=-1)]: Done 430 tasks      | elapsed:   45.2s\n",
      "[Parallel(n_jobs=-1)]: Done 430 tasks      | elapsed:   45.5s\n",
      "[Parallel(n_jobs=-1)]: Done 430 tasks      | elapsed:   45.5s\n",
      "[Parallel(n_jobs=-1)]: Done 430 tasks      | elapsed:   45.2s\n",
      "[Parallel(n_jobs=-1)]: Done 430 tasks      | elapsed:   45.1s\n",
      "[Parallel(n_jobs=-1)]: Done 430 tasks      | elapsed:   45.6s\n",
      "[Parallel(n_jobs=-1)]: Done 430 tasks      | elapsed:   45.6s\n",
      "[Parallel(n_jobs=-1)]: Done 500 out of 500 | elapsed:   51.0s finished\n",
      "[Parallel(n_jobs=-1)]: Done 500 out of 500 | elapsed:   52.1s finished\n",
      "[Parallel(n_jobs=-1)]: Done 500 out of 500 | elapsed:   52.1s finished\n",
      "[Parallel(n_jobs=-1)]: Done 500 out of 500 | elapsed:   52.2s finished\n",
      "[Parallel(n_jobs=-1)]: Done 500 out of 500 | elapsed:   52.2s finished\n",
      "[Parallel(n_jobs=-1)]: Done 500 out of 500 | elapsed:   51.8s finished\n",
      "[Parallel(n_jobs=-1)]: Done 500 out of 500 | elapsed:   52.2s finished\n",
      "[Parallel(n_jobs=-1)]: Done 500 out of 500 | elapsed:   51.7s finished\n",
      "[Parallel(n_jobs=-1)]: Done 500 out of 500 | elapsed:   51.2s finished\n",
      "[Parallel(n_jobs=-1)]: Done 500 out of 500 | elapsed:   50.1s finished\n",
      "[Parallel(n_jobs=10)]: Using backend ThreadingBackend with 10 concurrent workers.\n",
      "[Parallel(n_jobs=10)]: Done  30 tasks      | elapsed:    0.0s\n",
      "[Parallel(n_jobs=10)]: Done 180 tasks      | elapsed:    0.0s\n",
      "[Parallel(n_jobs=10)]: Done 430 tasks      | elapsed:    0.1s\n",
      "[Parallel(n_jobs=10)]: Using backend ThreadingBackend with 10 concurrent workers.\n",
      "[Parallel(n_jobs=10)]: Done 500 out of 500 | elapsed:    0.1s finished\n",
      "[Parallel(n_jobs=10)]: Done  30 tasks      | elapsed:    0.0s\n",
      "[Parallel(n_jobs=10)]: Using backend ThreadingBackend with 10 concurrent workers.\n",
      "[Parallel(n_jobs=10)]: Done  30 tasks      | elapsed:    0.0s\n",
      "[Parallel(n_jobs=10)]: Using backend ThreadingBackend with 10 concurrent workers.\n",
      "[Parallel(n_jobs=10)]: Done 180 tasks      | elapsed:    0.1s\n",
      "[Parallel(n_jobs=10)]: Done  30 tasks      | elapsed:    0.0s\n",
      "[Parallel(n_jobs=10)]: Using backend ThreadingBackend with 10 concurrent workers.\n",
      "[Parallel(n_jobs=10)]: Done 180 tasks      | elapsed:    0.1s\n",
      "[Parallel(n_jobs=10)]: Done  30 tasks      | elapsed:    0.0s\n",
      "[Parallel(n_jobs=10)]: Done 180 tasks      | elapsed:    0.0s\n",
      "[Parallel(n_jobs=10)]: Done 180 tasks      | elapsed:    0.0s\n",
      "[Parallel(n_jobs=10)]: Done 430 tasks      | elapsed:    0.1s\n"
     ]
    },
    {
     "name": "stdout",
     "output_type": "stream",
     "text": [
      "[CV] END bootstrap=True, max_depth=10, max_features=auto, max_leaf_nodes=10, max_samples=None, n_estimators=500, n_jobs=-1, oob_score=True, random_state=42, verbose=1; total time=  53.9s\n",
      "[CV] END bootstrap=True, max_depth=10, max_features=auto, max_leaf_nodes=10, max_samples=None, n_estimators=500, n_jobs=-1, oob_score=True, random_state=42, verbose=1; total time=  53.8s\n",
      "[CV] END bootstrap=True, max_depth=10, max_features=auto, max_leaf_nodes=10, max_samples=None, n_estimators=500, n_jobs=-1, oob_score=True, random_state=42, verbose=1; total time=  53.8s\n",
      "[CV] END bootstrap=True, max_depth=10, max_features=auto, max_leaf_nodes=10, max_samples=None, n_estimators=500, n_jobs=-1, oob_score=True, random_state=42, verbose=1; total time=  53.6s\n",
      "[CV] END bootstrap=True, max_depth=10, max_features=auto, max_leaf_nodes=10, max_samples=None, n_estimators=500, n_jobs=-1, oob_score=True, random_state=42, verbose=1; total time=  53.8s\n"
     ]
    },
    {
     "name": "stderr",
     "output_type": "stream",
     "text": [
      "[Parallel(n_jobs=10)]: Done 500 out of 500 | elapsed:    0.1s finished\n",
      "[Parallel(n_jobs=10)]: Done 430 tasks      | elapsed:    0.1s\n",
      "[Parallel(n_jobs=10)]: Done 430 tasks      | elapsed:    0.1s\n",
      "[Parallel(n_jobs=10)]: Done 430 tasks      | elapsed:    0.1s\n",
      "[Parallel(n_jobs=10)]: Done 500 out of 500 | elapsed:    0.1s finished\n",
      "[Parallel(n_jobs=10)]: Done 500 out of 500 | elapsed:    0.1s finished\n",
      "[Parallel(n_jobs=10)]: Done 500 out of 500 | elapsed:    0.1s finished\n",
      "[Parallel(n_jobs=-1)]: Using backend ThreadingBackend with 10 concurrent workers.\n",
      "[Parallel(n_jobs=10)]: Using backend ThreadingBackend with 10 concurrent workers.\n",
      "[Parallel(n_jobs=10)]: Using backend ThreadingBackend with 10 concurrent workers.\n",
      "[Parallel(n_jobs=-1)]: Using backend ThreadingBackend with 10 concurrent workers.\n",
      "[Parallel(n_jobs=-1)]: Using backend ThreadingBackend with 10 concurrent workers.\n",
      "[Parallel(n_jobs=10)]: Using backend ThreadingBackend with 10 concurrent workers.\n",
      "[Parallel(n_jobs=10)]: Done  30 tasks      | elapsed:    0.3s\n",
      "[Parallel(n_jobs=10)]: Done 180 tasks      | elapsed:    0.4s\n",
      "[Parallel(n_jobs=10)]: Done 430 tasks      | elapsed:    0.4s\n",
      "[Parallel(n_jobs=10)]: Done  30 tasks      | elapsed:    0.3s\n",
      "[Parallel(n_jobs=-1)]: Using backend ThreadingBackend with 10 concurrent workers.\n",
      "[Parallel(n_jobs=10)]: Done 500 out of 500 | elapsed:    0.4s finished\n",
      "[Parallel(n_jobs=-1)]: Using backend ThreadingBackend with 10 concurrent workers.\n",
      "[Parallel(n_jobs=10)]: Done 180 tasks      | elapsed:    0.4s\n",
      "[Parallel(n_jobs=10)]: Done  30 tasks      | elapsed:    0.1s\n",
      "[Parallel(n_jobs=10)]: Done 180 tasks      | elapsed:    0.2s\n",
      "[Parallel(n_jobs=10)]: Done 430 tasks      | elapsed:    0.3s\n",
      "[Parallel(n_jobs=10)]: Done 430 tasks      | elapsed:    0.5s\n",
      "[Parallel(n_jobs=10)]: Done 500 out of 500 | elapsed:    0.5s finished\n"
     ]
    },
    {
     "name": "stdout",
     "output_type": "stream",
     "text": [
      "[CV] END bootstrap=True, max_depth=10, max_features=auto, max_leaf_nodes=10, max_samples=None, n_estimators=500, n_jobs=-1, oob_score=True, random_state=42, verbose=1; total time=  54.2s\n",
      "[CV] END bootstrap=True, max_depth=10, max_features=auto, max_leaf_nodes=10, max_samples=None, n_estimators=500, n_jobs=-1, oob_score=True, random_state=42, verbose=1; total time=  54.5s\n",
      "[CV] END bootstrap=True, max_depth=10, max_features=auto, max_leaf_nodes=10, max_samples=None, n_estimators=500, n_jobs=-1, oob_score=True, random_state=42, verbose=1; total time=  54.3s\n"
     ]
    },
    {
     "name": "stderr",
     "output_type": "stream",
     "text": [
      "[Parallel(n_jobs=10)]: Done 500 out of 500 | elapsed:    0.3s finished\n",
      "[Parallel(n_jobs=-1)]: Using backend ThreadingBackend with 10 concurrent workers.\n",
      "[Parallel(n_jobs=-1)]: Using backend ThreadingBackend with 10 concurrent workers.\n",
      "[Parallel(n_jobs=-1)]: Using backend ThreadingBackend with 10 concurrent workers.\n",
      "[Parallel(n_jobs=10)]: Using backend ThreadingBackend with 10 concurrent workers.\n",
      "[Parallel(n_jobs=10)]: Done  30 tasks      | elapsed:    0.0s\n",
      "[Parallel(n_jobs=10)]: Done 180 tasks      | elapsed:    0.0s\n",
      "[Parallel(n_jobs=10)]: Done 430 tasks      | elapsed:    0.1s\n",
      "[Parallel(n_jobs=10)]: Done 500 out of 500 | elapsed:    0.1s finished\n",
      "[Parallel(n_jobs=-1)]: Done  30 tasks      | elapsed:    2.1s\n"
     ]
    },
    {
     "name": "stdout",
     "output_type": "stream",
     "text": [
      "[CV] END bootstrap=True, max_depth=10, max_features=auto, max_leaf_nodes=10, max_samples=None, n_estimators=500, n_jobs=-1, oob_score=True, random_state=42, verbose=1; total time=  54.8s\n"
     ]
    },
    {
     "name": "stderr",
     "output_type": "stream",
     "text": [
      "[Parallel(n_jobs=-1)]: Using backend ThreadingBackend with 10 concurrent workers.\n",
      "[Parallel(n_jobs=-1)]: Done  30 tasks      | elapsed:    2.9s\n",
      "[Parallel(n_jobs=-1)]: Done  30 tasks      | elapsed:    3.0s\n",
      "[Parallel(n_jobs=10)]: Using backend ThreadingBackend with 10 concurrent workers.\n",
      "[Parallel(n_jobs=10)]: Done  30 tasks      | elapsed:    0.0s\n",
      "[Parallel(n_jobs=10)]: Done 180 tasks      | elapsed:    0.0s\n",
      "[Parallel(n_jobs=10)]: Done 430 tasks      | elapsed:    0.0s\n",
      "[Parallel(n_jobs=10)]: Done 500 out of 500 | elapsed:    0.0s finished\n"
     ]
    },
    {
     "name": "stdout",
     "output_type": "stream",
     "text": [
      "[CV] END bootstrap=True, max_depth=10, max_features=auto, max_leaf_nodes=10, max_samples=None, n_estimators=500, n_jobs=-1, oob_score=True, random_state=42, verbose=1; total time=  54.9s\n"
     ]
    },
    {
     "name": "stderr",
     "output_type": "stream",
     "text": [
      "[Parallel(n_jobs=-1)]: Done  30 tasks      | elapsed:    3.3s\n",
      "[Parallel(n_jobs=-1)]: Done  30 tasks      | elapsed:    3.3s\n",
      "[Parallel(n_jobs=-1)]: Using backend ThreadingBackend with 10 concurrent workers.\n",
      "[Parallel(n_jobs=-1)]: Done  30 tasks      | elapsed:    3.2s\n",
      "[Parallel(n_jobs=-1)]: Done  30 tasks      | elapsed:    3.4s\n",
      "[Parallel(n_jobs=-1)]: Done  30 tasks      | elapsed:    3.5s\n",
      "[Parallel(n_jobs=-1)]: Done  30 tasks      | elapsed:    3.6s\n",
      "[Parallel(n_jobs=-1)]: Done  30 tasks      | elapsed:    3.7s\n",
      "[Parallel(n_jobs=-1)]: Done 180 tasks      | elapsed:   21.4s\n",
      "[Parallel(n_jobs=-1)]: Done 180 tasks      | elapsed:   21.8s\n",
      "[Parallel(n_jobs=-1)]: Done 180 tasks      | elapsed:   21.9s\n",
      "[Parallel(n_jobs=-1)]: Done 180 tasks      | elapsed:   22.3s\n",
      "[Parallel(n_jobs=-1)]: Done 180 tasks      | elapsed:   22.2s\n",
      "[Parallel(n_jobs=-1)]: Done 180 tasks      | elapsed:   22.6s\n",
      "[Parallel(n_jobs=-1)]: Done 180 tasks      | elapsed:   22.5s\n",
      "[Parallel(n_jobs=-1)]: Done 180 tasks      | elapsed:   22.7s\n",
      "[Parallel(n_jobs=-1)]: Done 200 out of 200 | elapsed:   23.8s finished\n",
      "[Parallel(n_jobs=-1)]: Done 200 out of 200 | elapsed:   24.2s finished\n",
      "[Parallel(n_jobs=-1)]: Done 200 out of 200 | elapsed:   24.3s finished\n",
      "[Parallel(n_jobs=-1)]: Done 200 out of 200 | elapsed:   24.5s finished\n",
      "[Parallel(n_jobs=-1)]: Done 180 tasks      | elapsed:   22.5s\n",
      "[Parallel(n_jobs=-1)]: Done 200 out of 200 | elapsed:   24.2s finished\n",
      "[Parallel(n_jobs=-1)]: Done 200 out of 200 | elapsed:   24.7s finished\n",
      "[Parallel(n_jobs=-1)]: Done 200 out of 200 | elapsed:   24.4s finished\n",
      "[Parallel(n_jobs=-1)]: Done 200 out of 200 | elapsed:   24.3s finished\n",
      "[Parallel(n_jobs=-1)]: Done 180 tasks      | elapsed:   21.6s\n",
      "[Parallel(n_jobs=10)]: Using backend ThreadingBackend with 10 concurrent workers.\n",
      "[Parallel(n_jobs=10)]: Done  30 tasks      | elapsed:    0.0s\n",
      "[Parallel(n_jobs=10)]: Done 180 tasks      | elapsed:    0.1s\n",
      "[Parallel(n_jobs=10)]: Done 200 out of 200 | elapsed:    0.1s finished\n",
      "[Parallel(n_jobs=-1)]: Done 200 out of 200 | elapsed:   23.3s finished\n",
      "[Parallel(n_jobs=10)]: Using backend ThreadingBackend with 10 concurrent workers.\n",
      "[Parallel(n_jobs=10)]: Done  30 tasks      | elapsed:    0.0s\n",
      "[Parallel(n_jobs=-1)]: Using backend ThreadingBackend with 10 concurrent workers.\n",
      "[Parallel(n_jobs=10)]: Using backend ThreadingBackend with 10 concurrent workers.\n",
      "[Parallel(n_jobs=10)]: Done 180 tasks      | elapsed:    0.1s\n",
      "[Parallel(n_jobs=10)]: Done 200 out of 200 | elapsed:    0.1s finished\n",
      "[Parallel(n_jobs=10)]: Done  30 tasks      | elapsed:    0.0s\n"
     ]
    },
    {
     "name": "stdout",
     "output_type": "stream",
     "text": [
      "[CV] END bootstrap=True, max_depth=10, max_features=auto, max_leaf_nodes=20, max_samples=None, n_estimators=200, n_jobs=-1, oob_score=True, random_state=42, verbose=1; total time=  25.9s\n",
      "[CV] END bootstrap=True, max_depth=10, max_features=auto, max_leaf_nodes=20, max_samples=None, n_estimators=200, n_jobs=-1, oob_score=True, random_state=42, verbose=1; total time=  25.9s\n"
     ]
    },
    {
     "name": "stderr",
     "output_type": "stream",
     "text": [
      "[Parallel(n_jobs=10)]: Done 180 tasks      | elapsed:    0.1s\n",
      "[Parallel(n_jobs=10)]: Done 200 out of 200 | elapsed:    0.1s finished\n",
      "[Parallel(n_jobs=10)]: Using backend ThreadingBackend with 10 concurrent workers.\n",
      "[Parallel(n_jobs=10)]: Done  30 tasks      | elapsed:    0.1s\n",
      "[Parallel(n_jobs=10)]: Done 180 tasks      | elapsed:    0.1s\n",
      "[Parallel(n_jobs=10)]: Done 200 out of 200 | elapsed:    0.1s finished\n",
      "[Parallel(n_jobs=10)]: Using backend ThreadingBackend with 10 concurrent workers.\n"
     ]
    },
    {
     "name": "stdout",
     "output_type": "stream",
     "text": [
      "[CV] END bootstrap=True, max_depth=10, max_features=auto, max_leaf_nodes=20, max_samples=None, n_estimators=200, n_jobs=-1, oob_score=True, random_state=42, verbose=1; total time=  26.0s\n",
      "[CV] END bootstrap=True, max_depth=10, max_features=auto, max_leaf_nodes=20, max_samples=None, n_estimators=200, n_jobs=-1, oob_score=True, random_state=42, verbose=1; total time=  26.0s\n",
      "[CV] END bootstrap=True, max_depth=10, max_features=auto, max_leaf_nodes=20, max_samples=None, n_estimators=200, n_jobs=-1, oob_score=True, random_state=42, verbose=1; total time=  25.6s\n"
     ]
    },
    {
     "name": "stderr",
     "output_type": "stream",
     "text": [
      "[Parallel(n_jobs=10)]: Done  30 tasks      | elapsed:    0.0s\n",
      "[Parallel(n_jobs=-1)]: Done 200 out of 200 | elapsed:   22.3s finished\n",
      "[Parallel(n_jobs=10)]: Done 180 tasks      | elapsed:    0.1s\n",
      "[Parallel(n_jobs=10)]: Using backend ThreadingBackend with 10 concurrent workers.\n",
      "[Parallel(n_jobs=10)]: Done 200 out of 200 | elapsed:    0.1s finished\n",
      "[Parallel(n_jobs=-1)]: Using backend ThreadingBackend with 10 concurrent workers.\n",
      "[Parallel(n_jobs=-1)]: Using backend ThreadingBackend with 10 concurrent workers.\n",
      "[Parallel(n_jobs=10)]: Done  30 tasks      | elapsed:    0.0s\n",
      "[Parallel(n_jobs=10)]: Using backend ThreadingBackend with 10 concurrent workers.\n",
      "[Parallel(n_jobs=10)]: Done 180 tasks      | elapsed:    0.1s\n",
      "[Parallel(n_jobs=10)]: Done 200 out of 200 | elapsed:    0.1s finished\n",
      "[Parallel(n_jobs=10)]: Done  30 tasks      | elapsed:    0.1s\n",
      "[Parallel(n_jobs=10)]: Done 180 tasks      | elapsed:    0.1s\n"
     ]
    },
    {
     "name": "stdout",
     "output_type": "stream",
     "text": [
      "[CV] END bootstrap=True, max_depth=10, max_features=auto, max_leaf_nodes=20, max_samples=None, n_estimators=200, n_jobs=-1, oob_score=True, random_state=42, verbose=1; total time=  25.7s\n",
      "[CV] END bootstrap=True, max_depth=10, max_features=auto, max_leaf_nodes=20, max_samples=None, n_estimators=200, n_jobs=-1, oob_score=True, random_state=42, verbose=1; total time=  25.8s\n"
     ]
    },
    {
     "name": "stderr",
     "output_type": "stream",
     "text": [
      "[Parallel(n_jobs=10)]: Done 200 out of 200 | elapsed:    0.2s finished\n",
      "[Parallel(n_jobs=10)]: Using backend ThreadingBackend with 10 concurrent workers.\n",
      "[Parallel(n_jobs=10)]: Done  30 tasks      | elapsed:    0.0s\n",
      "[Parallel(n_jobs=10)]: Done 180 tasks      | elapsed:    0.0s\n",
      "[Parallel(n_jobs=10)]: Done 200 out of 200 | elapsed:    0.0s finished\n"
     ]
    },
    {
     "name": "stdout",
     "output_type": "stream",
     "text": [
      "[CV] END bootstrap=True, max_depth=10, max_features=auto, max_leaf_nodes=20, max_samples=None, n_estimators=200, n_jobs=-1, oob_score=True, random_state=42, verbose=1; total time=  26.4s\n"
     ]
    },
    {
     "name": "stderr",
     "output_type": "stream",
     "text": [
      "[Parallel(n_jobs=-1)]: Using backend ThreadingBackend with 10 concurrent workers.\n",
      "[Parallel(n_jobs=-1)]: Using backend ThreadingBackend with 10 concurrent workers.\n",
      "[Parallel(n_jobs=-1)]: Using backend ThreadingBackend with 10 concurrent workers.\n",
      "[Parallel(n_jobs=-1)]: Using backend ThreadingBackend with 10 concurrent workers.\n",
      "[Parallel(n_jobs=-1)]: Using backend ThreadingBackend with 10 concurrent workers.\n",
      "[Parallel(n_jobs=10)]: Using backend ThreadingBackend with 10 concurrent workers.\n",
      "[Parallel(n_jobs=10)]: Done  30 tasks      | elapsed:    0.0s\n",
      "[Parallel(n_jobs=10)]: Done 180 tasks      | elapsed:    0.0s\n",
      "[Parallel(n_jobs=10)]: Done 200 out of 200 | elapsed:    0.1s finished\n"
     ]
    },
    {
     "name": "stdout",
     "output_type": "stream",
     "text": [
      "[CV] END bootstrap=True, max_depth=10, max_features=auto, max_leaf_nodes=20, max_samples=None, n_estimators=200, n_jobs=-1, oob_score=True, random_state=42, verbose=1; total time=  25.3s\n"
     ]
    },
    {
     "name": "stderr",
     "output_type": "stream",
     "text": [
      "[Parallel(n_jobs=-1)]: Done  30 tasks      | elapsed:    2.1s\n",
      "[Parallel(n_jobs=-1)]: Using backend ThreadingBackend with 10 concurrent workers.\n",
      "[Parallel(n_jobs=-1)]: Done  30 tasks      | elapsed:    2.6s\n",
      "[Parallel(n_jobs=10)]: Using backend ThreadingBackend with 10 concurrent workers.\n",
      "[Parallel(n_jobs=-1)]: Done  30 tasks      | elapsed:    2.7s\n",
      "[Parallel(n_jobs=10)]: Done  30 tasks      | elapsed:    0.0s\n",
      "[Parallel(n_jobs=10)]: Done 180 tasks      | elapsed:    0.0s\n",
      "[Parallel(n_jobs=10)]: Done 200 out of 200 | elapsed:    0.0s finished\n"
     ]
    },
    {
     "name": "stdout",
     "output_type": "stream",
     "text": [
      "[CV] END bootstrap=True, max_depth=10, max_features=auto, max_leaf_nodes=20, max_samples=None, n_estimators=200, n_jobs=-1, oob_score=True, random_state=42, verbose=1; total time=  25.3s\n"
     ]
    },
    {
     "name": "stderr",
     "output_type": "stream",
     "text": [
      "[Parallel(n_jobs=-1)]: Done  30 tasks      | elapsed:    3.2s\n",
      "[Parallel(n_jobs=-1)]: Done  30 tasks      | elapsed:    3.1s\n",
      "[Parallel(n_jobs=-1)]: Using backend ThreadingBackend with 10 concurrent workers.\n",
      "[Parallel(n_jobs=-1)]: Done  30 tasks      | elapsed:    3.4s\n",
      "[Parallel(n_jobs=-1)]: Done  30 tasks      | elapsed:    3.4s\n",
      "[Parallel(n_jobs=-1)]: Done  30 tasks      | elapsed:    3.5s\n",
      "[Parallel(n_jobs=-1)]: Done  30 tasks      | elapsed:    3.5s\n",
      "[Parallel(n_jobs=-1)]: Done  30 tasks      | elapsed:    3.9s\n",
      "[Parallel(n_jobs=-1)]: Done 180 tasks      | elapsed:   21.3s\n",
      "[Parallel(n_jobs=-1)]: Done 180 tasks      | elapsed:   21.8s\n",
      "[Parallel(n_jobs=-1)]: Done 180 tasks      | elapsed:   22.1s\n",
      "[Parallel(n_jobs=-1)]: Done 180 tasks      | elapsed:   22.7s\n",
      "[Parallel(n_jobs=-1)]: Done 180 tasks      | elapsed:   22.8s\n",
      "[Parallel(n_jobs=-1)]: Done 180 tasks      | elapsed:   23.0s\n",
      "[Parallel(n_jobs=-1)]: Done 180 tasks      | elapsed:   23.0s\n",
      "[Parallel(n_jobs=-1)]: Done 180 tasks      | elapsed:   22.9s\n",
      "[Parallel(n_jobs=-1)]: Done 180 tasks      | elapsed:   23.2s\n",
      "[Parallel(n_jobs=-1)]: Done 180 tasks      | elapsed:   23.1s\n",
      "[Parallel(n_jobs=-1)]: Done 430 tasks      | elapsed:   53.1s\n",
      "[Parallel(n_jobs=-1)]: Done 430 tasks      | elapsed:   53.6s\n",
      "[Parallel(n_jobs=-1)]: Done 430 tasks      | elapsed:   53.6s\n",
      "[Parallel(n_jobs=-1)]: Done 430 tasks      | elapsed:   54.3s\n",
      "[Parallel(n_jobs=-1)]: Done 430 tasks      | elapsed:   54.2s\n",
      "[Parallel(n_jobs=-1)]: Done 430 tasks      | elapsed:   54.7s\n",
      "[Parallel(n_jobs=-1)]: Done 430 tasks      | elapsed:   54.9s\n",
      "[Parallel(n_jobs=-1)]: Done 430 tasks      | elapsed:   55.3s\n",
      "[Parallel(n_jobs=-1)]: Done 430 tasks      | elapsed:   55.3s\n",
      "[Parallel(n_jobs=-1)]: Done 430 tasks      | elapsed:   55.3s\n",
      "[Parallel(n_jobs=-1)]: Done 500 out of 500 | elapsed:  1.0min finished\n",
      "[Parallel(n_jobs=-1)]: Done 500 out of 500 | elapsed:  1.0min finished\n",
      "[Parallel(n_jobs=-1)]: Done 500 out of 500 | elapsed:  1.0min finished\n",
      "[Parallel(n_jobs=-1)]: Done 500 out of 500 | elapsed:  1.0min finished\n",
      "[Parallel(n_jobs=-1)]: Done 500 out of 500 | elapsed:  1.0min finished\n",
      "[Parallel(n_jobs=-1)]: Done 500 out of 500 | elapsed:  1.0min finished\n",
      "[Parallel(n_jobs=-1)]: Done 500 out of 500 | elapsed:  1.0min finished\n",
      "[Parallel(n_jobs=-1)]: Done 500 out of 500 | elapsed:  1.0min finished\n",
      "[Parallel(n_jobs=-1)]: Done 500 out of 500 | elapsed:  1.0min finished\n",
      "[Parallel(n_jobs=-1)]: Done 500 out of 500 | elapsed:  1.0min finished\n",
      "[Parallel(n_jobs=10)]: Using backend ThreadingBackend with 10 concurrent workers.\n",
      "[Parallel(n_jobs=10)]: Done  30 tasks      | elapsed:    0.0s\n",
      "[Parallel(n_jobs=10)]: Done 180 tasks      | elapsed:    0.0s\n",
      "[Parallel(n_jobs=10)]: Done 430 tasks      | elapsed:    0.1s\n",
      "[Parallel(n_jobs=10)]: Using backend ThreadingBackend with 10 concurrent workers.\n",
      "[Parallel(n_jobs=10)]: Done 500 out of 500 | elapsed:    0.1s finished\n",
      "[Parallel(n_jobs=10)]: Done  30 tasks      | elapsed:    0.0s\n",
      "[Parallel(n_jobs=10)]: Done 180 tasks      | elapsed:    0.1s\n",
      "[Parallel(n_jobs=10)]: Using backend ThreadingBackend with 10 concurrent workers.\n",
      "[Parallel(n_jobs=10)]: Using backend ThreadingBackend with 10 concurrent workers.\n",
      "[Parallel(n_jobs=10)]: Done  30 tasks      | elapsed:    0.0s\n",
      "[Parallel(n_jobs=10)]: Using backend ThreadingBackend with 10 concurrent workers.\n",
      "[Parallel(n_jobs=10)]: Done 430 tasks      | elapsed:    0.1s\n"
     ]
    },
    {
     "name": "stdout",
     "output_type": "stream",
     "text": [
      "[CV] END bootstrap=True, max_depth=10, max_features=auto, max_leaf_nodes=20, max_samples=None, n_estimators=500, n_jobs=-1, oob_score=True, random_state=42, verbose=1; total time= 1.1min\n"
     ]
    },
    {
     "name": "stderr",
     "output_type": "stream",
     "text": [
      "[Parallel(n_jobs=10)]: Using backend ThreadingBackend with 10 concurrent workers.\n",
      "[Parallel(n_jobs=-1)]: Using backend ThreadingBackend with 10 concurrent workers.\n",
      "[Parallel(n_jobs=10)]: Using backend ThreadingBackend with 10 concurrent workers.\n",
      "[Parallel(n_jobs=10)]: Done  30 tasks      | elapsed:    0.0s\n",
      "[Parallel(n_jobs=10)]: Done  30 tasks      | elapsed:    0.0s\n",
      "[Parallel(n_jobs=10)]: Done 500 out of 500 | elapsed:    0.1s finished\n",
      "[Parallel(n_jobs=10)]: Done 180 tasks      | elapsed:    0.1s\n",
      "[Parallel(n_jobs=10)]: Done 180 tasks      | elapsed:    0.1s\n",
      "[Parallel(n_jobs=10)]: Done 180 tasks      | elapsed:    0.1s\n",
      "[Parallel(n_jobs=10)]: Done 430 tasks      | elapsed:    0.1s\n",
      "[Parallel(n_jobs=10)]: Done 430 tasks      | elapsed:    0.1s\n",
      "[Parallel(n_jobs=10)]: Done 430 tasks      | elapsed:    0.2s\n",
      "[Parallel(n_jobs=10)]: Done 500 out of 500 | elapsed:    0.2s finished\n",
      "[Parallel(n_jobs=10)]: Done 500 out of 500 | elapsed:    0.2s finished\n",
      "[Parallel(n_jobs=10)]: Done 500 out of 500 | elapsed:    0.2s finished\n"
     ]
    },
    {
     "name": "stdout",
     "output_type": "stream",
     "text": [
      "[CV] END bootstrap=True, max_depth=10, max_features=auto, max_leaf_nodes=20, max_samples=None, n_estimators=500, n_jobs=-1, oob_score=True, random_state=42, verbose=1; total time= 1.1min\n",
      "[CV] END bootstrap=True, max_depth=10, max_features=auto, max_leaf_nodes=20, max_samples=None, n_estimators=500, n_jobs=-1, oob_score=True, random_state=42, verbose=1; total time= 1.1min\n",
      "[CV] END bootstrap=True, max_depth=10, max_features=auto, max_leaf_nodes=20, max_samples=None, n_estimators=500, n_jobs=-1, oob_score=True, random_state=42, verbose=1; total time= 1.1min\n",
      "[CV] END bootstrap=True, max_depth=10, max_features=auto, max_leaf_nodes=20, max_samples=None, n_estimators=500, n_jobs=-1, oob_score=True, random_state=42, verbose=1; total time= 1.1min\n"
     ]
    },
    {
     "name": "stderr",
     "output_type": "stream",
     "text": [
      "[Parallel(n_jobs=-1)]: Using backend ThreadingBackend with 10 concurrent workers.\n",
      "[Parallel(n_jobs=10)]: Done  30 tasks      | elapsed:    0.2s\n",
      "[Parallel(n_jobs=10)]: Done  30 tasks      | elapsed:    0.2s\n",
      "[Parallel(n_jobs=-1)]: Using backend ThreadingBackend with 10 concurrent workers.\n",
      "[Parallel(n_jobs=10)]: Done 180 tasks      | elapsed:    0.2s\n",
      "[Parallel(n_jobs=10)]: Done 180 tasks      | elapsed:    0.3s\n",
      "[Parallel(n_jobs=10)]: Done 430 tasks      | elapsed:    0.3s\n",
      "[Parallel(n_jobs=10)]: Using backend ThreadingBackend with 10 concurrent workers.\n",
      "[Parallel(n_jobs=10)]: Done 430 tasks      | elapsed:    0.4s\n",
      "[Parallel(n_jobs=10)]: Done 500 out of 500 | elapsed:    0.4s finished\n",
      "[Parallel(n_jobs=10)]: Done 500 out of 500 | elapsed:    0.4s finished\n",
      "[Parallel(n_jobs=-1)]: Using backend ThreadingBackend with 10 concurrent workers.\n"
     ]
    },
    {
     "name": "stdout",
     "output_type": "stream",
     "text": [
      "[CV] END bootstrap=True, max_depth=10, max_features=auto, max_leaf_nodes=20, max_samples=None, n_estimators=500, n_jobs=-1, oob_score=True, random_state=42, verbose=1; total time= 1.1min\n",
      "[CV] END bootstrap=True, max_depth=10, max_features=auto, max_leaf_nodes=20, max_samples=None, n_estimators=500, n_jobs=-1, oob_score=True, random_state=42, verbose=1; total time= 1.1min\n"
     ]
    },
    {
     "name": "stderr",
     "output_type": "stream",
     "text": [
      "[Parallel(n_jobs=-1)]: Using backend ThreadingBackend with 10 concurrent workers.\n",
      "[Parallel(n_jobs=-1)]: Using backend ThreadingBackend with 10 concurrent workers.\n",
      "[Parallel(n_jobs=10)]: Done  30 tasks      | elapsed:    0.3s\n",
      "[Parallel(n_jobs=10)]: Done 180 tasks      | elapsed:    0.3s\n",
      "[Parallel(n_jobs=10)]: Done 430 tasks      | elapsed:    0.4s\n",
      "[Parallel(n_jobs=-1)]: Using backend ThreadingBackend with 10 concurrent workers.\n",
      "[Parallel(n_jobs=10)]: Done 500 out of 500 | elapsed:    0.4s finished\n"
     ]
    },
    {
     "name": "stdout",
     "output_type": "stream",
     "text": [
      "[CV] END bootstrap=True, max_depth=10, max_features=auto, max_leaf_nodes=20, max_samples=None, n_estimators=500, n_jobs=-1, oob_score=True, random_state=42, verbose=1; total time= 1.1min\n"
     ]
    },
    {
     "name": "stderr",
     "output_type": "stream",
     "text": [
      "[Parallel(n_jobs=-1)]: Using backend ThreadingBackend with 10 concurrent workers.\n",
      "[Parallel(n_jobs=10)]: Using backend ThreadingBackend with 10 concurrent workers.\n",
      "[Parallel(n_jobs=10)]: Done  30 tasks      | elapsed:    0.0s\n",
      "[Parallel(n_jobs=10)]: Done 180 tasks      | elapsed:    0.0s\n",
      "[Parallel(n_jobs=10)]: Done 430 tasks      | elapsed:    0.0s\n",
      "[Parallel(n_jobs=10)]: Done 500 out of 500 | elapsed:    0.2s finished\n"
     ]
    },
    {
     "name": "stdout",
     "output_type": "stream",
     "text": [
      "[CV] END bootstrap=True, max_depth=10, max_features=auto, max_leaf_nodes=20, max_samples=None, n_estimators=500, n_jobs=-1, oob_score=True, random_state=42, verbose=1; total time= 1.1min\n"
     ]
    },
    {
     "name": "stderr",
     "output_type": "stream",
     "text": [
      "[Parallel(n_jobs=-1)]: Using backend ThreadingBackend with 10 concurrent workers.\n",
      "[Parallel(n_jobs=-1)]: Done  30 tasks      | elapsed:    2.6s\n",
      "[Parallel(n_jobs=10)]: Using backend ThreadingBackend with 10 concurrent workers.\n",
      "[Parallel(n_jobs=10)]: Done  30 tasks      | elapsed:    0.0s\n",
      "[Parallel(n_jobs=10)]: Done 180 tasks      | elapsed:    0.0s\n",
      "[Parallel(n_jobs=10)]: Done 430 tasks      | elapsed:    0.0s\n",
      "[Parallel(n_jobs=10)]: Done 500 out of 500 | elapsed:    0.0s finished\n"
     ]
    },
    {
     "name": "stdout",
     "output_type": "stream",
     "text": [
      "[CV] END bootstrap=True, max_depth=10, max_features=auto, max_leaf_nodes=20, max_samples=None, n_estimators=500, n_jobs=-1, oob_score=True, random_state=42, verbose=1; total time= 1.1min\n"
     ]
    },
    {
     "name": "stderr",
     "output_type": "stream",
     "text": [
      "[Parallel(n_jobs=-1)]: Done  30 tasks      | elapsed:    3.5s\n",
      "[Parallel(n_jobs=-1)]: Done  30 tasks      | elapsed:    3.6s\n",
      "[Parallel(n_jobs=-1)]: Using backend ThreadingBackend with 10 concurrent workers.\n",
      "[Parallel(n_jobs=-1)]: Done  30 tasks      | elapsed:    3.6s\n",
      "[Parallel(n_jobs=-1)]: Done  30 tasks      | elapsed:    3.8s\n",
      "[Parallel(n_jobs=-1)]: Done  30 tasks      | elapsed:    3.8s\n",
      "[Parallel(n_jobs=-1)]: Done  30 tasks      | elapsed:    3.9s\n",
      "[Parallel(n_jobs=-1)]: Done  30 tasks      | elapsed:    3.9s\n",
      "[Parallel(n_jobs=-1)]: Done  30 tasks      | elapsed:    4.2s\n",
      "[Parallel(n_jobs=-1)]: Done  30 tasks      | elapsed:    4.4s\n",
      "[Parallel(n_jobs=-1)]: Done 180 tasks      | elapsed:   23.9s\n",
      "[Parallel(n_jobs=-1)]: Done 180 tasks      | elapsed:   25.1s\n",
      "[Parallel(n_jobs=-1)]: Done 180 tasks      | elapsed:   25.1s\n",
      "[Parallel(n_jobs=-1)]: Done 180 tasks      | elapsed:   25.1s\n",
      "[Parallel(n_jobs=-1)]: Done 180 tasks      | elapsed:   25.4s\n",
      "[Parallel(n_jobs=-1)]: Done 180 tasks      | elapsed:   25.5s\n",
      "[Parallel(n_jobs=-1)]: Done 180 tasks      | elapsed:   25.5s\n",
      "[Parallel(n_jobs=-1)]: Done 180 tasks      | elapsed:   25.6s\n",
      "[Parallel(n_jobs=-1)]: Done 200 out of 200 | elapsed:   26.9s finished\n",
      "[Parallel(n_jobs=-1)]: Done 180 tasks      | elapsed:   25.5s\n",
      "[Parallel(n_jobs=-1)]: Done 200 out of 200 | elapsed:   27.6s finished\n",
      "[Parallel(n_jobs=-1)]: Done 200 out of 200 | elapsed:   27.8s finished\n",
      "[Parallel(n_jobs=-1)]: Done 200 out of 200 | elapsed:   27.6s finished\n",
      "[Parallel(n_jobs=-1)]: Done 200 out of 200 | elapsed:   27.6s finished\n",
      "[Parallel(n_jobs=-1)]: Done 200 out of 200 | elapsed:   27.6s finished\n",
      "[Parallel(n_jobs=-1)]: Done 200 out of 200 | elapsed:   27.6s finished\n",
      "[Parallel(n_jobs=10)]: Using backend ThreadingBackend with 10 concurrent workers.\n",
      "[Parallel(n_jobs=-1)]: Done 200 out of 200 | elapsed:   27.3s finished\n",
      "[Parallel(n_jobs=10)]: Done  30 tasks      | elapsed:    0.1s\n",
      "[Parallel(n_jobs=10)]: Done 180 tasks      | elapsed:    0.1s\n",
      "[Parallel(n_jobs=10)]: Done 200 out of 200 | elapsed:    0.1s finished\n",
      "[Parallel(n_jobs=-1)]: Done 180 tasks      | elapsed:   24.6s\n",
      "[Parallel(n_jobs=-1)]: Done 200 out of 200 | elapsed:   26.5s finished\n",
      "[Parallel(n_jobs=-1)]: Using backend ThreadingBackend with 10 concurrent workers.\n"
     ]
    },
    {
     "name": "stdout",
     "output_type": "stream",
     "text": [
      "[CV] END bootstrap=True, max_depth=10, max_features=auto, max_leaf_nodes=50, max_samples=None, n_estimators=200, n_jobs=-1, oob_score=True, random_state=42, verbose=1; total time=  28.6s\n"
     ]
    },
    {
     "name": "stderr",
     "output_type": "stream",
     "text": [
      "[Parallel(n_jobs=10)]: Using backend ThreadingBackend with 10 concurrent workers.\n",
      "[Parallel(n_jobs=10)]: Using backend ThreadingBackend with 10 concurrent workers.\n",
      "[Parallel(n_jobs=10)]: Done  30 tasks      | elapsed:    0.0s\n",
      "[Parallel(n_jobs=10)]: Using backend ThreadingBackend with 10 concurrent workers.\n",
      "[Parallel(n_jobs=10)]: Using backend ThreadingBackend with 10 concurrent workers.\n",
      "[Parallel(n_jobs=10)]: Done 180 tasks      | elapsed:    0.0s\n",
      "[Parallel(n_jobs=10)]: Done 200 out of 200 | elapsed:    0.1s finished\n",
      "[Parallel(n_jobs=10)]: Done  30 tasks      | elapsed:    0.1s\n",
      "[Parallel(n_jobs=10)]: Using backend ThreadingBackend with 10 concurrent workers.\n",
      "[Parallel(n_jobs=10)]: Done  30 tasks      | elapsed:    0.1s\n",
      "[Parallel(n_jobs=10)]: Done 180 tasks      | elapsed:    0.1s\n",
      "[Parallel(n_jobs=10)]: Done 180 tasks      | elapsed:    0.2s\n",
      "[Parallel(n_jobs=10)]: Done 200 out of 200 | elapsed:    0.2s finished\n",
      "[Parallel(n_jobs=10)]: Done 200 out of 200 | elapsed:    0.1s finished\n",
      "[Parallel(n_jobs=10)]: Done  30 tasks      | elapsed:    0.1s\n",
      "[Parallel(n_jobs=10)]: Using backend ThreadingBackend with 10 concurrent workers.\n"
     ]
    },
    {
     "name": "stdout",
     "output_type": "stream",
     "text": [
      "[CV] END bootstrap=True, max_depth=10, max_features=auto, max_leaf_nodes=50, max_samples=None, n_estimators=200, n_jobs=-1, oob_score=True, random_state=42, verbose=1; total time=  28.8s\n",
      "[CV] END bootstrap=True, max_depth=10, max_features=auto, max_leaf_nodes=50, max_samples=None, n_estimators=200, n_jobs=-1, oob_score=True, random_state=42, verbose=1; total time=  28.9s\n",
      "[CV] END bootstrap=True, max_depth=10, max_features=auto, max_leaf_nodes=50, max_samples=None, n_estimators=200, n_jobs=-1, oob_score=True, random_state=42, verbose=1; total time=  29.0s\n",
      "[CV] END bootstrap=True, max_depth=10, max_features=auto, max_leaf_nodes=50, max_samples=None, n_estimators=200, n_jobs=-1, oob_score=True, random_state=42, verbose=1; total time=  28.8s\n",
      "[CV] END bootstrap=True, max_depth=10, max_features=auto, max_leaf_nodes=50, max_samples=None, n_estimators=200, n_jobs=-1, oob_score=True, random_state=42, verbose=1; total time=  28.9s\n"
     ]
    },
    {
     "name": "stderr",
     "output_type": "stream",
     "text": [
      "[Parallel(n_jobs=10)]: Using backend ThreadingBackend with 10 concurrent workers.\n",
      "[Parallel(n_jobs=10)]: Done 180 tasks      | elapsed:    0.2s\n",
      "[Parallel(n_jobs=10)]: Done 200 out of 200 | elapsed:    0.2s finished\n",
      "[Parallel(n_jobs=10)]: Done  30 tasks      | elapsed:    0.1s\n",
      "[Parallel(n_jobs=-1)]: Using backend ThreadingBackend with 10 concurrent workers.\n",
      "[Parallel(n_jobs=-1)]: Using backend ThreadingBackend with 10 concurrent workers.\n",
      "[Parallel(n_jobs=10)]: Done 180 tasks      | elapsed:    0.2s\n",
      "[Parallel(n_jobs=10)]: Done 200 out of 200 | elapsed:    0.2s finished\n",
      "[Parallel(n_jobs=10)]: Done  30 tasks      | elapsed:    0.1s\n",
      "[Parallel(n_jobs=10)]: Done  30 tasks      | elapsed:    0.1s\n",
      "[Parallel(n_jobs=-1)]: Using backend ThreadingBackend with 10 concurrent workers.\n",
      "[Parallel(n_jobs=10)]: Done 180 tasks      | elapsed:    0.2s\n",
      "[Parallel(n_jobs=10)]: Done 200 out of 200 | elapsed:    0.2s finished\n",
      "[Parallel(n_jobs=-1)]: Using backend ThreadingBackend with 10 concurrent workers.\n",
      "[Parallel(n_jobs=10)]: Done 180 tasks      | elapsed:    0.2s\n",
      "[Parallel(n_jobs=10)]: Done 200 out of 200 | elapsed:    0.2s finished\n"
     ]
    },
    {
     "name": "stdout",
     "output_type": "stream",
     "text": [
      "[CV] END bootstrap=True, max_depth=10, max_features=auto, max_leaf_nodes=50, max_samples=None, n_estimators=200, n_jobs=-1, oob_score=True, random_state=42, verbose=1; total time=  28.9s\n",
      "[CV] END bootstrap=True, max_depth=10, max_features=auto, max_leaf_nodes=50, max_samples=None, n_estimators=200, n_jobs=-1, oob_score=True, random_state=42, verbose=1; total time=  28.4s\n"
     ]
    },
    {
     "name": "stderr",
     "output_type": "stream",
     "text": [
      "[Parallel(n_jobs=-1)]: Done 200 out of 200 | elapsed:   25.5s finished\n",
      "[Parallel(n_jobs=10)]: Using backend ThreadingBackend with 10 concurrent workers.\n",
      "[Parallel(n_jobs=10)]: Done  30 tasks      | elapsed:    0.0s\n",
      "[Parallel(n_jobs=10)]: Done 180 tasks      | elapsed:    0.0s\n",
      "[Parallel(n_jobs=10)]: Done 200 out of 200 | elapsed:    0.0s finished\n",
      "[Parallel(n_jobs=-1)]: Using backend ThreadingBackend with 10 concurrent workers.\n",
      "[Parallel(n_jobs=-1)]: Using backend ThreadingBackend with 10 concurrent workers.\n",
      "[Parallel(n_jobs=-1)]: Using backend ThreadingBackend with 10 concurrent workers.\n"
     ]
    },
    {
     "name": "stdout",
     "output_type": "stream",
     "text": [
      "[CV] END bootstrap=True, max_depth=10, max_features=auto, max_leaf_nodes=50, max_samples=None, n_estimators=200, n_jobs=-1, oob_score=True, random_state=42, verbose=1; total time=  28.0s\n"
     ]
    },
    {
     "name": "stderr",
     "output_type": "stream",
     "text": [
      "[Parallel(n_jobs=-1)]: Using backend ThreadingBackend with 10 concurrent workers.\n",
      "[Parallel(n_jobs=-1)]: Done  30 tasks      | elapsed:    2.4s\n",
      "[Parallel(n_jobs=10)]: Using backend ThreadingBackend with 10 concurrent workers.\n",
      "[Parallel(n_jobs=10)]: Done  30 tasks      | elapsed:    0.0s\n",
      "[Parallel(n_jobs=10)]: Done 180 tasks      | elapsed:    0.0s\n",
      "[Parallel(n_jobs=10)]: Done 200 out of 200 | elapsed:    0.1s finished\n"
     ]
    },
    {
     "name": "stdout",
     "output_type": "stream",
     "text": [
      "[CV] END bootstrap=True, max_depth=10, max_features=auto, max_leaf_nodes=50, max_samples=None, n_estimators=200, n_jobs=-1, oob_score=True, random_state=42, verbose=1; total time=  28.9s\n"
     ]
    },
    {
     "name": "stderr",
     "output_type": "stream",
     "text": [
      "[Parallel(n_jobs=-1)]: Done  30 tasks      | elapsed:    3.7s\n",
      "[Parallel(n_jobs=-1)]: Done  30 tasks      | elapsed:    3.7s\n",
      "[Parallel(n_jobs=-1)]: Done  30 tasks      | elapsed:    3.8s\n",
      "[Parallel(n_jobs=-1)]: Done  30 tasks      | elapsed:    4.0s\n",
      "[Parallel(n_jobs=-1)]: Using backend ThreadingBackend with 10 concurrent workers.\n",
      "[Parallel(n_jobs=-1)]: Done  30 tasks      | elapsed:    3.7s\n",
      "[Parallel(n_jobs=-1)]: Done  30 tasks      | elapsed:    4.0s\n",
      "[Parallel(n_jobs=-1)]: Done  30 tasks      | elapsed:    4.0s\n",
      "[Parallel(n_jobs=-1)]: Done  30 tasks      | elapsed:    4.3s\n",
      "[Parallel(n_jobs=-1)]: Done  30 tasks      | elapsed:    4.3s\n",
      "[Parallel(n_jobs=-1)]: Done 180 tasks      | elapsed:   23.7s\n",
      "[Parallel(n_jobs=-1)]: Done 180 tasks      | elapsed:   25.2s\n",
      "[Parallel(n_jobs=-1)]: Done 180 tasks      | elapsed:   25.3s\n",
      "[Parallel(n_jobs=-1)]: Done 180 tasks      | elapsed:   25.4s\n",
      "[Parallel(n_jobs=-1)]: Done 180 tasks      | elapsed:   25.6s\n",
      "[Parallel(n_jobs=-1)]: Done 180 tasks      | elapsed:   25.4s\n",
      "[Parallel(n_jobs=-1)]: Done 180 tasks      | elapsed:   25.8s\n",
      "[Parallel(n_jobs=-1)]: Done 180 tasks      | elapsed:   26.0s\n",
      "[Parallel(n_jobs=-1)]: Done 180 tasks      | elapsed:   26.0s\n",
      "[Parallel(n_jobs=-1)]: Done 180 tasks      | elapsed:   25.9s\n",
      "[Parallel(n_jobs=-1)]: Done 430 tasks      | elapsed:   59.4s\n",
      "[Parallel(n_jobs=-1)]: Done 430 tasks      | elapsed:  1.0min\n",
      "[Parallel(n_jobs=-1)]: Done 430 tasks      | elapsed:  1.0min\n",
      "[Parallel(n_jobs=-1)]: Done 430 tasks      | elapsed:  1.0min\n",
      "[Parallel(n_jobs=-1)]: Done 430 tasks      | elapsed:  1.0min\n",
      "[Parallel(n_jobs=-1)]: Done 430 tasks      | elapsed:  1.0min\n",
      "[Parallel(n_jobs=-1)]: Done 430 tasks      | elapsed:  1.0min\n",
      "[Parallel(n_jobs=-1)]: Done 430 tasks      | elapsed:  1.0min\n",
      "[Parallel(n_jobs=-1)]: Done 430 tasks      | elapsed:  1.0min\n",
      "[Parallel(n_jobs=-1)]: Done 430 tasks      | elapsed:  1.0min\n",
      "[Parallel(n_jobs=-1)]: Done 500 out of 500 | elapsed:  1.2min finished\n",
      "[Parallel(n_jobs=-1)]: Done 500 out of 500 | elapsed:  1.2min finished\n",
      "[Parallel(n_jobs=-1)]: Done 500 out of 500 | elapsed:  1.2min finished\n",
      "[Parallel(n_jobs=-1)]: Done 500 out of 500 | elapsed:  1.2min finished\n",
      "[Parallel(n_jobs=-1)]: Done 500 out of 500 | elapsed:  1.2min finished\n",
      "[Parallel(n_jobs=-1)]: Done 500 out of 500 | elapsed:  1.2min finished\n",
      "[Parallel(n_jobs=-1)]: Done 500 out of 500 | elapsed:  1.2min finished\n",
      "[Parallel(n_jobs=-1)]: Done 500 out of 500 | elapsed:  1.2min finished\n",
      "[Parallel(n_jobs=-1)]: Done 500 out of 500 | elapsed:  1.2min finished\n",
      "[Parallel(n_jobs=-1)]: Done 500 out of 500 | elapsed:  1.1min finished\n",
      "[Parallel(n_jobs=10)]: Using backend ThreadingBackend with 10 concurrent workers.\n",
      "[Parallel(n_jobs=10)]: Done  30 tasks      | elapsed:    0.0s\n",
      "[Parallel(n_jobs=10)]: Done 180 tasks      | elapsed:    0.0s\n",
      "[Parallel(n_jobs=10)]: Done 430 tasks      | elapsed:    0.1s\n",
      "[Parallel(n_jobs=10)]: Done 500 out of 500 | elapsed:    0.1s finished\n",
      "[Parallel(n_jobs=10)]: Using backend ThreadingBackend with 10 concurrent workers.\n",
      "[Parallel(n_jobs=10)]: Done  30 tasks      | elapsed:    0.0s\n"
     ]
    },
    {
     "name": "stdout",
     "output_type": "stream",
     "text": [
      "[CV] END bootstrap=True, max_depth=10, max_features=auto, max_leaf_nodes=50, max_samples=None, n_estimators=500, n_jobs=-1, oob_score=True, random_state=42, verbose=1; total time= 1.2min\n"
     ]
    },
    {
     "name": "stderr",
     "output_type": "stream",
     "text": [
      "[Parallel(n_jobs=-1)]: Using backend ThreadingBackend with 10 concurrent workers.\n",
      "[Parallel(n_jobs=10)]: Using backend ThreadingBackend with 10 concurrent workers.\n",
      "[Parallel(n_jobs=10)]: Done 180 tasks      | elapsed:    0.1s\n",
      "[Parallel(n_jobs=10)]: Done 430 tasks      | elapsed:    0.1s\n",
      "[Parallel(n_jobs=10)]: Done 500 out of 500 | elapsed:    0.2s finished\n",
      "[Parallel(n_jobs=10)]: Done  30 tasks      | elapsed:    0.2s\n"
     ]
    },
    {
     "name": "stdout",
     "output_type": "stream",
     "text": [
      "[CV] END bootstrap=True, max_depth=10, max_features=auto, max_leaf_nodes=50, max_samples=None, n_estimators=500, n_jobs=-1, oob_score=True, random_state=42, verbose=1; total time= 1.2min\n",
      "[CV] END bootstrap=True, max_depth=10, max_features=auto, max_leaf_nodes=50, max_samples=None, n_estimators=500, n_jobs=-1, oob_score=True, random_state=42, verbose=1; total time= 1.2min\n"
     ]
    },
    {
     "name": "stderr",
     "output_type": "stream",
     "text": [
      "[Parallel(n_jobs=10)]: Done 180 tasks      | elapsed:    0.2s\n",
      "[Parallel(n_jobs=-1)]: Using backend ThreadingBackend with 10 concurrent workers.\n",
      "[Parallel(n_jobs=10)]: Done 430 tasks      | elapsed:    0.2s\n",
      "[Parallel(n_jobs=10)]: Done 500 out of 500 | elapsed:    0.3s finished\n",
      "[Parallel(n_jobs=10)]: Using backend ThreadingBackend with 10 concurrent workers.\n",
      "[Parallel(n_jobs=10)]: Using backend ThreadingBackend with 10 concurrent workers.\n",
      "[Parallel(n_jobs=10)]: Using backend ThreadingBackend with 10 concurrent workers.\n",
      "[Parallel(n_jobs=10)]: Done  30 tasks      | elapsed:    0.0s\n",
      "[Parallel(n_jobs=10)]: Done  30 tasks      | elapsed:    0.1s\n",
      "[Parallel(n_jobs=-1)]: Using backend ThreadingBackend with 10 concurrent workers.\n",
      "[Parallel(n_jobs=10)]: Using backend ThreadingBackend with 10 concurrent workers.\n",
      "[Parallel(n_jobs=10)]: Done 180 tasks      | elapsed:    0.1s\n",
      "[Parallel(n_jobs=10)]: Done 180 tasks      | elapsed:    0.2s\n",
      "[Parallel(n_jobs=10)]: Done 430 tasks      | elapsed:    0.2s\n",
      "[Parallel(n_jobs=10)]: Done 430 tasks      | elapsed:    0.3s\n",
      "[Parallel(n_jobs=10)]: Done  30 tasks      | elapsed:    0.2s\n",
      "[Parallel(n_jobs=10)]: Done 500 out of 500 | elapsed:    0.3s finished\n",
      "[Parallel(n_jobs=10)]: Done 500 out of 500 | elapsed:    0.2s finished\n",
      "[Parallel(n_jobs=10)]: Done 180 tasks      | elapsed:    0.2s\n",
      "[Parallel(n_jobs=10)]: Done 430 tasks      | elapsed:    0.3s\n",
      "[Parallel(n_jobs=10)]: Done 500 out of 500 | elapsed:    0.3s finished\n",
      "[Parallel(n_jobs=-1)]: Using backend ThreadingBackend with 10 concurrent workers.\n",
      "[Parallel(n_jobs=10)]: Using backend ThreadingBackend with 10 concurrent workers.\n",
      "[Parallel(n_jobs=10)]: Done  30 tasks      | elapsed:    0.3s\n",
      "[Parallel(n_jobs=10)]: Using backend ThreadingBackend with 10 concurrent workers.\n",
      "[Parallel(n_jobs=10)]: Done  30 tasks      | elapsed:    0.1s\n",
      "[Parallel(n_jobs=10)]: Done 180 tasks      | elapsed:    0.3s\n"
     ]
    },
    {
     "name": "stdout",
     "output_type": "stream",
     "text": [
      "[CV] END bootstrap=True, max_depth=10, max_features=auto, max_leaf_nodes=50, max_samples=None, n_estimators=500, n_jobs=-1, oob_score=True, random_state=42, verbose=1; total time= 1.2min\n",
      "[CV] END bootstrap=True, max_depth=10, max_features=auto, max_leaf_nodes=50, max_samples=None, n_estimators=500, n_jobs=-1, oob_score=True, random_state=42, verbose=1; total time= 1.2min\n",
      "[CV] END bootstrap=True, max_depth=10, max_features=auto, max_leaf_nodes=50, max_samples=None, n_estimators=500, n_jobs=-1, oob_score=True, random_state=42, verbose=1; total time= 1.2min\n"
     ]
    },
    {
     "name": "stderr",
     "output_type": "stream",
     "text": [
      "[Parallel(n_jobs=10)]: Done 180 tasks      | elapsed:    0.1s\n",
      "[Parallel(n_jobs=-1)]: Using backend ThreadingBackend with 10 concurrent workers.\n",
      "[Parallel(n_jobs=-1)]: Done  30 tasks      | elapsed:    0.9s\n",
      "[Parallel(n_jobs=10)]: Done 430 tasks      | elapsed:    0.4s\n",
      "[Parallel(n_jobs=10)]: Done 500 out of 500 | elapsed:    0.4s finished\n",
      "[Parallel(n_jobs=-1)]: Using backend ThreadingBackend with 10 concurrent workers.\n",
      "[Parallel(n_jobs=10)]: Done 430 tasks      | elapsed:    0.2s\n",
      "[Parallel(n_jobs=10)]: Done 500 out of 500 | elapsed:    0.2s finished\n"
     ]
    },
    {
     "name": "stdout",
     "output_type": "stream",
     "text": [
      "[CV] END bootstrap=True, max_depth=10, max_features=auto, max_leaf_nodes=50, max_samples=None, n_estimators=500, n_jobs=-1, oob_score=True, random_state=42, verbose=1; total time= 1.2min\n",
      "[CV] END bootstrap=True, max_depth=10, max_features=auto, max_leaf_nodes=50, max_samples=None, n_estimators=500, n_jobs=-1, oob_score=True, random_state=42, verbose=1; total time= 1.2min\n"
     ]
    },
    {
     "name": "stderr",
     "output_type": "stream",
     "text": [
      "[Parallel(n_jobs=10)]: Done  30 tasks      | elapsed:    0.3s\n",
      "[Parallel(n_jobs=10)]: Done 180 tasks      | elapsed:    0.4s\n",
      "[Parallel(n_jobs=-1)]: Using backend ThreadingBackend with 10 concurrent workers.\n",
      "[Parallel(n_jobs=10)]: Done 430 tasks      | elapsed:    0.4s\n",
      "[Parallel(n_jobs=10)]: Done 500 out of 500 | elapsed:    0.4s finished\n",
      "[Parallel(n_jobs=-1)]: Using backend ThreadingBackend with 10 concurrent workers.\n"
     ]
    },
    {
     "name": "stdout",
     "output_type": "stream",
     "text": [
      "[CV] END bootstrap=True, max_depth=10, max_features=auto, max_leaf_nodes=50, max_samples=None, n_estimators=500, n_jobs=-1, oob_score=True, random_state=42, verbose=1; total time= 1.2min\n"
     ]
    },
    {
     "name": "stderr",
     "output_type": "stream",
     "text": [
      "[Parallel(n_jobs=-1)]: Using backend ThreadingBackend with 10 concurrent workers.\n",
      "[Parallel(n_jobs=-1)]: Done  30 tasks      | elapsed:    1.8s\n",
      "[Parallel(n_jobs=-1)]: Done  30 tasks      | elapsed:    2.2s\n",
      "[Parallel(n_jobs=10)]: Using backend ThreadingBackend with 10 concurrent workers.\n",
      "[Parallel(n_jobs=10)]: Done  30 tasks      | elapsed:    0.1s\n",
      "[Parallel(n_jobs=10)]: Done 180 tasks      | elapsed:    0.1s\n",
      "[Parallel(n_jobs=10)]: Done 430 tasks      | elapsed:    0.1s\n",
      "[Parallel(n_jobs=10)]: Done 500 out of 500 | elapsed:    0.2s finished\n"
     ]
    },
    {
     "name": "stdout",
     "output_type": "stream",
     "text": [
      "[CV] END bootstrap=True, max_depth=10, max_features=auto, max_leaf_nodes=50, max_samples=None, n_estimators=500, n_jobs=-1, oob_score=True, random_state=42, verbose=1; total time= 1.2min\n"
     ]
    },
    {
     "name": "stderr",
     "output_type": "stream",
     "text": [
      "[Parallel(n_jobs=-1)]: Done  30 tasks      | elapsed:    2.8s\n",
      "[Parallel(n_jobs=-1)]: Using backend ThreadingBackend with 10 concurrent workers.\n",
      "[Parallel(n_jobs=-1)]: Done  30 tasks      | elapsed:    2.8s\n",
      "[Parallel(n_jobs=-1)]: Done  30 tasks      | elapsed:    2.9s\n",
      "[Parallel(n_jobs=-1)]: Done  30 tasks      | elapsed:    2.9s\n",
      "[Parallel(n_jobs=-1)]: Done  30 tasks      | elapsed:    3.0s\n",
      "[Parallel(n_jobs=-1)]: Done  30 tasks      | elapsed:    2.7s\n",
      "[Parallel(n_jobs=-1)]: Done  30 tasks      | elapsed:    3.0s\n",
      "[Parallel(n_jobs=-1)]: Done 180 tasks      | elapsed:   15.5s\n",
      "[Parallel(n_jobs=-1)]: Done 180 tasks      | elapsed:   16.5s\n",
      "[Parallel(n_jobs=-1)]: Done 180 tasks      | elapsed:   17.0s\n",
      "[Parallel(n_jobs=-1)]: Done 200 out of 200 | elapsed:   17.5s finished\n",
      "[Parallel(n_jobs=-1)]: Done 180 tasks      | elapsed:   18.0s\n",
      "[Parallel(n_jobs=-1)]: Done 200 out of 200 | elapsed:   18.6s finished\n",
      "[Parallel(n_jobs=-1)]: Done 180 tasks      | elapsed:   18.1s\n",
      "[Parallel(n_jobs=-1)]: Done 180 tasks      | elapsed:   18.1s\n",
      "[Parallel(n_jobs=-1)]: Done 180 tasks      | elapsed:   18.1s\n",
      "[Parallel(n_jobs=-1)]: Done 180 tasks      | elapsed:   18.1s\n",
      "[Parallel(n_jobs=-1)]: Done 180 tasks      | elapsed:   17.7s\n",
      "[Parallel(n_jobs=-1)]: Done 200 out of 200 | elapsed:   19.0s finished\n",
      "[Parallel(n_jobs=-1)]: Done 200 out of 200 | elapsed:   19.4s finished\n",
      "[Parallel(n_jobs=10)]: Using backend ThreadingBackend with 10 concurrent workers.\n",
      "[Parallel(n_jobs=10)]: Done  30 tasks      | elapsed:    0.0s\n",
      "[Parallel(n_jobs=10)]: Done 180 tasks      | elapsed:    0.0s\n",
      "[Parallel(n_jobs=10)]: Done 200 out of 200 | elapsed:    0.0s finished\n",
      "[Parallel(n_jobs=-1)]: Done 200 out of 200 | elapsed:   19.4s finished\n",
      "[Parallel(n_jobs=-1)]: Done 200 out of 200 | elapsed:   19.5s finished\n"
     ]
    },
    {
     "name": "stdout",
     "output_type": "stream",
     "text": [
      "[CV] END bootstrap=True, max_depth=5, max_features=auto, max_leaf_nodes=None, max_samples=None, n_estimators=200, n_jobs=-1, oob_score=True, random_state=42, verbose=1; total time=  20.3s\n"
     ]
    },
    {
     "name": "stderr",
     "output_type": "stream",
     "text": [
      "[Parallel(n_jobs=-1)]: Done 200 out of 200 | elapsed:   19.3s finished\n",
      "[Parallel(n_jobs=-1)]: Done 200 out of 200 | elapsed:   19.2s finished\n",
      "[Parallel(n_jobs=-1)]: Done 200 out of 200 | elapsed:   18.8s finished\n",
      "[Parallel(n_jobs=-1)]: Using backend ThreadingBackend with 10 concurrent workers.\n",
      "[Parallel(n_jobs=-1)]: Done 180 tasks      | elapsed:   16.9s\n",
      "[Parallel(n_jobs=10)]: Using backend ThreadingBackend with 10 concurrent workers.\n",
      "[Parallel(n_jobs=10)]: Done  30 tasks      | elapsed:    0.0s\n",
      "[Parallel(n_jobs=10)]: Done 180 tasks      | elapsed:    0.1s\n",
      "[Parallel(n_jobs=10)]: Done 200 out of 200 | elapsed:    0.1s finished\n"
     ]
    },
    {
     "name": "stdout",
     "output_type": "stream",
     "text": [
      "[CV] END bootstrap=True, max_depth=5, max_features=auto, max_leaf_nodes=None, max_samples=None, n_estimators=200, n_jobs=-1, oob_score=True, random_state=42, verbose=1; total time=  20.5s\n"
     ]
    },
    {
     "name": "stderr",
     "output_type": "stream",
     "text": [
      "[Parallel(n_jobs=10)]: Using backend ThreadingBackend with 10 concurrent workers.\n",
      "[Parallel(n_jobs=10)]: Done  30 tasks      | elapsed:    0.0s\n",
      "[Parallel(n_jobs=10)]: Done 180 tasks      | elapsed:    0.1s\n",
      "[Parallel(n_jobs=10)]: Done 200 out of 200 | elapsed:    0.1s finished\n",
      "[Parallel(n_jobs=-1)]: Using backend ThreadingBackend with 10 concurrent workers.\n",
      "[Parallel(n_jobs=10)]: Using backend ThreadingBackend with 10 concurrent workers.\n"
     ]
    },
    {
     "name": "stdout",
     "output_type": "stream",
     "text": [
      "[CV] END bootstrap=True, max_depth=5, max_features=auto, max_leaf_nodes=None, max_samples=None, n_estimators=200, n_jobs=-1, oob_score=True, random_state=42, verbose=1; total time=  20.7s\n"
     ]
    },
    {
     "name": "stderr",
     "output_type": "stream",
     "text": [
      "[Parallel(n_jobs=10)]: Done  30 tasks      | elapsed:    0.1s\n",
      "[Parallel(n_jobs=10)]: Done 180 tasks      | elapsed:    0.2s\n",
      "[Parallel(n_jobs=10)]: Done 200 out of 200 | elapsed:    0.2s finished\n",
      "[Parallel(n_jobs=-1)]: Done 200 out of 200 | elapsed:   17.7s finished\n",
      "[Parallel(n_jobs=10)]: Using backend ThreadingBackend with 10 concurrent workers.\n",
      "[Parallel(n_jobs=-1)]: Using backend ThreadingBackend with 10 concurrent workers.\n",
      "[Parallel(n_jobs=10)]: Done  30 tasks      | elapsed:    0.1s\n",
      "[Parallel(n_jobs=10)]: Done 180 tasks      | elapsed:    0.1s\n"
     ]
    },
    {
     "name": "stdout",
     "output_type": "stream",
     "text": [
      "[CV] END bootstrap=True, max_depth=5, max_features=auto, max_leaf_nodes=None, max_samples=None, n_estimators=200, n_jobs=-1, oob_score=True, random_state=42, verbose=1; total time=  20.6s\n",
      "[CV] END bootstrap=True, max_depth=5, max_features=auto, max_leaf_nodes=None, max_samples=None, n_estimators=200, n_jobs=-1, oob_score=True, random_state=42, verbose=1; total time=  20.8s\n"
     ]
    },
    {
     "name": "stderr",
     "output_type": "stream",
     "text": [
      "[Parallel(n_jobs=10)]: Done 200 out of 200 | elapsed:    0.1s finished\n",
      "[Parallel(n_jobs=10)]: Using backend ThreadingBackend with 10 concurrent workers.\n",
      "[Parallel(n_jobs=-1)]: Done  30 tasks      | elapsed:    1.1s\n",
      "[Parallel(n_jobs=10)]: Done  30 tasks      | elapsed:    0.0s\n",
      "[Parallel(n_jobs=10)]: Using backend ThreadingBackend with 10 concurrent workers.\n",
      "[Parallel(n_jobs=10)]: Done  30 tasks      | elapsed:    0.0s\n",
      "[Parallel(n_jobs=10)]: Done 180 tasks      | elapsed:    0.1s\n",
      "[Parallel(n_jobs=10)]: Done 200 out of 200 | elapsed:    0.1s finished\n"
     ]
    },
    {
     "name": "stdout",
     "output_type": "stream",
     "text": [
      "[CV] END bootstrap=True, max_depth=5, max_features=auto, max_leaf_nodes=None, max_samples=None, n_estimators=200, n_jobs=-1, oob_score=True, random_state=42, verbose=1; total time=  20.9s\n",
      "[CV] END bootstrap=True, max_depth=5, max_features=auto, max_leaf_nodes=None, max_samples=None, n_estimators=200, n_jobs=-1, oob_score=True, random_state=42, verbose=1; total time=  20.6s\n",
      "[CV] END bootstrap=True, max_depth=5, max_features=auto, max_leaf_nodes=None, max_samples=None, n_estimators=200, n_jobs=-1, oob_score=True, random_state=42, verbose=1; total time=  20.8s\n"
     ]
    },
    {
     "name": "stderr",
     "output_type": "stream",
     "text": [
      "[Parallel(n_jobs=-1)]: Using backend ThreadingBackend with 10 concurrent workers.\n",
      "[Parallel(n_jobs=10)]: Using backend ThreadingBackend with 10 concurrent workers.\n",
      "[Parallel(n_jobs=10)]: Done 180 tasks      | elapsed:    0.1s\n",
      "[Parallel(n_jobs=10)]: Done 200 out of 200 | elapsed:    0.1s finished\n",
      "[Parallel(n_jobs=10)]: Done  30 tasks      | elapsed:    0.0s\n",
      "[Parallel(n_jobs=10)]: Done 180 tasks      | elapsed:    0.1s\n",
      "[Parallel(n_jobs=10)]: Done 200 out of 200 | elapsed:    0.1s finished\n",
      "[Parallel(n_jobs=10)]: Using backend ThreadingBackend with 10 concurrent workers.\n",
      "[Parallel(n_jobs=10)]: Done  30 tasks      | elapsed:    0.0s\n",
      "[Parallel(n_jobs=10)]: Done 180 tasks      | elapsed:    0.0s\n",
      "[Parallel(n_jobs=10)]: Done 200 out of 200 | elapsed:    0.0s finished\n",
      "[Parallel(n_jobs=-1)]: Using backend ThreadingBackend with 10 concurrent workers.\n"
     ]
    },
    {
     "name": "stdout",
     "output_type": "stream",
     "text": [
      "[CV] END bootstrap=True, max_depth=5, max_features=auto, max_leaf_nodes=None, max_samples=None, n_estimators=200, n_jobs=-1, oob_score=True, random_state=42, verbose=1; total time=  20.6s\n"
     ]
    },
    {
     "name": "stderr",
     "output_type": "stream",
     "text": [
      "[Parallel(n_jobs=-1)]: Using backend ThreadingBackend with 10 concurrent workers.\n",
      "[Parallel(n_jobs=-1)]: Using backend ThreadingBackend with 10 concurrent workers.\n",
      "[Parallel(n_jobs=-1)]: Using backend ThreadingBackend with 10 concurrent workers.\n",
      "[Parallel(n_jobs=-1)]: Using backend ThreadingBackend with 10 concurrent workers.\n",
      "[Parallel(n_jobs=-1)]: Done  30 tasks      | elapsed:    1.9s\n",
      "[Parallel(n_jobs=-1)]: Done  30 tasks      | elapsed:    2.0s\n",
      "[Parallel(n_jobs=-1)]: Done  30 tasks      | elapsed:    2.3s\n",
      "[Parallel(n_jobs=10)]: Using backend ThreadingBackend with 10 concurrent workers.\n",
      "[Parallel(n_jobs=10)]: Done  30 tasks      | elapsed:    0.2s\n",
      "[Parallel(n_jobs=10)]: Done 180 tasks      | elapsed:    0.2s\n",
      "[Parallel(n_jobs=10)]: Done 200 out of 200 | elapsed:    0.2s finished\n"
     ]
    },
    {
     "name": "stdout",
     "output_type": "stream",
     "text": [
      "[CV] END bootstrap=True, max_depth=5, max_features=auto, max_leaf_nodes=None, max_samples=None, n_estimators=200, n_jobs=-1, oob_score=True, random_state=42, verbose=1; total time=  21.1s\n"
     ]
    },
    {
     "name": "stderr",
     "output_type": "stream",
     "text": [
      "[Parallel(n_jobs=-1)]: Done  30 tasks      | elapsed:    2.7s\n",
      "[Parallel(n_jobs=-1)]: Done  30 tasks      | elapsed:    2.7s\n",
      "[Parallel(n_jobs=-1)]: Done  30 tasks      | elapsed:    2.9s\n",
      "[Parallel(n_jobs=-1)]: Using backend ThreadingBackend with 10 concurrent workers.\n",
      "[Parallel(n_jobs=-1)]: Done  30 tasks      | elapsed:    2.8s\n",
      "[Parallel(n_jobs=-1)]: Done  30 tasks      | elapsed:    2.9s\n",
      "[Parallel(n_jobs=-1)]: Done  30 tasks      | elapsed:    3.1s\n",
      "[Parallel(n_jobs=-1)]: Done 180 tasks      | elapsed:   16.3s\n",
      "[Parallel(n_jobs=-1)]: Done 180 tasks      | elapsed:   17.2s\n",
      "[Parallel(n_jobs=-1)]: Done 180 tasks      | elapsed:   17.6s\n",
      "[Parallel(n_jobs=-1)]: Done 180 tasks      | elapsed:   17.7s\n",
      "[Parallel(n_jobs=-1)]: Done 180 tasks      | elapsed:   18.2s\n",
      "[Parallel(n_jobs=-1)]: Done 180 tasks      | elapsed:   18.5s\n",
      "[Parallel(n_jobs=-1)]: Done 180 tasks      | elapsed:   18.6s\n",
      "[Parallel(n_jobs=-1)]: Done 180 tasks      | elapsed:   18.4s\n",
      "[Parallel(n_jobs=-1)]: Done 180 tasks      | elapsed:   18.8s\n",
      "[Parallel(n_jobs=-1)]: Done 180 tasks      | elapsed:   19.0s\n",
      "[Parallel(n_jobs=-1)]: Done 430 tasks      | elapsed:   42.1s\n",
      "[Parallel(n_jobs=-1)]: Done 430 tasks      | elapsed:   43.3s\n",
      "[Parallel(n_jobs=-1)]: Done 430 tasks      | elapsed:   43.2s\n",
      "[Parallel(n_jobs=-1)]: Done 430 tasks      | elapsed:   43.5s\n",
      "[Parallel(n_jobs=-1)]: Done 430 tasks      | elapsed:   44.3s\n",
      "[Parallel(n_jobs=-1)]: Done 430 tasks      | elapsed:   44.3s\n",
      "[Parallel(n_jobs=-1)]: Done 430 tasks      | elapsed:   44.4s\n",
      "[Parallel(n_jobs=-1)]: Done 430 tasks      | elapsed:   44.4s\n",
      "[Parallel(n_jobs=-1)]: Done 430 tasks      | elapsed:   44.9s\n",
      "[Parallel(n_jobs=-1)]: Done 500 out of 500 | elapsed:   49.0s finished\n",
      "[Parallel(n_jobs=-1)]: Done 430 tasks      | elapsed:   44.8s\n",
      "[Parallel(n_jobs=-1)]: Done 500 out of 500 | elapsed:   50.2s finished\n",
      "[Parallel(n_jobs=-1)]: Done 500 out of 500 | elapsed:   50.2s finished\n",
      "[Parallel(n_jobs=-1)]: Done 500 out of 500 | elapsed:   50.1s finished\n",
      "[Parallel(n_jobs=-1)]: Done 500 out of 500 | elapsed:   50.5s finished\n",
      "[Parallel(n_jobs=-1)]: Done 500 out of 500 | elapsed:   50.3s finished\n",
      "[Parallel(n_jobs=-1)]: Done 500 out of 500 | elapsed:   50.4s finished\n",
      "[Parallel(n_jobs=-1)]: Done 500 out of 500 | elapsed:   49.9s finished\n",
      "[Parallel(n_jobs=-1)]: Done 500 out of 500 | elapsed:   50.2s finished\n",
      "[Parallel(n_jobs=-1)]: Done 500 out of 500 | elapsed:   48.0s finished\n",
      "[Parallel(n_jobs=10)]: Using backend ThreadingBackend with 10 concurrent workers.\n",
      "[Parallel(n_jobs=10)]: Done  30 tasks      | elapsed:    0.0s\n",
      "[Parallel(n_jobs=10)]: Done 180 tasks      | elapsed:    0.1s\n",
      "[Parallel(n_jobs=10)]: Done 430 tasks      | elapsed:    0.2s\n",
      "[Parallel(n_jobs=10)]: Done 500 out of 500 | elapsed:    0.2s finished\n"
     ]
    },
    {
     "name": "stdout",
     "output_type": "stream",
     "text": [
      "[CV] END bootstrap=True, max_depth=5, max_features=auto, max_leaf_nodes=None, max_samples=None, n_estimators=500, n_jobs=-1, oob_score=True, random_state=42, verbose=1; total time=  53.1s\n"
     ]
    },
    {
     "name": "stderr",
     "output_type": "stream",
     "text": [
      "[Parallel(n_jobs=-1)]: Using backend ThreadingBackend with 10 concurrent workers.\n",
      "[Parallel(n_jobs=10)]: Using backend ThreadingBackend with 10 concurrent workers.\n",
      "[Parallel(n_jobs=10)]: Done  30 tasks      | elapsed:    0.0s\n",
      "[Parallel(n_jobs=10)]: Done 180 tasks      | elapsed:    0.1s\n",
      "[Parallel(n_jobs=10)]: Using backend ThreadingBackend with 10 concurrent workers.\n",
      "[Parallel(n_jobs=10)]: Done 430 tasks      | elapsed:    0.1s\n",
      "[Parallel(n_jobs=10)]: Done 500 out of 500 | elapsed:    0.1s finished\n",
      "[Parallel(n_jobs=10)]: Done  30 tasks      | elapsed:    0.1s\n",
      "[Parallel(n_jobs=10)]: Done 180 tasks      | elapsed:    0.1s\n",
      "[Parallel(n_jobs=-1)]: Using backend ThreadingBackend with 10 concurrent workers.\n"
     ]
    },
    {
     "name": "stdout",
     "output_type": "stream",
     "text": [
      "[CV] END bootstrap=True, max_depth=5, max_features=auto, max_leaf_nodes=None, max_samples=None, n_estimators=500, n_jobs=-1, oob_score=True, random_state=42, verbose=1; total time=  52.8s\n"
     ]
    },
    {
     "name": "stderr",
     "output_type": "stream",
     "text": [
      "[Parallel(n_jobs=10)]: Done 430 tasks      | elapsed:    0.2s\n",
      "[Parallel(n_jobs=-1)]: Done  30 tasks      | elapsed:    0.6s\n",
      "[Parallel(n_jobs=10)]: Done 500 out of 500 | elapsed:    0.2s finished\n",
      "[Parallel(n_jobs=10)]: Using backend ThreadingBackend with 10 concurrent workers.\n",
      "[Parallel(n_jobs=10)]: Done  30 tasks      | elapsed:    0.0s\n",
      "[Parallel(n_jobs=10)]: Using backend ThreadingBackend with 10 concurrent workers.\n",
      "[Parallel(n_jobs=10)]: Using backend ThreadingBackend with 10 concurrent workers.\n",
      "[Parallel(n_jobs=-1)]: Using backend ThreadingBackend with 10 concurrent workers.\n",
      "[Parallel(n_jobs=10)]: Done 180 tasks      | elapsed:    0.0s\n"
     ]
    },
    {
     "name": "stdout",
     "output_type": "stream",
     "text": [
      "[CV] END bootstrap=True, max_depth=5, max_features=auto, max_leaf_nodes=None, max_samples=None, n_estimators=500, n_jobs=-1, oob_score=True, random_state=42, verbose=1; total time=  53.3s\n"
     ]
    },
    {
     "name": "stderr",
     "output_type": "stream",
     "text": [
      "[Parallel(n_jobs=10)]: Done  30 tasks      | elapsed:    0.0s\n",
      "[Parallel(n_jobs=10)]: Done 180 tasks      | elapsed:    0.1s\n",
      "[Parallel(n_jobs=10)]: Done 430 tasks      | elapsed:    0.1s\n",
      "[Parallel(n_jobs=10)]: Done 430 tasks      | elapsed:    0.1s\n",
      "[Parallel(n_jobs=10)]: Done 500 out of 500 | elapsed:    0.2s finished\n",
      "[Parallel(n_jobs=10)]: Done 500 out of 500 | elapsed:    0.2s finished\n",
      "[Parallel(n_jobs=10)]: Done  30 tasks      | elapsed:    0.2s\n",
      "[Parallel(n_jobs=10)]: Done 180 tasks      | elapsed:    0.2s\n"
     ]
    },
    {
     "name": "stdout",
     "output_type": "stream",
     "text": [
      "[CV] END bootstrap=True, max_depth=5, max_features=auto, max_leaf_nodes=None, max_samples=None, n_estimators=500, n_jobs=-1, oob_score=True, random_state=42, verbose=1; total time=  53.0s\n",
      "[CV] END bootstrap=True, max_depth=5, max_features=auto, max_leaf_nodes=None, max_samples=None, n_estimators=500, n_jobs=-1, oob_score=True, random_state=42, verbose=1; total time=  52.7s\n",
      "[CV] END bootstrap=True, max_depth=5, max_features=auto, max_leaf_nodes=None, max_samples=None, n_estimators=500, n_jobs=-1, oob_score=True, random_state=42, verbose=1; total time=  52.6s\n"
     ]
    },
    {
     "name": "stderr",
     "output_type": "stream",
     "text": [
      "[Parallel(n_jobs=10)]: Done 430 tasks      | elapsed:    0.3s\n",
      "[Parallel(n_jobs=10)]: Done 500 out of 500 | elapsed:    0.3s finished\n",
      "[Parallel(n_jobs=-1)]: Using backend ThreadingBackend with 10 concurrent workers.\n",
      "[Parallel(n_jobs=-1)]: Using backend ThreadingBackend with 10 concurrent workers.\n",
      "[Parallel(n_jobs=-1)]: Using backend ThreadingBackend with 10 concurrent workers.\n",
      "[Parallel(n_jobs=10)]: Using backend ThreadingBackend with 10 concurrent workers.\n",
      "[Parallel(n_jobs=10)]: Done  30 tasks      | elapsed:    0.1s\n",
      "[Parallel(n_jobs=10)]: Done 180 tasks      | elapsed:    0.1s\n",
      "[Parallel(n_jobs=10)]: Done 430 tasks      | elapsed:    0.2s\n",
      "[Parallel(n_jobs=10)]: Done 500 out of 500 | elapsed:    0.2s finished\n"
     ]
    },
    {
     "name": "stdout",
     "output_type": "stream",
     "text": [
      "[CV] END bootstrap=True, max_depth=5, max_features=auto, max_leaf_nodes=None, max_samples=None, n_estimators=500, n_jobs=-1, oob_score=True, random_state=42, verbose=1; total time=  53.2s\n"
     ]
    },
    {
     "name": "stderr",
     "output_type": "stream",
     "text": [
      "[Parallel(n_jobs=10)]: Using backend ThreadingBackend with 10 concurrent workers.\n",
      "[Parallel(n_jobs=10)]: Done  30 tasks      | elapsed:    0.0s\n",
      "[Parallel(n_jobs=10)]: Done 180 tasks      | elapsed:    0.1s\n",
      "[Parallel(n_jobs=-1)]: Done  30 tasks      | elapsed:    1.4s\n",
      "[Parallel(n_jobs=10)]: Done 430 tasks      | elapsed:    0.1s\n",
      "[Parallel(n_jobs=10)]: Done 500 out of 500 | elapsed:    0.1s finished\n",
      "[Parallel(n_jobs=10)]: Using backend ThreadingBackend with 10 concurrent workers.\n",
      "[Parallel(n_jobs=-1)]: Using backend ThreadingBackend with 10 concurrent workers.\n",
      "[Parallel(n_jobs=10)]: Done  30 tasks      | elapsed:    0.0s\n"
     ]
    },
    {
     "name": "stdout",
     "output_type": "stream",
     "text": [
      "[CV] END bootstrap=True, max_depth=5, max_features=auto, max_leaf_nodes=None, max_samples=None, n_estimators=500, n_jobs=-1, oob_score=True, random_state=42, verbose=1; total time=  53.3s\n",
      "[CV] END bootstrap=True, max_depth=5, max_features=auto, max_leaf_nodes=None, max_samples=None, n_estimators=500, n_jobs=-1, oob_score=True, random_state=42, verbose=1; total time=  54.0s\n"
     ]
    },
    {
     "name": "stderr",
     "output_type": "stream",
     "text": [
      "[Parallel(n_jobs=10)]: Done 180 tasks      | elapsed:    0.0s\n",
      "[Parallel(n_jobs=10)]: Done 430 tasks      | elapsed:    0.1s\n",
      "[Parallel(n_jobs=10)]: Done 500 out of 500 | elapsed:    0.1s finished\n",
      "[Parallel(n_jobs=-1)]: Using backend ThreadingBackend with 10 concurrent workers.\n",
      "[Parallel(n_jobs=-1)]: Using backend ThreadingBackend with 10 concurrent workers.\n",
      "[Parallel(n_jobs=-1)]: Done  30 tasks      | elapsed:    1.8s\n",
      "[Parallel(n_jobs=-1)]: Done  30 tasks      | elapsed:    2.2s\n",
      "[Parallel(n_jobs=-1)]: Done  30 tasks      | elapsed:    2.3s\n",
      "[Parallel(n_jobs=-1)]: Done  30 tasks      | elapsed:    2.2s\n",
      "[Parallel(n_jobs=10)]: Using backend ThreadingBackend with 10 concurrent workers.\n",
      "[Parallel(n_jobs=10)]: Done  30 tasks      | elapsed:    0.0s\n",
      "[Parallel(n_jobs=10)]: Done 180 tasks      | elapsed:    0.0s\n",
      "[Parallel(n_jobs=10)]: Done 430 tasks      | elapsed:    0.1s\n",
      "[Parallel(n_jobs=10)]: Done 500 out of 500 | elapsed:    0.2s finished\n",
      "[Parallel(n_jobs=-1)]: Done  30 tasks      | elapsed:    2.5s\n"
     ]
    },
    {
     "name": "stdout",
     "output_type": "stream",
     "text": [
      "[CV] END bootstrap=True, max_depth=5, max_features=auto, max_leaf_nodes=None, max_samples=None, n_estimators=500, n_jobs=-1, oob_score=True, random_state=42, verbose=1; total time=  53.3s\n"
     ]
    },
    {
     "name": "stderr",
     "output_type": "stream",
     "text": [
      "[Parallel(n_jobs=-1)]: Using backend ThreadingBackend with 10 concurrent workers.\n",
      "[Parallel(n_jobs=-1)]: Done  30 tasks      | elapsed:    2.6s\n",
      "[Parallel(n_jobs=-1)]: Done  30 tasks      | elapsed:    2.7s\n",
      "[Parallel(n_jobs=-1)]: Done  30 tasks      | elapsed:    3.0s\n",
      "[Parallel(n_jobs=-1)]: Done 180 tasks      | elapsed:   14.1s\n",
      "[Parallel(n_jobs=-1)]: Done 200 out of 200 | elapsed:   15.9s finished\n",
      "[Parallel(n_jobs=-1)]: Done 180 tasks      | elapsed:   15.6s\n",
      "[Parallel(n_jobs=-1)]: Done 180 tasks      | elapsed:   16.1s\n",
      "[Parallel(n_jobs=-1)]: Done 180 tasks      | elapsed:   16.5s\n",
      "[Parallel(n_jobs=-1)]: Done 200 out of 200 | elapsed:   17.3s finished\n",
      "[Parallel(n_jobs=-1)]: Done 180 tasks      | elapsed:   16.7s\n",
      "[Parallel(n_jobs=-1)]: Done 180 tasks      | elapsed:   16.5s\n",
      "[Parallel(n_jobs=-1)]: Done 200 out of 200 | elapsed:   17.8s finished\n",
      "[Parallel(n_jobs=-1)]: Done 180 tasks      | elapsed:   16.7s\n",
      "[Parallel(n_jobs=10)]: Using backend ThreadingBackend with 10 concurrent workers.\n",
      "[Parallel(n_jobs=10)]: Done  30 tasks      | elapsed:    0.0s\n",
      "[Parallel(n_jobs=-1)]: Done 180 tasks      | elapsed:   16.5s\n",
      "[Parallel(n_jobs=10)]: Done 180 tasks      | elapsed:    0.0s\n",
      "[Parallel(n_jobs=10)]: Done 200 out of 200 | elapsed:    0.0s finished\n"
     ]
    },
    {
     "name": "stdout",
     "output_type": "stream",
     "text": [
      "[CV] END bootstrap=True, max_depth=5, max_features=auto, max_leaf_nodes=10, max_samples=None, n_estimators=200, n_jobs=-1, oob_score=True, random_state=42, verbose=1; total time=  18.8s\n"
     ]
    },
    {
     "name": "stderr",
     "output_type": "stream",
     "text": [
      "[Parallel(n_jobs=-1)]: Done 200 out of 200 | elapsed:   17.9s finished\n",
      "[Parallel(n_jobs=-1)]: Done 200 out of 200 | elapsed:   18.0s finished\n",
      "[Parallel(n_jobs=-1)]: Done 180 tasks      | elapsed:   16.6s\n",
      "[Parallel(n_jobs=-1)]: Done 200 out of 200 | elapsed:   17.9s finished\n",
      "[Parallel(n_jobs=-1)]: Using backend ThreadingBackend with 10 concurrent workers.\n",
      "[Parallel(n_jobs=10)]: Using backend ThreadingBackend with 10 concurrent workers.\n",
      "[Parallel(n_jobs=10)]: Done  30 tasks      | elapsed:    0.0s\n",
      "[Parallel(n_jobs=-1)]: Done 200 out of 200 | elapsed:   17.8s finished\n",
      "[Parallel(n_jobs=10)]: Done 180 tasks      | elapsed:    0.1s\n",
      "[Parallel(n_jobs=-1)]: Done 200 out of 200 | elapsed:   17.5s finished\n",
      "[Parallel(n_jobs=10)]: Done 200 out of 200 | elapsed:    0.1s finished\n"
     ]
    },
    {
     "name": "stdout",
     "output_type": "stream",
     "text": [
      "[CV] END bootstrap=True, max_depth=5, max_features=auto, max_leaf_nodes=10, max_samples=None, n_estimators=200, n_jobs=-1, oob_score=True, random_state=42, verbose=1; total time=  19.3s\n"
     ]
    },
    {
     "name": "stderr",
     "output_type": "stream",
     "text": [
      "[Parallel(n_jobs=-1)]: Done 200 out of 200 | elapsed:   17.5s finished\n",
      "[Parallel(n_jobs=-1)]: Using backend ThreadingBackend with 10 concurrent workers.\n",
      "[Parallel(n_jobs=10)]: Using backend ThreadingBackend with 10 concurrent workers.\n",
      "[Parallel(n_jobs=-1)]: Done 180 tasks      | elapsed:   15.5s\n",
      "[Parallel(n_jobs=10)]: Done  30 tasks      | elapsed:    0.1s\n",
      "[Parallel(n_jobs=10)]: Done 180 tasks      | elapsed:    0.2s\n",
      "[Parallel(n_jobs=10)]: Done 200 out of 200 | elapsed:    0.2s finished\n",
      "[Parallel(n_jobs=10)]: Using backend ThreadingBackend with 10 concurrent workers.\n",
      "[Parallel(n_jobs=10)]: Done  30 tasks      | elapsed:    0.1s\n",
      "[Parallel(n_jobs=10)]: Done 180 tasks      | elapsed:    0.1s\n",
      "[Parallel(n_jobs=10)]: Done 200 out of 200 | elapsed:    0.1s finished\n"
     ]
    },
    {
     "name": "stdout",
     "output_type": "stream",
     "text": [
      "[CV] END bootstrap=True, max_depth=5, max_features=auto, max_leaf_nodes=10, max_samples=None, n_estimators=200, n_jobs=-1, oob_score=True, random_state=42, verbose=1; total time=  19.6s\n",
      "[CV] END bootstrap=True, max_depth=5, max_features=auto, max_leaf_nodes=10, max_samples=None, n_estimators=200, n_jobs=-1, oob_score=True, random_state=42, verbose=1; total time=  19.4s\n"
     ]
    },
    {
     "name": "stderr",
     "output_type": "stream",
     "text": [
      "[Parallel(n_jobs=-1)]: Done  30 tasks      | elapsed:    1.2s\n",
      "[Parallel(n_jobs=10)]: Using backend ThreadingBackend with 10 concurrent workers.\n",
      "[Parallel(n_jobs=10)]: Done  30 tasks      | elapsed:    0.0s\n",
      "[Parallel(n_jobs=10)]: Done 180 tasks      | elapsed:    0.0s\n",
      "[Parallel(n_jobs=10)]: Done 200 out of 200 | elapsed:    0.0s finished\n",
      "[Parallel(n_jobs=10)]: Using backend ThreadingBackend with 10 concurrent workers.\n",
      "[Parallel(n_jobs=10)]: Done  30 tasks      | elapsed:    0.0s\n",
      "[Parallel(n_jobs=-1)]: Using backend ThreadingBackend with 10 concurrent workers.\n",
      "[Parallel(n_jobs=10)]: Done 180 tasks      | elapsed:    0.0s\n",
      "[Parallel(n_jobs=10)]: Done 200 out of 200 | elapsed:    0.0s finished\n"
     ]
    },
    {
     "name": "stdout",
     "output_type": "stream",
     "text": [
      "[CV] END bootstrap=True, max_depth=5, max_features=auto, max_leaf_nodes=10, max_samples=None, n_estimators=200, n_jobs=-1, oob_score=True, random_state=42, verbose=1; total time=  19.6s\n",
      "[CV] END bootstrap=True, max_depth=5, max_features=auto, max_leaf_nodes=10, max_samples=None, n_estimators=200, n_jobs=-1, oob_score=True, random_state=42, verbose=1; total time=  19.6s\n"
     ]
    },
    {
     "name": "stderr",
     "output_type": "stream",
     "text": [
      "[Parallel(n_jobs=-1)]: Using backend ThreadingBackend with 10 concurrent workers.\n",
      "[Parallel(n_jobs=-1)]: Done 200 out of 200 | elapsed:   16.3s finished\n",
      "[Parallel(n_jobs=-1)]: Using backend ThreadingBackend with 10 concurrent workers.\n",
      "[Parallel(n_jobs=-1)]: Using backend ThreadingBackend with 10 concurrent workers.\n",
      "[Parallel(n_jobs=10)]: Using backend ThreadingBackend with 10 concurrent workers.\n",
      "[Parallel(n_jobs=10)]: Using backend ThreadingBackend with 10 concurrent workers.\n",
      "[Parallel(n_jobs=10)]: Done  30 tasks      | elapsed:    0.0s\n",
      "[Parallel(n_jobs=10)]: Done  30 tasks      | elapsed:    0.0s\n",
      "[Parallel(n_jobs=10)]: Done 180 tasks      | elapsed:    0.1s\n",
      "[Parallel(n_jobs=10)]: Done 200 out of 200 | elapsed:    0.1s finished\n",
      "[Parallel(n_jobs=10)]: Done 180 tasks      | elapsed:    0.1s\n",
      "[Parallel(n_jobs=10)]: Done 200 out of 200 | elapsed:    0.1s finished\n",
      "[Parallel(n_jobs=-1)]: Done  30 tasks      | elapsed:    1.4s\n"
     ]
    },
    {
     "name": "stdout",
     "output_type": "stream",
     "text": [
      "[CV] END bootstrap=True, max_depth=5, max_features=auto, max_leaf_nodes=10, max_samples=None, n_estimators=200, n_jobs=-1, oob_score=True, random_state=42, verbose=1; total time=  19.3s\n",
      "[CV] END bootstrap=True, max_depth=5, max_features=auto, max_leaf_nodes=10, max_samples=None, n_estimators=200, n_jobs=-1, oob_score=True, random_state=42, verbose=1; total time=  19.8s\n"
     ]
    },
    {
     "name": "stderr",
     "output_type": "stream",
     "text": [
      "[Parallel(n_jobs=10)]: Using backend ThreadingBackend with 10 concurrent workers.\n",
      "[Parallel(n_jobs=10)]: Done  30 tasks      | elapsed:    0.1s\n",
      "[Parallel(n_jobs=10)]: Done 180 tasks      | elapsed:    0.1s\n",
      "[Parallel(n_jobs=10)]: Done 200 out of 200 | elapsed:    0.1s finished\n"
     ]
    },
    {
     "name": "stdout",
     "output_type": "stream",
     "text": [
      "[CV] END bootstrap=True, max_depth=5, max_features=auto, max_leaf_nodes=10, max_samples=None, n_estimators=200, n_jobs=-1, oob_score=True, random_state=42, verbose=1; total time=  19.5s\n"
     ]
    },
    {
     "name": "stderr",
     "output_type": "stream",
     "text": [
      "[Parallel(n_jobs=-1)]: Using backend ThreadingBackend with 10 concurrent workers.\n",
      "[Parallel(n_jobs=-1)]: Using backend ThreadingBackend with 10 concurrent workers.\n",
      "[Parallel(n_jobs=-1)]: Done  30 tasks      | elapsed:    2.0s\n",
      "[Parallel(n_jobs=-1)]: Using backend ThreadingBackend with 10 concurrent workers.\n",
      "[Parallel(n_jobs=-1)]: Done  30 tasks      | elapsed:    2.0s\n",
      "[Parallel(n_jobs=-1)]: Done  30 tasks      | elapsed:    2.1s\n",
      "[Parallel(n_jobs=-1)]: Done  30 tasks      | elapsed:    2.2s\n",
      "[Parallel(n_jobs=10)]: Using backend ThreadingBackend with 10 concurrent workers.\n",
      "[Parallel(n_jobs=10)]: Done  30 tasks      | elapsed:    0.1s\n",
      "[Parallel(n_jobs=10)]: Done 180 tasks      | elapsed:    0.1s\n",
      "[Parallel(n_jobs=10)]: Done 200 out of 200 | elapsed:    0.1s finished\n"
     ]
    },
    {
     "name": "stdout",
     "output_type": "stream",
     "text": [
      "[CV] END bootstrap=True, max_depth=5, max_features=auto, max_leaf_nodes=10, max_samples=None, n_estimators=200, n_jobs=-1, oob_score=True, random_state=42, verbose=1; total time=  19.4s\n"
     ]
    },
    {
     "name": "stderr",
     "output_type": "stream",
     "text": [
      "[Parallel(n_jobs=-1)]: Done  30 tasks      | elapsed:    2.4s\n",
      "[Parallel(n_jobs=-1)]: Done  30 tasks      | elapsed:    2.7s\n",
      "[Parallel(n_jobs=-1)]: Using backend ThreadingBackend with 10 concurrent workers.\n",
      "[Parallel(n_jobs=-1)]: Done  30 tasks      | elapsed:    2.7s\n",
      "[Parallel(n_jobs=-1)]: Done  30 tasks      | elapsed:    2.7s\n",
      "[Parallel(n_jobs=-1)]: Done 180 tasks      | elapsed:   14.2s\n",
      "[Parallel(n_jobs=-1)]: Done 180 tasks      | elapsed:   15.4s\n",
      "[Parallel(n_jobs=-1)]: Done 180 tasks      | elapsed:   16.7s\n",
      "[Parallel(n_jobs=-1)]: Done 180 tasks      | elapsed:   16.9s\n",
      "[Parallel(n_jobs=-1)]: Done 180 tasks      | elapsed:   16.9s\n",
      "[Parallel(n_jobs=-1)]: Done 180 tasks      | elapsed:   17.1s\n",
      "[Parallel(n_jobs=-1)]: Done 180 tasks      | elapsed:   17.4s\n",
      "[Parallel(n_jobs=-1)]: Done 180 tasks      | elapsed:   17.7s\n",
      "[Parallel(n_jobs=-1)]: Done 180 tasks      | elapsed:   17.6s\n",
      "[Parallel(n_jobs=-1)]: Done 180 tasks      | elapsed:   17.9s\n",
      "[Parallel(n_jobs=-1)]: Done 430 tasks      | elapsed:   38.5s\n",
      "[Parallel(n_jobs=-1)]: Done 430 tasks      | elapsed:   39.8s\n",
      "[Parallel(n_jobs=-1)]: Done 430 tasks      | elapsed:   41.1s\n",
      "[Parallel(n_jobs=-1)]: Done 430 tasks      | elapsed:   41.3s\n",
      "[Parallel(n_jobs=-1)]: Done 430 tasks      | elapsed:   41.1s\n",
      "[Parallel(n_jobs=-1)]: Done 430 tasks      | elapsed:   41.3s\n",
      "[Parallel(n_jobs=-1)]: Done 430 tasks      | elapsed:   41.6s\n",
      "[Parallel(n_jobs=-1)]: Done 430 tasks      | elapsed:   41.7s\n",
      "[Parallel(n_jobs=-1)]: Done 430 tasks      | elapsed:   41.7s\n",
      "[Parallel(n_jobs=-1)]: Done 500 out of 500 | elapsed:   45.5s finished\n",
      "[Parallel(n_jobs=-1)]: Done 430 tasks      | elapsed:   41.5s\n",
      "[Parallel(n_jobs=-1)]: Done 500 out of 500 | elapsed:   46.6s finished\n",
      "[Parallel(n_jobs=-1)]: Done 500 out of 500 | elapsed:   47.4s finished\n",
      "[Parallel(n_jobs=-1)]: Done 500 out of 500 | elapsed:   47.5s finished\n",
      "[Parallel(n_jobs=-1)]: Done 500 out of 500 | elapsed:   47.4s finished\n",
      "[Parallel(n_jobs=-1)]: Done 500 out of 500 | elapsed:   47.4s finished\n",
      "[Parallel(n_jobs=-1)]: Done 500 out of 500 | elapsed:   46.9s finished\n",
      "[Parallel(n_jobs=-1)]: Done 500 out of 500 | elapsed:   47.0s finished\n",
      "[Parallel(n_jobs=-1)]: Done 500 out of 500 | elapsed:   46.5s finished\n",
      "[Parallel(n_jobs=10)]: Using backend ThreadingBackend with 10 concurrent workers.\n",
      "[Parallel(n_jobs=-1)]: Done 500 out of 500 | elapsed:   44.7s finished\n",
      "[Parallel(n_jobs=10)]: Done  30 tasks      | elapsed:    0.0s\n",
      "[Parallel(n_jobs=10)]: Done 180 tasks      | elapsed:    0.1s\n",
      "[Parallel(n_jobs=10)]: Done 430 tasks      | elapsed:    0.1s\n",
      "[Parallel(n_jobs=10)]: Done 500 out of 500 | elapsed:    0.1s finished\n",
      "[Parallel(n_jobs=10)]: Using backend ThreadingBackend with 10 concurrent workers.\n",
      "[Parallel(n_jobs=10)]: Done  30 tasks      | elapsed:    0.0s\n"
     ]
    },
    {
     "name": "stdout",
     "output_type": "stream",
     "text": [
      "[CV] END bootstrap=True, max_depth=5, max_features=auto, max_leaf_nodes=10, max_samples=None, n_estimators=500, n_jobs=-1, oob_score=True, random_state=42, verbose=1; total time=  50.8s\n",
      "[CV] END bootstrap=True, max_depth=5, max_features=auto, max_leaf_nodes=10, max_samples=None, n_estimators=500, n_jobs=-1, oob_score=True, random_state=42, verbose=1; total time=  50.1s\n"
     ]
    },
    {
     "name": "stderr",
     "output_type": "stream",
     "text": [
      "[Parallel(n_jobs=10)]: Done 180 tasks      | elapsed:    0.0s\n",
      "[Parallel(n_jobs=-1)]: Using backend ThreadingBackend with 10 concurrent workers.\n",
      "[Parallel(n_jobs=10)]: Done 430 tasks      | elapsed:    0.1s\n",
      "[Parallel(n_jobs=10)]: Done 500 out of 500 | elapsed:    0.1s finished\n",
      "[Parallel(n_jobs=-1)]: Using backend ThreadingBackend with 10 concurrent workers.\n",
      "[Parallel(n_jobs=10)]: Using backend ThreadingBackend with 10 concurrent workers.\n",
      "[Parallel(n_jobs=10)]: Done  30 tasks      | elapsed:    0.0s\n",
      "[Parallel(n_jobs=10)]: Done 180 tasks      | elapsed:    0.0s\n",
      "[Parallel(n_jobs=10)]: Done 430 tasks      | elapsed:    0.1s\n",
      "[Parallel(n_jobs=10)]: Done 500 out of 500 | elapsed:    0.1s finished\n",
      "[Parallel(n_jobs=10)]: Using backend ThreadingBackend with 10 concurrent workers.\n",
      "[Parallel(n_jobs=10)]: Done  30 tasks      | elapsed:    0.0s\n",
      "[Parallel(n_jobs=10)]: Done 180 tasks      | elapsed:    0.0s\n",
      "[Parallel(n_jobs=10)]: Done 430 tasks      | elapsed:    0.0s\n",
      "[Parallel(n_jobs=10)]: Done 500 out of 500 | elapsed:    0.0s finished\n",
      "[Parallel(n_jobs=-1)]: Done  30 tasks      | elapsed:    0.9s\n"
     ]
    },
    {
     "name": "stdout",
     "output_type": "stream",
     "text": [
      "[CV] END bootstrap=True, max_depth=5, max_features=auto, max_leaf_nodes=10, max_samples=None, n_estimators=500, n_jobs=-1, oob_score=True, random_state=42, verbose=1; total time=  50.3s\n",
      "[CV] END bootstrap=True, max_depth=5, max_features=auto, max_leaf_nodes=10, max_samples=None, n_estimators=500, n_jobs=-1, oob_score=True, random_state=42, verbose=1; total time=  50.2s\n"
     ]
    },
    {
     "name": "stderr",
     "output_type": "stream",
     "text": [
      "[Parallel(n_jobs=-1)]: Using backend ThreadingBackend with 10 concurrent workers.\n",
      "[Parallel(n_jobs=10)]: Using backend ThreadingBackend with 10 concurrent workers.\n",
      "[Parallel(n_jobs=10)]: Using backend ThreadingBackend with 10 concurrent workers.\n",
      "[Parallel(n_jobs=10)]: Done  30 tasks      | elapsed:    0.1s\n",
      "[Parallel(n_jobs=10)]: Done 180 tasks      | elapsed:    0.1s\n",
      "[Parallel(n_jobs=-1)]: Using backend ThreadingBackend with 10 concurrent workers.\n",
      "[Parallel(n_jobs=10)]: Done 430 tasks      | elapsed:    0.2s\n",
      "[Parallel(n_jobs=10)]: Done 500 out of 500 | elapsed:    0.2s finished\n",
      "[Parallel(n_jobs=10)]: Done  30 tasks      | elapsed:    0.2s\n",
      "[Parallel(n_jobs=10)]: Done 180 tasks      | elapsed:    0.2s\n",
      "[Parallel(n_jobs=-1)]: Done  30 tasks      | elapsed:    1.1s\n",
      "[Parallel(n_jobs=10)]: Done 430 tasks      | elapsed:    0.3s\n",
      "[Parallel(n_jobs=10)]: Done 500 out of 500 | elapsed:    0.3s finished\n"
     ]
    },
    {
     "name": "stdout",
     "output_type": "stream",
     "text": [
      "[CV] END bootstrap=True, max_depth=5, max_features=auto, max_leaf_nodes=10, max_samples=None, n_estimators=500, n_jobs=-1, oob_score=True, random_state=42, verbose=1; total time=  50.4s\n",
      "[CV] END bootstrap=True, max_depth=5, max_features=auto, max_leaf_nodes=10, max_samples=None, n_estimators=500, n_jobs=-1, oob_score=True, random_state=42, verbose=1; total time=  50.5s\n"
     ]
    },
    {
     "name": "stderr",
     "output_type": "stream",
     "text": [
      "[Parallel(n_jobs=-1)]: Using backend ThreadingBackend with 10 concurrent workers.\n",
      "[Parallel(n_jobs=-1)]: Using backend ThreadingBackend with 10 concurrent workers.\n",
      "[Parallel(n_jobs=10)]: Using backend ThreadingBackend with 10 concurrent workers.\n",
      "[Parallel(n_jobs=10)]: Using backend ThreadingBackend with 10 concurrent workers.\n",
      "[Parallel(n_jobs=10)]: Done  30 tasks      | elapsed:    0.2s\n",
      "[Parallel(n_jobs=10)]: Done  30 tasks      | elapsed:    0.0s\n",
      "[Parallel(n_jobs=10)]: Done 180 tasks      | elapsed:    0.2s\n",
      "[Parallel(n_jobs=10)]: Done 180 tasks      | elapsed:    0.0s\n",
      "[Parallel(n_jobs=10)]: Done 430 tasks      | elapsed:    0.3s\n",
      "[Parallel(n_jobs=10)]: Done 430 tasks      | elapsed:    0.1s\n",
      "[Parallel(n_jobs=10)]: Done 500 out of 500 | elapsed:    0.3s finished\n",
      "[Parallel(n_jobs=10)]: Done 500 out of 500 | elapsed:    0.1s finished\n"
     ]
    },
    {
     "name": "stdout",
     "output_type": "stream",
     "text": [
      "[CV] END bootstrap=True, max_depth=5, max_features=auto, max_leaf_nodes=10, max_samples=None, n_estimators=500, n_jobs=-1, oob_score=True, random_state=42, verbose=1; total time=  50.1s\n",
      "[CV] END bootstrap=True, max_depth=5, max_features=auto, max_leaf_nodes=10, max_samples=None, n_estimators=500, n_jobs=-1, oob_score=True, random_state=42, verbose=1; total time=  50.2s\n"
     ]
    },
    {
     "name": "stderr",
     "output_type": "stream",
     "text": [
      "[Parallel(n_jobs=-1)]: Using backend ThreadingBackend with 10 concurrent workers.\n",
      "[Parallel(n_jobs=-1)]: Using backend ThreadingBackend with 10 concurrent workers.\n",
      "[Parallel(n_jobs=10)]: Using backend ThreadingBackend with 10 concurrent workers.\n",
      "[Parallel(n_jobs=10)]: Done  30 tasks      | elapsed:    0.0s\n",
      "[Parallel(n_jobs=-1)]: Done  30 tasks      | elapsed:    2.0s\n",
      "[Parallel(n_jobs=10)]: Done 180 tasks      | elapsed:    0.0s\n",
      "[Parallel(n_jobs=10)]: Done 430 tasks      | elapsed:    0.1s\n",
      "[Parallel(n_jobs=10)]: Done 500 out of 500 | elapsed:    0.1s finished\n"
     ]
    },
    {
     "name": "stdout",
     "output_type": "stream",
     "text": [
      "[CV] END bootstrap=True, max_depth=5, max_features=auto, max_leaf_nodes=10, max_samples=None, n_estimators=500, n_jobs=-1, oob_score=True, random_state=42, verbose=1; total time=  51.0s\n"
     ]
    },
    {
     "name": "stderr",
     "output_type": "stream",
     "text": [
      "[Parallel(n_jobs=-1)]: Done  30 tasks      | elapsed:    2.3s\n",
      "[Parallel(n_jobs=-1)]: Using backend ThreadingBackend with 10 concurrent workers.\n",
      "[Parallel(n_jobs=-1)]: Done  30 tasks      | elapsed:    2.5s\n",
      "[Parallel(n_jobs=10)]: Using backend ThreadingBackend with 10 concurrent workers.\n",
      "[Parallel(n_jobs=-1)]: Done  30 tasks      | elapsed:    2.6s\n",
      "[Parallel(n_jobs=10)]: Done  30 tasks      | elapsed:    0.2s\n",
      "[Parallel(n_jobs=10)]: Done 180 tasks      | elapsed:    0.2s\n",
      "[Parallel(n_jobs=10)]: Done 430 tasks      | elapsed:    0.2s\n",
      "[Parallel(n_jobs=10)]: Done 500 out of 500 | elapsed:    0.2s finished\n"
     ]
    },
    {
     "name": "stdout",
     "output_type": "stream",
     "text": [
      "[CV] END bootstrap=True, max_depth=5, max_features=auto, max_leaf_nodes=10, max_samples=None, n_estimators=500, n_jobs=-1, oob_score=True, random_state=42, verbose=1; total time=  50.1s\n"
     ]
    },
    {
     "name": "stderr",
     "output_type": "stream",
     "text": [
      "[Parallel(n_jobs=-1)]: Done  30 tasks      | elapsed:    2.7s\n",
      "[Parallel(n_jobs=-1)]: Using backend ThreadingBackend with 10 concurrent workers.\n",
      "[Parallel(n_jobs=-1)]: Done  30 tasks      | elapsed:    2.8s\n",
      "[Parallel(n_jobs=-1)]: Done  30 tasks      | elapsed:    2.9s\n",
      "[Parallel(n_jobs=-1)]: Done  30 tasks      | elapsed:    2.9s\n",
      "[Parallel(n_jobs=-1)]: Done 180 tasks      | elapsed:   15.6s\n",
      "[Parallel(n_jobs=-1)]: Done 180 tasks      | elapsed:   16.7s\n",
      "[Parallel(n_jobs=-1)]: Done 200 out of 200 | elapsed:   17.7s finished\n",
      "[Parallel(n_jobs=-1)]: Done 200 out of 200 | elapsed:   18.6s finished\n",
      "[Parallel(n_jobs=-1)]: Done 180 tasks      | elapsed:   18.0s\n",
      "[Parallel(n_jobs=-1)]: Done 180 tasks      | elapsed:   18.2s\n",
      "[Parallel(n_jobs=-1)]: Done 180 tasks      | elapsed:   18.1s\n",
      "[Parallel(n_jobs=-1)]: Done 180 tasks      | elapsed:   18.3s\n",
      "[Parallel(n_jobs=-1)]: Done 180 tasks      | elapsed:   18.2s\n",
      "[Parallel(n_jobs=10)]: Using backend ThreadingBackend with 10 concurrent workers.\n",
      "[Parallel(n_jobs=10)]: Done  30 tasks      | elapsed:    0.0s\n",
      "[Parallel(n_jobs=-1)]: Done 180 tasks      | elapsed:   18.2s\n",
      "[Parallel(n_jobs=10)]: Done 180 tasks      | elapsed:    0.1s\n",
      "[Parallel(n_jobs=10)]: Done 200 out of 200 | elapsed:    0.1s finished\n"
     ]
    },
    {
     "name": "stdout",
     "output_type": "stream",
     "text": [
      "[CV] END bootstrap=True, max_depth=5, max_features=auto, max_leaf_nodes=20, max_samples=None, n_estimators=200, n_jobs=-1, oob_score=True, random_state=42, verbose=1; total time=  20.6s\n"
     ]
    },
    {
     "name": "stderr",
     "output_type": "stream",
     "text": [
      "[Parallel(n_jobs=-1)]: Done 200 out of 200 | elapsed:   19.7s finished\n",
      "[Parallel(n_jobs=-1)]: Done 200 out of 200 | elapsed:   19.7s finished\n",
      "[Parallel(n_jobs=-1)]: Done 200 out of 200 | elapsed:   19.6s finished\n",
      "[Parallel(n_jobs=-1)]: Done 200 out of 200 | elapsed:   19.6s finished\n",
      "[Parallel(n_jobs=-1)]: Using backend ThreadingBackend with 10 concurrent workers.\n",
      "[Parallel(n_jobs=10)]: Using backend ThreadingBackend with 10 concurrent workers.\n",
      "[Parallel(n_jobs=10)]: Done  30 tasks      | elapsed:    0.0s\n",
      "[Parallel(n_jobs=10)]: Done 180 tasks      | elapsed:    0.0s\n",
      "[Parallel(n_jobs=10)]: Done 200 out of 200 | elapsed:    0.0s finished\n",
      "[Parallel(n_jobs=-1)]: Done 180 tasks      | elapsed:   17.9s\n"
     ]
    },
    {
     "name": "stdout",
     "output_type": "stream",
     "text": [
      "[CV] END bootstrap=True, max_depth=5, max_features=auto, max_leaf_nodes=20, max_samples=None, n_estimators=200, n_jobs=-1, oob_score=True, random_state=42, verbose=1; total time=  21.2s\n"
     ]
    },
    {
     "name": "stderr",
     "output_type": "stream",
     "text": [
      "[Parallel(n_jobs=-1)]: Done 200 out of 200 | elapsed:   19.4s finished\n",
      "[Parallel(n_jobs=-1)]: Done 200 out of 200 | elapsed:   19.5s finished\n",
      "[Parallel(n_jobs=-1)]: Using backend ThreadingBackend with 10 concurrent workers.\n",
      "[Parallel(n_jobs=-1)]: Done 180 tasks      | elapsed:   17.1s\n",
      "[Parallel(n_jobs=10)]: Using backend ThreadingBackend with 10 concurrent workers.\n",
      "[Parallel(n_jobs=10)]: Done  30 tasks      | elapsed:    0.0s\n",
      "[Parallel(n_jobs=10)]: Done 180 tasks      | elapsed:    0.0s\n",
      "[Parallel(n_jobs=10)]: Done 200 out of 200 | elapsed:    0.1s finished\n",
      "[Parallel(n_jobs=-1)]: Done 200 out of 200 | elapsed:   18.9s finished\n"
     ]
    },
    {
     "name": "stdout",
     "output_type": "stream",
     "text": [
      "[CV] END bootstrap=True, max_depth=5, max_features=auto, max_leaf_nodes=20, max_samples=None, n_estimators=200, n_jobs=-1, oob_score=True, random_state=42, verbose=1; total time=  21.5s\n"
     ]
    },
    {
     "name": "stderr",
     "output_type": "stream",
     "text": [
      "[Parallel(n_jobs=10)]: Using backend ThreadingBackend with 10 concurrent workers.\n",
      "[Parallel(n_jobs=10)]: Done  30 tasks      | elapsed:    0.0s\n",
      "[Parallel(n_jobs=10)]: Done 180 tasks      | elapsed:    0.0s\n",
      "[Parallel(n_jobs=10)]: Done 200 out of 200 | elapsed:    0.0s finished\n",
      "[Parallel(n_jobs=10)]: Using backend ThreadingBackend with 10 concurrent workers.\n",
      "[Parallel(n_jobs=-1)]: Done  30 tasks      | elapsed:    1.5s\n",
      "[Parallel(n_jobs=10)]: Done  30 tasks      | elapsed:    0.0s\n",
      "[Parallel(n_jobs=10)]: Using backend ThreadingBackend with 10 concurrent workers.\n",
      "[Parallel(n_jobs=10)]: Done 180 tasks      | elapsed:    0.0s\n",
      "[Parallel(n_jobs=10)]: Done 200 out of 200 | elapsed:    0.0s finished\n",
      "[Parallel(n_jobs=-1)]: Using backend ThreadingBackend with 10 concurrent workers.\n"
     ]
    },
    {
     "name": "stdout",
     "output_type": "stream",
     "text": [
      "[CV] END bootstrap=True, max_depth=5, max_features=auto, max_leaf_nodes=20, max_samples=None, n_estimators=200, n_jobs=-1, oob_score=True, random_state=42, verbose=1; total time=  21.7s\n",
      "[CV] END bootstrap=True, max_depth=5, max_features=auto, max_leaf_nodes=20, max_samples=None, n_estimators=200, n_jobs=-1, oob_score=True, random_state=42, verbose=1; total time=  21.3s\n"
     ]
    },
    {
     "name": "stderr",
     "output_type": "stream",
     "text": [
      "[Parallel(n_jobs=10)]: Done  30 tasks      | elapsed:    0.2s\n",
      "[Parallel(n_jobs=10)]: Done 180 tasks      | elapsed:    0.2s\n",
      "[Parallel(n_jobs=10)]: Done 200 out of 200 | elapsed:    0.2s finished\n",
      "[Parallel(n_jobs=-1)]: Using backend ThreadingBackend with 10 concurrent workers.\n",
      "[Parallel(n_jobs=-1)]: Done 200 out of 200 | elapsed:   18.1s finished\n",
      "[Parallel(n_jobs=-1)]: Using backend ThreadingBackend with 10 concurrent workers.\n"
     ]
    },
    {
     "name": "stdout",
     "output_type": "stream",
     "text": [
      "[CV] END bootstrap=True, max_depth=5, max_features=auto, max_leaf_nodes=20, max_samples=None, n_estimators=200, n_jobs=-1, oob_score=True, random_state=42, verbose=1; total time=  21.5s\n"
     ]
    },
    {
     "name": "stderr",
     "output_type": "stream",
     "text": [
      "[Parallel(n_jobs=-1)]: Done  30 tasks      | elapsed:    1.4s\n",
      "[Parallel(n_jobs=10)]: Using backend ThreadingBackend with 10 concurrent workers.\n",
      "[Parallel(n_jobs=10)]: Done  30 tasks      | elapsed:    0.0s\n",
      "[Parallel(n_jobs=10)]: Using backend ThreadingBackend with 10 concurrent workers.\n",
      "[Parallel(n_jobs=10)]: Done 180 tasks      | elapsed:    0.0s\n",
      "[Parallel(n_jobs=10)]: Done  30 tasks      | elapsed:    0.0s\n",
      "[Parallel(n_jobs=10)]: Done 200 out of 200 | elapsed:    0.0s finished\n"
     ]
    },
    {
     "name": "stdout",
     "output_type": "stream",
     "text": [
      "[CV] END bootstrap=True, max_depth=5, max_features=auto, max_leaf_nodes=20, max_samples=None, n_estimators=200, n_jobs=-1, oob_score=True, random_state=42, verbose=1; total time=  21.4s\n",
      "[CV] END bootstrap=True, max_depth=5, max_features=auto, max_leaf_nodes=20, max_samples=None, n_estimators=200, n_jobs=-1, oob_score=True, random_state=42, verbose=1; total time=  21.4s\n"
     ]
    },
    {
     "name": "stderr",
     "output_type": "stream",
     "text": [
      "[Parallel(n_jobs=10)]: Done 180 tasks      | elapsed:    0.1s\n",
      "[Parallel(n_jobs=10)]: Done 200 out of 200 | elapsed:    0.1s finished\n",
      "[Parallel(n_jobs=-1)]: Using backend ThreadingBackend with 10 concurrent workers.\n",
      "[Parallel(n_jobs=-1)]: Using backend ThreadingBackend with 10 concurrent workers.\n",
      "[Parallel(n_jobs=-1)]: Using backend ThreadingBackend with 10 concurrent workers.\n",
      "[Parallel(n_jobs=10)]: Using backend ThreadingBackend with 10 concurrent workers.\n",
      "[Parallel(n_jobs=10)]: Done  30 tasks      | elapsed:    0.0s\n",
      "[Parallel(n_jobs=10)]: Done 180 tasks      | elapsed:    0.1s\n",
      "[Parallel(n_jobs=10)]: Done 200 out of 200 | elapsed:    0.1s finished\n"
     ]
    },
    {
     "name": "stdout",
     "output_type": "stream",
     "text": [
      "[CV] END bootstrap=True, max_depth=5, max_features=auto, max_leaf_nodes=20, max_samples=None, n_estimators=200, n_jobs=-1, oob_score=True, random_state=42, verbose=1; total time=  21.2s\n"
     ]
    },
    {
     "name": "stderr",
     "output_type": "stream",
     "text": [
      "[Parallel(n_jobs=-1)]: Done  30 tasks      | elapsed:    1.9s\n",
      "[Parallel(n_jobs=-1)]: Using backend ThreadingBackend with 10 concurrent workers.\n",
      "[Parallel(n_jobs=-1)]: Done  30 tasks      | elapsed:    2.1s\n",
      "[Parallel(n_jobs=-1)]: Done  30 tasks      | elapsed:    2.3s\n",
      "[Parallel(n_jobs=10)]: Using backend ThreadingBackend with 10 concurrent workers.\n",
      "[Parallel(n_jobs=10)]: Done  30 tasks      | elapsed:    0.1s\n",
      "[Parallel(n_jobs=10)]: Done 180 tasks      | elapsed:    0.1s\n",
      "[Parallel(n_jobs=10)]: Done 200 out of 200 | elapsed:    0.1s finished\n"
     ]
    },
    {
     "name": "stdout",
     "output_type": "stream",
     "text": [
      "[CV] END bootstrap=True, max_depth=5, max_features=auto, max_leaf_nodes=20, max_samples=None, n_estimators=200, n_jobs=-1, oob_score=True, random_state=42, verbose=1; total time=  21.0s\n"
     ]
    },
    {
     "name": "stderr",
     "output_type": "stream",
     "text": [
      "[Parallel(n_jobs=-1)]: Done  30 tasks      | elapsed:    2.4s\n",
      "[Parallel(n_jobs=-1)]: Using backend ThreadingBackend with 10 concurrent workers.\n",
      "[Parallel(n_jobs=-1)]: Done  30 tasks      | elapsed:    2.6s\n",
      "[Parallel(n_jobs=-1)]: Done  30 tasks      | elapsed:    2.7s\n",
      "[Parallel(n_jobs=-1)]: Done  30 tasks      | elapsed:    3.0s\n",
      "[Parallel(n_jobs=-1)]: Done  30 tasks      | elapsed:    2.9s\n",
      "[Parallel(n_jobs=-1)]: Done 180 tasks      | elapsed:   15.5s\n",
      "[Parallel(n_jobs=-1)]: Done 180 tasks      | elapsed:   16.0s\n",
      "[Parallel(n_jobs=-1)]: Done 180 tasks      | elapsed:   17.0s\n",
      "[Parallel(n_jobs=-1)]: Done 180 tasks      | elapsed:   17.3s\n",
      "[Parallel(n_jobs=-1)]: Done 180 tasks      | elapsed:   17.3s\n",
      "[Parallel(n_jobs=-1)]: Done 180 tasks      | elapsed:   17.8s\n",
      "[Parallel(n_jobs=-1)]: Done 180 tasks      | elapsed:   17.9s\n",
      "[Parallel(n_jobs=-1)]: Done 180 tasks      | elapsed:   18.0s\n",
      "[Parallel(n_jobs=-1)]: Done 180 tasks      | elapsed:   18.2s\n",
      "[Parallel(n_jobs=-1)]: Done 180 tasks      | elapsed:   18.3s\n",
      "[Parallel(n_jobs=-1)]: Done 430 tasks      | elapsed:   40.5s\n",
      "[Parallel(n_jobs=-1)]: Done 430 tasks      | elapsed:   41.1s\n",
      "[Parallel(n_jobs=-1)]: Done 430 tasks      | elapsed:   42.2s\n",
      "[Parallel(n_jobs=-1)]: Done 430 tasks      | elapsed:   42.6s\n",
      "[Parallel(n_jobs=-1)]: Done 430 tasks      | elapsed:   42.7s\n",
      "[Parallel(n_jobs=-1)]: Done 430 tasks      | elapsed:   42.7s\n",
      "[Parallel(n_jobs=-1)]: Done 430 tasks      | elapsed:   42.9s\n",
      "[Parallel(n_jobs=-1)]: Done 430 tasks      | elapsed:   43.0s\n",
      "[Parallel(n_jobs=-1)]: Done 430 tasks      | elapsed:   43.5s\n",
      "[Parallel(n_jobs=-1)]: Done 500 out of 500 | elapsed:   47.6s finished\n",
      "[Parallel(n_jobs=-1)]: Done 430 tasks      | elapsed:   43.0s\n",
      "[Parallel(n_jobs=-1)]: Done 500 out of 500 | elapsed:   48.1s finished\n",
      "[Parallel(n_jobs=-1)]: Done 500 out of 500 | elapsed:   48.9s finished\n",
      "[Parallel(n_jobs=-1)]: Done 500 out of 500 | elapsed:   48.9s finished\n",
      "[Parallel(n_jobs=-1)]: Done 500 out of 500 | elapsed:   48.9s finished\n",
      "[Parallel(n_jobs=-1)]: Done 500 out of 500 | elapsed:   48.8s finished\n",
      "[Parallel(n_jobs=-1)]: Done 500 out of 500 | elapsed:   48.5s finished\n",
      "[Parallel(n_jobs=-1)]: Done 500 out of 500 | elapsed:   48.5s finished\n",
      "[Parallel(n_jobs=-1)]: Done 500 out of 500 | elapsed:   47.9s finished\n",
      "[Parallel(n_jobs=-1)]: Done 500 out of 500 | elapsed:   46.5s finished\n",
      "[Parallel(n_jobs=10)]: Using backend ThreadingBackend with 10 concurrent workers.\n",
      "[Parallel(n_jobs=10)]: Done  30 tasks      | elapsed:    0.0s\n",
      "[Parallel(n_jobs=10)]: Using backend ThreadingBackend with 10 concurrent workers.\n",
      "[Parallel(n_jobs=10)]: Done 180 tasks      | elapsed:    0.0s\n",
      "[Parallel(n_jobs=10)]: Done  30 tasks      | elapsed:    0.0s\n",
      "[Parallel(n_jobs=10)]: Done 180 tasks      | elapsed:    0.1s\n",
      "[Parallel(n_jobs=10)]: Done 430 tasks      | elapsed:    0.1s\n",
      "[Parallel(n_jobs=10)]: Done 500 out of 500 | elapsed:    0.1s finished\n",
      "[Parallel(n_jobs=10)]: Done 430 tasks      | elapsed:    0.1s\n",
      "[Parallel(n_jobs=10)]: Done 500 out of 500 | elapsed:    0.1s finished\n"
     ]
    },
    {
     "name": "stdout",
     "output_type": "stream",
     "text": [
      "[CV] END bootstrap=True, max_depth=5, max_features=auto, max_leaf_nodes=20, max_samples=None, n_estimators=500, n_jobs=-1, oob_score=True, random_state=42, verbose=1; total time=  52.6s\n",
      "[CV] END bootstrap=True, max_depth=5, max_features=auto, max_leaf_nodes=20, max_samples=None, n_estimators=500, n_jobs=-1, oob_score=True, random_state=42, verbose=1; total time=  51.8s\n"
     ]
    },
    {
     "name": "stderr",
     "output_type": "stream",
     "text": [
      "[Parallel(n_jobs=-1)]: Using backend ThreadingBackend with 10 concurrent workers.\n",
      "[Parallel(n_jobs=-1)]: Using backend ThreadingBackend with 10 concurrent workers.\n",
      "[Parallel(n_jobs=10)]: Using backend ThreadingBackend with 10 concurrent workers.\n",
      "[Parallel(n_jobs=10)]: Done  30 tasks      | elapsed:    0.0s\n",
      "[Parallel(n_jobs=10)]: Using backend ThreadingBackend with 10 concurrent workers.\n",
      "[Parallel(n_jobs=10)]: Done 180 tasks      | elapsed:    0.0s\n",
      "[Parallel(n_jobs=-1)]: Done  30 tasks      | elapsed:    0.7s\n",
      "[Parallel(n_jobs=10)]: Using backend ThreadingBackend with 10 concurrent workers.\n",
      "[Parallel(n_jobs=10)]: Done  30 tasks      | elapsed:    0.0s\n",
      "[Parallel(n_jobs=10)]: Using backend ThreadingBackend with 10 concurrent workers.\n",
      "[Parallel(n_jobs=10)]: Done 430 tasks      | elapsed:    0.1s\n",
      "[Parallel(n_jobs=10)]: Done 180 tasks      | elapsed:    0.1s\n",
      "[Parallel(n_jobs=10)]: Done 500 out of 500 | elapsed:    0.1s finished\n",
      "[Parallel(n_jobs=10)]: Done  30 tasks      | elapsed:    0.1s\n",
      "[Parallel(n_jobs=10)]: Done 430 tasks      | elapsed:    0.1s\n",
      "[Parallel(n_jobs=10)]: Done 180 tasks      | elapsed:    0.1s\n",
      "[Parallel(n_jobs=10)]: Using backend ThreadingBackend with 10 concurrent workers.\n",
      "[Parallel(n_jobs=10)]: Done 500 out of 500 | elapsed:    0.2s finished\n"
     ]
    },
    {
     "name": "stdout",
     "output_type": "stream",
     "text": [
      "[CV] END bootstrap=True, max_depth=5, max_features=auto, max_leaf_nodes=20, max_samples=None, n_estimators=500, n_jobs=-1, oob_score=True, random_state=42, verbose=1; total time=  51.8s\n",
      "[CV] END bootstrap=True, max_depth=5, max_features=auto, max_leaf_nodes=20, max_samples=None, n_estimators=500, n_jobs=-1, oob_score=True, random_state=42, verbose=1; total time=  51.3s\n",
      "[CV] END bootstrap=True, max_depth=5, max_features=auto, max_leaf_nodes=20, max_samples=None, n_estimators=500, n_jobs=-1, oob_score=True, random_state=42, verbose=1; total time=  51.6s\n"
     ]
    },
    {
     "name": "stderr",
     "output_type": "stream",
     "text": [
      "[Parallel(n_jobs=10)]: Done  30 tasks      | elapsed:    0.1s\n",
      "[Parallel(n_jobs=10)]: Done 430 tasks      | elapsed:    0.2s\n",
      "[Parallel(n_jobs=10)]: Done 180 tasks      | elapsed:    0.1s\n",
      "[Parallel(n_jobs=-1)]: Done  30 tasks      | elapsed:    0.8s\n",
      "[Parallel(n_jobs=10)]: Done 500 out of 500 | elapsed:    0.2s finished\n",
      "[Parallel(n_jobs=-1)]: Using backend ThreadingBackend with 10 concurrent workers.\n",
      "[Parallel(n_jobs=10)]: Done 430 tasks      | elapsed:    0.2s\n",
      "[Parallel(n_jobs=10)]: Done 500 out of 500 | elapsed:    0.2s finished\n",
      "[Parallel(n_jobs=-1)]: Using backend ThreadingBackend with 10 concurrent workers.\n"
     ]
    },
    {
     "name": "stdout",
     "output_type": "stream",
     "text": [
      "[CV] END bootstrap=True, max_depth=5, max_features=auto, max_leaf_nodes=20, max_samples=None, n_estimators=500, n_jobs=-1, oob_score=True, random_state=42, verbose=1; total time=  51.7s\n"
     ]
    },
    {
     "name": "stderr",
     "output_type": "stream",
     "text": [
      "[Parallel(n_jobs=-1)]: Using backend ThreadingBackend with 10 concurrent workers.\n",
      "[Parallel(n_jobs=10)]: Done  30 tasks      | elapsed:    0.3s\n",
      "[Parallel(n_jobs=10)]: Done 180 tasks      | elapsed:    0.4s\n",
      "[Parallel(n_jobs=10)]: Done 430 tasks      | elapsed:    0.4s\n",
      "[Parallel(n_jobs=10)]: Done 500 out of 500 | elapsed:    0.4s finished\n",
      "[Parallel(n_jobs=-1)]: Using backend ThreadingBackend with 10 concurrent workers.\n"
     ]
    },
    {
     "name": "stdout",
     "output_type": "stream",
     "text": [
      "[CV] END bootstrap=True, max_depth=5, max_features=auto, max_leaf_nodes=20, max_samples=None, n_estimators=500, n_jobs=-1, oob_score=True, random_state=42, verbose=1; total time=  51.3s\n"
     ]
    },
    {
     "name": "stderr",
     "output_type": "stream",
     "text": [
      "[Parallel(n_jobs=10)]: Using backend ThreadingBackend with 10 concurrent workers.\n",
      "[Parallel(n_jobs=10)]: Done  30 tasks      | elapsed:    0.0s\n",
      "[Parallel(n_jobs=-1)]: Using backend ThreadingBackend with 10 concurrent workers.\n",
      "[Parallel(n_jobs=10)]: Done 180 tasks      | elapsed:    0.1s\n",
      "[Parallel(n_jobs=10)]: Done 430 tasks      | elapsed:    0.1s\n",
      "[Parallel(n_jobs=10)]: Done 500 out of 500 | elapsed:    0.1s finished\n"
     ]
    },
    {
     "name": "stdout",
     "output_type": "stream",
     "text": [
      "[CV] END bootstrap=True, max_depth=5, max_features=auto, max_leaf_nodes=20, max_samples=None, n_estimators=500, n_jobs=-1, oob_score=True, random_state=42, verbose=1; total time=  51.7s\n"
     ]
    },
    {
     "name": "stderr",
     "output_type": "stream",
     "text": [
      "[Parallel(n_jobs=-1)]: Using backend ThreadingBackend with 10 concurrent workers.\n",
      "[Parallel(n_jobs=10)]: Using backend ThreadingBackend with 10 concurrent workers.\n",
      "[Parallel(n_jobs=10)]: Done  30 tasks      | elapsed:    0.0s\n",
      "[Parallel(n_jobs=10)]: Done 180 tasks      | elapsed:    0.0s\n",
      "[Parallel(n_jobs=10)]: Done 430 tasks      | elapsed:    0.0s\n",
      "[Parallel(n_jobs=10)]: Done 500 out of 500 | elapsed:    0.0s finished\n"
     ]
    },
    {
     "name": "stdout",
     "output_type": "stream",
     "text": [
      "[CV] END bootstrap=True, max_depth=5, max_features=auto, max_leaf_nodes=20, max_samples=None, n_estimators=500, n_jobs=-1, oob_score=True, random_state=42, verbose=1; total time=  51.3s\n"
     ]
    },
    {
     "name": "stderr",
     "output_type": "stream",
     "text": [
      "[Parallel(n_jobs=-1)]: Using backend ThreadingBackend with 10 concurrent workers.\n",
      "[Parallel(n_jobs=-1)]: Done  30 tasks      | elapsed:    2.1s\n",
      "[Parallel(n_jobs=-1)]: Done  30 tasks      | elapsed:    2.3s\n",
      "[Parallel(n_jobs=-1)]: Done  30 tasks      | elapsed:    2.4s\n",
      "[Parallel(n_jobs=10)]: Using backend ThreadingBackend with 10 concurrent workers.\n",
      "[Parallel(n_jobs=-1)]: Done  30 tasks      | elapsed:    2.6s\n",
      "[Parallel(n_jobs=10)]: Done  30 tasks      | elapsed:    0.0s\n",
      "[Parallel(n_jobs=10)]: Done 180 tasks      | elapsed:    0.1s\n",
      "[Parallel(n_jobs=10)]: Done 430 tasks      | elapsed:    0.1s\n",
      "[Parallel(n_jobs=10)]: Done 500 out of 500 | elapsed:    0.1s finished\n"
     ]
    },
    {
     "name": "stdout",
     "output_type": "stream",
     "text": [
      "[CV] END bootstrap=True, max_depth=5, max_features=auto, max_leaf_nodes=20, max_samples=None, n_estimators=500, n_jobs=-1, oob_score=True, random_state=42, verbose=1; total time=  51.7s\n"
     ]
    },
    {
     "name": "stderr",
     "output_type": "stream",
     "text": [
      "[Parallel(n_jobs=-1)]: Done  30 tasks      | elapsed:    2.5s\n",
      "[Parallel(n_jobs=-1)]: Using backend ThreadingBackend with 10 concurrent workers.\n",
      "[Parallel(n_jobs=-1)]: Done  30 tasks      | elapsed:    2.8s\n",
      "[Parallel(n_jobs=-1)]: Done  30 tasks      | elapsed:    2.9s\n",
      "[Parallel(n_jobs=-1)]: Done  30 tasks      | elapsed:    3.2s\n",
      "[Parallel(n_jobs=-1)]: Done 180 tasks      | elapsed:   15.7s\n",
      "[Parallel(n_jobs=-1)]: Done 180 tasks      | elapsed:   15.9s\n",
      "[Parallel(n_jobs=-1)]: Done 200 out of 200 | elapsed:   17.8s finished\n",
      "[Parallel(n_jobs=-1)]: Done 200 out of 200 | elapsed:   18.0s finished\n",
      "[Parallel(n_jobs=-1)]: Done 180 tasks      | elapsed:   17.5s\n",
      "[Parallel(n_jobs=-1)]: Done 180 tasks      | elapsed:   17.7s\n",
      "[Parallel(n_jobs=-1)]: Done 180 tasks      | elapsed:   18.0s\n",
      "[Parallel(n_jobs=-1)]: Done 180 tasks      | elapsed:   18.2s\n",
      "[Parallel(n_jobs=-1)]: Done 180 tasks      | elapsed:   18.1s\n",
      "[Parallel(n_jobs=-1)]: Done 200 out of 200 | elapsed:   19.3s finished\n",
      "[Parallel(n_jobs=-1)]: Done 180 tasks      | elapsed:   18.3s\n",
      "[Parallel(n_jobs=-1)]: Done 200 out of 200 | elapsed:   19.3s finished\n",
      "[Parallel(n_jobs=10)]: Using backend ThreadingBackend with 10 concurrent workers.\n",
      "[Parallel(n_jobs=10)]: Done  30 tasks      | elapsed:    0.0s\n",
      "[Parallel(n_jobs=10)]: Done 180 tasks      | elapsed:    0.1s\n",
      "[Parallel(n_jobs=10)]: Done 200 out of 200 | elapsed:    0.1s finished\n",
      "[Parallel(n_jobs=-1)]: Done 180 tasks      | elapsed:   17.7s\n"
     ]
    },
    {
     "name": "stdout",
     "output_type": "stream",
     "text": [
      "[CV] END bootstrap=True, max_depth=5, max_features=auto, max_leaf_nodes=50, max_samples=None, n_estimators=200, n_jobs=-1, oob_score=True, random_state=42, verbose=1; total time=  20.6s\n"
     ]
    },
    {
     "name": "stderr",
     "output_type": "stream",
     "text": [
      "[Parallel(n_jobs=10)]: Using backend ThreadingBackend with 10 concurrent workers.\n",
      "[Parallel(n_jobs=10)]: Done  30 tasks      | elapsed:    0.0s\n",
      "[Parallel(n_jobs=10)]: Done 180 tasks      | elapsed:    0.0s\n",
      "[Parallel(n_jobs=10)]: Done 200 out of 200 | elapsed:    0.0s finished\n",
      "[Parallel(n_jobs=-1)]: Done 200 out of 200 | elapsed:   19.6s finished\n"
     ]
    },
    {
     "name": "stdout",
     "output_type": "stream",
     "text": [
      "[CV] END bootstrap=True, max_depth=5, max_features=auto, max_leaf_nodes=50, max_samples=None, n_estimators=200, n_jobs=-1, oob_score=True, random_state=42, verbose=1; total time=  20.8s\n"
     ]
    },
    {
     "name": "stderr",
     "output_type": "stream",
     "text": [
      "[Parallel(n_jobs=-1)]: Done 200 out of 200 | elapsed:   19.6s finished\n",
      "[Parallel(n_jobs=-1)]: Done 200 out of 200 | elapsed:   19.4s finished\n",
      "[Parallel(n_jobs=-1)]: Using backend ThreadingBackend with 10 concurrent workers.\n",
      "[Parallel(n_jobs=-1)]: Using backend ThreadingBackend with 10 concurrent workers.\n",
      "[Parallel(n_jobs=-1)]: Done 200 out of 200 | elapsed:   19.4s finished\n",
      "[Parallel(n_jobs=-1)]: Done 200 out of 200 | elapsed:   18.7s finished\n",
      "[Parallel(n_jobs=-1)]: Done 180 tasks      | elapsed:   17.1s\n",
      "[Parallel(n_jobs=10)]: Using backend ThreadingBackend with 10 concurrent workers.\n",
      "[Parallel(n_jobs=10)]: Done  30 tasks      | elapsed:    0.0s\n",
      "[Parallel(n_jobs=10)]: Done 180 tasks      | elapsed:    0.0s\n",
      "[Parallel(n_jobs=10)]: Done 200 out of 200 | elapsed:    0.1s finished\n"
     ]
    },
    {
     "name": "stdout",
     "output_type": "stream",
     "text": [
      "[CV] END bootstrap=True, max_depth=5, max_features=auto, max_leaf_nodes=50, max_samples=None, n_estimators=200, n_jobs=-1, oob_score=True, random_state=42, verbose=1; total time=  21.2s\n"
     ]
    },
    {
     "name": "stderr",
     "output_type": "stream",
     "text": [
      "[Parallel(n_jobs=10)]: Using backend ThreadingBackend with 10 concurrent workers.\n",
      "[Parallel(n_jobs=10)]: Using backend ThreadingBackend with 10 concurrent workers.\n",
      "[Parallel(n_jobs=10)]: Done  30 tasks      | elapsed:    0.0s\n",
      "[Parallel(n_jobs=10)]: Done  30 tasks      | elapsed:    0.0s\n",
      "[Parallel(n_jobs=10)]: Done 180 tasks      | elapsed:    0.0s\n",
      "[Parallel(n_jobs=10)]: Done 180 tasks      | elapsed:    0.1s\n",
      "[Parallel(n_jobs=10)]: Done 200 out of 200 | elapsed:    0.1s finished\n",
      "[Parallel(n_jobs=10)]: Done 200 out of 200 | elapsed:    0.1s finished\n",
      "[Parallel(n_jobs=-1)]: Done  30 tasks      | elapsed:    1.3s\n",
      "[Parallel(n_jobs=10)]: Using backend ThreadingBackend with 10 concurrent workers.\n"
     ]
    },
    {
     "name": "stdout",
     "output_type": "stream",
     "text": [
      "[CV] END bootstrap=True, max_depth=5, max_features=auto, max_leaf_nodes=50, max_samples=None, n_estimators=200, n_jobs=-1, oob_score=True, random_state=42, verbose=1; total time=  21.4s\n",
      "[CV] END bootstrap=True, max_depth=5, max_features=auto, max_leaf_nodes=50, max_samples=None, n_estimators=200, n_jobs=-1, oob_score=True, random_state=42, verbose=1; total time=  21.3s\n",
      "[CV] END bootstrap=True, max_depth=5, max_features=auto, max_leaf_nodes=50, max_samples=None, n_estimators=200, n_jobs=-1, oob_score=True, random_state=42, verbose=1; total time=  21.4s\n"
     ]
    },
    {
     "name": "stderr",
     "output_type": "stream",
     "text": [
      "[Parallel(n_jobs=10)]: Done  30 tasks      | elapsed:    0.0s\n",
      "[Parallel(n_jobs=-1)]: Done 200 out of 200 | elapsed:   17.9s finished\n",
      "[Parallel(n_jobs=10)]: Done 180 tasks      | elapsed:    0.1s\n",
      "[Parallel(n_jobs=10)]: Done 200 out of 200 | elapsed:    0.1s finished\n",
      "[Parallel(n_jobs=-1)]: Done  30 tasks      | elapsed:    1.4s\n",
      "[Parallel(n_jobs=10)]: Using backend ThreadingBackend with 10 concurrent workers.\n",
      "[Parallel(n_jobs=-1)]: Using backend ThreadingBackend with 10 concurrent workers.\n",
      "[Parallel(n_jobs=10)]: Done  30 tasks      | elapsed:    0.1s\n",
      "[Parallel(n_jobs=10)]: Done 180 tasks      | elapsed:    0.1s\n",
      "[Parallel(n_jobs=10)]: Done 200 out of 200 | elapsed:    0.1s finished\n"
     ]
    },
    {
     "name": "stdout",
     "output_type": "stream",
     "text": [
      "[CV] END bootstrap=True, max_depth=5, max_features=auto, max_leaf_nodes=50, max_samples=None, n_estimators=200, n_jobs=-1, oob_score=True, random_state=42, verbose=1; total time=  21.3s\n"
     ]
    },
    {
     "name": "stderr",
     "output_type": "stream",
     "text": [
      "[Parallel(n_jobs=-1)]: Using backend ThreadingBackend with 10 concurrent workers.\n",
      "[Parallel(n_jobs=-1)]: Using backend ThreadingBackend with 10 concurrent workers.\n",
      "[Parallel(n_jobs=10)]: Using backend ThreadingBackend with 10 concurrent workers.\n",
      "[Parallel(n_jobs=10)]: Done  30 tasks      | elapsed:    0.0s\n",
      "[Parallel(n_jobs=10)]: Done 180 tasks      | elapsed:    0.1s\n",
      "[Parallel(n_jobs=10)]: Done 200 out of 200 | elapsed:    0.1s finished\n",
      "[Parallel(n_jobs=-1)]: Using backend ThreadingBackend with 10 concurrent workers.\n"
     ]
    },
    {
     "name": "stdout",
     "output_type": "stream",
     "text": [
      "[CV] END bootstrap=True, max_depth=5, max_features=auto, max_leaf_nodes=50, max_samples=None, n_estimators=200, n_jobs=-1, oob_score=True, random_state=42, verbose=1; total time=  20.5s\n"
     ]
    },
    {
     "name": "stderr",
     "output_type": "stream",
     "text": [
      "[Parallel(n_jobs=-1)]: Using backend ThreadingBackend with 10 concurrent workers.\n",
      "[Parallel(n_jobs=10)]: Using backend ThreadingBackend with 10 concurrent workers.\n",
      "[Parallel(n_jobs=10)]: Done  30 tasks      | elapsed:    0.2s\n",
      "[Parallel(n_jobs=10)]: Done 180 tasks      | elapsed:    0.2s\n",
      "[Parallel(n_jobs=10)]: Done 200 out of 200 | elapsed:    0.2s finished\n",
      "[Parallel(n_jobs=-1)]: Using backend ThreadingBackend with 10 concurrent workers.\n"
     ]
    },
    {
     "name": "stdout",
     "output_type": "stream",
     "text": [
      "[CV] END bootstrap=True, max_depth=5, max_features=auto, max_leaf_nodes=50, max_samples=None, n_estimators=200, n_jobs=-1, oob_score=True, random_state=42, verbose=1; total time=  21.8s\n"
     ]
    },
    {
     "name": "stderr",
     "output_type": "stream",
     "text": [
      "[Parallel(n_jobs=-1)]: Using backend ThreadingBackend with 10 concurrent workers.\n",
      "[Parallel(n_jobs=-1)]: Done  30 tasks      | elapsed:    2.3s\n",
      "[Parallel(n_jobs=-1)]: Done  30 tasks      | elapsed:    2.6s\n",
      "[Parallel(n_jobs=-1)]: Done  30 tasks      | elapsed:    2.5s\n",
      "[Parallel(n_jobs=10)]: Using backend ThreadingBackend with 10 concurrent workers.\n",
      "[Parallel(n_jobs=10)]: Done  30 tasks      | elapsed:    0.0s\n",
      "[Parallel(n_jobs=10)]: Done 180 tasks      | elapsed:    0.1s\n",
      "[Parallel(n_jobs=10)]: Done 200 out of 200 | elapsed:    0.1s finished\n"
     ]
    },
    {
     "name": "stdout",
     "output_type": "stream",
     "text": [
      "[CV] END bootstrap=True, max_depth=5, max_features=auto, max_leaf_nodes=50, max_samples=None, n_estimators=200, n_jobs=-1, oob_score=True, random_state=42, verbose=1; total time=  21.5s\n"
     ]
    },
    {
     "name": "stderr",
     "output_type": "stream",
     "text": [
      "[Parallel(n_jobs=-1)]: Done  30 tasks      | elapsed:    2.8s\n",
      "[Parallel(n_jobs=-1)]: Done  30 tasks      | elapsed:    2.8s\n",
      "[Parallel(n_jobs=-1)]: Using backend ThreadingBackend with 10 concurrent workers.\n",
      "[Parallel(n_jobs=-1)]: Done  30 tasks      | elapsed:    2.9s\n",
      "[Parallel(n_jobs=-1)]: Done  30 tasks      | elapsed:    2.9s\n",
      "[Parallel(n_jobs=-1)]: Done  30 tasks      | elapsed:    3.2s\n",
      "[Parallel(n_jobs=-1)]: Done 180 tasks      | elapsed:   16.1s\n",
      "[Parallel(n_jobs=-1)]: Done 180 tasks      | elapsed:   16.4s\n",
      "[Parallel(n_jobs=-1)]: Done 180 tasks      | elapsed:   18.4s\n",
      "[Parallel(n_jobs=-1)]: Done 180 tasks      | elapsed:   18.6s\n",
      "[Parallel(n_jobs=-1)]: Done 180 tasks      | elapsed:   18.8s\n",
      "[Parallel(n_jobs=-1)]: Done 180 tasks      | elapsed:   18.9s\n",
      "[Parallel(n_jobs=-1)]: Done 180 tasks      | elapsed:   19.5s\n",
      "[Parallel(n_jobs=-1)]: Done 180 tasks      | elapsed:   19.4s\n",
      "[Parallel(n_jobs=-1)]: Done 180 tasks      | elapsed:   20.0s\n",
      "[Parallel(n_jobs=-1)]: Done 180 tasks      | elapsed:   21.8s\n",
      "[Parallel(n_jobs=-1)]: Done 430 tasks      | elapsed:   39.3s\n",
      "[Parallel(n_jobs=-1)]: Done 430 tasks      | elapsed:   42.5s\n",
      "[Parallel(n_jobs=-1)]: Done 430 tasks      | elapsed:   45.1s\n",
      "[Parallel(n_jobs=-1)]: Done 430 tasks      | elapsed:   45.2s\n",
      "[Parallel(n_jobs=-1)]: Done 430 tasks      | elapsed:   46.8s\n",
      "[Parallel(n_jobs=-1)]: Done 500 out of 500 | elapsed:   48.5s finished\n",
      "[Parallel(n_jobs=-1)]: Done 500 out of 500 | elapsed:   47.2s finished\n",
      "[Parallel(n_jobs=-1)]: Done 430 tasks      | elapsed:   49.0s\n",
      "[Parallel(n_jobs=-1)]: Done 430 tasks      | elapsed:   50.4s\n",
      "[Parallel(n_jobs=-1)]: Done 430 tasks      | elapsed:   50.5s\n",
      "[Parallel(n_jobs=-1)]: Done 500 out of 500 | elapsed:   53.7s finished\n",
      "[Parallel(n_jobs=-1)]: Done 500 out of 500 | elapsed:   52.7s finished\n",
      "[Parallel(n_jobs=10)]: Using backend ThreadingBackend with 10 concurrent workers.\n",
      "[Parallel(n_jobs=10)]: Done  30 tasks      | elapsed:    0.0s\n",
      "[Parallel(n_jobs=10)]: Done 180 tasks      | elapsed:    0.1s\n",
      "[Parallel(n_jobs=10)]: Done 430 tasks      | elapsed:    0.2s\n",
      "[Parallel(n_jobs=10)]: Done 500 out of 500 | elapsed:    0.2s finished\n",
      "[Parallel(n_jobs=-1)]: Done 430 tasks      | elapsed:   53.0s\n"
     ]
    },
    {
     "name": "stdout",
     "output_type": "stream",
     "text": [
      "[CV] END bootstrap=True, max_depth=5, max_features=auto, max_leaf_nodes=50, max_samples=None, n_estimators=500, n_jobs=-1, oob_score=True, random_state=42, verbose=1; total time=  54.9s\n"
     ]
    },
    {
     "name": "stderr",
     "output_type": "stream",
     "text": [
      "[Parallel(n_jobs=-1)]: Using backend ThreadingBackend with 10 concurrent workers.\n",
      "[Parallel(n_jobs=-1)]: Done 500 out of 500 | elapsed:   52.1s finished\n",
      "[Parallel(n_jobs=10)]: Using backend ThreadingBackend with 10 concurrent workers.\n",
      "[Parallel(n_jobs=10)]: Done  30 tasks      | elapsed:    0.0s\n",
      "[Parallel(n_jobs=10)]: Done 180 tasks      | elapsed:    0.1s\n",
      "[Parallel(n_jobs=10)]: Done 430 tasks      | elapsed:    0.3s\n",
      "[Parallel(n_jobs=10)]: Done 500 out of 500 | elapsed:    0.4s finished\n"
     ]
    },
    {
     "name": "stdout",
     "output_type": "stream",
     "text": [
      "[CV] END bootstrap=True, max_depth=5, max_features=auto, max_leaf_nodes=50, max_samples=None, n_estimators=500, n_jobs=-1, oob_score=True, random_state=42, verbose=1; total time=  54.1s\n"
     ]
    },
    {
     "name": "stderr",
     "output_type": "stream",
     "text": [
      "[Parallel(n_jobs=-1)]: Using backend ThreadingBackend with 10 concurrent workers.\n",
      "[Parallel(n_jobs=-1)]: Done  30 tasks      | elapsed:    1.7s\n",
      "[Parallel(n_jobs=-1)]: Done  30 tasks      | elapsed:    1.4s\n",
      "[Parallel(n_jobs=-1)]: Done 500 out of 500 | elapsed:   55.6s finished\n",
      "[Parallel(n_jobs=-1)]: Done 500 out of 500 | elapsed:   56.2s finished\n",
      "[Parallel(n_jobs=-1)]: Done 500 out of 500 | elapsed:   55.0s finished\n",
      "[Parallel(n_jobs=-1)]: Done 430 tasks      | elapsed:   53.3s\n",
      "[Parallel(n_jobs=-1)]: Done 500 out of 500 | elapsed:   57.4s finished\n",
      "[Parallel(n_jobs=10)]: Using backend ThreadingBackend with 10 concurrent workers.\n",
      "[Parallel(n_jobs=10)]: Done  30 tasks      | elapsed:    0.0s\n",
      "[Parallel(n_jobs=10)]: Done 180 tasks      | elapsed:    0.1s\n",
      "[Parallel(n_jobs=-1)]: Done 180 tasks      | elapsed:    5.8s\n",
      "[Parallel(n_jobs=10)]: Done 430 tasks      | elapsed:    0.2s\n",
      "[Parallel(n_jobs=10)]: Done 500 out of 500 | elapsed:    0.2s finished\n",
      "[Parallel(n_jobs=-1)]: Done 180 tasks      | elapsed:    4.7s\n",
      "[Parallel(n_jobs=-1)]: Using backend ThreadingBackend with 10 concurrent workers.\n"
     ]
    },
    {
     "name": "stdout",
     "output_type": "stream",
     "text": [
      "[CV] END bootstrap=True, max_depth=5, max_features=auto, max_leaf_nodes=50, max_samples=None, n_estimators=500, n_jobs=-1, oob_score=True, random_state=42, verbose=1; total time=  59.4s\n"
     ]
    },
    {
     "name": "stderr",
     "output_type": "stream",
     "text": [
      "[Parallel(n_jobs=10)]: Using backend ThreadingBackend with 10 concurrent workers.\n",
      "[Parallel(n_jobs=10)]: Done  30 tasks      | elapsed:    0.1s\n",
      "[Parallel(n_jobs=10)]: Done 180 tasks      | elapsed:    0.2s\n",
      "[Parallel(n_jobs=10)]: Done 430 tasks      | elapsed:    0.3s\n",
      "[Parallel(n_jobs=10)]: Done 500 out of 500 | elapsed:    0.3s finished\n",
      "[Parallel(n_jobs=-1)]: Done 200 out of 200 | elapsed:    5.2s finished\n"
     ]
    },
    {
     "name": "stdout",
     "output_type": "stream",
     "text": [
      "[CV] END bootstrap=True, max_depth=5, max_features=auto, max_leaf_nodes=50, max_samples=None, n_estimators=500, n_jobs=-1, oob_score=True, random_state=42, verbose=1; total time= 1.0min\n"
     ]
    },
    {
     "name": "stderr",
     "output_type": "stream",
     "text": [
      "[Parallel(n_jobs=-1)]: Using backend ThreadingBackend with 10 concurrent workers.\n",
      "[Parallel(n_jobs=-1)]: Done 200 out of 200 | elapsed:    6.6s finished\n",
      "[Parallel(n_jobs=10)]: Using backend ThreadingBackend with 10 concurrent workers.\n",
      "[Parallel(n_jobs=-1)]: Done  30 tasks      | elapsed:    0.8s\n",
      "[Parallel(n_jobs=10)]: Done  30 tasks      | elapsed:    0.0s\n",
      "[Parallel(n_jobs=10)]: Done 180 tasks      | elapsed:    0.1s\n",
      "[Parallel(n_jobs=-1)]: Done 500 out of 500 | elapsed:   56.1s finished\n",
      "[Parallel(n_jobs=10)]: Done 430 tasks      | elapsed:    0.1s\n",
      "[Parallel(n_jobs=10)]: Done 500 out of 500 | elapsed:    0.1s finished\n"
     ]
    },
    {
     "name": "stdout",
     "output_type": "stream",
     "text": [
      "[CV] END bootstrap=True, max_depth=5, max_features=auto, max_leaf_nodes=50, max_samples=None, n_estimators=500, n_jobs=-1, oob_score=True, random_state=42, verbose=1; total time=  59.6s\n"
     ]
    },
    {
     "name": "stderr",
     "output_type": "stream",
     "text": [
      "[Parallel(n_jobs=-1)]: Using backend ThreadingBackend with 10 concurrent workers.\n",
      "[Parallel(n_jobs=10)]: Using backend ThreadingBackend with 10 concurrent workers.\n",
      "[Parallel(n_jobs=10)]: Done  30 tasks      | elapsed:    0.1s\n",
      "[Parallel(n_jobs=10)]: Using backend ThreadingBackend with 10 concurrent workers.\n",
      "[Parallel(n_jobs=10)]: Done 180 tasks      | elapsed:    0.1s\n",
      "[Parallel(n_jobs=10)]: Done 200 out of 200 | elapsed:    0.1s finished\n",
      "[Parallel(n_jobs=10)]: Done  30 tasks      | elapsed:    0.0s\n",
      "[Parallel(n_jobs=10)]: Done 180 tasks      | elapsed:    0.1s\n",
      "[Parallel(n_jobs=10)]: Done 200 out of 200 | elapsed:    0.1s finished\n"
     ]
    },
    {
     "name": "stdout",
     "output_type": "stream",
     "text": [
      "[CV] END bootstrap=True, max_depth=2, max_features=auto, max_leaf_nodes=None, max_samples=None, n_estimators=200, n_jobs=-1, oob_score=True, random_state=42, verbose=1; total time=   7.3s\n",
      "[CV] END bootstrap=True, max_depth=2, max_features=auto, max_leaf_nodes=None, max_samples=None, n_estimators=200, n_jobs=-1, oob_score=True, random_state=42, verbose=1; total time=   6.1s\n"
     ]
    },
    {
     "name": "stderr",
     "output_type": "stream",
     "text": [
      "[Parallel(n_jobs=-1)]: Using backend ThreadingBackend with 10 concurrent workers.\n",
      "[Parallel(n_jobs=10)]: Using backend ThreadingBackend with 10 concurrent workers.\n",
      "[Parallel(n_jobs=-1)]: Using backend ThreadingBackend with 10 concurrent workers.\n",
      "[Parallel(n_jobs=-1)]: Done  30 tasks      | elapsed:    0.9s\n",
      "[Parallel(n_jobs=10)]: Done  30 tasks      | elapsed:    0.1s\n",
      "[Parallel(n_jobs=10)]: Done 180 tasks      | elapsed:    0.1s\n",
      "[Parallel(n_jobs=10)]: Done 430 tasks      | elapsed:    0.2s\n",
      "[Parallel(n_jobs=10)]: Done 500 out of 500 | elapsed:    0.2s finished\n",
      "[Parallel(n_jobs=-1)]: Using backend ThreadingBackend with 10 concurrent workers.\n"
     ]
    },
    {
     "name": "stdout",
     "output_type": "stream",
     "text": [
      "[CV] END bootstrap=True, max_depth=5, max_features=auto, max_leaf_nodes=50, max_samples=None, n_estimators=500, n_jobs=-1, oob_score=True, random_state=42, verbose=1; total time= 1.0min\n"
     ]
    },
    {
     "name": "stderr",
     "output_type": "stream",
     "text": [
      "[Parallel(n_jobs=-1)]: Done  30 tasks      | elapsed:    1.2s\n",
      "[Parallel(n_jobs=10)]: Using backend ThreadingBackend with 10 concurrent workers.\n",
      "[Parallel(n_jobs=10)]: Done  30 tasks      | elapsed:    0.0s\n",
      "[Parallel(n_jobs=-1)]: Done  30 tasks      | elapsed:    1.2s\n",
      "[Parallel(n_jobs=10)]: Done 180 tasks      | elapsed:    0.0s\n",
      "[Parallel(n_jobs=10)]: Done 430 tasks      | elapsed:    0.1s\n",
      "[Parallel(n_jobs=10)]: Done 500 out of 500 | elapsed:    0.1s finished\n",
      "[Parallel(n_jobs=-1)]: Done  30 tasks      | elapsed:    1.2s\n"
     ]
    },
    {
     "name": "stdout",
     "output_type": "stream",
     "text": [
      "[CV] END bootstrap=True, max_depth=5, max_features=auto, max_leaf_nodes=50, max_samples=None, n_estimators=500, n_jobs=-1, oob_score=True, random_state=42, verbose=1; total time= 1.0min\n"
     ]
    },
    {
     "name": "stderr",
     "output_type": "stream",
     "text": [
      "[Parallel(n_jobs=-1)]: Done  30 tasks      | elapsed:    1.2s\n",
      "[Parallel(n_jobs=-1)]: Using backend ThreadingBackend with 10 concurrent workers.\n",
      "[Parallel(n_jobs=10)]: Using backend ThreadingBackend with 10 concurrent workers.\n",
      "[Parallel(n_jobs=10)]: Done  30 tasks      | elapsed:    0.0s\n",
      "[Parallel(n_jobs=10)]: Done 180 tasks      | elapsed:    0.0s\n",
      "[Parallel(n_jobs=10)]: Done 430 tasks      | elapsed:    0.1s\n",
      "[Parallel(n_jobs=10)]: Done 500 out of 500 | elapsed:    0.2s finished\n"
     ]
    },
    {
     "name": "stdout",
     "output_type": "stream",
     "text": [
      "[CV] END bootstrap=True, max_depth=5, max_features=auto, max_leaf_nodes=50, max_samples=None, n_estimators=500, n_jobs=-1, oob_score=True, random_state=42, verbose=1; total time= 1.1min\n"
     ]
    },
    {
     "name": "stderr",
     "output_type": "stream",
     "text": [
      "[Parallel(n_jobs=10)]: Using backend ThreadingBackend with 10 concurrent workers.\n",
      "[Parallel(n_jobs=10)]: Done  30 tasks      | elapsed:    0.0s\n",
      "[Parallel(n_jobs=10)]: Done 180 tasks      | elapsed:    0.1s\n",
      "[Parallel(n_jobs=10)]: Done 430 tasks      | elapsed:    0.2s\n",
      "[Parallel(n_jobs=-1)]: Using backend ThreadingBackend with 10 concurrent workers.\n",
      "[Parallel(n_jobs=10)]: Done 500 out of 500 | elapsed:    0.3s finished\n"
     ]
    },
    {
     "name": "stdout",
     "output_type": "stream",
     "text": [
      "[CV] END bootstrap=True, max_depth=5, max_features=auto, max_leaf_nodes=50, max_samples=None, n_estimators=500, n_jobs=-1, oob_score=True, random_state=42, verbose=1; total time= 1.1min\n"
     ]
    },
    {
     "name": "stderr",
     "output_type": "stream",
     "text": [
      "[Parallel(n_jobs=-1)]: Done  30 tasks      | elapsed:    2.1s\n",
      "[Parallel(n_jobs=-1)]: Done 180 tasks      | elapsed:    5.3s\n",
      "[Parallel(n_jobs=-1)]: Using backend ThreadingBackend with 10 concurrent workers.\n",
      "[Parallel(n_jobs=-1)]: Done  30 tasks      | elapsed:    1.7s\n",
      "[Parallel(n_jobs=-1)]: Done 180 tasks      | elapsed:    5.3s\n",
      "[Parallel(n_jobs=-1)]: Done 200 out of 200 | elapsed:    6.7s finished\n",
      "[Parallel(n_jobs=-1)]: Done  30 tasks      | elapsed:    1.3s\n",
      "[Parallel(n_jobs=10)]: Using backend ThreadingBackend with 10 concurrent workers.\n",
      "[Parallel(n_jobs=10)]: Done  30 tasks      | elapsed:    0.0s\n",
      "[Parallel(n_jobs=-1)]: Done 200 out of 200 | elapsed:    6.3s finished\n",
      "[Parallel(n_jobs=10)]: Done 180 tasks      | elapsed:    0.1s\n",
      "[Parallel(n_jobs=10)]: Done 200 out of 200 | elapsed:    0.1s finished\n"
     ]
    },
    {
     "name": "stdout",
     "output_type": "stream",
     "text": [
      "[CV] END bootstrap=True, max_depth=2, max_features=auto, max_leaf_nodes=None, max_samples=None, n_estimators=200, n_jobs=-1, oob_score=True, random_state=42, verbose=1; total time=   7.5s\n"
     ]
    },
    {
     "name": "stderr",
     "output_type": "stream",
     "text": [
      "[Parallel(n_jobs=-1)]: Using backend ThreadingBackend with 10 concurrent workers.\n",
      "[Parallel(n_jobs=10)]: Using backend ThreadingBackend with 10 concurrent workers.\n",
      "[Parallel(n_jobs=10)]: Done  30 tasks      | elapsed:    0.1s\n",
      "[Parallel(n_jobs=10)]: Done 180 tasks      | elapsed:    0.1s\n",
      "[Parallel(n_jobs=10)]: Done 200 out of 200 | elapsed:    0.1s finished\n"
     ]
    },
    {
     "name": "stdout",
     "output_type": "stream",
     "text": [
      "[CV] END bootstrap=True, max_depth=2, max_features=auto, max_leaf_nodes=None, max_samples=None, n_estimators=200, n_jobs=-1, oob_score=True, random_state=42, verbose=1; total time=   7.1s\n"
     ]
    },
    {
     "name": "stderr",
     "output_type": "stream",
     "text": [
      "[Parallel(n_jobs=-1)]: Using backend ThreadingBackend with 10 concurrent workers.\n",
      "[Parallel(n_jobs=-1)]: Done 180 tasks      | elapsed:    7.3s\n",
      "[Parallel(n_jobs=-1)]: Done 180 tasks      | elapsed:    7.4s\n",
      "[Parallel(n_jobs=-1)]: Done  30 tasks      | elapsed:    1.9s\n",
      "[Parallel(n_jobs=-1)]: Done 200 out of 200 | elapsed:    8.2s finished\n",
      "[Parallel(n_jobs=-1)]: Done 200 out of 200 | elapsed:    8.5s finished\n",
      "[Parallel(n_jobs=-1)]: Done 180 tasks      | elapsed:    9.6s\n",
      "[Parallel(n_jobs=10)]: Using backend ThreadingBackend with 10 concurrent workers.\n",
      "[Parallel(n_jobs=10)]: Done  30 tasks      | elapsed:    0.1s\n",
      "[Parallel(n_jobs=10)]: Done 180 tasks      | elapsed:    0.1s\n",
      "[Parallel(n_jobs=10)]: Using backend ThreadingBackend with 10 concurrent workers.\n",
      "[Parallel(n_jobs=10)]: Done 200 out of 200 | elapsed:    0.1s finished\n",
      "[Parallel(n_jobs=10)]: Done  30 tasks      | elapsed:    0.1s\n",
      "[Parallel(n_jobs=10)]: Done 180 tasks      | elapsed:    0.1s\n",
      "[Parallel(n_jobs=10)]: Done 200 out of 200 | elapsed:    0.1s finished\n"
     ]
    },
    {
     "name": "stdout",
     "output_type": "stream",
     "text": [
      "[CV] END bootstrap=True, max_depth=2, max_features=auto, max_leaf_nodes=None, max_samples=None, n_estimators=200, n_jobs=-1, oob_score=True, random_state=42, verbose=1; total time=   9.0s\n",
      "[CV] END bootstrap=True, max_depth=2, max_features=auto, max_leaf_nodes=None, max_samples=None, n_estimators=200, n_jobs=-1, oob_score=True, random_state=42, verbose=1; total time=   9.2s\n"
     ]
    },
    {
     "name": "stderr",
     "output_type": "stream",
     "text": [
      "[Parallel(n_jobs=-1)]: Done  30 tasks      | elapsed:    2.2s\n",
      "[Parallel(n_jobs=-1)]: Using backend ThreadingBackend with 10 concurrent workers.\n",
      "[Parallel(n_jobs=-1)]: Using backend ThreadingBackend with 10 concurrent workers.\n",
      "[Parallel(n_jobs=-1)]: Done 200 out of 200 | elapsed:   10.6s finished\n",
      "[Parallel(n_jobs=-1)]: Done 180 tasks      | elapsed:    5.4s\n",
      "[Parallel(n_jobs=10)]: Using backend ThreadingBackend with 10 concurrent workers.\n",
      "[Parallel(n_jobs=10)]: Done  30 tasks      | elapsed:    0.2s\n",
      "[Parallel(n_jobs=10)]: Done 180 tasks      | elapsed:    0.2s\n",
      "[Parallel(n_jobs=10)]: Done 200 out of 200 | elapsed:    0.2s finished\n",
      "[Parallel(n_jobs=-1)]: Done  30 tasks      | elapsed:    1.5s\n",
      "[Parallel(n_jobs=-1)]: Done 180 tasks      | elapsed:   10.6s\n"
     ]
    },
    {
     "name": "stdout",
     "output_type": "stream",
     "text": [
      "[CV] END bootstrap=True, max_depth=2, max_features=auto, max_leaf_nodes=None, max_samples=None, n_estimators=200, n_jobs=-1, oob_score=True, random_state=42, verbose=1; total time=  11.7s\n"
     ]
    },
    {
     "name": "stderr",
     "output_type": "stream",
     "text": [
      "[Parallel(n_jobs=-1)]: Using backend ThreadingBackend with 10 concurrent workers.\n",
      "[Parallel(n_jobs=-1)]: Done  30 tasks      | elapsed:    2.2s\n",
      "[Parallel(n_jobs=-1)]: Done 180 tasks      | elapsed:    8.7s\n",
      "[Parallel(n_jobs=-1)]: Done 200 out of 200 | elapsed:   11.6s finished\n",
      "[Parallel(n_jobs=10)]: Using backend ThreadingBackend with 10 concurrent workers.\n",
      "[Parallel(n_jobs=10)]: Done  30 tasks      | elapsed:    0.1s\n",
      "[Parallel(n_jobs=10)]: Done 180 tasks      | elapsed:    0.1s\n",
      "[Parallel(n_jobs=10)]: Done 200 out of 200 | elapsed:    0.1s finished\n",
      "[Parallel(n_jobs=-1)]: Done 180 tasks      | elapsed:   11.3s\n"
     ]
    },
    {
     "name": "stdout",
     "output_type": "stream",
     "text": [
      "[CV] END bootstrap=True, max_depth=2, max_features=auto, max_leaf_nodes=None, max_samples=None, n_estimators=200, n_jobs=-1, oob_score=True, random_state=42, verbose=1; total time=  12.6s\n"
     ]
    },
    {
     "name": "stderr",
     "output_type": "stream",
     "text": [
      "[Parallel(n_jobs=-1)]: Done 200 out of 200 | elapsed:    9.7s finished\n",
      "[Parallel(n_jobs=-1)]: Done  30 tasks      | elapsed:    2.0s\n",
      "[Parallel(n_jobs=-1)]: Using backend ThreadingBackend with 10 concurrent workers.\n",
      "[Parallel(n_jobs=10)]: Using backend ThreadingBackend with 10 concurrent workers.\n",
      "[Parallel(n_jobs=10)]: Done  30 tasks      | elapsed:    0.1s\n",
      "[Parallel(n_jobs=10)]: Done 180 tasks      | elapsed:    0.2s\n",
      "[Parallel(n_jobs=10)]: Done 430 tasks      | elapsed:    0.3s\n",
      "[Parallel(n_jobs=10)]: Done 500 out of 500 | elapsed:    0.4s finished\n",
      "[Parallel(n_jobs=-1)]: Done 200 out of 200 | elapsed:   12.3s finished\n"
     ]
    },
    {
     "name": "stdout",
     "output_type": "stream",
     "text": [
      "[CV] END bootstrap=True, max_depth=5, max_features=auto, max_leaf_nodes=50, max_samples=None, n_estimators=500, n_jobs=-1, oob_score=True, random_state=42, verbose=1; total time= 1.2min\n"
     ]
    },
    {
     "name": "stderr",
     "output_type": "stream",
     "text": [
      "[Parallel(n_jobs=-1)]: Done 180 tasks      | elapsed:    8.5s\n",
      "[Parallel(n_jobs=-1)]: Done  30 tasks      | elapsed:    2.2s\n",
      "[Parallel(n_jobs=-1)]: Using backend ThreadingBackend with 10 concurrent workers.\n",
      "[Parallel(n_jobs=10)]: Using backend ThreadingBackend with 10 concurrent workers.\n",
      "[Parallel(n_jobs=10)]: Done  30 tasks      | elapsed:    0.1s\n",
      "[Parallel(n_jobs=-1)]: Done 180 tasks      | elapsed:    8.8s\n",
      "[Parallel(n_jobs=10)]: Done 180 tasks      | elapsed:    0.1s\n",
      "[Parallel(n_jobs=10)]: Done 200 out of 200 | elapsed:    0.1s finished\n"
     ]
    },
    {
     "name": "stdout",
     "output_type": "stream",
     "text": [
      "[CV] END bootstrap=True, max_depth=2, max_features=auto, max_leaf_nodes=None, max_samples=None, n_estimators=200, n_jobs=-1, oob_score=True, random_state=42, verbose=1; total time=  14.4s\n"
     ]
    },
    {
     "name": "stderr",
     "output_type": "stream",
     "text": [
      "[Parallel(n_jobs=-1)]: Using backend ThreadingBackend with 10 concurrent workers.\n",
      "[Parallel(n_jobs=-1)]: Done 180 tasks      | elapsed:    7.7s\n",
      "[Parallel(n_jobs=-1)]: Done 430 tasks      | elapsed:   12.4s\n",
      "[Parallel(n_jobs=10)]: Using backend ThreadingBackend with 10 concurrent workers.\n",
      "[Parallel(n_jobs=10)]: Done  30 tasks      | elapsed:    0.0s\n",
      "[Parallel(n_jobs=10)]: Done 180 tasks      | elapsed:    0.0s\n",
      "[Parallel(n_jobs=10)]: Done 200 out of 200 | elapsed:    0.0s finished\n",
      "[Parallel(n_jobs=-1)]: Done 180 tasks      | elapsed:    8.4s\n",
      "[Parallel(n_jobs=-1)]: Done  30 tasks      | elapsed:    2.4s\n"
     ]
    },
    {
     "name": "stdout",
     "output_type": "stream",
     "text": [
      "[CV] END bootstrap=True, max_depth=2, max_features=auto, max_leaf_nodes=None, max_samples=None, n_estimators=200, n_jobs=-1, oob_score=True, random_state=42, verbose=1; total time=  15.0s\n"
     ]
    },
    {
     "name": "stderr",
     "output_type": "stream",
     "text": [
      "[Parallel(n_jobs=-1)]: Using backend ThreadingBackend with 10 concurrent workers.\n",
      "[Parallel(n_jobs=-1)]: Done  30 tasks      | elapsed:    2.2s\n",
      "[Parallel(n_jobs=-1)]: Done 500 out of 500 | elapsed:   14.6s finished\n",
      "[Parallel(n_jobs=-1)]: Done  30 tasks      | elapsed:    2.5s\n",
      "[Parallel(n_jobs=-1)]: Done 180 tasks      | elapsed:   11.1s\n",
      "[Parallel(n_jobs=-1)]: Done 430 tasks      | elapsed:   16.3s\n",
      "[Parallel(n_jobs=-1)]: Done 430 tasks      | elapsed:   16.3s\n",
      "[Parallel(n_jobs=-1)]: Done 180 tasks      | elapsed:   10.0s\n",
      "[Parallel(n_jobs=-1)]: Done 430 tasks      | elapsed:   19.8s\n",
      "[Parallel(n_jobs=-1)]: Done 180 tasks      | elapsed:   13.2s\n",
      "[Parallel(n_jobs=-1)]: Done 430 tasks      | elapsed:   20.3s\n",
      "[Parallel(n_jobs=-1)]: Done 500 out of 500 | elapsed:   18.7s finished\n",
      "[Parallel(n_jobs=-1)]: Done 500 out of 500 | elapsed:   18.9s finished\n",
      "[Parallel(n_jobs=-1)]: Done 180 tasks      | elapsed:   13.3s\n",
      "[Parallel(n_jobs=-1)]: Done 500 out of 500 | elapsed:   22.7s finished\n",
      "[Parallel(n_jobs=-1)]: Done 500 out of 500 | elapsed:   22.6s finished\n",
      "[Parallel(n_jobs=10)]: Using backend ThreadingBackend with 10 concurrent workers.\n",
      "[Parallel(n_jobs=10)]: Done  30 tasks      | elapsed:    0.0s\n",
      "[Parallel(n_jobs=10)]: Done 180 tasks      | elapsed:    0.1s\n",
      "[Parallel(n_jobs=10)]: Using backend ThreadingBackend with 10 concurrent workers.\n",
      "[Parallel(n_jobs=10)]: Done  30 tasks      | elapsed:    0.0s\n",
      "[Parallel(n_jobs=10)]: Done 430 tasks      | elapsed:    0.2s\n",
      "[Parallel(n_jobs=10)]: Done 180 tasks      | elapsed:    0.1s\n",
      "[Parallel(n_jobs=10)]: Done 430 tasks      | elapsed:    0.1s\n",
      "[Parallel(n_jobs=10)]: Done 500 out of 500 | elapsed:    0.1s finished\n",
      "[Parallel(n_jobs=10)]: Done 500 out of 500 | elapsed:    0.3s finished\n",
      "[Parallel(n_jobs=-1)]: Done 180 tasks      | elapsed:   12.4s\n",
      "[Parallel(n_jobs=-1)]: Using backend ThreadingBackend with 10 concurrent workers.\n",
      "[Parallel(n_jobs=-1)]: Using backend ThreadingBackend with 10 concurrent workers.\n"
     ]
    },
    {
     "name": "stdout",
     "output_type": "stream",
     "text": [
      "[CV] END bootstrap=True, max_depth=2, max_features=auto, max_leaf_nodes=None, max_samples=None, n_estimators=500, n_jobs=-1, oob_score=True, random_state=42, verbose=1; total time=  21.2s\n",
      "[CV] END bootstrap=True, max_depth=2, max_features=auto, max_leaf_nodes=None, max_samples=None, n_estimators=500, n_jobs=-1, oob_score=True, random_state=42, verbose=1; total time=  21.2s\n"
     ]
    },
    {
     "name": "stderr",
     "output_type": "stream",
     "text": [
      "[Parallel(n_jobs=10)]: Using backend ThreadingBackend with 10 concurrent workers.\n",
      "[Parallel(n_jobs=10)]: Done  30 tasks      | elapsed:    0.0s\n",
      "[Parallel(n_jobs=10)]: Done 180 tasks      | elapsed:    0.1s\n",
      "[Parallel(n_jobs=10)]: Done 430 tasks      | elapsed:    0.2s\n",
      "[Parallel(n_jobs=10)]: Done 500 out of 500 | elapsed:    0.3s finished\n",
      "[Parallel(n_jobs=-1)]: Using backend ThreadingBackend with 10 concurrent workers.\n"
     ]
    },
    {
     "name": "stdout",
     "output_type": "stream",
     "text": [
      "[CV] END bootstrap=True, max_depth=2, max_features=auto, max_leaf_nodes=None, max_samples=None, n_estimators=500, n_jobs=-1, oob_score=True, random_state=42, verbose=1; total time=  24.9s\n"
     ]
    },
    {
     "name": "stderr",
     "output_type": "stream",
     "text": [
      "[Parallel(n_jobs=10)]: Using backend ThreadingBackend with 10 concurrent workers.\n",
      "[Parallel(n_jobs=10)]: Done  30 tasks      | elapsed:    0.1s\n",
      "[Parallel(n_jobs=10)]: Done 180 tasks      | elapsed:    0.1s\n",
      "[Parallel(n_jobs=10)]: Done 430 tasks      | elapsed:    0.1s\n",
      "[Parallel(n_jobs=10)]: Done 500 out of 500 | elapsed:    0.1s finished\n"
     ]
    },
    {
     "name": "stdout",
     "output_type": "stream",
     "text": [
      "[CV] END bootstrap=True, max_depth=2, max_features=auto, max_leaf_nodes=None, max_samples=None, n_estimators=500, n_jobs=-1, oob_score=True, random_state=42, verbose=1; total time=  24.7s\n"
     ]
    },
    {
     "name": "stderr",
     "output_type": "stream",
     "text": [
      "[Parallel(n_jobs=-1)]: Using backend ThreadingBackend with 10 concurrent workers.\n",
      "[Parallel(n_jobs=-1)]: Done  30 tasks      | elapsed:    1.8s\n",
      "[Parallel(n_jobs=10)]: Using backend ThreadingBackend with 10 concurrent workers.\n",
      "[Parallel(n_jobs=10)]: Done  30 tasks      | elapsed:    0.1s\n",
      "[Parallel(n_jobs=10)]: Done 180 tasks      | elapsed:    0.1s\n",
      "[Parallel(n_jobs=10)]: Done 430 tasks      | elapsed:    0.2s\n",
      "[Parallel(n_jobs=10)]: Done 500 out of 500 | elapsed:    0.2s finished\n",
      "[Parallel(n_jobs=-1)]: Done  30 tasks      | elapsed:    2.2s\n"
     ]
    },
    {
     "name": "stdout",
     "output_type": "stream",
     "text": [
      "[CV] END bootstrap=True, max_depth=2, max_features=auto, max_leaf_nodes=None, max_samples=None, n_estimators=500, n_jobs=-1, oob_score=True, random_state=42, verbose=1; total time=  29.0s\n"
     ]
    },
    {
     "name": "stderr",
     "output_type": "stream",
     "text": [
      "[Parallel(n_jobs=-1)]: Done 430 tasks      | elapsed:   21.9s\n",
      "[Parallel(n_jobs=-1)]: Done  30 tasks      | elapsed:    2.1s\n",
      "[Parallel(n_jobs=-1)]: Using backend ThreadingBackend with 10 concurrent workers.\n",
      "[Parallel(n_jobs=-1)]: Done  30 tasks      | elapsed:    1.9s\n",
      "[Parallel(n_jobs=-1)]: Done  30 tasks      | elapsed:    2.0s\n",
      "[Parallel(n_jobs=-1)]: Done 500 out of 500 | elapsed:   25.0s finished\n",
      "[Parallel(n_jobs=-1)]: Done 430 tasks      | elapsed:   20.7s\n",
      "[Parallel(n_jobs=-1)]: Done 430 tasks      | elapsed:   24.2s\n",
      "[Parallel(n_jobs=10)]: Using backend ThreadingBackend with 10 concurrent workers.\n",
      "[Parallel(n_jobs=10)]: Done  30 tasks      | elapsed:    0.1s\n",
      "[Parallel(n_jobs=10)]: Done 180 tasks      | elapsed:    0.2s\n",
      "[Parallel(n_jobs=10)]: Done 430 tasks      | elapsed:    0.2s\n",
      "[Parallel(n_jobs=10)]: Done 500 out of 500 | elapsed:    0.2s finished\n",
      "[Parallel(n_jobs=-1)]: Using backend ThreadingBackend with 10 concurrent workers.\n"
     ]
    },
    {
     "name": "stdout",
     "output_type": "stream",
     "text": [
      "[CV] END bootstrap=True, max_depth=2, max_features=auto, max_leaf_nodes=None, max_samples=None, n_estimators=500, n_jobs=-1, oob_score=True, random_state=42, verbose=1; total time=  27.6s\n"
     ]
    },
    {
     "name": "stderr",
     "output_type": "stream",
     "text": [
      "[Parallel(n_jobs=-1)]: Done 500 out of 500 | elapsed:   23.6s finished\n",
      "[Parallel(n_jobs=-1)]: Done 180 tasks      | elapsed:    9.8s\n",
      "[Parallel(n_jobs=-1)]: Done 500 out of 500 | elapsed:   27.2s finished\n",
      "[Parallel(n_jobs=-1)]: Done  30 tasks      | elapsed:    2.3s\n",
      "[Parallel(n_jobs=-1)]: Done 180 tasks      | elapsed:    9.3s\n",
      "[Parallel(n_jobs=-1)]: Done 200 out of 200 | elapsed:   11.0s finished\n",
      "[Parallel(n_jobs=10)]: Using backend ThreadingBackend with 10 concurrent workers.\n",
      "[Parallel(n_jobs=10)]: Done  30 tasks      | elapsed:    0.0s\n",
      "[Parallel(n_jobs=-1)]: Done 200 out of 200 | elapsed:   10.3s finished\n",
      "[Parallel(n_jobs=10)]: Done 180 tasks      | elapsed:    0.1s\n",
      "[Parallel(n_jobs=-1)]: Done 180 tasks      | elapsed:   11.7s\n",
      "[Parallel(n_jobs=10)]: Done 430 tasks      | elapsed:    0.1s\n",
      "[Parallel(n_jobs=10)]: Done 500 out of 500 | elapsed:    0.2s finished\n"
     ]
    },
    {
     "name": "stdout",
     "output_type": "stream",
     "text": [
      "[CV] END bootstrap=True, max_depth=2, max_features=auto, max_leaf_nodes=None, max_samples=None, n_estimators=500, n_jobs=-1, oob_score=True, random_state=42, verbose=1; total time=  26.2s\n",
      "[CV] END bootstrap=True, max_depth=2, max_features=auto, max_leaf_nodes=10, max_samples=None, n_estimators=200, n_jobs=-1, oob_score=True, random_state=42, verbose=1; total time=  11.9s\n"
     ]
    },
    {
     "name": "stderr",
     "output_type": "stream",
     "text": [
      "[Parallel(n_jobs=10)]: Using backend ThreadingBackend with 10 concurrent workers.\n",
      "[Parallel(n_jobs=-1)]: Done 180 tasks      | elapsed:    8.7s\n",
      "[Parallel(n_jobs=10)]: Done  30 tasks      | elapsed:    0.0s\n",
      "[Parallel(n_jobs=-1)]: Using backend ThreadingBackend with 10 concurrent workers.\n",
      "[Parallel(n_jobs=10)]: Done 180 tasks      | elapsed:    0.1s\n",
      "[Parallel(n_jobs=10)]: Done 200 out of 200 | elapsed:    0.1s finished\n",
      "[Parallel(n_jobs=-1)]: Using backend ThreadingBackend with 10 concurrent workers.\n",
      "[Parallel(n_jobs=10)]: Using backend ThreadingBackend with 10 concurrent workers.\n",
      "[Parallel(n_jobs=10)]: Done  30 tasks      | elapsed:    0.1s\n",
      "[Parallel(n_jobs=10)]: Using backend ThreadingBackend with 10 concurrent workers.\n",
      "[Parallel(n_jobs=-1)]: Done 180 tasks      | elapsed:   11.4s\n",
      "[Parallel(n_jobs=10)]: Done 180 tasks      | elapsed:    0.2s\n",
      "[Parallel(n_jobs=10)]: Done  30 tasks      | elapsed:    0.0s\n",
      "[Parallel(n_jobs=10)]: Done 180 tasks      | elapsed:    0.1s\n",
      "[Parallel(n_jobs=10)]: Done 430 tasks      | elapsed:    0.3s\n",
      "[Parallel(n_jobs=10)]: Done 200 out of 200 | elapsed:    0.1s finished\n"
     ]
    },
    {
     "name": "stdout",
     "output_type": "stream",
     "text": [
      "[CV] END bootstrap=True, max_depth=2, max_features=auto, max_leaf_nodes=10, max_samples=None, n_estimators=200, n_jobs=-1, oob_score=True, random_state=42, verbose=1; total time=  11.2s\n",
      "[CV] END bootstrap=True, max_depth=2, max_features=auto, max_leaf_nodes=None, max_samples=None, n_estimators=500, n_jobs=-1, oob_score=True, random_state=42, verbose=1; total time=  30.0s\n"
     ]
    },
    {
     "name": "stderr",
     "output_type": "stream",
     "text": [
      "[Parallel(n_jobs=10)]: Done 500 out of 500 | elapsed:    0.3s finished\n",
      "[Parallel(n_jobs=-1)]: Using backend ThreadingBackend with 10 concurrent workers.\n",
      "[Parallel(n_jobs=-1)]: Using backend ThreadingBackend with 10 concurrent workers.\n",
      "[Parallel(n_jobs=-1)]: Done 430 tasks      | elapsed:   27.7s\n",
      "[Parallel(n_jobs=-1)]: Done 200 out of 200 | elapsed:    9.7s finished\n",
      "[Parallel(n_jobs=-1)]: Done 200 out of 200 | elapsed:   12.7s finished\n",
      "[Parallel(n_jobs=-1)]: Done 430 tasks      | elapsed:   25.7s\n",
      "[Parallel(n_jobs=10)]: Using backend ThreadingBackend with 10 concurrent workers.\n",
      "[Parallel(n_jobs=10)]: Done  30 tasks      | elapsed:    0.1s\n",
      "[Parallel(n_jobs=-1)]: Done 200 out of 200 | elapsed:   12.6s finished\n",
      "[Parallel(n_jobs=10)]: Done 180 tasks      | elapsed:    0.1s\n",
      "[Parallel(n_jobs=10)]: Done 200 out of 200 | elapsed:    0.1s finished\n",
      "[Parallel(n_jobs=-1)]: Done  30 tasks      | elapsed:    1.8s\n"
     ]
    },
    {
     "name": "stdout",
     "output_type": "stream",
     "text": [
      "[CV] END bootstrap=True, max_depth=2, max_features=auto, max_leaf_nodes=10, max_samples=None, n_estimators=200, n_jobs=-1, oob_score=True, random_state=42, verbose=1; total time=  13.5s\n"
     ]
    },
    {
     "name": "stderr",
     "output_type": "stream",
     "text": [
      "[Parallel(n_jobs=-1)]: Using backend ThreadingBackend with 10 concurrent workers.\n",
      "[Parallel(n_jobs=-1)]: Done  30 tasks      | elapsed:    1.9s\n",
      "[Parallel(n_jobs=10)]: Using backend ThreadingBackend with 10 concurrent workers.\n",
      "[Parallel(n_jobs=10)]: Done  30 tasks      | elapsed:    0.0s\n",
      "[Parallel(n_jobs=10)]: Done 180 tasks      | elapsed:    0.1s\n",
      "[Parallel(n_jobs=10)]: Done 200 out of 200 | elapsed:    0.1s finished\n"
     ]
    },
    {
     "name": "stdout",
     "output_type": "stream",
     "text": [
      "[CV] END bootstrap=True, max_depth=2, max_features=auto, max_leaf_nodes=10, max_samples=None, n_estimators=200, n_jobs=-1, oob_score=True, random_state=42, verbose=1; total time=  13.5s\n"
     ]
    },
    {
     "name": "stderr",
     "output_type": "stream",
     "text": [
      "[Parallel(n_jobs=-1)]: Done  30 tasks      | elapsed:    1.9s\n",
      "[Parallel(n_jobs=-1)]: Using backend ThreadingBackend with 10 concurrent workers.\n",
      "[Parallel(n_jobs=-1)]: Done  30 tasks      | elapsed:    2.0s\n",
      "[Parallel(n_jobs=-1)]: Done  30 tasks      | elapsed:    1.6s\n",
      "[Parallel(n_jobs=-1)]: Done 500 out of 500 | elapsed:   30.5s finished\n",
      "[Parallel(n_jobs=-1)]: Done 500 out of 500 | elapsed:   28.7s finished\n",
      "[Parallel(n_jobs=-1)]: Done  30 tasks      | elapsed:    2.0s\n",
      "[Parallel(n_jobs=10)]: Using backend ThreadingBackend with 10 concurrent workers.\n",
      "[Parallel(n_jobs=10)]: Done  30 tasks      | elapsed:    0.2s\n",
      "[Parallel(n_jobs=10)]: Done 180 tasks      | elapsed:    0.2s\n",
      "[Parallel(n_jobs=10)]: Done 200 out of 200 | elapsed:    0.2s finished\n"
     ]
    },
    {
     "name": "stdout",
     "output_type": "stream",
     "text": [
      "[CV] END bootstrap=True, max_depth=2, max_features=auto, max_leaf_nodes=10, max_samples=None, n_estimators=200, n_jobs=-1, oob_score=True, random_state=42, verbose=1; total time=  14.8s\n"
     ]
    },
    {
     "name": "stderr",
     "output_type": "stream",
     "text": [
      "[Parallel(n_jobs=-1)]: Done 180 tasks      | elapsed:    9.9s\n",
      "[Parallel(n_jobs=10)]: Using backend ThreadingBackend with 10 concurrent workers.\n",
      "[Parallel(n_jobs=10)]: Done  30 tasks      | elapsed:    0.1s\n",
      "[Parallel(n_jobs=10)]: Done 180 tasks      | elapsed:    0.1s\n",
      "[Parallel(n_jobs=10)]: Done 430 tasks      | elapsed:    0.2s\n",
      "[Parallel(n_jobs=-1)]: Using backend ThreadingBackend with 10 concurrent workers.\n",
      "[Parallel(n_jobs=10)]: Done 500 out of 500 | elapsed:    0.2s finished\n"
     ]
    },
    {
     "name": "stdout",
     "output_type": "stream",
     "text": [
      "[CV] END bootstrap=True, max_depth=2, max_features=auto, max_leaf_nodes=None, max_samples=None, n_estimators=500, n_jobs=-1, oob_score=True, random_state=42, verbose=1; total time=  31.2s\n"
     ]
    },
    {
     "name": "stderr",
     "output_type": "stream",
     "text": [
      "[Parallel(n_jobs=-1)]: Using backend ThreadingBackend with 10 concurrent workers.\n",
      "[Parallel(n_jobs=-1)]: Done 180 tasks      | elapsed:    7.2s\n",
      "[Parallel(n_jobs=-1)]: Done 200 out of 200 | elapsed:   11.1s finished\n",
      "[Parallel(n_jobs=10)]: Using backend ThreadingBackend with 10 concurrent workers.\n",
      "[Parallel(n_jobs=-1)]: Done 200 out of 200 | elapsed:    8.1s finished\n",
      "[Parallel(n_jobs=10)]: Done  30 tasks      | elapsed:    0.0s\n",
      "[Parallel(n_jobs=10)]: Done 180 tasks      | elapsed:    0.1s\n",
      "[Parallel(n_jobs=10)]: Done 200 out of 200 | elapsed:    0.1s finished\n"
     ]
    },
    {
     "name": "stdout",
     "output_type": "stream",
     "text": [
      "[CV] END bootstrap=True, max_depth=2, max_features=auto, max_leaf_nodes=10, max_samples=None, n_estimators=200, n_jobs=-1, oob_score=True, random_state=42, verbose=1; total time=  12.0s\n"
     ]
    },
    {
     "name": "stderr",
     "output_type": "stream",
     "text": [
      "[Parallel(n_jobs=-1)]: Done 180 tasks      | elapsed:    7.7s\n",
      "[Parallel(n_jobs=-1)]: Using backend ThreadingBackend with 10 concurrent workers.\n",
      "[Parallel(n_jobs=-1)]: Done  30 tasks      | elapsed:    2.2s\n",
      "[Parallel(n_jobs=-1)]: Done  30 tasks      | elapsed:    2.1s\n",
      "[Parallel(n_jobs=10)]: Using backend ThreadingBackend with 10 concurrent workers.\n",
      "[Parallel(n_jobs=10)]: Done  30 tasks      | elapsed:    0.0s\n",
      "[Parallel(n_jobs=10)]: Done 180 tasks      | elapsed:    0.0s\n",
      "[Parallel(n_jobs=10)]: Done 430 tasks      | elapsed:    0.1s\n",
      "[Parallel(n_jobs=10)]: Done 500 out of 500 | elapsed:    0.1s finished\n",
      "[Parallel(n_jobs=10)]: Using backend ThreadingBackend with 10 concurrent workers.\n",
      "[Parallel(n_jobs=10)]: Done  30 tasks      | elapsed:    0.0s\n",
      "[Parallel(n_jobs=10)]: Done 180 tasks      | elapsed:    0.1s\n",
      "[Parallel(n_jobs=10)]: Done 200 out of 200 | elapsed:    0.1s finished\n"
     ]
    },
    {
     "name": "stdout",
     "output_type": "stream",
     "text": [
      "[CV] END bootstrap=True, max_depth=2, max_features=auto, max_leaf_nodes=None, max_samples=None, n_estimators=500, n_jobs=-1, oob_score=True, random_state=42, verbose=1; total time=  37.3s\n",
      "[CV] END bootstrap=True, max_depth=2, max_features=auto, max_leaf_nodes=10, max_samples=None, n_estimators=200, n_jobs=-1, oob_score=True, random_state=42, verbose=1; total time=   9.1s\n"
     ]
    },
    {
     "name": "stderr",
     "output_type": "stream",
     "text": [
      "[Parallel(n_jobs=-1)]: Using backend ThreadingBackend with 10 concurrent workers.\n",
      "[Parallel(n_jobs=-1)]: Using backend ThreadingBackend with 10 concurrent workers.\n",
      "[Parallel(n_jobs=-1)]: Done 200 out of 200 | elapsed:    8.7s finished\n",
      "[Parallel(n_jobs=-1)]: Done 180 tasks      | elapsed:    7.9s\n",
      "[Parallel(n_jobs=-1)]: Done 180 tasks      | elapsed:    9.8s\n",
      "[Parallel(n_jobs=10)]: Using backend ThreadingBackend with 10 concurrent workers.\n",
      "[Parallel(n_jobs=10)]: Done  30 tasks      | elapsed:    0.1s\n",
      "[Parallel(n_jobs=10)]: Done 180 tasks      | elapsed:    0.1s\n",
      "[Parallel(n_jobs=10)]: Done 200 out of 200 | elapsed:    0.1s finished\n"
     ]
    },
    {
     "name": "stdout",
     "output_type": "stream",
     "text": [
      "[CV] END bootstrap=True, max_depth=2, max_features=auto, max_leaf_nodes=10, max_samples=None, n_estimators=200, n_jobs=-1, oob_score=True, random_state=42, verbose=1; total time=   9.6s\n"
     ]
    },
    {
     "name": "stderr",
     "output_type": "stream",
     "text": [
      "[Parallel(n_jobs=-1)]: Using backend ThreadingBackend with 10 concurrent workers.\n",
      "[Parallel(n_jobs=-1)]: Done 180 tasks      | elapsed:    9.8s\n",
      "[Parallel(n_jobs=-1)]: Done  30 tasks      | elapsed:    2.0s\n",
      "[Parallel(n_jobs=-1)]: Done 200 out of 200 | elapsed:   11.1s finished\n",
      "[Parallel(n_jobs=-1)]: Done  30 tasks      | elapsed:    2.2s\n",
      "[Parallel(n_jobs=-1)]: Done  30 tasks      | elapsed:    2.4s\n",
      "[Parallel(n_jobs=-1)]: Done 200 out of 200 | elapsed:   11.1s finished\n",
      "[Parallel(n_jobs=10)]: Using backend ThreadingBackend with 10 concurrent workers.\n",
      "[Parallel(n_jobs=10)]: Done  30 tasks      | elapsed:    0.1s\n",
      "[Parallel(n_jobs=10)]: Done 180 tasks      | elapsed:    0.1s\n",
      "[Parallel(n_jobs=10)]: Done 200 out of 200 | elapsed:    0.1s finished\n",
      "[Parallel(n_jobs=-1)]: Done  30 tasks      | elapsed:    1.5s\n"
     ]
    },
    {
     "name": "stdout",
     "output_type": "stream",
     "text": [
      "[CV] END bootstrap=True, max_depth=2, max_features=auto, max_leaf_nodes=10, max_samples=None, n_estimators=200, n_jobs=-1, oob_score=True, random_state=42, verbose=1; total time=  12.1s\n"
     ]
    },
    {
     "name": "stderr",
     "output_type": "stream",
     "text": [
      "[Parallel(n_jobs=-1)]: Done 180 tasks      | elapsed:    9.5s\n",
      "[Parallel(n_jobs=-1)]: Using backend ThreadingBackend with 10 concurrent workers.\n",
      "[Parallel(n_jobs=10)]: Using backend ThreadingBackend with 10 concurrent workers.\n",
      "[Parallel(n_jobs=10)]: Done  30 tasks      | elapsed:    0.1s\n",
      "[Parallel(n_jobs=10)]: Done 180 tasks      | elapsed:    0.2s\n",
      "[Parallel(n_jobs=10)]: Done 200 out of 200 | elapsed:    0.2s finished\n"
     ]
    },
    {
     "name": "stdout",
     "output_type": "stream",
     "text": [
      "[CV] END bootstrap=True, max_depth=2, max_features=auto, max_leaf_nodes=10, max_samples=None, n_estimators=200, n_jobs=-1, oob_score=True, random_state=42, verbose=1; total time=  12.3s\n"
     ]
    },
    {
     "name": "stderr",
     "output_type": "stream",
     "text": [
      "[Parallel(n_jobs=-1)]: Using backend ThreadingBackend with 10 concurrent workers.\n",
      "[Parallel(n_jobs=-1)]: Done  30 tasks      | elapsed:    2.3s\n",
      "[Parallel(n_jobs=-1)]: Done  30 tasks      | elapsed:    2.3s\n",
      "[Parallel(n_jobs=-1)]: Done 180 tasks      | elapsed:    9.1s\n",
      "[Parallel(n_jobs=-1)]: Done 180 tasks      | elapsed:    8.2s\n",
      "[Parallel(n_jobs=-1)]: Done 180 tasks      | elapsed:   11.7s\n",
      "[Parallel(n_jobs=-1)]: Done 180 tasks      | elapsed:    8.8s\n",
      "[Parallel(n_jobs=-1)]: Done 430 tasks      | elapsed:   17.7s\n",
      "[Parallel(n_jobs=-1)]: Done 180 tasks      | elapsed:   10.6s\n",
      "[Parallel(n_jobs=-1)]: Done 180 tasks      | elapsed:   11.4s\n",
      "[Parallel(n_jobs=-1)]: Done 500 out of 500 | elapsed:   20.7s finished\n",
      "[Parallel(n_jobs=-1)]: Done 180 tasks      | elapsed:   10.7s\n",
      "[Parallel(n_jobs=-1)]: Done 180 tasks      | elapsed:   11.5s\n",
      "[Parallel(n_jobs=-1)]: Done 430 tasks      | elapsed:   22.9s\n",
      "[Parallel(n_jobs=10)]: Using backend ThreadingBackend with 10 concurrent workers.\n",
      "[Parallel(n_jobs=10)]: Done  30 tasks      | elapsed:    0.2s\n",
      "[Parallel(n_jobs=10)]: Done 180 tasks      | elapsed:    0.2s\n",
      "[Parallel(n_jobs=10)]: Done 430 tasks      | elapsed:    0.2s\n",
      "[Parallel(n_jobs=10)]: Done 500 out of 500 | elapsed:    0.2s finished\n",
      "[Parallel(n_jobs=-1)]: Done 430 tasks      | elapsed:   19.2s\n"
     ]
    },
    {
     "name": "stdout",
     "output_type": "stream",
     "text": [
      "[CV] END bootstrap=True, max_depth=2, max_features=auto, max_leaf_nodes=10, max_samples=None, n_estimators=500, n_jobs=-1, oob_score=True, random_state=42, verbose=1; total time=  24.2s\n"
     ]
    },
    {
     "name": "stderr",
     "output_type": "stream",
     "text": [
      "[Parallel(n_jobs=-1)]: Using backend ThreadingBackend with 10 concurrent workers.\n",
      "[Parallel(n_jobs=-1)]: Done  30 tasks      | elapsed:    2.0s\n",
      "[Parallel(n_jobs=-1)]: Done 430 tasks      | elapsed:   19.6s\n",
      "[Parallel(n_jobs=-1)]: Done 500 out of 500 | elapsed:   22.1s finished\n",
      "[Parallel(n_jobs=-1)]: Done 500 out of 500 | elapsed:   26.7s finished\n",
      "[Parallel(n_jobs=-1)]: Done 430 tasks      | elapsed:   18.8s\n",
      "[Parallel(n_jobs=-1)]: Done 430 tasks      | elapsed:   23.1s\n",
      "[Parallel(n_jobs=-1)]: Done 500 out of 500 | elapsed:   22.7s finished\n",
      "[Parallel(n_jobs=-1)]: Done 500 out of 500 | elapsed:   21.5s finished\n",
      "[Parallel(n_jobs=10)]: Using backend ThreadingBackend with 10 concurrent workers.\n",
      "[Parallel(n_jobs=10)]: Done  30 tasks      | elapsed:    0.0s\n",
      "[Parallel(n_jobs=10)]: Done 180 tasks      | elapsed:    0.1s\n",
      "[Parallel(n_jobs=10)]: Done 430 tasks      | elapsed:    0.2s\n",
      "[Parallel(n_jobs=10)]: Done 500 out of 500 | elapsed:    0.2s finished\n",
      "[Parallel(n_jobs=-1)]: Using backend ThreadingBackend with 10 concurrent workers.\n"
     ]
    },
    {
     "name": "stdout",
     "output_type": "stream",
     "text": [
      "[CV] END bootstrap=True, max_depth=2, max_features=auto, max_leaf_nodes=10, max_samples=None, n_estimators=500, n_jobs=-1, oob_score=True, random_state=42, verbose=1; total time=  29.8s\n"
     ]
    },
    {
     "name": "stderr",
     "output_type": "stream",
     "text": [
      "[Parallel(n_jobs=-1)]: Done 430 tasks      | elapsed:   23.3s\n",
      "[Parallel(n_jobs=-1)]: Done 500 out of 500 | elapsed:   25.9s finished\n",
      "[Parallel(n_jobs=-1)]: Done 430 tasks      | elapsed:   23.8s\n",
      "[Parallel(n_jobs=10)]: Using backend ThreadingBackend with 10 concurrent workers.\n",
      "[Parallel(n_jobs=10)]: Done  30 tasks      | elapsed:    0.1s\n",
      "[Parallel(n_jobs=10)]: Done 180 tasks      | elapsed:    0.1s\n",
      "[Parallel(n_jobs=10)]: Done 430 tasks      | elapsed:    0.2s\n",
      "[Parallel(n_jobs=10)]: Done 500 out of 500 | elapsed:    0.2s finished\n",
      "[Parallel(n_jobs=-1)]: Done  30 tasks      | elapsed:    1.7s\n",
      "[Parallel(n_jobs=-1)]: Using backend ThreadingBackend with 10 concurrent workers.\n"
     ]
    },
    {
     "name": "stdout",
     "output_type": "stream",
     "text": [
      "[CV] END bootstrap=True, max_depth=2, max_features=auto, max_leaf_nodes=10, max_samples=None, n_estimators=500, n_jobs=-1, oob_score=True, random_state=42, verbose=1; total time=  25.5s\n"
     ]
    },
    {
     "name": "stderr",
     "output_type": "stream",
     "text": [
      "[Parallel(n_jobs=10)]: Using backend ThreadingBackend with 10 concurrent workers.\n",
      "[Parallel(n_jobs=-1)]: Done 430 tasks      | elapsed:   22.0s\n",
      "[Parallel(n_jobs=10)]: Done  30 tasks      | elapsed:    0.1s\n",
      "[Parallel(n_jobs=10)]: Done 180 tasks      | elapsed:    0.1s\n",
      "[Parallel(n_jobs=10)]: Done 430 tasks      | elapsed:    0.1s\n",
      "[Parallel(n_jobs=10)]: Done 500 out of 500 | elapsed:    0.2s finished\n"
     ]
    },
    {
     "name": "stdout",
     "output_type": "stream",
     "text": [
      "[CV] END bootstrap=True, max_depth=2, max_features=auto, max_leaf_nodes=10, max_samples=None, n_estimators=500, n_jobs=-1, oob_score=True, random_state=42, verbose=1; total time=  24.4s\n"
     ]
    },
    {
     "name": "stderr",
     "output_type": "stream",
     "text": [
      "[Parallel(n_jobs=-1)]: Using backend ThreadingBackend with 10 concurrent workers.\n",
      "[Parallel(n_jobs=10)]: Using backend ThreadingBackend with 10 concurrent workers.\n",
      "[Parallel(n_jobs=10)]: Done  30 tasks      | elapsed:    0.0s\n",
      "[Parallel(n_jobs=10)]: Done 180 tasks      | elapsed:    0.0s\n",
      "[Parallel(n_jobs=10)]: Done 430 tasks      | elapsed:    0.1s\n",
      "[Parallel(n_jobs=10)]: Done 500 out of 500 | elapsed:    0.1s finished\n",
      "[Parallel(n_jobs=-1)]: Using backend ThreadingBackend with 10 concurrent workers.\n"
     ]
    },
    {
     "name": "stdout",
     "output_type": "stream",
     "text": [
      "[CV] END bootstrap=True, max_depth=2, max_features=auto, max_leaf_nodes=10, max_samples=None, n_estimators=500, n_jobs=-1, oob_score=True, random_state=42, verbose=1; total time=  28.3s\n"
     ]
    },
    {
     "name": "stderr",
     "output_type": "stream",
     "text": [
      "[Parallel(n_jobs=-1)]: Done 500 out of 500 | elapsed:   26.3s finished\n",
      "[Parallel(n_jobs=-1)]: Done  30 tasks      | elapsed:    1.7s\n",
      "[Parallel(n_jobs=-1)]: Done 500 out of 500 | elapsed:   26.5s finished\n",
      "[Parallel(n_jobs=-1)]: Done  30 tasks      | elapsed:    1.8s\n",
      "[Parallel(n_jobs=-1)]: Done 430 tasks      | elapsed:   23.6s\n",
      "[Parallel(n_jobs=-1)]: Done  30 tasks      | elapsed:    1.8s\n",
      "[Parallel(n_jobs=-1)]: Done 180 tasks      | elapsed:   11.0s\n",
      "[Parallel(n_jobs=10)]: Using backend ThreadingBackend with 10 concurrent workers.\n",
      "[Parallel(n_jobs=10)]: Done  30 tasks      | elapsed:    0.1s\n",
      "[Parallel(n_jobs=-1)]: Done 500 out of 500 | elapsed:   24.8s finished\n",
      "[Parallel(n_jobs=10)]: Done 180 tasks      | elapsed:    0.1s\n",
      "[Parallel(n_jobs=10)]: Done 430 tasks      | elapsed:    0.3s\n",
      "[Parallel(n_jobs=10)]: Done 500 out of 500 | elapsed:    0.3s finished\n",
      "[Parallel(n_jobs=-1)]: Using backend ThreadingBackend with 10 concurrent workers.\n"
     ]
    },
    {
     "name": "stdout",
     "output_type": "stream",
     "text": [
      "[CV] END bootstrap=True, max_depth=2, max_features=auto, max_leaf_nodes=10, max_samples=None, n_estimators=500, n_jobs=-1, oob_score=True, random_state=42, verbose=1; total time=  31.8s\n"
     ]
    },
    {
     "name": "stderr",
     "output_type": "stream",
     "text": [
      "[Parallel(n_jobs=10)]: Using backend ThreadingBackend with 10 concurrent workers.\n",
      "[Parallel(n_jobs=10)]: Done  30 tasks      | elapsed:    0.1s\n",
      "[Parallel(n_jobs=10)]: Using backend ThreadingBackend with 10 concurrent workers.\n",
      "[Parallel(n_jobs=10)]: Done 180 tasks      | elapsed:    0.2s\n",
      "[Parallel(n_jobs=10)]: Done  30 tasks      | elapsed:    0.1s\n",
      "[Parallel(n_jobs=10)]: Done 430 tasks      | elapsed:    0.2s\n",
      "[Parallel(n_jobs=10)]: Done 180 tasks      | elapsed:    0.1s\n",
      "[Parallel(n_jobs=10)]: Done 430 tasks      | elapsed:    0.2s\n",
      "[Parallel(n_jobs=10)]: Done 500 out of 500 | elapsed:    0.2s finished\n",
      "[Parallel(n_jobs=10)]: Done 500 out of 500 | elapsed:    0.4s finished\n"
     ]
    },
    {
     "name": "stdout",
     "output_type": "stream",
     "text": [
      "[CV] END bootstrap=True, max_depth=2, max_features=auto, max_leaf_nodes=10, max_samples=None, n_estimators=500, n_jobs=-1, oob_score=True, random_state=42, verbose=1; total time=  29.1s\n",
      "[CV] END bootstrap=True, max_depth=2, max_features=auto, max_leaf_nodes=10, max_samples=None, n_estimators=500, n_jobs=-1, oob_score=True, random_state=42, verbose=1; total time=  29.2s\n"
     ]
    },
    {
     "name": "stderr",
     "output_type": "stream",
     "text": [
      "[Parallel(n_jobs=-1)]: Using backend ThreadingBackend with 10 concurrent workers.\n",
      "[Parallel(n_jobs=-1)]: Using backend ThreadingBackend with 10 concurrent workers.\n",
      "[Parallel(n_jobs=-1)]: Done 200 out of 200 | elapsed:   12.4s finished\n",
      "[Parallel(n_jobs=-1)]: Done 500 out of 500 | elapsed:   25.7s finished\n",
      "[Parallel(n_jobs=10)]: Using backend ThreadingBackend with 10 concurrent workers.\n",
      "[Parallel(n_jobs=10)]: Done  30 tasks      | elapsed:    0.1s\n",
      "[Parallel(n_jobs=10)]: Done 180 tasks      | elapsed:    0.1s\n",
      "[Parallel(n_jobs=10)]: Done 200 out of 200 | elapsed:    0.1s finished\n",
      "[Parallel(n_jobs=-1)]: Done  30 tasks      | elapsed:    1.8s\n",
      "[Parallel(n_jobs=10)]: Using backend ThreadingBackend with 10 concurrent workers.\n",
      "[Parallel(n_jobs=-1)]: Using backend ThreadingBackend with 10 concurrent workers.\n",
      "[Parallel(n_jobs=10)]: Done  30 tasks      | elapsed:    0.1s\n",
      "[Parallel(n_jobs=10)]: Done 180 tasks      | elapsed:    0.1s\n",
      "[Parallel(n_jobs=10)]: Done 430 tasks      | elapsed:    0.1s\n"
     ]
    },
    {
     "name": "stdout",
     "output_type": "stream",
     "text": [
      "[CV] END bootstrap=True, max_depth=2, max_features=auto, max_leaf_nodes=20, max_samples=None, n_estimators=200, n_jobs=-1, oob_score=True, random_state=42, verbose=1; total time=  13.3s\n"
     ]
    },
    {
     "name": "stderr",
     "output_type": "stream",
     "text": [
      "[Parallel(n_jobs=10)]: Done 500 out of 500 | elapsed:    0.2s finished\n",
      "[Parallel(n_jobs=-1)]: Using backend ThreadingBackend with 10 concurrent workers.\n"
     ]
    },
    {
     "name": "stdout",
     "output_type": "stream",
     "text": [
      "[CV] END bootstrap=True, max_depth=2, max_features=auto, max_leaf_nodes=10, max_samples=None, n_estimators=500, n_jobs=-1, oob_score=True, random_state=42, verbose=1; total time=  27.4s\n"
     ]
    },
    {
     "name": "stderr",
     "output_type": "stream",
     "text": [
      "[Parallel(n_jobs=-1)]: Done 180 tasks      | elapsed:    7.9s\n",
      "[Parallel(n_jobs=-1)]: Done  30 tasks      | elapsed:    2.0s\n",
      "[Parallel(n_jobs=-1)]: Done  30 tasks      | elapsed:    2.1s\n",
      "[Parallel(n_jobs=10)]: Using backend ThreadingBackend with 10 concurrent workers.\n",
      "[Parallel(n_jobs=10)]: Done  30 tasks      | elapsed:    0.1s\n",
      "[Parallel(n_jobs=10)]: Done 180 tasks      | elapsed:    0.1s\n",
      "[Parallel(n_jobs=10)]: Done 430 tasks      | elapsed:    0.2s\n",
      "[Parallel(n_jobs=10)]: Done 500 out of 500 | elapsed:    0.2s finished\n"
     ]
    },
    {
     "name": "stdout",
     "output_type": "stream",
     "text": [
      "[CV] END bootstrap=True, max_depth=2, max_features=auto, max_leaf_nodes=10, max_samples=None, n_estimators=500, n_jobs=-1, oob_score=True, random_state=42, verbose=1; total time=  28.1s\n"
     ]
    },
    {
     "name": "stderr",
     "output_type": "stream",
     "text": [
      "[Parallel(n_jobs=-1)]: Done 200 out of 200 | elapsed:    9.0s finished\n",
      "[Parallel(n_jobs=-1)]: Done  30 tasks      | elapsed:    2.0s\n",
      "[Parallel(n_jobs=-1)]: Using backend ThreadingBackend with 10 concurrent workers.\n",
      "[Parallel(n_jobs=-1)]: Done  30 tasks      | elapsed:    2.2s\n",
      "[Parallel(n_jobs=10)]: Using backend ThreadingBackend with 10 concurrent workers.\n",
      "[Parallel(n_jobs=10)]: Done  30 tasks      | elapsed:    0.0s\n",
      "[Parallel(n_jobs=10)]: Done 180 tasks      | elapsed:    0.1s\n",
      "[Parallel(n_jobs=10)]: Done 200 out of 200 | elapsed:    0.1s finished\n"
     ]
    },
    {
     "name": "stdout",
     "output_type": "stream",
     "text": [
      "[CV] END bootstrap=True, max_depth=2, max_features=auto, max_leaf_nodes=20, max_samples=None, n_estimators=200, n_jobs=-1, oob_score=True, random_state=42, verbose=1; total time=   9.9s\n"
     ]
    },
    {
     "name": "stderr",
     "output_type": "stream",
     "text": [
      "[Parallel(n_jobs=-1)]: Using backend ThreadingBackend with 10 concurrent workers.\n",
      "[Parallel(n_jobs=-1)]: Done 180 tasks      | elapsed:    8.6s\n",
      "[Parallel(n_jobs=-1)]: Done 180 tasks      | elapsed:    8.9s\n",
      "[Parallel(n_jobs=-1)]: Done  30 tasks      | elapsed:    2.3s\n",
      "[Parallel(n_jobs=-1)]: Done 200 out of 200 | elapsed:    9.9s finished\n",
      "[Parallel(n_jobs=10)]: Using backend ThreadingBackend with 10 concurrent workers.\n",
      "[Parallel(n_jobs=10)]: Done  30 tasks      | elapsed:    0.0s\n",
      "[Parallel(n_jobs=-1)]: Done  30 tasks      | elapsed:    2.2s\n",
      "[Parallel(n_jobs=10)]: Done 180 tasks      | elapsed:    0.1s\n",
      "[Parallel(n_jobs=10)]: Done 200 out of 200 | elapsed:    0.1s finished\n",
      "[Parallel(n_jobs=-1)]: Done 200 out of 200 | elapsed:   10.0s finished\n"
     ]
    },
    {
     "name": "stdout",
     "output_type": "stream",
     "text": [
      "[CV] END bootstrap=True, max_depth=2, max_features=auto, max_leaf_nodes=20, max_samples=None, n_estimators=200, n_jobs=-1, oob_score=True, random_state=42, verbose=1; total time=  10.7s\n"
     ]
    },
    {
     "name": "stderr",
     "output_type": "stream",
     "text": [
      "[Parallel(n_jobs=-1)]: Done 180 tasks      | elapsed:    7.5s\n",
      "[Parallel(n_jobs=-1)]: Using backend ThreadingBackend with 10 concurrent workers.\n",
      "[Parallel(n_jobs=10)]: Using backend ThreadingBackend with 10 concurrent workers.\n",
      "[Parallel(n_jobs=10)]: Done  30 tasks      | elapsed:    0.0s\n",
      "[Parallel(n_jobs=10)]: Done 180 tasks      | elapsed:    0.1s\n",
      "[Parallel(n_jobs=10)]: Done 200 out of 200 | elapsed:    0.1s finished\n"
     ]
    },
    {
     "name": "stdout",
     "output_type": "stream",
     "text": [
      "[CV] END bootstrap=True, max_depth=2, max_features=auto, max_leaf_nodes=20, max_samples=None, n_estimators=200, n_jobs=-1, oob_score=True, random_state=42, verbose=1; total time=  10.9s\n"
     ]
    },
    {
     "name": "stderr",
     "output_type": "stream",
     "text": [
      "[Parallel(n_jobs=-1)]: Using backend ThreadingBackend with 10 concurrent workers.\n",
      "[Parallel(n_jobs=-1)]: Done 200 out of 200 | elapsed:    8.5s finished\n",
      "[Parallel(n_jobs=-1)]: Done 180 tasks      | elapsed:   11.1s\n",
      "[Parallel(n_jobs=10)]: Using backend ThreadingBackend with 10 concurrent workers.\n",
      "[Parallel(n_jobs=10)]: Done  30 tasks      | elapsed:    0.0s\n",
      "[Parallel(n_jobs=10)]: Done 180 tasks      | elapsed:    0.1s\n",
      "[Parallel(n_jobs=10)]: Done 200 out of 200 | elapsed:    0.1s finished\n",
      "[Parallel(n_jobs=-1)]: Done 180 tasks      | elapsed:    8.3s\n"
     ]
    },
    {
     "name": "stdout",
     "output_type": "stream",
     "text": [
      "[CV] END bootstrap=True, max_depth=2, max_features=auto, max_leaf_nodes=20, max_samples=None, n_estimators=200, n_jobs=-1, oob_score=True, random_state=42, verbose=1; total time=   9.3s\n"
     ]
    },
    {
     "name": "stderr",
     "output_type": "stream",
     "text": [
      "[Parallel(n_jobs=-1)]: Using backend ThreadingBackend with 10 concurrent workers.\n",
      "[Parallel(n_jobs=-1)]: Done  30 tasks      | elapsed:    2.4s\n",
      "[Parallel(n_jobs=-1)]: Done  30 tasks      | elapsed:    1.8s\n",
      "[Parallel(n_jobs=-1)]: Done 200 out of 200 | elapsed:   12.5s finished\n",
      "[Parallel(n_jobs=-1)]: Done 200 out of 200 | elapsed:    9.3s finished\n",
      "[Parallel(n_jobs=10)]: Using backend ThreadingBackend with 10 concurrent workers.\n",
      "[Parallel(n_jobs=10)]: Done  30 tasks      | elapsed:    0.0s\n",
      "[Parallel(n_jobs=10)]: Using backend ThreadingBackend with 10 concurrent workers.\n",
      "[Parallel(n_jobs=10)]: Done  30 tasks      | elapsed:    0.0s\n",
      "[Parallel(n_jobs=10)]: Done 180 tasks      | elapsed:    0.1s\n",
      "[Parallel(n_jobs=10)]: Done 200 out of 200 | elapsed:    0.1s finished\n",
      "[Parallel(n_jobs=10)]: Done 180 tasks      | elapsed:    0.1s\n",
      "[Parallel(n_jobs=10)]: Done 200 out of 200 | elapsed:    0.1s finished\n"
     ]
    },
    {
     "name": "stdout",
     "output_type": "stream",
     "text": [
      "[CV] END bootstrap=True, max_depth=2, max_features=auto, max_leaf_nodes=20, max_samples=None, n_estimators=200, n_jobs=-1, oob_score=True, random_state=42, verbose=1; total time=  10.2s\n",
      "[CV] END bootstrap=True, max_depth=2, max_features=auto, max_leaf_nodes=20, max_samples=None, n_estimators=200, n_jobs=-1, oob_score=True, random_state=42, verbose=1; total time=  13.5s\n"
     ]
    },
    {
     "name": "stderr",
     "output_type": "stream",
     "text": [
      "[Parallel(n_jobs=-1)]: Using backend ThreadingBackend with 10 concurrent workers.\n",
      "[Parallel(n_jobs=-1)]: Using backend ThreadingBackend with 10 concurrent workers.\n",
      "[Parallel(n_jobs=-1)]: Done  30 tasks      | elapsed:    2.1s\n",
      "[Parallel(n_jobs=-1)]: Done 180 tasks      | elapsed:   11.8s\n",
      "[Parallel(n_jobs=-1)]: Done 180 tasks      | elapsed:   10.7s\n",
      "[Parallel(n_jobs=-1)]: Done 180 tasks      | elapsed:   11.1s\n",
      "[Parallel(n_jobs=-1)]: Done  30 tasks      | elapsed:    1.8s\n",
      "[Parallel(n_jobs=-1)]: Done  30 tasks      | elapsed:    2.2s\n",
      "[Parallel(n_jobs=-1)]: Done 200 out of 200 | elapsed:   13.0s finished\n",
      "[Parallel(n_jobs=-1)]: Done 200 out of 200 | elapsed:   11.8s finished\n",
      "[Parallel(n_jobs=-1)]: Done 200 out of 200 | elapsed:   12.3s finished\n",
      "[Parallel(n_jobs=-1)]: Done 180 tasks      | elapsed:    9.4s\n",
      "[Parallel(n_jobs=-1)]: Done 180 tasks      | elapsed:   10.5s\n",
      "[Parallel(n_jobs=10)]: Using backend ThreadingBackend with 10 concurrent workers.\n",
      "[Parallel(n_jobs=10)]: Done  30 tasks      | elapsed:    0.0s\n",
      "[Parallel(n_jobs=10)]: Done 180 tasks      | elapsed:    0.0s\n",
      "[Parallel(n_jobs=10)]: Done 200 out of 200 | elapsed:    0.0s finished\n",
      "[Parallel(n_jobs=10)]: Using backend ThreadingBackend with 10 concurrent workers.\n"
     ]
    },
    {
     "name": "stdout",
     "output_type": "stream",
     "text": [
      "[CV] END bootstrap=True, max_depth=2, max_features=auto, max_leaf_nodes=20, max_samples=None, n_estimators=200, n_jobs=-1, oob_score=True, random_state=42, verbose=1; total time=  14.1s\n",
      "[CV] END bootstrap=True, max_depth=2, max_features=auto, max_leaf_nodes=20, max_samples=None, n_estimators=200, n_jobs=-1, oob_score=True, random_state=42, verbose=1; total time=  13.0s\n"
     ]
    },
    {
     "name": "stderr",
     "output_type": "stream",
     "text": [
      "[Parallel(n_jobs=10)]: Done  30 tasks      | elapsed:    0.0s\n",
      "[Parallel(n_jobs=10)]: Done 180 tasks      | elapsed:    0.0s\n",
      "[Parallel(n_jobs=10)]: Done 200 out of 200 | elapsed:    0.0s finished\n",
      "[Parallel(n_jobs=10)]: Using backend ThreadingBackend with 10 concurrent workers.\n",
      "[Parallel(n_jobs=10)]: Done  30 tasks      | elapsed:    0.0s\n",
      "[Parallel(n_jobs=10)]: Done 180 tasks      | elapsed:    0.1s\n",
      "[Parallel(n_jobs=10)]: Done 200 out of 200 | elapsed:    0.1s finished\n",
      "[Parallel(n_jobs=-1)]: Using backend ThreadingBackend with 10 concurrent workers.\n"
     ]
    },
    {
     "name": "stdout",
     "output_type": "stream",
     "text": [
      "[CV] END bootstrap=True, max_depth=2, max_features=auto, max_leaf_nodes=20, max_samples=None, n_estimators=200, n_jobs=-1, oob_score=True, random_state=42, verbose=1; total time=  13.6s\n"
     ]
    },
    {
     "name": "stderr",
     "output_type": "stream",
     "text": [
      "[Parallel(n_jobs=-1)]: Using backend ThreadingBackend with 10 concurrent workers.\n",
      "[Parallel(n_jobs=-1)]: Using backend ThreadingBackend with 10 concurrent workers.\n",
      "[Parallel(n_jobs=-1)]: Done 180 tasks      | elapsed:    8.9s\n",
      "[Parallel(n_jobs=-1)]: Done  30 tasks      | elapsed:    2.2s\n",
      "[Parallel(n_jobs=-1)]: Done  30 tasks      | elapsed:    2.1s\n",
      "[Parallel(n_jobs=-1)]: Done 180 tasks      | elapsed:   10.3s\n",
      "[Parallel(n_jobs=-1)]: Done  30 tasks      | elapsed:    2.5s\n",
      "[Parallel(n_jobs=-1)]: Done 180 tasks      | elapsed:    7.8s\n",
      "[Parallel(n_jobs=-1)]: Done 180 tasks      | elapsed:   10.3s\n",
      "[Parallel(n_jobs=-1)]: Done 430 tasks      | elapsed:   17.3s\n",
      "[Parallel(n_jobs=-1)]: Done 180 tasks      | elapsed:   12.1s\n",
      "[Parallel(n_jobs=-1)]: Done 500 out of 500 | elapsed:   19.8s finished\n",
      "[Parallel(n_jobs=-1)]: Done 430 tasks      | elapsed:   21.3s\n",
      "[Parallel(n_jobs=10)]: Using backend ThreadingBackend with 10 concurrent workers.\n",
      "[Parallel(n_jobs=10)]: Done  30 tasks      | elapsed:    0.2s\n",
      "[Parallel(n_jobs=10)]: Done 180 tasks      | elapsed:    0.2s\n",
      "[Parallel(n_jobs=10)]: Done 430 tasks      | elapsed:    0.3s\n",
      "[Parallel(n_jobs=10)]: Done 500 out of 500 | elapsed:    0.4s finished\n"
     ]
    },
    {
     "name": "stdout",
     "output_type": "stream",
     "text": [
      "[CV] END bootstrap=True, max_depth=2, max_features=auto, max_leaf_nodes=20, max_samples=None, n_estimators=500, n_jobs=-1, oob_score=True, random_state=42, verbose=1; total time=  22.9s\n"
     ]
    },
    {
     "name": "stderr",
     "output_type": "stream",
     "text": [
      "[Parallel(n_jobs=-1)]: Using backend ThreadingBackend with 10 concurrent workers.\n",
      "[Parallel(n_jobs=-1)]: Done 430 tasks      | elapsed:   16.8s\n",
      "[Parallel(n_jobs=-1)]: Done 430 tasks      | elapsed:   20.1s\n",
      "[Parallel(n_jobs=-1)]: Done 500 out of 500 | elapsed:   24.5s finished\n",
      "[Parallel(n_jobs=-1)]: Done 180 tasks      | elapsed:   13.0s\n",
      "[Parallel(n_jobs=-1)]: Done 180 tasks      | elapsed:   13.1s\n",
      "[Parallel(n_jobs=-1)]: Done 180 tasks      | elapsed:   13.2s\n",
      "[Parallel(n_jobs=-1)]: Done  30 tasks      | elapsed:    1.9s\n",
      "[Parallel(n_jobs=-1)]: Done 430 tasks      | elapsed:   22.6s\n",
      "[Parallel(n_jobs=-1)]: Done 430 tasks      | elapsed:   21.0s\n",
      "[Parallel(n_jobs=-1)]: Done 500 out of 500 | elapsed:   19.6s finished\n",
      "[Parallel(n_jobs=10)]: Using backend ThreadingBackend with 10 concurrent workers.\n",
      "[Parallel(n_jobs=10)]: Done  30 tasks      | elapsed:    0.2s\n",
      "[Parallel(n_jobs=10)]: Done 180 tasks      | elapsed:    0.2s\n",
      "[Parallel(n_jobs=10)]: Done 430 tasks      | elapsed:    0.3s\n",
      "[Parallel(n_jobs=10)]: Done 500 out of 500 | elapsed:    0.4s finished\n",
      "[Parallel(n_jobs=-1)]: Using backend ThreadingBackend with 10 concurrent workers.\n",
      "[Parallel(n_jobs=-1)]: Done 500 out of 500 | elapsed:   23.4s finished\n"
     ]
    },
    {
     "name": "stdout",
     "output_type": "stream",
     "text": [
      "[CV] END bootstrap=True, max_depth=2, max_features=auto, max_leaf_nodes=20, max_samples=None, n_estimators=500, n_jobs=-1, oob_score=True, random_state=42, verbose=1; total time=  27.7s\n"
     ]
    },
    {
     "name": "stderr",
     "output_type": "stream",
     "text": [
      "[Parallel(n_jobs=-1)]: Done 500 out of 500 | elapsed:   25.3s finished\n",
      "[Parallel(n_jobs=10)]: Using backend ThreadingBackend with 10 concurrent workers.\n",
      "[Parallel(n_jobs=-1)]: Done  30 tasks      | elapsed:    1.6s\n",
      "[Parallel(n_jobs=10)]: Done  30 tasks      | elapsed:    0.1s\n",
      "[Parallel(n_jobs=10)]: Done 180 tasks      | elapsed:    0.1s\n",
      "[Parallel(n_jobs=-1)]: Done 500 out of 500 | elapsed:   23.8s finished\n",
      "[Parallel(n_jobs=10)]: Done 430 tasks      | elapsed:    0.2s\n",
      "[Parallel(n_jobs=10)]: Done 500 out of 500 | elapsed:    0.3s finished\n",
      "[Parallel(n_jobs=-1)]: Using backend ThreadingBackend with 10 concurrent workers.\n"
     ]
    },
    {
     "name": "stdout",
     "output_type": "stream",
     "text": [
      "[CV] END bootstrap=True, max_depth=2, max_features=auto, max_leaf_nodes=20, max_samples=None, n_estimators=500, n_jobs=-1, oob_score=True, random_state=42, verbose=1; total time=  22.4s\n"
     ]
    },
    {
     "name": "stderr",
     "output_type": "stream",
     "text": [
      "[Parallel(n_jobs=10)]: Using backend ThreadingBackend with 10 concurrent workers.\n",
      "[Parallel(n_jobs=10)]: Done  30 tasks      | elapsed:    0.1s\n",
      "[Parallel(n_jobs=10)]: Done 180 tasks      | elapsed:    0.1s\n",
      "[Parallel(n_jobs=10)]: Done 430 tasks      | elapsed:    0.1s\n",
      "[Parallel(n_jobs=10)]: Done 500 out of 500 | elapsed:    0.1s finished\n"
     ]
    },
    {
     "name": "stdout",
     "output_type": "stream",
     "text": [
      "[CV] END bootstrap=True, max_depth=2, max_features=auto, max_leaf_nodes=20, max_samples=None, n_estimators=500, n_jobs=-1, oob_score=True, random_state=42, verbose=1; total time=  25.8s\n"
     ]
    },
    {
     "name": "stderr",
     "output_type": "stream",
     "text": [
      "[Parallel(n_jobs=-1)]: Using backend ThreadingBackend with 10 concurrent workers.\n",
      "[Parallel(n_jobs=10)]: Using backend ThreadingBackend with 10 concurrent workers.\n",
      "[Parallel(n_jobs=10)]: Done  30 tasks      | elapsed:    0.0s\n",
      "[Parallel(n_jobs=10)]: Done 180 tasks      | elapsed:    0.0s\n",
      "[Parallel(n_jobs=10)]: Done 430 tasks      | elapsed:    0.2s\n",
      "[Parallel(n_jobs=10)]: Done 500 out of 500 | elapsed:    0.3s finished\n",
      "[Parallel(n_jobs=10)]: Using backend ThreadingBackend with 10 concurrent workers.\n",
      "[Parallel(n_jobs=-1)]: Using backend ThreadingBackend with 10 concurrent workers.\n",
      "[Parallel(n_jobs=10)]: Done  30 tasks      | elapsed:    0.1s\n"
     ]
    },
    {
     "name": "stdout",
     "output_type": "stream",
     "text": [
      "[CV] END bootstrap=True, max_depth=2, max_features=auto, max_leaf_nodes=20, max_samples=None, n_estimators=500, n_jobs=-1, oob_score=True, random_state=42, verbose=1; total time=  27.9s\n"
     ]
    },
    {
     "name": "stderr",
     "output_type": "stream",
     "text": [
      "[Parallel(n_jobs=10)]: Done 180 tasks      | elapsed:    0.2s\n",
      "[Parallel(n_jobs=10)]: Done 430 tasks      | elapsed:    0.2s\n",
      "[Parallel(n_jobs=10)]: Done 500 out of 500 | elapsed:    0.3s finished\n"
     ]
    },
    {
     "name": "stdout",
     "output_type": "stream",
     "text": [
      "[CV] END bootstrap=True, max_depth=2, max_features=auto, max_leaf_nodes=20, max_samples=None, n_estimators=500, n_jobs=-1, oob_score=True, random_state=42, verbose=1; total time=  26.1s\n"
     ]
    },
    {
     "name": "stderr",
     "output_type": "stream",
     "text": [
      "[Parallel(n_jobs=-1)]: Using backend ThreadingBackend with 10 concurrent workers.\n",
      "[Parallel(n_jobs=-1)]: Done  30 tasks      | elapsed:    2.1s\n",
      "[Parallel(n_jobs=-1)]: Done 180 tasks      | elapsed:    8.2s\n",
      "[Parallel(n_jobs=-1)]: Done  30 tasks      | elapsed:    2.3s\n",
      "[Parallel(n_jobs=-1)]: Done 200 out of 200 | elapsed:    9.1s finished\n",
      "[Parallel(n_jobs=-1)]: Done  30 tasks      | elapsed:    2.1s\n",
      "[Parallel(n_jobs=10)]: Using backend ThreadingBackend with 10 concurrent workers.\n",
      "[Parallel(n_jobs=-1)]: Done  30 tasks      | elapsed:    2.1s\n",
      "[Parallel(n_jobs=10)]: Done  30 tasks      | elapsed:    0.1s\n",
      "[Parallel(n_jobs=10)]: Done 180 tasks      | elapsed:    0.1s\n",
      "[Parallel(n_jobs=10)]: Done 200 out of 200 | elapsed:    0.2s finished\n"
     ]
    },
    {
     "name": "stdout",
     "output_type": "stream",
     "text": [
      "[CV] END bootstrap=True, max_depth=2, max_features=auto, max_leaf_nodes=50, max_samples=None, n_estimators=200, n_jobs=-1, oob_score=True, random_state=42, verbose=1; total time=  10.3s\n"
     ]
    },
    {
     "name": "stderr",
     "output_type": "stream",
     "text": [
      "[Parallel(n_jobs=-1)]: Using backend ThreadingBackend with 10 concurrent workers.\n",
      "[Parallel(n_jobs=-1)]: Done 430 tasks      | elapsed:   22.9s\n",
      "[Parallel(n_jobs=-1)]: Done 430 tasks      | elapsed:   23.8s\n",
      "[Parallel(n_jobs=-1)]: Done 430 tasks      | elapsed:   28.6s\n",
      "[Parallel(n_jobs=-1)]: Done  30 tasks      | elapsed:    2.5s\n",
      "[Parallel(n_jobs=-1)]: Done 180 tasks      | elapsed:   10.4s\n",
      "[Parallel(n_jobs=-1)]: Done 500 out of 500 | elapsed:   26.4s finished\n",
      "[Parallel(n_jobs=-1)]: Done 500 out of 500 | elapsed:   26.6s finished\n",
      "[Parallel(n_jobs=-1)]: Done 200 out of 200 | elapsed:   11.4s finished\n",
      "[Parallel(n_jobs=-1)]: Done 500 out of 500 | elapsed:   31.7s finished\n",
      "[Parallel(n_jobs=10)]: Using backend ThreadingBackend with 10 concurrent workers.\n",
      "[Parallel(n_jobs=10)]: Done  30 tasks      | elapsed:    0.0s\n",
      "[Parallel(n_jobs=10)]: Done 180 tasks      | elapsed:    0.1s\n",
      "[Parallel(n_jobs=10)]: Done 200 out of 200 | elapsed:    0.1s finished\n",
      "[Parallel(n_jobs=-1)]: Done 180 tasks      | elapsed:   10.0s\n",
      "[Parallel(n_jobs=-1)]: Using backend ThreadingBackend with 10 concurrent workers.\n"
     ]
    },
    {
     "name": "stdout",
     "output_type": "stream",
     "text": [
      "[CV] END bootstrap=True, max_depth=2, max_features=auto, max_leaf_nodes=50, max_samples=None, n_estimators=200, n_jobs=-1, oob_score=True, random_state=42, verbose=1; total time=  12.4s\n"
     ]
    },
    {
     "name": "stderr",
     "output_type": "stream",
     "text": [
      "[Parallel(n_jobs=-1)]: Done 180 tasks      | elapsed:   10.8s\n",
      "[Parallel(n_jobs=-1)]: Done 180 tasks      | elapsed:    8.8s\n",
      "[Parallel(n_jobs=10)]: Using backend ThreadingBackend with 10 concurrent workers.\n",
      "[Parallel(n_jobs=10)]: Done  30 tasks      | elapsed:    0.1s\n",
      "[Parallel(n_jobs=10)]: Done 180 tasks      | elapsed:    0.1s\n",
      "[Parallel(n_jobs=10)]: Using backend ThreadingBackend with 10 concurrent workers.\n",
      "[Parallel(n_jobs=-1)]: Done 430 tasks      | elapsed:   28.8s\n",
      "[Parallel(n_jobs=10)]: Done 430 tasks      | elapsed:    0.2s\n",
      "[Parallel(n_jobs=10)]: Done  30 tasks      | elapsed:    0.1s\n",
      "[Parallel(n_jobs=10)]: Done 180 tasks      | elapsed:    0.1s\n",
      "[Parallel(n_jobs=10)]: Done 430 tasks      | elapsed:    0.1s\n",
      "[Parallel(n_jobs=10)]: Done 500 out of 500 | elapsed:    0.1s finished\n"
     ]
    },
    {
     "name": "stdout",
     "output_type": "stream",
     "text": [
      "[CV] END bootstrap=True, max_depth=2, max_features=auto, max_leaf_nodes=20, max_samples=None, n_estimators=500, n_jobs=-1, oob_score=True, random_state=42, verbose=1; total time=  29.7s\n",
      "[CV] END bootstrap=True, max_depth=2, max_features=auto, max_leaf_nodes=20, max_samples=None, n_estimators=500, n_jobs=-1, oob_score=True, random_state=42, verbose=1; total time=  29.5s\n"
     ]
    },
    {
     "name": "stderr",
     "output_type": "stream",
     "text": [
      "[Parallel(n_jobs=-1)]: Done 180 tasks      | elapsed:    9.6s\n",
      "[Parallel(n_jobs=10)]: Done 500 out of 500 | elapsed:    0.4s finished\n",
      "[Parallel(n_jobs=-1)]: Using backend ThreadingBackend with 10 concurrent workers.\n",
      "[Parallel(n_jobs=-1)]: Using backend ThreadingBackend with 10 concurrent workers.\n",
      "[Parallel(n_jobs=10)]: Using backend ThreadingBackend with 10 concurrent workers.\n",
      "[Parallel(n_jobs=10)]: Done  30 tasks      | elapsed:    0.1s\n",
      "[Parallel(n_jobs=10)]: Done 180 tasks      | elapsed:    0.1s\n",
      "[Parallel(n_jobs=10)]: Done 430 tasks      | elapsed:    0.1s\n",
      "[Parallel(n_jobs=10)]: Done 500 out of 500 | elapsed:    0.2s finished\n",
      "[Parallel(n_jobs=-1)]: Done 200 out of 200 | elapsed:   11.3s finished\n"
     ]
    },
    {
     "name": "stdout",
     "output_type": "stream",
     "text": [
      "[CV] END bootstrap=True, max_depth=2, max_features=auto, max_leaf_nodes=20, max_samples=None, n_estimators=500, n_jobs=-1, oob_score=True, random_state=42, verbose=1; total time=  34.1s\n"
     ]
    },
    {
     "name": "stderr",
     "output_type": "stream",
     "text": [
      "[Parallel(n_jobs=-1)]: Done 200 out of 200 | elapsed:    9.7s finished\n",
      "[Parallel(n_jobs=-1)]: Using backend ThreadingBackend with 10 concurrent workers.\n",
      "[Parallel(n_jobs=-1)]: Done 200 out of 200 | elapsed:   11.9s finished\n",
      "[Parallel(n_jobs=-1)]: Done 200 out of 200 | elapsed:   10.5s finished\n",
      "[Parallel(n_jobs=-1)]: Done  30 tasks      | elapsed:    1.7s\n",
      "[Parallel(n_jobs=-1)]: Done  30 tasks      | elapsed:    1.1s\n",
      "[Parallel(n_jobs=10)]: Using backend ThreadingBackend with 10 concurrent workers.\n",
      "[Parallel(n_jobs=10)]: Done  30 tasks      | elapsed:    0.0s\n",
      "[Parallel(n_jobs=10)]: Done 180 tasks      | elapsed:    0.1s\n",
      "[Parallel(n_jobs=10)]: Done 200 out of 200 | elapsed:    0.1s finished\n",
      "[Parallel(n_jobs=10)]: Using backend ThreadingBackend with 10 concurrent workers.\n"
     ]
    },
    {
     "name": "stdout",
     "output_type": "stream",
     "text": [
      "[CV] END bootstrap=True, max_depth=2, max_features=auto, max_leaf_nodes=50, max_samples=None, n_estimators=200, n_jobs=-1, oob_score=True, random_state=42, verbose=1; total time=  12.3s\n",
      "[CV] END bootstrap=True, max_depth=2, max_features=auto, max_leaf_nodes=50, max_samples=None, n_estimators=200, n_jobs=-1, oob_score=True, random_state=42, verbose=1; total time=  10.8s\n"
     ]
    },
    {
     "name": "stderr",
     "output_type": "stream",
     "text": [
      "[Parallel(n_jobs=10)]: Done  30 tasks      | elapsed:    0.1s\n",
      "[Parallel(n_jobs=10)]: Done 180 tasks      | elapsed:    0.1s\n",
      "[Parallel(n_jobs=10)]: Done 200 out of 200 | elapsed:    0.1s finished\n",
      "[Parallel(n_jobs=-1)]: Done  30 tasks      | elapsed:    1.5s\n",
      "[Parallel(n_jobs=-1)]: Using backend ThreadingBackend with 10 concurrent workers.\n",
      "[Parallel(n_jobs=10)]: Using backend ThreadingBackend with 10 concurrent workers.\n",
      "[Parallel(n_jobs=10)]: Done  30 tasks      | elapsed:    0.1s\n",
      "[Parallel(n_jobs=10)]: Using backend ThreadingBackend with 10 concurrent workers.\n",
      "[Parallel(n_jobs=10)]: Done  30 tasks      | elapsed:    0.0s\n",
      "[Parallel(n_jobs=-1)]: Using backend ThreadingBackend with 10 concurrent workers.\n",
      "[Parallel(n_jobs=10)]: Done 180 tasks      | elapsed:    0.1s\n",
      "[Parallel(n_jobs=10)]: Done 200 out of 200 | elapsed:    0.1s finished\n"
     ]
    },
    {
     "name": "stdout",
     "output_type": "stream",
     "text": [
      "[CV] END bootstrap=True, max_depth=2, max_features=auto, max_leaf_nodes=50, max_samples=None, n_estimators=200, n_jobs=-1, oob_score=True, random_state=42, verbose=1; total time=  11.5s\n",
      "[CV] END bootstrap=True, max_depth=2, max_features=auto, max_leaf_nodes=50, max_samples=None, n_estimators=200, n_jobs=-1, oob_score=True, random_state=42, verbose=1; total time=  13.2s\n"
     ]
    },
    {
     "name": "stderr",
     "output_type": "stream",
     "text": [
      "[Parallel(n_jobs=10)]: Done 180 tasks      | elapsed:    0.1s\n",
      "[Parallel(n_jobs=10)]: Done 200 out of 200 | elapsed:    0.1s finished\n",
      "[Parallel(n_jobs=-1)]: Using backend ThreadingBackend with 10 concurrent workers.\n",
      "[Parallel(n_jobs=-1)]: Using backend ThreadingBackend with 10 concurrent workers.\n",
      "[Parallel(n_jobs=-1)]: Done  30 tasks      | elapsed:    1.8s\n",
      "[Parallel(n_jobs=-1)]: Done 180 tasks      | elapsed:    9.7s\n",
      "[Parallel(n_jobs=-1)]: Done 500 out of 500 | elapsed:   32.4s finished\n",
      "[Parallel(n_jobs=-1)]: Done  30 tasks      | elapsed:    2.1s\n",
      "[Parallel(n_jobs=-1)]: Done  30 tasks      | elapsed:    2.0s\n",
      "[Parallel(n_jobs=-1)]: Done 200 out of 200 | elapsed:   10.7s finished\n",
      "[Parallel(n_jobs=-1)]: Done  30 tasks      | elapsed:    2.0s\n",
      "[Parallel(n_jobs=-1)]: Done  30 tasks      | elapsed:    2.1s\n",
      "[Parallel(n_jobs=10)]: Using backend ThreadingBackend with 10 concurrent workers.\n",
      "[Parallel(n_jobs=10)]: Done  30 tasks      | elapsed:    0.0s\n",
      "[Parallel(n_jobs=10)]: Done 180 tasks      | elapsed:    0.1s\n",
      "[Parallel(n_jobs=10)]: Done 200 out of 200 | elapsed:    0.1s finished\n"
     ]
    },
    {
     "name": "stdout",
     "output_type": "stream",
     "text": [
      "[CV] END bootstrap=True, max_depth=2, max_features=auto, max_leaf_nodes=50, max_samples=None, n_estimators=200, n_jobs=-1, oob_score=True, random_state=42, verbose=1; total time=  11.7s\n"
     ]
    },
    {
     "name": "stderr",
     "output_type": "stream",
     "text": [
      "[Parallel(n_jobs=10)]: Using backend ThreadingBackend with 10 concurrent workers.\n",
      "[Parallel(n_jobs=-1)]: Using backend ThreadingBackend with 10 concurrent workers.\n",
      "[Parallel(n_jobs=10)]: Done  30 tasks      | elapsed:    0.1s\n",
      "[Parallel(n_jobs=10)]: Done 180 tasks      | elapsed:    0.2s\n",
      "[Parallel(n_jobs=10)]: Done 430 tasks      | elapsed:    0.2s\n",
      "[Parallel(n_jobs=10)]: Done 500 out of 500 | elapsed:    0.3s finished\n"
     ]
    },
    {
     "name": "stdout",
     "output_type": "stream",
     "text": [
      "[CV] END bootstrap=True, max_depth=2, max_features=auto, max_leaf_nodes=20, max_samples=None, n_estimators=500, n_jobs=-1, oob_score=True, random_state=42, verbose=1; total time=  34.8s\n"
     ]
    },
    {
     "name": "stderr",
     "output_type": "stream",
     "text": [
      "[Parallel(n_jobs=-1)]: Using backend ThreadingBackend with 10 concurrent workers.\n",
      "[Parallel(n_jobs=-1)]: Done 180 tasks      | elapsed:    6.6s\n",
      "[Parallel(n_jobs=-1)]: Done  30 tasks      | elapsed:    2.2s\n",
      "[Parallel(n_jobs=-1)]: Done 200 out of 200 | elapsed:    7.8s finished\n",
      "[Parallel(n_jobs=-1)]: Done  30 tasks      | elapsed:    2.3s\n",
      "[Parallel(n_jobs=10)]: Using backend ThreadingBackend with 10 concurrent workers.\n",
      "[Parallel(n_jobs=10)]: Done  30 tasks      | elapsed:    0.1s\n",
      "[Parallel(n_jobs=10)]: Done 180 tasks      | elapsed:    0.1s\n",
      "[Parallel(n_jobs=10)]: Done 200 out of 200 | elapsed:    0.1s finished\n"
     ]
    },
    {
     "name": "stdout",
     "output_type": "stream",
     "text": [
      "[CV] END bootstrap=True, max_depth=2, max_features=auto, max_leaf_nodes=50, max_samples=None, n_estimators=200, n_jobs=-1, oob_score=True, random_state=42, verbose=1; total time=   8.8s\n"
     ]
    },
    {
     "name": "stderr",
     "output_type": "stream",
     "text": [
      "[Parallel(n_jobs=-1)]: Done 180 tasks      | elapsed:    8.8s\n",
      "[Parallel(n_jobs=-1)]: Using backend ThreadingBackend with 10 concurrent workers.\n",
      "[Parallel(n_jobs=-1)]: Done 180 tasks      | elapsed:    7.7s\n",
      "[Parallel(n_jobs=-1)]: Done 200 out of 200 | elapsed:   10.0s finished\n",
      "[Parallel(n_jobs=-1)]: Done 180 tasks      | elapsed:   11.0s\n",
      "[Parallel(n_jobs=10)]: Using backend ThreadingBackend with 10 concurrent workers.\n",
      "[Parallel(n_jobs=10)]: Done  30 tasks      | elapsed:    0.0s\n",
      "[Parallel(n_jobs=10)]: Done 180 tasks      | elapsed:    0.1s\n",
      "[Parallel(n_jobs=10)]: Done 200 out of 200 | elapsed:    0.1s finished\n"
     ]
    },
    {
     "name": "stdout",
     "output_type": "stream",
     "text": [
      "[CV] END bootstrap=True, max_depth=2, max_features=auto, max_leaf_nodes=50, max_samples=None, n_estimators=200, n_jobs=-1, oob_score=True, random_state=42, verbose=1; total time=  10.9s\n"
     ]
    },
    {
     "name": "stderr",
     "output_type": "stream",
     "text": [
      "[Parallel(n_jobs=-1)]: Done 180 tasks      | elapsed:    9.3s\n",
      "[Parallel(n_jobs=-1)]: Using backend ThreadingBackend with 10 concurrent workers.\n",
      "[Parallel(n_jobs=-1)]: Done 180 tasks      | elapsed:    9.2s\n",
      "[Parallel(n_jobs=-1)]: Done  30 tasks      | elapsed:    2.4s\n",
      "[Parallel(n_jobs=-1)]: Done 200 out of 200 | elapsed:   12.5s finished\n",
      "[Parallel(n_jobs=10)]: Using backend ThreadingBackend with 10 concurrent workers.\n",
      "[Parallel(n_jobs=10)]: Done  30 tasks      | elapsed:    0.1s\n",
      "[Parallel(n_jobs=10)]: Done 180 tasks      | elapsed:    0.1s\n",
      "[Parallel(n_jobs=10)]: Done 200 out of 200 | elapsed:    0.1s finished\n"
     ]
    },
    {
     "name": "stdout",
     "output_type": "stream",
     "text": [
      "[CV] END bootstrap=True, max_depth=2, max_features=auto, max_leaf_nodes=50, max_samples=None, n_estimators=200, n_jobs=-1, oob_score=True, random_state=42, verbose=1; total time=  13.4s\n"
     ]
    },
    {
     "name": "stderr",
     "output_type": "stream",
     "text": [
      "[Parallel(n_jobs=-1)]: Using backend ThreadingBackend with 10 concurrent workers.\n",
      "[Parallel(n_jobs=-1)]: Done 180 tasks      | elapsed:   12.5s\n",
      "[Parallel(n_jobs=-1)]: Done  30 tasks      | elapsed:    2.2s\n",
      "[Parallel(n_jobs=-1)]: Done 180 tasks      | elapsed:   12.6s\n",
      "[Parallel(n_jobs=-1)]: Done  30 tasks      | elapsed:    2.7s\n",
      "[Parallel(n_jobs=-1)]: Done 180 tasks      | elapsed:   11.1s\n",
      "[Parallel(n_jobs=-1)]: Done 430 tasks      | elapsed:   14.9s\n",
      "[Parallel(n_jobs=-1)]: Done 180 tasks      | elapsed:   13.1s\n",
      "[Parallel(n_jobs=-1)]: Done 500 out of 500 | elapsed:   17.4s finished\n",
      "[Parallel(n_jobs=-1)]: Done 180 tasks      | elapsed:    8.8s\n",
      "[Parallel(n_jobs=-1)]: Done 180 tasks      | elapsed:   11.8s\n",
      "[Parallel(n_jobs=10)]: Using backend ThreadingBackend with 10 concurrent workers.\n",
      "[Parallel(n_jobs=10)]: Done  30 tasks      | elapsed:    0.1s\n",
      "[Parallel(n_jobs=10)]: Done 180 tasks      | elapsed:    0.1s\n",
      "[Parallel(n_jobs=10)]: Done 430 tasks      | elapsed:    0.1s\n",
      "[Parallel(n_jobs=10)]: Done 500 out of 500 | elapsed:    0.1s finished\n"
     ]
    },
    {
     "name": "stdout",
     "output_type": "stream",
     "text": [
      "[CV] END bootstrap=True, max_depth=2, max_features=auto, max_leaf_nodes=50, max_samples=None, n_estimators=500, n_jobs=-1, oob_score=True, random_state=42, verbose=1; total time=  20.0s\n"
     ]
    },
    {
     "name": "stderr",
     "output_type": "stream",
     "text": [
      "[Parallel(n_jobs=-1)]: Done 430 tasks      | elapsed:   20.0s\n",
      "[Parallel(n_jobs=-1)]: Done 430 tasks      | elapsed:   22.6s\n",
      "[Parallel(n_jobs=-1)]: Done 430 tasks      | elapsed:   23.9s\n",
      "[Parallel(n_jobs=-1)]: Done 500 out of 500 | elapsed:   23.2s finished\n",
      "[Parallel(n_jobs=-1)]: Done 180 tasks      | elapsed:   12.8s\n",
      "[Parallel(n_jobs=-1)]: Done 500 out of 500 | elapsed:   25.9s finished\n",
      "[Parallel(n_jobs=-1)]: Done 430 tasks      | elapsed:   26.0s\n",
      "[Parallel(n_jobs=-1)]: Done 500 out of 500 | elapsed:   25.9s finished\n",
      "[Parallel(n_jobs=-1)]: Done 430 tasks      | elapsed:   17.0s\n",
      "[Parallel(n_jobs=10)]: Using backend ThreadingBackend with 10 concurrent workers.\n",
      "[Parallel(n_jobs=10)]: Done  30 tasks      | elapsed:    0.0s\n",
      "[Parallel(n_jobs=10)]: Done 180 tasks      | elapsed:    0.1s\n",
      "[Parallel(n_jobs=10)]: Done 430 tasks      | elapsed:    0.2s\n",
      "[Parallel(n_jobs=10)]: Done 500 out of 500 | elapsed:    0.2s finished\n"
     ]
    },
    {
     "name": "stdout",
     "output_type": "stream",
     "text": [
      "[CV] END bootstrap=True, max_depth=2, max_features=auto, max_leaf_nodes=50, max_samples=None, n_estimators=500, n_jobs=-1, oob_score=True, random_state=42, verbose=1; total time=  26.8s\n"
     ]
    },
    {
     "name": "stderr",
     "output_type": "stream",
     "text": [
      "[Parallel(n_jobs=-1)]: Done 430 tasks      | elapsed:   23.2s\n",
      "[Parallel(n_jobs=10)]: Using backend ThreadingBackend with 10 concurrent workers.\n",
      "[Parallel(n_jobs=10)]: Done  32 tasks      | elapsed:    0.1s\n",
      "[Parallel(n_jobs=10)]: Done 182 tasks      | elapsed:    0.1s\n",
      "[Parallel(n_jobs=10)]: Done 432 tasks      | elapsed:    0.2s\n",
      "[Parallel(n_jobs=10)]: Done 500 out of 500 | elapsed:    0.2s finished\n"
     ]
    },
    {
     "name": "stdout",
     "output_type": "stream",
     "text": [
      "[CV] END bootstrap=True, max_depth=2, max_features=auto, max_leaf_nodes=50, max_samples=None, n_estimators=500, n_jobs=-1, oob_score=True, random_state=42, verbose=1; total time=  29.2s\n"
     ]
    },
    {
     "name": "stderr",
     "output_type": "stream",
     "text": [
      "[Parallel(n_jobs=-1)]: Done 500 out of 500 | elapsed:   18.8s finished\n",
      "[Parallel(n_jobs=10)]: Using backend ThreadingBackend with 10 concurrent workers.\n",
      "[Parallel(n_jobs=10)]: Done  30 tasks      | elapsed:    0.0s\n",
      "[Parallel(n_jobs=10)]: Done 180 tasks      | elapsed:    0.1s\n",
      "[Parallel(n_jobs=10)]: Done 430 tasks      | elapsed:    0.1s\n",
      "[Parallel(n_jobs=10)]: Done 500 out of 500 | elapsed:    0.1s finished\n",
      "[Parallel(n_jobs=-1)]: Done 500 out of 500 | elapsed:   28.7s finished\n"
     ]
    },
    {
     "name": "stdout",
     "output_type": "stream",
     "text": [
      "[CV] END bootstrap=True, max_depth=2, max_features=auto, max_leaf_nodes=50, max_samples=None, n_estimators=500, n_jobs=-1, oob_score=True, random_state=42, verbose=1; total time=  28.7s\n"
     ]
    },
    {
     "name": "stderr",
     "output_type": "stream",
     "text": [
      "[Parallel(n_jobs=-1)]: Done 430 tasks      | elapsed:   21.5s\n",
      "[Parallel(n_jobs=-1)]: Done 430 tasks      | elapsed:   25.5s\n",
      "[Parallel(n_jobs=-1)]: Done 500 out of 500 | elapsed:   25.6s finished\n",
      "[Parallel(n_jobs=10)]: Using backend ThreadingBackend with 10 concurrent workers.\n",
      "[Parallel(n_jobs=10)]: Done  30 tasks      | elapsed:    0.0s\n",
      "[Parallel(n_jobs=-1)]: Done 500 out of 500 | elapsed:   23.0s finished\n",
      "[Parallel(n_jobs=10)]: Done 180 tasks      | elapsed:    0.1s\n",
      "[Parallel(n_jobs=10)]: Using backend ThreadingBackend with 10 concurrent workers.\n",
      "[Parallel(n_jobs=10)]: Done  30 tasks      | elapsed:    0.0s\n",
      "[Parallel(n_jobs=10)]: Done 430 tasks      | elapsed:    0.2s\n",
      "[Parallel(n_jobs=10)]: Done 180 tasks      | elapsed:    0.1s\n",
      "[Parallel(n_jobs=10)]: Done 500 out of 500 | elapsed:    0.3s finished\n",
      "[Parallel(n_jobs=10)]: Done 430 tasks      | elapsed:    0.1s\n",
      "[Parallel(n_jobs=10)]: Done 500 out of 500 | elapsed:    0.1s finished\n"
     ]
    },
    {
     "name": "stdout",
     "output_type": "stream",
     "text": [
      "[CV] END bootstrap=True, max_depth=2, max_features=auto, max_leaf_nodes=50, max_samples=None, n_estimators=500, n_jobs=-1, oob_score=True, random_state=42, verbose=1; total time=  21.2s\n",
      "[CV] END bootstrap=True, max_depth=2, max_features=auto, max_leaf_nodes=50, max_samples=None, n_estimators=500, n_jobs=-1, oob_score=True, random_state=42, verbose=1; total time=  30.8s\n"
     ]
    },
    {
     "name": "stderr",
     "output_type": "stream",
     "text": [
      "[Parallel(n_jobs=-1)]: Done 500 out of 500 | elapsed:   27.4s finished\n",
      "[Parallel(n_jobs=-1)]: Done 430 tasks      | elapsed:   20.0s\n",
      "[Parallel(n_jobs=10)]: Using backend ThreadingBackend with 10 concurrent workers.\n",
      "[Parallel(n_jobs=10)]: Done  30 tasks      | elapsed:    0.0s\n",
      "[Parallel(n_jobs=10)]: Done 180 tasks      | elapsed:    0.1s\n",
      "[Parallel(n_jobs=10)]: Done 430 tasks      | elapsed:    0.2s\n",
      "[Parallel(n_jobs=10)]: Done 500 out of 500 | elapsed:    0.2s finished\n"
     ]
    },
    {
     "name": "stdout",
     "output_type": "stream",
     "text": [
      "[CV] END bootstrap=True, max_depth=2, max_features=auto, max_leaf_nodes=50, max_samples=None, n_estimators=500, n_jobs=-1, oob_score=True, random_state=42, verbose=1; total time=  27.5s\n"
     ]
    },
    {
     "name": "stderr",
     "output_type": "stream",
     "text": [
      "[Parallel(n_jobs=10)]: Using backend ThreadingBackend with 10 concurrent workers.\n",
      "[Parallel(n_jobs=10)]: Done  30 tasks      | elapsed:    0.0s\n",
      "[Parallel(n_jobs=10)]: Done 180 tasks      | elapsed:    0.1s\n",
      "[Parallel(n_jobs=10)]: Done 430 tasks      | elapsed:    0.2s\n",
      "[Parallel(n_jobs=10)]: Done 500 out of 500 | elapsed:    0.2s finished\n",
      "[Parallel(n_jobs=-1)]: Done 500 out of 500 | elapsed:   20.7s finished\n"
     ]
    },
    {
     "name": "stdout",
     "output_type": "stream",
     "text": [
      "[CV] END bootstrap=True, max_depth=2, max_features=auto, max_leaf_nodes=50, max_samples=None, n_estimators=500, n_jobs=-1, oob_score=True, random_state=42, verbose=1; total time=  24.6s\n"
     ]
    },
    {
     "name": "stderr",
     "output_type": "stream",
     "text": [
      "[Parallel(n_jobs=10)]: Using backend ThreadingBackend with 10 concurrent workers.\n",
      "[Parallel(n_jobs=10)]: Done  30 tasks      | elapsed:    0.0s\n",
      "[Parallel(n_jobs=10)]: Done 180 tasks      | elapsed:    0.0s\n",
      "[Parallel(n_jobs=10)]: Done 430 tasks      | elapsed:    0.1s\n",
      "[Parallel(n_jobs=10)]: Done 500 out of 500 | elapsed:    0.1s finished\n"
     ]
    },
    {
     "name": "stdout",
     "output_type": "stream",
     "text": [
      "[CV] END bootstrap=True, max_depth=2, max_features=auto, max_leaf_nodes=50, max_samples=None, n_estimators=500, n_jobs=-1, oob_score=True, random_state=42, verbose=1; total time=  28.9s\n"
     ]
    },
    {
     "name": "stderr",
     "output_type": "stream",
     "text": [
      "[Parallel(n_jobs=10)]: Using backend ThreadingBackend with 10 concurrent workers.\n",
      "[Parallel(n_jobs=10)]: Done  30 tasks      | elapsed:    0.0s\n",
      "[Parallel(n_jobs=10)]: Done 180 tasks      | elapsed:    0.0s\n",
      "[Parallel(n_jobs=10)]: Done 430 tasks      | elapsed:    0.1s\n",
      "[Parallel(n_jobs=10)]: Done 500 out of 500 | elapsed:    0.1s finished\n"
     ]
    },
    {
     "name": "stdout",
     "output_type": "stream",
     "text": [
      "[CV] END bootstrap=True, max_depth=2, max_features=auto, max_leaf_nodes=50, max_samples=None, n_estimators=500, n_jobs=-1, oob_score=True, random_state=42, verbose=1; total time=  21.8s\n"
     ]
    },
    {
     "name": "stderr",
     "output_type": "stream",
     "text": [
      "[Parallel(n_jobs=-1)]: Using backend ThreadingBackend with 10 concurrent workers.\n",
      "[Parallel(n_jobs=-1)]: Done  30 tasks      | elapsed:    1.3s\n",
      "[Parallel(n_jobs=-1)]: Done 180 tasks      | elapsed:    6.4s\n",
      "[Parallel(n_jobs=-1)]: Done 430 tasks      | elapsed:   14.7s\n",
      "[Parallel(n_jobs=-1)]: Done 500 out of 500 | elapsed:   17.0s finished\n"
     ]
    }
   ],
   "source": [
    "%xmode plain\n",
    "# params_rf = {\n",
    "#     'n_estimators': [10, 20, 50, 100, 200, 500, 1000, 2000], \n",
    "#     'criterion': [\"squared_error\", \"poisson\"], \n",
    "#     'max_depth': [None, 20, 15, 10, 8, 6, 4, 2], \n",
    "#     'min_samples_split': [2, 3, 4, 5, 6, 7, 8, 9, 10, 15, 20, 25, 30, 35, 40, 45, 50], \n",
    "#     'min_smaples_leaf': [1, 2, 3, 4, 5, 6, 7, 8, 9, 10, 15, 20, 25, 30, 35, 40], \n",
    "#     'max_features': [\"auto\", \"sqrt\", \"log2\", 0.9, 0.8, 0.7, 0.6], \n",
    "#     'max_leaf_nodes': [None, 10, 20, 30, 40, 50], \n",
    "#     'min_impurity_decrease': [0.0, 0.1, 0.2, 0.5], \n",
    "#     'n_jobs': [-1], \n",
    "#     'bootstrap': [True], \n",
    "#     'oob_score': [True], \n",
    "#     'random_state': [42], \n",
    "#     'verbose': [0], \n",
    "#     'max_samples': [None, 0.9, 0.8, 0.7, 0.6]\n",
    "# }\n",
    "\n",
    "params_rf = {\n",
    "    'n_estimators': [200, 500], \n",
    "    # 'criterion': [\"squared_error\"], \n",
    "    'max_depth': [None, 10, 5, 2], \n",
    "    # 'min_samples_split': [2, 5, 10], \n",
    "    # 'min_smaples_leaf': [1, 2, 5, 10], \n",
    "    'max_features': [\"auto\"], \n",
    "    'max_leaf_nodes': [None, 10, 20, 50], \n",
    "    # 'min_impurity_decrease': [0.0, 0.1, 0.2, 0.5], \n",
    "    'n_jobs': [-1], \n",
    "    'bootstrap': [True], \n",
    "    'oob_score': [True], \n",
    "    'random_state': [42], \n",
    "    'verbose': [0], \n",
    "    'max_samples': [None]\n",
    "}\n",
    "\n",
    "\n",
    "gridsearch = GridSearchCV(\n",
    "    estimator = RandomForestRegressor(), \n",
    "    param_grid = params_rf, \n",
    "    scoring = \"neg_root_mean_squared_error\",\n",
    "    cv = 10, \n",
    "    verbose = 1, \n",
    "    n_jobs = -1\n",
    ")\n",
    "\n",
    "gridsearch.fit(X = feature_train, y = np.array(response_train).ravel())\n",
    "best_rf = gridsearch.best_estimator_\n",
    "best_score = gridsearch.best_score_\n",
    "best_params = gridsearch.best_params_\n"
   ]
  },
  {
   "cell_type": "markdown",
   "metadata": {},
   "source": [
    "#### oof prediction and evaluation"
   ]
  },
  {
   "cell_type": "code",
   "execution_count": 28,
   "metadata": {},
   "outputs": [
    {
     "name": "stdout",
     "output_type": "stream",
     "text": [
      "The evaluation score for the best RandomForestRegressor is: 1036.2315\n"
     ]
    },
    {
     "name": "stderr",
     "output_type": "stream",
     "text": [
      "[Parallel(n_jobs=10)]: Using backend ThreadingBackend with 10 concurrent workers.\n",
      "[Parallel(n_jobs=10)]: Done  30 tasks      | elapsed:    0.0s\n",
      "[Parallel(n_jobs=10)]: Done 180 tasks      | elapsed:    0.0s\n",
      "[Parallel(n_jobs=10)]: Done 430 tasks      | elapsed:    0.1s\n",
      "[Parallel(n_jobs=10)]: Done 500 out of 500 | elapsed:    0.1s finished\n"
     ]
    }
   ],
   "source": [
    "# prediction\n",
    "response_pred = best_rf.predict(feature_test)\n",
    "pred_rmse = np.sqrt(mean_squared_error(response_pred, response_test))\n",
    "print(f'The evaluation score for the best RandomForestRegressor is: {pred_rmse:0.4f}')"
   ]
  },
  {
   "cell_type": "code",
   "execution_count": 29,
   "metadata": {},
   "outputs": [
    {
     "data": {
      "text/plain": [
       "shares    5500\n",
       "dtype: int64"
      ]
     },
     "execution_count": 29,
     "metadata": {},
     "output_type": "execute_result"
    }
   ],
   "source": [
    "np.max(response_train)"
   ]
  },
  {
   "cell_type": "code",
   "execution_count": 30,
   "metadata": {},
   "outputs": [
    {
     "data": {
      "text/plain": [
       "shares    1\n",
       "dtype: int64"
      ]
     },
     "execution_count": 30,
     "metadata": {},
     "output_type": "execute_result"
    }
   ],
   "source": [
    "np.min(response_test)"
   ]
  },
  {
   "cell_type": "code",
   "execution_count": null,
   "metadata": {},
   "outputs": [],
   "source": []
  }
 ],
 "metadata": {
  "interpreter": {
   "hash": "27646e5cfdb25e10f4fd8ef0a3a49281af2a8af5fb226dbbb4749ab5404e27a8"
  },
  "kernelspec": {
   "display_name": "Python 3.9.10 ('eods-s22')",
   "language": "python",
   "name": "python3"
  },
  "language_info": {
   "codemirror_mode": {
    "name": "ipython",
    "version": 3
   },
   "file_extension": ".py",
   "mimetype": "text/x-python",
   "name": "python",
   "nbconvert_exporter": "python",
   "pygments_lexer": "ipython3",
   "version": "3.9.10"
  },
  "orig_nbformat": 4
 },
 "nbformat": 4,
 "nbformat_minor": 2
}
